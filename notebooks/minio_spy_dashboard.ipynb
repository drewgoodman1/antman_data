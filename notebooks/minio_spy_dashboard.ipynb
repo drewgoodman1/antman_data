{
 "cells": [
  {
   "cell_type": "markdown",
   "id": "28444969",
   "metadata": {},
   "source": [
    "# MinIO + DuckDB SPY 1-min Dashboard\n",
    "This notebook reads daily SPY 1-minute bars directly from MinIO (S3-compatible) using DuckDB httpfs and plots a candlestick + volume chart."
   ]
  },
  {
   "cell_type": "code",
   "execution_count": 1,
   "id": "67a4f55a",
   "metadata": {},
   "outputs": [],
   "source": [
    "# Imports and Plotly renderer\n",
    "import os\n",
    "import duckdb\n",
    "import pandas as pd\n",
    "import plotly.graph_objects as go\n",
    "import plotly.io as pio\n",
    "pio.renderers.default = os.getenv('PLOTLY_RENDERER', 'plotly_mimetype')  # 'vscode' also works in VS Code"
   ]
  },
  {
   "cell_type": "code",
   "execution_count": 2,
   "id": "4b245e1f",
   "metadata": {},
   "outputs": [
    {
     "name": "stdout",
     "output_type": "stream",
     "text": [
      "Configured DuckDB httpfs for MinIO at localhost:9100\n",
      "Bucket: antman-lake\n"
     ]
    }
   ],
   "source": [
    "# Configure DuckDB httpfs from environment (.env)\n",
    "S3_ENDPOINT = (os.getenv('S3_ENDPOINT_URL', '127.0.0.1:9100').replace('http://','').replace('https://',''))\n",
    "S3_REGION = os.getenv('S3_REGION', 'us-east-1')\n",
    "S3_USE_SSL = os.getenv('S3_USE_SSL', 'false')\n",
    "S3_AK = os.getenv('S3_ACCESS_KEY_ID') or os.getenv('MINIO_ROOT_USER', 'minioadmin')\n",
    "S3_SK = os.getenv('S3_SECRET_ACCESS_KEY') or os.getenv('MINIO_ROOT_PASSWORD', 'minioadmin')\n",
    "BUCKET = os.getenv('MINIO_BUCKET', 'antman-lake')\n",
    "\n",
    "con = duckdb.connect()\n",
    "con.execute('INSTALL httpfs; LOAD httpfs;')\n",
    "con.execute(\"SET s3_url_style='path';\")\n",
    "con.execute(f\"SET s3_use_ssl='{S3_USE_SSL}';\")\n",
    "con.execute(f\"SET s3_region='{S3_REGION}';\")\n",
    "con.execute(f\"SET s3_endpoint='{S3_ENDPOINT}';\")\n",
    "con.execute(\"SET s3_access_key_id=$1;\", [S3_AK])\n",
    "con.execute(\"SET s3_secret_access_key=$1;\", [S3_SK])\n",
    "print('Configured DuckDB httpfs for MinIO at', S3_ENDPOINT)\n",
    "print('Bucket:', BUCKET)"
   ]
  },
  {
   "cell_type": "code",
   "execution_count": 3,
   "id": "1751b1f0",
   "metadata": {},
   "outputs": [],
   "source": [
    "# Helper: load one trading day from MinIO\n",
    "def load_day(dt_str: str, ticker: str = 'SPY') -> pd.DataFrame:\n",
    "    path = f\"s3://{BUCKET}/silver/symbol={ticker}/resolution=1min/dt={dt_str}/*.parquet\"\n",
    "    try:\n",
    "        df = con.execute(\"SELECT * FROM read_parquet($1, filename=true)\", [path]).df()\n",
    "    except Exception as e:\n",
    "        print('read_parquet failed:', e)\n",
    "        return pd.DataFrame()\n",
    "    # Normalize timestamp column\n",
    "    ts_col = None\n",
    "    for c in ['ts','utc_timestamp','timestamp','datetime']:\n",
    "        if c in df.columns:\n",
    "            ts_col = c; break\n",
    "    if ts_col is None:\n",
    "        return pd.DataFrame()\n",
    "    df['ts'] = pd.to_datetime(df[ts_col], utc=True, errors='coerce')\n",
    "    kept = [c for c in ['ts','open','high','low','close','volume'] if c in df.columns]\n",
    "    df = df[kept].dropna(subset=['ts']).sort_values('ts').reset_index(drop=True)\n",
    "    df['ts'] = df['ts'].dt.round('ms')\n",
    "    return df"
   ]
  },
  {
   "cell_type": "code",
   "execution_count": 4,
   "id": "23d27ead",
   "metadata": {},
   "outputs": [
    {
     "name": "stdout",
     "output_type": "stream",
     "text": [
      "Loaded 390 rows for 2025-03-11\n"
     ]
    },
    {
     "data": {
      "text/html": [
       "<div>\n",
       "<style scoped>\n",
       "    .dataframe tbody tr th:only-of-type {\n",
       "        vertical-align: middle;\n",
       "    }\n",
       "\n",
       "    .dataframe tbody tr th {\n",
       "        vertical-align: top;\n",
       "    }\n",
       "\n",
       "    .dataframe thead th {\n",
       "        text-align: right;\n",
       "    }\n",
       "</style>\n",
       "<table border=\"1\" class=\"dataframe\">\n",
       "  <thead>\n",
       "    <tr style=\"text-align: right;\">\n",
       "      <th></th>\n",
       "      <th>ts</th>\n",
       "      <th>open</th>\n",
       "      <th>high</th>\n",
       "      <th>low</th>\n",
       "      <th>close</th>\n",
       "      <th>volume</th>\n",
       "    </tr>\n",
       "  </thead>\n",
       "  <tbody>\n",
       "    <tr>\n",
       "      <th>0</th>\n",
       "      <td>2025-03-11 14:30:00+00:00</td>\n",
       "      <td>555.950</td>\n",
       "      <td>557.24</td>\n",
       "      <td>555.9000</td>\n",
       "      <td>556.630</td>\n",
       "      <td>318164</td>\n",
       "    </tr>\n",
       "    <tr>\n",
       "      <th>1</th>\n",
       "      <td>2025-03-11 14:31:00+00:00</td>\n",
       "      <td>556.625</td>\n",
       "      <td>557.03</td>\n",
       "      <td>556.4928</td>\n",
       "      <td>556.600</td>\n",
       "      <td>142751</td>\n",
       "    </tr>\n",
       "    <tr>\n",
       "      <th>2</th>\n",
       "      <td>2025-03-11 14:32:00+00:00</td>\n",
       "      <td>556.570</td>\n",
       "      <td>556.71</td>\n",
       "      <td>556.2800</td>\n",
       "      <td>556.310</td>\n",
       "      <td>111371</td>\n",
       "    </tr>\n",
       "    <tr>\n",
       "      <th>3</th>\n",
       "      <td>2025-03-11 14:33:00+00:00</td>\n",
       "      <td>556.300</td>\n",
       "      <td>556.50</td>\n",
       "      <td>556.1087</td>\n",
       "      <td>556.435</td>\n",
       "      <td>126317</td>\n",
       "    </tr>\n",
       "    <tr>\n",
       "      <th>4</th>\n",
       "      <td>2025-03-11 14:34:00+00:00</td>\n",
       "      <td>556.450</td>\n",
       "      <td>556.48</td>\n",
       "      <td>555.8000</td>\n",
       "      <td>556.110</td>\n",
       "      <td>157529</td>\n",
       "    </tr>\n",
       "  </tbody>\n",
       "</table>\n",
       "</div>"
      ],
      "text/plain": [
       "                         ts     open    high       low    close  volume\n",
       "0 2025-03-11 14:30:00+00:00  555.950  557.24  555.9000  556.630  318164\n",
       "1 2025-03-11 14:31:00+00:00  556.625  557.03  556.4928  556.600  142751\n",
       "2 2025-03-11 14:32:00+00:00  556.570  556.71  556.2800  556.310  111371\n",
       "3 2025-03-11 14:33:00+00:00  556.300  556.50  556.1087  556.435  126317\n",
       "4 2025-03-11 14:34:00+00:00  556.450  556.48  555.8000  556.110  157529"
      ]
     },
     "execution_count": 4,
     "metadata": {},
     "output_type": "execute_result"
    }
   ],
   "source": [
    "# Load a sample date\n",
    "dt = os.getenv('SAMPLE_DT', '2025-03-11')\n",
    "df = load_day(dt)\n",
    "print(f'Loaded {len(df)} rows for {dt}')\n",
    "df.head()"
   ]
  },
  {
   "cell_type": "code",
   "execution_count": 5,
   "id": "61a86375",
   "metadata": {},
   "outputs": [
    {
     "data": {
      "application/vnd.plotly.v1+json": {
       "config": {
        "plotlyServerURL": "https://plot.ly"
       },
       "data": [
        {
         "close": {
          "bdata": "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",
          "dtype": "f8"
         },
         "high": {
          "bdata": "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",
          "dtype": "f8"
         },
         "low": {
          "bdata": "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",
          "dtype": "f8"
         },
         "name": "SPY",
         "open": {
          "bdata": "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",
          "dtype": "f8"
         },
         "type": "candlestick",
         "x": [
          "2025-03-11T14:30:00",
          "2025-03-11T14:31:00",
          "2025-03-11T14:32:00",
          "2025-03-11T14:33:00",
          "2025-03-11T14:34:00",
          "2025-03-11T14:35:00",
          "2025-03-11T14:36:00",
          "2025-03-11T14:37:00",
          "2025-03-11T14:38:00",
          "2025-03-11T14:39:00",
          "2025-03-11T14:40:00",
          "2025-03-11T14:41:00",
          "2025-03-11T14:42:00",
          "2025-03-11T14:43:00",
          "2025-03-11T14:44:00",
          "2025-03-11T14:45:00",
          "2025-03-11T14:46:00",
          "2025-03-11T14:47:00",
          "2025-03-11T14:48:00",
          "2025-03-11T14:49:00",
          "2025-03-11T14:50:00",
          "2025-03-11T14:51:00",
          "2025-03-11T14:52:00",
          "2025-03-11T14:53:00",
          "2025-03-11T14:54:00",
          "2025-03-11T14:55:00",
          "2025-03-11T14:56:00",
          "2025-03-11T14:57:00",
          "2025-03-11T14:58:00",
          "2025-03-11T14:59:00",
          "2025-03-11T15:00:00",
          "2025-03-11T15:01:00",
          "2025-03-11T15:02:00",
          "2025-03-11T15:03:00",
          "2025-03-11T15:04:00",
          "2025-03-11T15:05:00",
          "2025-03-11T15:06:00",
          "2025-03-11T15:07:00",
          "2025-03-11T15:08:00",
          "2025-03-11T15:09:00",
          "2025-03-11T15:10:00",
          "2025-03-11T15:11:00",
          "2025-03-11T15:12:00",
          "2025-03-11T15:13:00",
          "2025-03-11T15:14:00",
          "2025-03-11T15:15:00",
          "2025-03-11T15:16:00",
          "2025-03-11T15:17:00",
          "2025-03-11T15:18:00",
          "2025-03-11T15:19:00",
          "2025-03-11T15:20:00",
          "2025-03-11T15:21:00",
          "2025-03-11T15:22:00",
          "2025-03-11T15:23:00",
          "2025-03-11T15:24:00",
          "2025-03-11T15:25:00",
          "2025-03-11T15:26:00",
          "2025-03-11T15:27:00",
          "2025-03-11T15:28:00",
          "2025-03-11T15:29:00",
          "2025-03-11T15:30:00",
          "2025-03-11T15:31:00",
          "2025-03-11T15:32:00",
          "2025-03-11T15:33:00",
          "2025-03-11T15:34:00",
          "2025-03-11T15:35:00",
          "2025-03-11T15:36:00",
          "2025-03-11T15:37:00",
          "2025-03-11T15:38:00",
          "2025-03-11T15:39:00",
          "2025-03-11T15:40:00",
          "2025-03-11T15:41:00",
          "2025-03-11T15:42:00",
          "2025-03-11T15:43:00",
          "2025-03-11T15:44:00",
          "2025-03-11T15:45:00",
          "2025-03-11T15:46:00",
          "2025-03-11T15:47:00",
          "2025-03-11T15:48:00",
          "2025-03-11T15:49:00",
          "2025-03-11T15:50:00",
          "2025-03-11T15:51:00",
          "2025-03-11T15:52:00",
          "2025-03-11T15:53:00",
          "2025-03-11T15:54:00",
          "2025-03-11T15:55:00",
          "2025-03-11T15:56:00",
          "2025-03-11T15:57:00",
          "2025-03-11T15:58:00",
          "2025-03-11T15:59:00",
          "2025-03-11T16:00:00",
          "2025-03-11T16:01:00",
          "2025-03-11T16:02:00",
          "2025-03-11T16:03:00",
          "2025-03-11T16:04:00",
          "2025-03-11T16:05:00",
          "2025-03-11T16:06:00",
          "2025-03-11T16:07:00",
          "2025-03-11T16:08:00",
          "2025-03-11T16:09:00",
          "2025-03-11T16:10:00",
          "2025-03-11T16:11:00",
          "2025-03-11T16:12:00",
          "2025-03-11T16:13:00",
          "2025-03-11T16:14:00",
          "2025-03-11T16:15:00",
          "2025-03-11T16:16:00",
          "2025-03-11T16:17:00",
          "2025-03-11T16:18:00",
          "2025-03-11T16:19:00",
          "2025-03-11T16:20:00",
          "2025-03-11T16:21:00",
          "2025-03-11T16:22:00",
          "2025-03-11T16:23:00",
          "2025-03-11T16:24:00",
          "2025-03-11T16:25:00",
          "2025-03-11T16:26:00",
          "2025-03-11T16:27:00",
          "2025-03-11T16:28:00",
          "2025-03-11T16:29:00",
          "2025-03-11T16:30:00",
          "2025-03-11T16:31:00",
          "2025-03-11T16:32:00",
          "2025-03-11T16:33:00",
          "2025-03-11T16:34:00",
          "2025-03-11T16:35:00",
          "2025-03-11T16:36:00",
          "2025-03-11T16:37:00",
          "2025-03-11T16:38:00",
          "2025-03-11T16:39:00",
          "2025-03-11T16:40:00",
          "2025-03-11T16:41:00",
          "2025-03-11T16:42:00",
          "2025-03-11T16:43:00",
          "2025-03-11T16:44:00",
          "2025-03-11T16:45:00",
          "2025-03-11T16:46:00",
          "2025-03-11T16:47:00",
          "2025-03-11T16:48:00",
          "2025-03-11T16:49:00",
          "2025-03-11T16:50:00",
          "2025-03-11T16:51:00",
          "2025-03-11T16:52:00",
          "2025-03-11T16:53:00",
          "2025-03-11T16:54:00",
          "2025-03-11T16:55:00",
          "2025-03-11T16:56:00",
          "2025-03-11T16:57:00",
          "2025-03-11T16:58:00",
          "2025-03-11T16:59:00",
          "2025-03-11T17:00:00",
          "2025-03-11T17:01:00",
          "2025-03-11T17:02:00",
          "2025-03-11T17:03:00",
          "2025-03-11T17:04:00",
          "2025-03-11T17:05:00",
          "2025-03-11T17:06:00",
          "2025-03-11T17:07:00",
          "2025-03-11T17:08:00",
          "2025-03-11T17:09:00",
          "2025-03-11T17:10:00",
          "2025-03-11T17:11:00",
          "2025-03-11T17:12:00",
          "2025-03-11T17:13:00",
          "2025-03-11T17:14:00",
          "2025-03-11T17:15:00",
          "2025-03-11T17:16:00",
          "2025-03-11T17:17:00",
          "2025-03-11T17:18:00",
          "2025-03-11T17:19:00",
          "2025-03-11T17:20:00",
          "2025-03-11T17:21:00",
          "2025-03-11T17:22:00",
          "2025-03-11T17:23:00",
          "2025-03-11T17:24:00",
          "2025-03-11T17:25:00",
          "2025-03-11T17:26:00",
          "2025-03-11T17:27:00",
          "2025-03-11T17:28:00",
          "2025-03-11T17:29:00",
          "2025-03-11T17:30:00",
          "2025-03-11T17:31:00",
          "2025-03-11T17:32:00",
          "2025-03-11T17:33:00",
          "2025-03-11T17:34:00",
          "2025-03-11T17:35:00",
          "2025-03-11T17:36:00",
          "2025-03-11T17:37:00",
          "2025-03-11T17:38:00",
          "2025-03-11T17:39:00",
          "2025-03-11T17:40:00",
          "2025-03-11T17:41:00",
          "2025-03-11T17:42:00",
          "2025-03-11T17:43:00",
          "2025-03-11T17:44:00",
          "2025-03-11T17:45:00",
          "2025-03-11T17:46:00",
          "2025-03-11T17:47:00",
          "2025-03-11T17:48:00",
          "2025-03-11T17:49:00",
          "2025-03-11T17:50:00",
          "2025-03-11T17:51:00",
          "2025-03-11T17:52:00",
          "2025-03-11T17:53:00",
          "2025-03-11T17:54:00",
          "2025-03-11T17:55:00",
          "2025-03-11T17:56:00",
          "2025-03-11T17:57:00",
          "2025-03-11T17:58:00",
          "2025-03-11T17:59:00",
          "2025-03-11T18:00:00",
          "2025-03-11T18:01:00",
          "2025-03-11T18:02:00",
          "2025-03-11T18:03:00",
          "2025-03-11T18:04:00",
          "2025-03-11T18:05:00",
          "2025-03-11T18:06:00",
          "2025-03-11T18:07:00",
          "2025-03-11T18:08:00",
          "2025-03-11T18:09:00",
          "2025-03-11T18:10:00",
          "2025-03-11T18:11:00",
          "2025-03-11T18:12:00",
          "2025-03-11T18:13:00",
          "2025-03-11T18:14:00",
          "2025-03-11T18:15:00",
          "2025-03-11T18:16:00",
          "2025-03-11T18:17:00",
          "2025-03-11T18:18:00",
          "2025-03-11T18:19:00",
          "2025-03-11T18:20:00",
          "2025-03-11T18:21:00",
          "2025-03-11T18:22:00",
          "2025-03-11T18:23:00",
          "2025-03-11T18:24:00",
          "2025-03-11T18:25:00",
          "2025-03-11T18:26:00",
          "2025-03-11T18:27:00",
          "2025-03-11T18:28:00",
          "2025-03-11T18:29:00",
          "2025-03-11T18:30:00",
          "2025-03-11T18:31:00",
          "2025-03-11T18:32:00",
          "2025-03-11T18:33:00",
          "2025-03-11T18:34:00",
          "2025-03-11T18:35:00",
          "2025-03-11T18:36:00",
          "2025-03-11T18:37:00",
          "2025-03-11T18:38:00",
          "2025-03-11T18:39:00",
          "2025-03-11T18:40:00",
          "2025-03-11T18:41:00",
          "2025-03-11T18:42:00",
          "2025-03-11T18:43:00",
          "2025-03-11T18:44:00",
          "2025-03-11T18:45:00",
          "2025-03-11T18:46:00",
          "2025-03-11T18:47:00",
          "2025-03-11T18:48:00",
          "2025-03-11T18:49:00",
          "2025-03-11T18:50:00",
          "2025-03-11T18:51:00",
          "2025-03-11T18:52:00",
          "2025-03-11T18:53:00",
          "2025-03-11T18:54:00",
          "2025-03-11T18:55:00",
          "2025-03-11T18:56:00",
          "2025-03-11T18:57:00",
          "2025-03-11T18:58:00",
          "2025-03-11T18:59:00",
          "2025-03-11T19:00:00",
          "2025-03-11T19:01:00",
          "2025-03-11T19:02:00",
          "2025-03-11T19:03:00",
          "2025-03-11T19:04:00",
          "2025-03-11T19:05:00",
          "2025-03-11T19:06:00",
          "2025-03-11T19:07:00",
          "2025-03-11T19:08:00",
          "2025-03-11T19:09:00",
          "2025-03-11T19:10:00",
          "2025-03-11T19:11:00",
          "2025-03-11T19:12:00",
          "2025-03-11T19:13:00",
          "2025-03-11T19:14:00",
          "2025-03-11T19:15:00",
          "2025-03-11T19:16:00",
          "2025-03-11T19:17:00",
          "2025-03-11T19:18:00",
          "2025-03-11T19:19:00",
          "2025-03-11T19:20:00",
          "2025-03-11T19:21:00",
          "2025-03-11T19:22:00",
          "2025-03-11T19:23:00",
          "2025-03-11T19:24:00",
          "2025-03-11T19:25:00",
          "2025-03-11T19:26:00",
          "2025-03-11T19:27:00",
          "2025-03-11T19:28:00",
          "2025-03-11T19:29:00",
          "2025-03-11T19:30:00",
          "2025-03-11T19:31:00",
          "2025-03-11T19:32:00",
          "2025-03-11T19:33:00",
          "2025-03-11T19:34:00",
          "2025-03-11T19:35:00",
          "2025-03-11T19:36:00",
          "2025-03-11T19:37:00",
          "2025-03-11T19:38:00",
          "2025-03-11T19:39:00",
          "2025-03-11T19:40:00",
          "2025-03-11T19:41:00",
          "2025-03-11T19:42:00",
          "2025-03-11T19:43:00",
          "2025-03-11T19:44:00",
          "2025-03-11T19:45:00",
          "2025-03-11T19:46:00",
          "2025-03-11T19:47:00",
          "2025-03-11T19:48:00",
          "2025-03-11T19:49:00",
          "2025-03-11T19:50:00",
          "2025-03-11T19:51:00",
          "2025-03-11T19:52:00",
          "2025-03-11T19:53:00",
          "2025-03-11T19:54:00",
          "2025-03-11T19:55:00",
          "2025-03-11T19:56:00",
          "2025-03-11T19:57:00",
          "2025-03-11T19:58:00",
          "2025-03-11T19:59:00",
          "2025-03-11T20:00:00",
          "2025-03-11T20:01:00",
          "2025-03-11T20:02:00",
          "2025-03-11T20:03:00",
          "2025-03-11T20:04:00",
          "2025-03-11T20:05:00",
          "2025-03-11T20:06:00",
          "2025-03-11T20:07:00",
          "2025-03-11T20:08:00",
          "2025-03-11T20:09:00",
          "2025-03-11T20:10:00",
          "2025-03-11T20:11:00",
          "2025-03-11T20:12:00",
          "2025-03-11T20:13:00",
          "2025-03-11T20:14:00",
          "2025-03-11T20:15:00",
          "2025-03-11T20:16:00",
          "2025-03-11T20:17:00",
          "2025-03-11T20:18:00",
          "2025-03-11T20:19:00",
          "2025-03-11T20:20:00",
          "2025-03-11T20:21:00",
          "2025-03-11T20:22:00",
          "2025-03-11T20:23:00",
          "2025-03-11T20:24:00",
          "2025-03-11T20:25:00",
          "2025-03-11T20:26:00",
          "2025-03-11T20:27:00",
          "2025-03-11T20:28:00",
          "2025-03-11T20:29:00",
          "2025-03-11T20:30:00",
          "2025-03-11T20:31:00",
          "2025-03-11T20:32:00",
          "2025-03-11T20:33:00",
          "2025-03-11T20:34:00",
          "2025-03-11T20:35:00",
          "2025-03-11T20:36:00",
          "2025-03-11T20:37:00",
          "2025-03-11T20:38:00",
          "2025-03-11T20:39:00",
          "2025-03-11T20:40:00",
          "2025-03-11T20:41:00",
          "2025-03-11T20:42:00",
          "2025-03-11T20:43:00",
          "2025-03-11T20:44:00",
          "2025-03-11T20:45:00",
          "2025-03-11T20:46:00",
          "2025-03-11T20:47:00",
          "2025-03-11T20:48:00",
          "2025-03-11T20:49:00",
          "2025-03-11T20:50:00",
          "2025-03-11T20:51:00",
          "2025-03-11T20:52:00",
          "2025-03-11T20:53:00",
          "2025-03-11T20:54:00",
          "2025-03-11T20:55:00",
          "2025-03-11T20:56:00",
          "2025-03-11T20:57:00",
          "2025-03-11T20:58:00",
          "2025-03-11T20:59:00"
         ]
        },
        {
         "marker": {
          "color": "lightgray"
         },
         "name": "Volume",
         "opacity": 0.4,
         "type": "bar",
         "x": [
          "2025-03-11T14:30:00",
          "2025-03-11T14:31:00",
          "2025-03-11T14:32:00",
          "2025-03-11T14:33:00",
          "2025-03-11T14:34:00",
          "2025-03-11T14:35:00",
          "2025-03-11T14:36:00",
          "2025-03-11T14:37:00",
          "2025-03-11T14:38:00",
          "2025-03-11T14:39:00",
          "2025-03-11T14:40:00",
          "2025-03-11T14:41:00",
          "2025-03-11T14:42:00",
          "2025-03-11T14:43:00",
          "2025-03-11T14:44:00",
          "2025-03-11T14:45:00",
          "2025-03-11T14:46:00",
          "2025-03-11T14:47:00",
          "2025-03-11T14:48:00",
          "2025-03-11T14:49:00",
          "2025-03-11T14:50:00",
          "2025-03-11T14:51:00",
          "2025-03-11T14:52:00",
          "2025-03-11T14:53:00",
          "2025-03-11T14:54:00",
          "2025-03-11T14:55:00",
          "2025-03-11T14:56:00",
          "2025-03-11T14:57:00",
          "2025-03-11T14:58:00",
          "2025-03-11T14:59:00",
          "2025-03-11T15:00:00",
          "2025-03-11T15:01:00",
          "2025-03-11T15:02:00",
          "2025-03-11T15:03:00",
          "2025-03-11T15:04:00",
          "2025-03-11T15:05:00",
          "2025-03-11T15:06:00",
          "2025-03-11T15:07:00",
          "2025-03-11T15:08:00",
          "2025-03-11T15:09:00",
          "2025-03-11T15:10:00",
          "2025-03-11T15:11:00",
          "2025-03-11T15:12:00",
          "2025-03-11T15:13:00",
          "2025-03-11T15:14:00",
          "2025-03-11T15:15:00",
          "2025-03-11T15:16:00",
          "2025-03-11T15:17:00",
          "2025-03-11T15:18:00",
          "2025-03-11T15:19:00",
          "2025-03-11T15:20:00",
          "2025-03-11T15:21:00",
          "2025-03-11T15:22:00",
          "2025-03-11T15:23:00",
          "2025-03-11T15:24:00",
          "2025-03-11T15:25:00",
          "2025-03-11T15:26:00",
          "2025-03-11T15:27:00",
          "2025-03-11T15:28:00",
          "2025-03-11T15:29:00",
          "2025-03-11T15:30:00",
          "2025-03-11T15:31:00",
          "2025-03-11T15:32:00",
          "2025-03-11T15:33:00",
          "2025-03-11T15:34:00",
          "2025-03-11T15:35:00",
          "2025-03-11T15:36:00",
          "2025-03-11T15:37:00",
          "2025-03-11T15:38:00",
          "2025-03-11T15:39:00",
          "2025-03-11T15:40:00",
          "2025-03-11T15:41:00",
          "2025-03-11T15:42:00",
          "2025-03-11T15:43:00",
          "2025-03-11T15:44:00",
          "2025-03-11T15:45:00",
          "2025-03-11T15:46:00",
          "2025-03-11T15:47:00",
          "2025-03-11T15:48:00",
          "2025-03-11T15:49:00",
          "2025-03-11T15:50:00",
          "2025-03-11T15:51:00",
          "2025-03-11T15:52:00",
          "2025-03-11T15:53:00",
          "2025-03-11T15:54:00",
          "2025-03-11T15:55:00",
          "2025-03-11T15:56:00",
          "2025-03-11T15:57:00",
          "2025-03-11T15:58:00",
          "2025-03-11T15:59:00",
          "2025-03-11T16:00:00",
          "2025-03-11T16:01:00",
          "2025-03-11T16:02:00",
          "2025-03-11T16:03:00",
          "2025-03-11T16:04:00",
          "2025-03-11T16:05:00",
          "2025-03-11T16:06:00",
          "2025-03-11T16:07:00",
          "2025-03-11T16:08:00",
          "2025-03-11T16:09:00",
          "2025-03-11T16:10:00",
          "2025-03-11T16:11:00",
          "2025-03-11T16:12:00",
          "2025-03-11T16:13:00",
          "2025-03-11T16:14:00",
          "2025-03-11T16:15:00",
          "2025-03-11T16:16:00",
          "2025-03-11T16:17:00",
          "2025-03-11T16:18:00",
          "2025-03-11T16:19:00",
          "2025-03-11T16:20:00",
          "2025-03-11T16:21:00",
          "2025-03-11T16:22:00",
          "2025-03-11T16:23:00",
          "2025-03-11T16:24:00",
          "2025-03-11T16:25:00",
          "2025-03-11T16:26:00",
          "2025-03-11T16:27:00",
          "2025-03-11T16:28:00",
          "2025-03-11T16:29:00",
          "2025-03-11T16:30:00",
          "2025-03-11T16:31:00",
          "2025-03-11T16:32:00",
          "2025-03-11T16:33:00",
          "2025-03-11T16:34:00",
          "2025-03-11T16:35:00",
          "2025-03-11T16:36:00",
          "2025-03-11T16:37:00",
          "2025-03-11T16:38:00",
          "2025-03-11T16:39:00",
          "2025-03-11T16:40:00",
          "2025-03-11T16:41:00",
          "2025-03-11T16:42:00",
          "2025-03-11T16:43:00",
          "2025-03-11T16:44:00",
          "2025-03-11T16:45:00",
          "2025-03-11T16:46:00",
          "2025-03-11T16:47:00",
          "2025-03-11T16:48:00",
          "2025-03-11T16:49:00",
          "2025-03-11T16:50:00",
          "2025-03-11T16:51:00",
          "2025-03-11T16:52:00",
          "2025-03-11T16:53:00",
          "2025-03-11T16:54:00",
          "2025-03-11T16:55:00",
          "2025-03-11T16:56:00",
          "2025-03-11T16:57:00",
          "2025-03-11T16:58:00",
          "2025-03-11T16:59:00",
          "2025-03-11T17:00:00",
          "2025-03-11T17:01:00",
          "2025-03-11T17:02:00",
          "2025-03-11T17:03:00",
          "2025-03-11T17:04:00",
          "2025-03-11T17:05:00",
          "2025-03-11T17:06:00",
          "2025-03-11T17:07:00",
          "2025-03-11T17:08:00",
          "2025-03-11T17:09:00",
          "2025-03-11T17:10:00",
          "2025-03-11T17:11:00",
          "2025-03-11T17:12:00",
          "2025-03-11T17:13:00",
          "2025-03-11T17:14:00",
          "2025-03-11T17:15:00",
          "2025-03-11T17:16:00",
          "2025-03-11T17:17:00",
          "2025-03-11T17:18:00",
          "2025-03-11T17:19:00",
          "2025-03-11T17:20:00",
          "2025-03-11T17:21:00",
          "2025-03-11T17:22:00",
          "2025-03-11T17:23:00",
          "2025-03-11T17:24:00",
          "2025-03-11T17:25:00",
          "2025-03-11T17:26:00",
          "2025-03-11T17:27:00",
          "2025-03-11T17:28:00",
          "2025-03-11T17:29:00",
          "2025-03-11T17:30:00",
          "2025-03-11T17:31:00",
          "2025-03-11T17:32:00",
          "2025-03-11T17:33:00",
          "2025-03-11T17:34:00",
          "2025-03-11T17:35:00",
          "2025-03-11T17:36:00",
          "2025-03-11T17:37:00",
          "2025-03-11T17:38:00",
          "2025-03-11T17:39:00",
          "2025-03-11T17:40:00",
          "2025-03-11T17:41:00",
          "2025-03-11T17:42:00",
          "2025-03-11T17:43:00",
          "2025-03-11T17:44:00",
          "2025-03-11T17:45:00",
          "2025-03-11T17:46:00",
          "2025-03-11T17:47:00",
          "2025-03-11T17:48:00",
          "2025-03-11T17:49:00",
          "2025-03-11T17:50:00",
          "2025-03-11T17:51:00",
          "2025-03-11T17:52:00",
          "2025-03-11T17:53:00",
          "2025-03-11T17:54:00",
          "2025-03-11T17:55:00",
          "2025-03-11T17:56:00",
          "2025-03-11T17:57:00",
          "2025-03-11T17:58:00",
          "2025-03-11T17:59:00",
          "2025-03-11T18:00:00",
          "2025-03-11T18:01:00",
          "2025-03-11T18:02:00",
          "2025-03-11T18:03:00",
          "2025-03-11T18:04:00",
          "2025-03-11T18:05:00",
          "2025-03-11T18:06:00",
          "2025-03-11T18:07:00",
          "2025-03-11T18:08:00",
          "2025-03-11T18:09:00",
          "2025-03-11T18:10:00",
          "2025-03-11T18:11:00",
          "2025-03-11T18:12:00",
          "2025-03-11T18:13:00",
          "2025-03-11T18:14:00",
          "2025-03-11T18:15:00",
          "2025-03-11T18:16:00",
          "2025-03-11T18:17:00",
          "2025-03-11T18:18:00",
          "2025-03-11T18:19:00",
          "2025-03-11T18:20:00",
          "2025-03-11T18:21:00",
          "2025-03-11T18:22:00",
          "2025-03-11T18:23:00",
          "2025-03-11T18:24:00",
          "2025-03-11T18:25:00",
          "2025-03-11T18:26:00",
          "2025-03-11T18:27:00",
          "2025-03-11T18:28:00",
          "2025-03-11T18:29:00",
          "2025-03-11T18:30:00",
          "2025-03-11T18:31:00",
          "2025-03-11T18:32:00",
          "2025-03-11T18:33:00",
          "2025-03-11T18:34:00",
          "2025-03-11T18:35:00",
          "2025-03-11T18:36:00",
          "2025-03-11T18:37:00",
          "2025-03-11T18:38:00",
          "2025-03-11T18:39:00",
          "2025-03-11T18:40:00",
          "2025-03-11T18:41:00",
          "2025-03-11T18:42:00",
          "2025-03-11T18:43:00",
          "2025-03-11T18:44:00",
          "2025-03-11T18:45:00",
          "2025-03-11T18:46:00",
          "2025-03-11T18:47:00",
          "2025-03-11T18:48:00",
          "2025-03-11T18:49:00",
          "2025-03-11T18:50:00",
          "2025-03-11T18:51:00",
          "2025-03-11T18:52:00",
          "2025-03-11T18:53:00",
          "2025-03-11T18:54:00",
          "2025-03-11T18:55:00",
          "2025-03-11T18:56:00",
          "2025-03-11T18:57:00",
          "2025-03-11T18:58:00",
          "2025-03-11T18:59:00",
          "2025-03-11T19:00:00",
          "2025-03-11T19:01:00",
          "2025-03-11T19:02:00",
          "2025-03-11T19:03:00",
          "2025-03-11T19:04:00",
          "2025-03-11T19:05:00",
          "2025-03-11T19:06:00",
          "2025-03-11T19:07:00",
          "2025-03-11T19:08:00",
          "2025-03-11T19:09:00",
          "2025-03-11T19:10:00",
          "2025-03-11T19:11:00",
          "2025-03-11T19:12:00",
          "2025-03-11T19:13:00",
          "2025-03-11T19:14:00",
          "2025-03-11T19:15:00",
          "2025-03-11T19:16:00",
          "2025-03-11T19:17:00",
          "2025-03-11T19:18:00",
          "2025-03-11T19:19:00",
          "2025-03-11T19:20:00",
          "2025-03-11T19:21:00",
          "2025-03-11T19:22:00",
          "2025-03-11T19:23:00",
          "2025-03-11T19:24:00",
          "2025-03-11T19:25:00",
          "2025-03-11T19:26:00",
          "2025-03-11T19:27:00",
          "2025-03-11T19:28:00",
          "2025-03-11T19:29:00",
          "2025-03-11T19:30:00",
          "2025-03-11T19:31:00",
          "2025-03-11T19:32:00",
          "2025-03-11T19:33:00",
          "2025-03-11T19:34:00",
          "2025-03-11T19:35:00",
          "2025-03-11T19:36:00",
          "2025-03-11T19:37:00",
          "2025-03-11T19:38:00",
          "2025-03-11T19:39:00",
          "2025-03-11T19:40:00",
          "2025-03-11T19:41:00",
          "2025-03-11T19:42:00",
          "2025-03-11T19:43:00",
          "2025-03-11T19:44:00",
          "2025-03-11T19:45:00",
          "2025-03-11T19:46:00",
          "2025-03-11T19:47:00",
          "2025-03-11T19:48:00",
          "2025-03-11T19:49:00",
          "2025-03-11T19:50:00",
          "2025-03-11T19:51:00",
          "2025-03-11T19:52:00",
          "2025-03-11T19:53:00",
          "2025-03-11T19:54:00",
          "2025-03-11T19:55:00",
          "2025-03-11T19:56:00",
          "2025-03-11T19:57:00",
          "2025-03-11T19:58:00",
          "2025-03-11T19:59:00",
          "2025-03-11T20:00:00",
          "2025-03-11T20:01:00",
          "2025-03-11T20:02:00",
          "2025-03-11T20:03:00",
          "2025-03-11T20:04:00",
          "2025-03-11T20:05:00",
          "2025-03-11T20:06:00",
          "2025-03-11T20:07:00",
          "2025-03-11T20:08:00",
          "2025-03-11T20:09:00",
          "2025-03-11T20:10:00",
          "2025-03-11T20:11:00",
          "2025-03-11T20:12:00",
          "2025-03-11T20:13:00",
          "2025-03-11T20:14:00",
          "2025-03-11T20:15:00",
          "2025-03-11T20:16:00",
          "2025-03-11T20:17:00",
          "2025-03-11T20:18:00",
          "2025-03-11T20:19:00",
          "2025-03-11T20:20:00",
          "2025-03-11T20:21:00",
          "2025-03-11T20:22:00",
          "2025-03-11T20:23:00",
          "2025-03-11T20:24:00",
          "2025-03-11T20:25:00",
          "2025-03-11T20:26:00",
          "2025-03-11T20:27:00",
          "2025-03-11T20:28:00",
          "2025-03-11T20:29:00",
          "2025-03-11T20:30:00",
          "2025-03-11T20:31:00",
          "2025-03-11T20:32:00",
          "2025-03-11T20:33:00",
          "2025-03-11T20:34:00",
          "2025-03-11T20:35:00",
          "2025-03-11T20:36:00",
          "2025-03-11T20:37:00",
          "2025-03-11T20:38:00",
          "2025-03-11T20:39:00",
          "2025-03-11T20:40:00",
          "2025-03-11T20:41:00",
          "2025-03-11T20:42:00",
          "2025-03-11T20:43:00",
          "2025-03-11T20:44:00",
          "2025-03-11T20:45:00",
          "2025-03-11T20:46:00",
          "2025-03-11T20:47:00",
          "2025-03-11T20:48:00",
          "2025-03-11T20:49:00",
          "2025-03-11T20:50:00",
          "2025-03-11T20:51:00",
          "2025-03-11T20:52:00",
          "2025-03-11T20:53:00",
          "2025-03-11T20:54:00",
          "2025-03-11T20:55:00",
          "2025-03-11T20:56:00",
          "2025-03-11T20:57:00",
          "2025-03-11T20:58:00",
          "2025-03-11T20:59:00"
         ],
         "y": {
          "bdata": "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",
          "dtype": "i4"
         },
         "yaxis": "y2"
        }
       ],
       "layout": {
        "height": 600,
        "template": {
         "data": {
          "bar": [
           {
            "error_x": {
             "color": "#2a3f5f"
            },
            "error_y": {
             "color": "#2a3f5f"
            },
            "marker": {
             "line": {
              "color": "white",
              "width": 0.5
             },
             "pattern": {
              "fillmode": "overlay",
              "size": 10,
              "solidity": 0.2
             }
            },
            "type": "bar"
           }
          ],
          "barpolar": [
           {
            "marker": {
             "line": {
              "color": "white",
              "width": 0.5
             },
             "pattern": {
              "fillmode": "overlay",
              "size": 10,
              "solidity": 0.2
             }
            },
            "type": "barpolar"
           }
          ],
          "carpet": [
           {
            "aaxis": {
             "endlinecolor": "#2a3f5f",
             "gridcolor": "#C8D4E3",
             "linecolor": "#C8D4E3",
             "minorgridcolor": "#C8D4E3",
             "startlinecolor": "#2a3f5f"
            },
            "baxis": {
             "endlinecolor": "#2a3f5f",
             "gridcolor": "#C8D4E3",
             "linecolor": "#C8D4E3",
             "minorgridcolor": "#C8D4E3",
             "startlinecolor": "#2a3f5f"
            },
            "type": "carpet"
           }
          ],
          "choropleth": [
           {
            "colorbar": {
             "outlinewidth": 0,
             "ticks": ""
            },
            "type": "choropleth"
           }
          ],
          "contour": [
           {
            "colorbar": {
             "outlinewidth": 0,
             "ticks": ""
            },
            "colorscale": [
             [
              0,
              "#0d0887"
             ],
             [
              0.1111111111111111,
              "#46039f"
             ],
             [
              0.2222222222222222,
              "#7201a8"
             ],
             [
              0.3333333333333333,
              "#9c179e"
             ],
             [
              0.4444444444444444,
              "#bd3786"
             ],
             [
              0.5555555555555556,
              "#d8576b"
             ],
             [
              0.6666666666666666,
              "#ed7953"
             ],
             [
              0.7777777777777778,
              "#fb9f3a"
             ],
             [
              0.8888888888888888,
              "#fdca26"
             ],
             [
              1,
              "#f0f921"
             ]
            ],
            "type": "contour"
           }
          ],
          "contourcarpet": [
           {
            "colorbar": {
             "outlinewidth": 0,
             "ticks": ""
            },
            "type": "contourcarpet"
           }
          ],
          "heatmap": [
           {
            "colorbar": {
             "outlinewidth": 0,
             "ticks": ""
            },
            "colorscale": [
             [
              0,
              "#0d0887"
             ],
             [
              0.1111111111111111,
              "#46039f"
             ],
             [
              0.2222222222222222,
              "#7201a8"
             ],
             [
              0.3333333333333333,
              "#9c179e"
             ],
             [
              0.4444444444444444,
              "#bd3786"
             ],
             [
              0.5555555555555556,
              "#d8576b"
             ],
             [
              0.6666666666666666,
              "#ed7953"
             ],
             [
              0.7777777777777778,
              "#fb9f3a"
             ],
             [
              0.8888888888888888,
              "#fdca26"
             ],
             [
              1,
              "#f0f921"
             ]
            ],
            "type": "heatmap"
           }
          ],
          "histogram": [
           {
            "marker": {
             "pattern": {
              "fillmode": "overlay",
              "size": 10,
              "solidity": 0.2
             }
            },
            "type": "histogram"
           }
          ],
          "histogram2d": [
           {
            "colorbar": {
             "outlinewidth": 0,
             "ticks": ""
            },
            "colorscale": [
             [
              0,
              "#0d0887"
             ],
             [
              0.1111111111111111,
              "#46039f"
             ],
             [
              0.2222222222222222,
              "#7201a8"
             ],
             [
              0.3333333333333333,
              "#9c179e"
             ],
             [
              0.4444444444444444,
              "#bd3786"
             ],
             [
              0.5555555555555556,
              "#d8576b"
             ],
             [
              0.6666666666666666,
              "#ed7953"
             ],
             [
              0.7777777777777778,
              "#fb9f3a"
             ],
             [
              0.8888888888888888,
              "#fdca26"
             ],
             [
              1,
              "#f0f921"
             ]
            ],
            "type": "histogram2d"
           }
          ],
          "histogram2dcontour": [
           {
            "colorbar": {
             "outlinewidth": 0,
             "ticks": ""
            },
            "colorscale": [
             [
              0,
              "#0d0887"
             ],
             [
              0.1111111111111111,
              "#46039f"
             ],
             [
              0.2222222222222222,
              "#7201a8"
             ],
             [
              0.3333333333333333,
              "#9c179e"
             ],
             [
              0.4444444444444444,
              "#bd3786"
             ],
             [
              0.5555555555555556,
              "#d8576b"
             ],
             [
              0.6666666666666666,
              "#ed7953"
             ],
             [
              0.7777777777777778,
              "#fb9f3a"
             ],
             [
              0.8888888888888888,
              "#fdca26"
             ],
             [
              1,
              "#f0f921"
             ]
            ],
            "type": "histogram2dcontour"
           }
          ],
          "mesh3d": [
           {
            "colorbar": {
             "outlinewidth": 0,
             "ticks": ""
            },
            "type": "mesh3d"
           }
          ],
          "parcoords": [
           {
            "line": {
             "colorbar": {
              "outlinewidth": 0,
              "ticks": ""
             }
            },
            "type": "parcoords"
           }
          ],
          "pie": [
           {
            "automargin": true,
            "type": "pie"
           }
          ],
          "scatter": [
           {
            "fillpattern": {
             "fillmode": "overlay",
             "size": 10,
             "solidity": 0.2
            },
            "type": "scatter"
           }
          ],
          "scatter3d": [
           {
            "line": {
             "colorbar": {
              "outlinewidth": 0,
              "ticks": ""
             }
            },
            "marker": {
             "colorbar": {
              "outlinewidth": 0,
              "ticks": ""
             }
            },
            "type": "scatter3d"
           }
          ],
          "scattercarpet": [
           {
            "marker": {
             "colorbar": {
              "outlinewidth": 0,
              "ticks": ""
             }
            },
            "type": "scattercarpet"
           }
          ],
          "scattergeo": [
           {
            "marker": {
             "colorbar": {
              "outlinewidth": 0,
              "ticks": ""
             }
            },
            "type": "scattergeo"
           }
          ],
          "scattergl": [
           {
            "marker": {
             "colorbar": {
              "outlinewidth": 0,
              "ticks": ""
             }
            },
            "type": "scattergl"
           }
          ],
          "scattermap": [
           {
            "marker": {
             "colorbar": {
              "outlinewidth": 0,
              "ticks": ""
             }
            },
            "type": "scattermap"
           }
          ],
          "scattermapbox": [
           {
            "marker": {
             "colorbar": {
              "outlinewidth": 0,
              "ticks": ""
             }
            },
            "type": "scattermapbox"
           }
          ],
          "scatterpolar": [
           {
            "marker": {
             "colorbar": {
              "outlinewidth": 0,
              "ticks": ""
             }
            },
            "type": "scatterpolar"
           }
          ],
          "scatterpolargl": [
           {
            "marker": {
             "colorbar": {
              "outlinewidth": 0,
              "ticks": ""
             }
            },
            "type": "scatterpolargl"
           }
          ],
          "scatterternary": [
           {
            "marker": {
             "colorbar": {
              "outlinewidth": 0,
              "ticks": ""
             }
            },
            "type": "scatterternary"
           }
          ],
          "surface": [
           {
            "colorbar": {
             "outlinewidth": 0,
             "ticks": ""
            },
            "colorscale": [
             [
              0,
              "#0d0887"
             ],
             [
              0.1111111111111111,
              "#46039f"
             ],
             [
              0.2222222222222222,
              "#7201a8"
             ],
             [
              0.3333333333333333,
              "#9c179e"
             ],
             [
              0.4444444444444444,
              "#bd3786"
             ],
             [
              0.5555555555555556,
              "#d8576b"
             ],
             [
              0.6666666666666666,
              "#ed7953"
             ],
             [
              0.7777777777777778,
              "#fb9f3a"
             ],
             [
              0.8888888888888888,
              "#fdca26"
             ],
             [
              1,
              "#f0f921"
             ]
            ],
            "type": "surface"
           }
          ],
          "table": [
           {
            "cells": {
             "fill": {
              "color": "#EBF0F8"
             },
             "line": {
              "color": "white"
             }
            },
            "header": {
             "fill": {
              "color": "#C8D4E3"
             },
             "line": {
              "color": "white"
             }
            },
            "type": "table"
           }
          ]
         },
         "layout": {
          "annotationdefaults": {
           "arrowcolor": "#2a3f5f",
           "arrowhead": 0,
           "arrowwidth": 1
          },
          "autotypenumbers": "strict",
          "coloraxis": {
           "colorbar": {
            "outlinewidth": 0,
            "ticks": ""
           }
          },
          "colorscale": {
           "diverging": [
            [
             0,
             "#8e0152"
            ],
            [
             0.1,
             "#c51b7d"
            ],
            [
             0.2,
             "#de77ae"
            ],
            [
             0.3,
             "#f1b6da"
            ],
            [
             0.4,
             "#fde0ef"
            ],
            [
             0.5,
             "#f7f7f7"
            ],
            [
             0.6,
             "#e6f5d0"
            ],
            [
             0.7,
             "#b8e186"
            ],
            [
             0.8,
             "#7fbc41"
            ],
            [
             0.9,
             "#4d9221"
            ],
            [
             1,
             "#276419"
            ]
           ],
           "sequential": [
            [
             0,
             "#0d0887"
            ],
            [
             0.1111111111111111,
             "#46039f"
            ],
            [
             0.2222222222222222,
             "#7201a8"
            ],
            [
             0.3333333333333333,
             "#9c179e"
            ],
            [
             0.4444444444444444,
             "#bd3786"
            ],
            [
             0.5555555555555556,
             "#d8576b"
            ],
            [
             0.6666666666666666,
             "#ed7953"
            ],
            [
             0.7777777777777778,
             "#fb9f3a"
            ],
            [
             0.8888888888888888,
             "#fdca26"
            ],
            [
             1,
             "#f0f921"
            ]
           ],
           "sequentialminus": [
            [
             0,
             "#0d0887"
            ],
            [
             0.1111111111111111,
             "#46039f"
            ],
            [
             0.2222222222222222,
             "#7201a8"
            ],
            [
             0.3333333333333333,
             "#9c179e"
            ],
            [
             0.4444444444444444,
             "#bd3786"
            ],
            [
             0.5555555555555556,
             "#d8576b"
            ],
            [
             0.6666666666666666,
             "#ed7953"
            ],
            [
             0.7777777777777778,
             "#fb9f3a"
            ],
            [
             0.8888888888888888,
             "#fdca26"
            ],
            [
             1,
             "#f0f921"
            ]
           ]
          },
          "colorway": [
           "#636efa",
           "#EF553B",
           "#00cc96",
           "#ab63fa",
           "#FFA15A",
           "#19d3f3",
           "#FF6692",
           "#B6E880",
           "#FF97FF",
           "#FECB52"
          ],
          "font": {
           "color": "#2a3f5f"
          },
          "geo": {
           "bgcolor": "white",
           "lakecolor": "white",
           "landcolor": "white",
           "showlakes": true,
           "showland": true,
           "subunitcolor": "#C8D4E3"
          },
          "hoverlabel": {
           "align": "left"
          },
          "hovermode": "closest",
          "mapbox": {
           "style": "light"
          },
          "paper_bgcolor": "white",
          "plot_bgcolor": "white",
          "polar": {
           "angularaxis": {
            "gridcolor": "#EBF0F8",
            "linecolor": "#EBF0F8",
            "ticks": ""
           },
           "bgcolor": "white",
           "radialaxis": {
            "gridcolor": "#EBF0F8",
            "linecolor": "#EBF0F8",
            "ticks": ""
           }
          },
          "scene": {
           "xaxis": {
            "backgroundcolor": "white",
            "gridcolor": "#DFE8F3",
            "gridwidth": 2,
            "linecolor": "#EBF0F8",
            "showbackground": true,
            "ticks": "",
            "zerolinecolor": "#EBF0F8"
           },
           "yaxis": {
            "backgroundcolor": "white",
            "gridcolor": "#DFE8F3",
            "gridwidth": 2,
            "linecolor": "#EBF0F8",
            "showbackground": true,
            "ticks": "",
            "zerolinecolor": "#EBF0F8"
           },
           "zaxis": {
            "backgroundcolor": "white",
            "gridcolor": "#DFE8F3",
            "gridwidth": 2,
            "linecolor": "#EBF0F8",
            "showbackground": true,
            "ticks": "",
            "zerolinecolor": "#EBF0F8"
           }
          },
          "shapedefaults": {
           "line": {
            "color": "#2a3f5f"
           }
          },
          "ternary": {
           "aaxis": {
            "gridcolor": "#DFE8F3",
            "linecolor": "#A2B1C6",
            "ticks": ""
           },
           "baxis": {
            "gridcolor": "#DFE8F3",
            "linecolor": "#A2B1C6",
            "ticks": ""
           },
           "bgcolor": "white",
           "caxis": {
            "gridcolor": "#DFE8F3",
            "linecolor": "#A2B1C6",
            "ticks": ""
           }
          },
          "title": {
           "x": 0.05
          },
          "xaxis": {
           "automargin": true,
           "gridcolor": "#EBF0F8",
           "linecolor": "#EBF0F8",
           "ticks": "",
           "title": {
            "standoff": 15
           },
           "zerolinecolor": "#EBF0F8",
           "zerolinewidth": 2
          },
          "yaxis": {
           "automargin": true,
           "gridcolor": "#EBF0F8",
           "linecolor": "#EBF0F8",
           "ticks": "",
           "title": {
            "standoff": 15
           },
           "zerolinecolor": "#EBF0F8",
           "zerolinewidth": 2
          }
         }
        },
        "title": {
         "text": "SPY 1-min 2025-03-11"
        },
        "xaxis": {
         "rangeslider": {
          "visible": false
         },
         "title": {
          "text": "Time"
         }
        },
        "yaxis": {
         "title": {
          "text": "Price"
         }
        },
        "yaxis2": {
         "overlaying": "y",
         "range": [
          0,
          16734200
         ],
         "showgrid": false,
         "side": "right"
        }
       }
      }
     },
     "metadata": {},
     "output_type": "display_data"
    }
   ],
   "source": [
    "# Plot candlestick + volume\n",
    "if not df.empty:\n",
    "    fig = go.Figure(data=[go.Candlestick(x=df['ts'], open=df.get('open'), high=df.get('high'), low=df.get('low'), close=df.get('close'), name='SPY')])\n",
    "    if 'volume' in df.columns:\n",
    "        fig.add_trace(go.Bar(x=df['ts'], y=df['volume'], name='Volume', yaxis='y2', marker_color='lightgray', opacity=0.4))\n",
    "        fig.update_layout(yaxis2=dict(overlaying='y', side='right', showgrid=False, range=[0, float(df['volume'].max())*4]))\n",
    "    fig.update_layout(title=f'SPY 1-min {dt}', xaxis_title='Time', yaxis_title='Price', xaxis_rangeslider_visible=False, template='plotly_white', height=600)\n",
    "    fig.show()\n",
    "else:\n",
    "    print('No data to plot; try another dt or check MinIO path.')"
   ]
  },
  {
   "cell_type": "markdown",
   "id": "9ccc0981",
   "metadata": {},
   "source": [
    "## Tips\n",
    "- MinIO console: http://localhost:9101\n",
    "- Ensure `.env` has: `MINIO_BUCKET`, `S3_ENDPOINT_URL=127.0.0.1:9100`, and credentials.\n",
    "- Weekends/holidays may return empty days; pick a trading day."
   ]
  },
  {
   "cell_type": "markdown",
   "id": "c1d81e5c",
   "metadata": {},
   "source": [
    "## Interactive TA dashboard (EMAs, Bollinger, RSI, MACD)\n",
    "\n",
    "Pick a trading day and render a multi-panel chart using data loaded directly from MinIO via DuckDB."
   ]
  },
  {
   "cell_type": "code",
   "execution_count": null,
   "id": "7ba877b4",
   "metadata": {},
   "outputs": [],
   "source": [
    "import numpy as np\n",
    "import ipywidgets as W\n",
    "from IPython.display import display\n",
    "import traceback\n",
    "import plotly.io as pio\n",
    "\n",
    "# TA helpers\n",
    "\n",
    "def ema(s, span):\n",
    "    return s.ewm(span=span, adjust=False).mean()\n",
    "\n",
    "def bollinger(s, n=20, k=2.0):\n",
    "    m = s.rolling(n).mean()\n",
    "    sd = s.rolling(n).std(ddof=0)\n",
    "    return m, m + k*sd, m - k*sd\n",
    "\n",
    "def rsi(s, n=14):\n",
    "    d = s.diff()\n",
    "    up = d.clip(lower=0)\n",
    "    dn = -d.clip(upper=0)\n",
    "    roll_up = up.ewm(alpha=1/n, adjust=False).mean()\n",
    "    roll_dn = dn.ewm(alpha=1/n, adjust=False).mean()\n",
    "    rs = np.where(roll_dn==0, np.nan, roll_up/roll_dn)\n",
    "    rsi = 100 - (100/(1+rs))\n",
    "    return pd.Series(rsi, index=s.index)\n",
    "\n",
    "print(f\"[setup] plotly renderer={pio.renderers.default}\")\n",
    "\n",
    "# UI widgets\n",
    "_dt = W.Text(value=os.getenv('SAMPLE_DT', '2025-03-11'), description='Date (YYYY-MM-DD):')\n",
    "_ema_fast = W.IntSlider(value=9, min=3, max=50, step=1, description='EMA fast')\n",
    "_ema_slow = W.IntSlider(value=21, min=5, max=100, step=1, description='EMA slow')\n",
    "_bb_n = W.IntSlider(value=20, min=10, max=50, step=1, description='BB n')\n",
    "_bb_k = W.FloatSlider(value=2.0, min=1.0, max=3.0, step=0.1, description='BB k')\n",
    "\n",
    "_out = W.Output()\n",
    "\n",
    "\n",
    "def render(*_):\n",
    "    with _out:\n",
    "        _out.clear_output(wait=True)\n",
    "        try:\n",
    "            print(f\"[render] dt={_dt.value}\")\n",
    "            df = load_day(_dt.value)\n",
    "            print(f\"[render] loaded rows={len(df)} cols={list(df.columns)}\")\n",
    "            if df.empty:\n",
    "                print('No data for', _dt.value)\n",
    "                return\n",
    "            # Indicators\n",
    "            if 'close' in df.columns:\n",
    "                df['ema_fast'] = ema(df['close'], _ema_fast.value)\n",
    "                df['ema_slow'] = ema(df['close'], _ema_slow.value)\n",
    "                m, up, dn = bollinger(df['close'], _bb_n.value, _bb_k.value)\n",
    "                df['bb_mid'] = m\n",
    "                df['bb_up'] = up\n",
    "                df['bb_dn'] = dn\n",
    "                r = rsi(df['close'], 14)\n",
    "                print(\n",
    "                    f\"[render] indicators ok: ema_fast={_ema_fast.value}, ema_slow={_ema_slow.value}, bb_n={_bb_n.value}, bb_k={_bb_k.value}\"\n",
    "                )\n",
    "                print(f\"[render] ts range: {df['ts'].min()} -> {df['ts'].max()}\")\n",
    "            else:\n",
    "                print('Missing close column; columns=', list(df.columns))\n",
    "                return\n",
    "            # Price pane\n",
    "            fig = go.Figure()\n",
    "            fig.add_trace(\n",
    "                go.Candlestick(\n",
    "                    x=df['ts'],\n",
    "                    open=df.get('open'),\n",
    "                    high=df.get('high'),\n",
    "                    low=df.get('low'),\n",
    "                    close=df.get('close'),\n",
    "                    name='Price',\n",
    "                )\n",
    "            )\n",
    "            fig.add_trace(\n",
    "                go.Scatter(x=df['ts'], y=df['ema_fast'], name=f'EMA{_ema_fast.value}', line=dict(width=1))\n",
    "            )\n",
    "            fig.add_trace(\n",
    "                go.Scatter(x=df['ts'], y=df['ema_slow'], name=f'EMA{_ema_slow.value}', line=dict(width=1))\n",
    "            )\n",
    "            fig.add_trace(\n",
    "                go.Scatter(x=df['ts'], y=df['bb_up'], name='BB up', line=dict(width=1, color='gray'))\n",
    "            )\n",
    "            fig.add_trace(\n",
    "                go.Scatter(x=df['ts'], y=df['bb_mid'], name='BB mid', line=dict(width=1, color='lightgray'))\n",
    "            )\n",
    "            fig.add_trace(\n",
    "                go.Scatter(x=df['ts'], y=df['bb_dn'], name='BB dn', line=dict(width=1, color='gray'))\n",
    "            )\n",
    "            # Volume on secondary axis\n",
    "            if 'volume' in df.columns:\n",
    "                fig.add_trace(\n",
    "                    go.Bar(\n",
    "                        x=df['ts'],\n",
    "                        y=df['volume'],\n",
    "                        name='Volume',\n",
    "                        yaxis='y2',\n",
    "                        marker_color='lightgray',\n",
    "                        opacity=0.4,\n",
    "                    )\n",
    "                )\n",
    "                fig.update_layout(\n",
    "                    yaxis2=dict(\n",
    "                        overlaying='y', side='right', showgrid=False, range=[0, float(df['volume'].max()) * 4]\n",
    "                    )\n",
    "                )\n",
    "            fig.update_layout(\n",
    "                title=f'SPY {_dt.value}',\n",
    "                xaxis_title='Time',\n",
    "                yaxis_title='Price',\n",
    "                xaxis_rangeslider_visible=False,\n",
    "                template='plotly_white',\n",
    "                height=700,\n",
    "            )\n",
    "            # Important: use display(fig) so output is captured by the Output widget\n",
    "            display(fig)\n",
    "\n",
    "            # RSI pane\n",
    "            fig2 = go.Figure()\n",
    "            fig2.add_trace(go.Scatter(x=df['ts'], y=r, name='RSI'))\n",
    "            fig2.add_hline(y=70, line_dash='dot', line_color='red')\n",
    "            fig2.add_hline(y=30, line_dash='dot', line_color='green')\n",
    "            fig2.update_layout(height=200, template='plotly_white', title='RSI (14)')\n",
    "            display(fig2)\n",
    "        except Exception as e:\n",
    "            print('[render] error:', repr(e))\n",
    "            traceback.print_exc()\n",
    "\n",
    "for w in (_dt, _ema_fast, _ema_slow, _bb_n, _bb_k):\n",
    "    w.observe(render, names='value')\n",
    "\n",
    "# Explicitly display the widget container; avoid losing it by having another last expression\n",
    "_box = W.VBox([_dt, W.HBox([_ema_fast, _ema_slow, _bb_n, _bb_k]), _out])\n",
    "display(_box)\n",
    "\n",
    "# Initial render\n",
    "render()\n"
   ]
  }
 ],
 "metadata": {
  "kernelspec": {
   "display_name": "antman_env",
   "language": "python",
   "name": "python3"
  },
  "language_info": {
   "codemirror_mode": {
    "name": "ipython",
    "version": 3
   },
   "file_extension": ".py",
   "mimetype": "text/x-python",
   "name": "python",
   "nbconvert_exporter": "python",
   "pygments_lexer": "ipython3",
   "version": "3.12.3"
  }
 },
 "nbformat": 4,
 "nbformat_minor": 5
}
