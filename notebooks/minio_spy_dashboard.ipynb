{
 "cells": [
  {
   "cell_type": "markdown",
   "id": "28444969",
   "metadata": {},
   "source": [
    "# MinIO + DuckDB SPY 1-min Dashboard\n",
    "This notebook reads daily SPY 1-minute bars directly from MinIO (S3-compatible) using DuckDB httpfs and plots a candlestick + volume chart."
   ]
  },
  {
   "cell_type": "code",
   "execution_count": 1,
   "id": "67a4f55a",
   "metadata": {},
   "outputs": [],
   "source": [
    "# Imports and Plotly renderer\n",
    "import os\n",
    "import duckdb\n",
    "import pandas as pd\n",
    "import plotly.graph_objects as go\n",
    "import plotly.io as pio\n",
    "pio.renderers.default = os.getenv('PLOTLY_RENDERER', 'plotly_mimetype')  # 'vscode' also works in VS Code"
   ]
  },
  {
   "cell_type": "code",
   "execution_count": 2,
   "id": "4b245e1f",
   "metadata": {},
   "outputs": [
    {
     "name": "stdout",
     "output_type": "stream",
     "text": [
      "Configured DuckDB httpfs for MinIO at localhost:9100\n",
      "Bucket: antman-lake\n"
     ]
    }
   ],
   "source": [
    "# Configure DuckDB httpfs from environment (.env)\n",
    "S3_ENDPOINT = (os.getenv('S3_ENDPOINT_URL', '127.0.0.1:9100').replace('http://','').replace('https://',''))\n",
    "S3_REGION = os.getenv('S3_REGION', 'us-east-1')\n",
    "S3_USE_SSL = os.getenv('S3_USE_SSL', 'false')\n",
    "S3_AK = os.getenv('S3_ACCESS_KEY_ID') or os.getenv('MINIO_ROOT_USER', 'minioadmin')\n",
    "S3_SK = os.getenv('S3_SECRET_ACCESS_KEY') or os.getenv('MINIO_ROOT_PASSWORD', 'minioadmin')\n",
    "BUCKET = os.getenv('MINIO_BUCKET', 'antman-lake')\n",
    "\n",
    "con = duckdb.connect()\n",
    "con.execute('INSTALL httpfs; LOAD httpfs;')\n",
    "con.execute(\"SET s3_url_style='path';\")\n",
    "con.execute(f\"SET s3_use_ssl='{S3_USE_SSL}';\")\n",
    "con.execute(f\"SET s3_region='{S3_REGION}';\")\n",
    "con.execute(f\"SET s3_endpoint='{S3_ENDPOINT}';\")\n",
    "con.execute(\"SET s3_access_key_id=$1;\", [S3_AK])\n",
    "con.execute(\"SET s3_secret_access_key=$1;\", [S3_SK])\n",
    "print('Configured DuckDB httpfs for MinIO at', S3_ENDPOINT)\n",
    "print('Bucket:', BUCKET)"
   ]
  },
  {
   "cell_type": "code",
   "execution_count": 3,
   "id": "1751b1f0",
   "metadata": {},
   "outputs": [],
   "source": [
    "# Helpers: data loader + TA utilities\n",
    "import numpy as np\n",
    "\n",
    "# Load one trading day from MinIO via DuckDB httpfs\n",
    "def load_day(dt_str: str, ticker: str = 'SPY') -> pd.DataFrame:\n",
    "    path = f\"s3://{BUCKET}/silver/symbol={ticker}/resolution=1min/dt={dt_str}/*.parquet\"\n",
    "    try:\n",
    "        df = con.execute(\"SELECT * FROM read_parquet($1, filename=true)\", [path]).df()\n",
    "    except Exception as e:\n",
    "        print('read_parquet failed:', e)\n",
    "        return pd.DataFrame()\n",
    "    # Normalize timestamp column\n",
    "    ts_col = None\n",
    "    for c in ['ts','utc_timestamp','timestamp','datetime']:\n",
    "        if c in df.columns:\n",
    "            ts_col = c; break\n",
    "    if ts_col is None:\n",
    "        return pd.DataFrame()\n",
    "    df['ts'] = pd.to_datetime(df[ts_col], utc=True, errors='coerce')\n",
    "    kept = [c for c in ['ts','open','high','low','close','volume'] if c in df.columns]\n",
    "    df = df[kept].dropna(subset=['ts']).sort_values('ts').reset_index(drop=True)\n",
    "    df['ts'] = df['ts'].dt.round('ms')\n",
    "    return df\n",
    "\n",
    "# TA helpers\n",
    "\n",
    "def ema(s: pd.Series, span: int) -> pd.Series:\n",
    "    return s.ewm(span=span, adjust=False).mean()\n",
    "\n",
    "def bollinger(s: pd.Series, n: int = 20, k: float = 2.0):\n",
    "    m = s.rolling(n).mean()\n",
    "    sd = s.rolling(n).std(ddof=0)\n",
    "    return m, m + k*sd, m - k*sd\n",
    "\n",
    "def rsi(s: pd.Series, n: int = 14) -> pd.Series:\n",
    "    d = s.diff()\n",
    "    up = d.clip(lower=0)\n",
    "    dn = -d.clip(upper=0)\n",
    "    roll_up = up.ewm(alpha=1/n, adjust=False).mean()\n",
    "    roll_dn = dn.ewm(alpha=1/n, adjust=False).mean()\n",
    "    rs = np.where(roll_dn==0, np.nan, roll_up/roll_dn)\n",
    "    return pd.Series(100 - (100/(1+rs)), index=s.index)\n",
    "\n",
    "# ATR helper (Wilder's ATR)\n",
    "\n",
    "def atr(df: pd.DataFrame, n: int = 14) -> pd.Series:\n",
    "    if not {'high','low','close'}.issubset(df.columns) or df.empty:\n",
    "        return pd.Series(dtype='float64')\n",
    "    prev_close = df['close'].shift(1)\n",
    "    tr1 = (df['high'] - df['low']).abs()\n",
    "    tr2 = (df['high'] - prev_close).abs()\n",
    "    tr3 = (df['low'] - prev_close).abs()\n",
    "    tr = pd.concat([tr1, tr2, tr3], axis=1).max(axis=1)\n",
    "    # Wilder's smoothing using EMA alpha=1/n\n",
    "    return tr.ewm(alpha=1/n, adjust=False).mean()\n",
    "\n",
    "# Fibonacci helpers\n",
    "FIB_RATIOS = [0.0, 0.236, 0.382, 0.5, 0.618, 0.786, 1.0]\n",
    "FIB_NAMES = ['0%', '23.6%', '38.2%', '50%', '61.8%', '78.6%', '100%']\n",
    "\n",
    "def compute_fib_levels(df: pd.DataFrame, direction: str = 'auto'):\n",
    "    if 'high' not in df.columns or 'low' not in df.columns or df.empty:\n",
    "        return None\n",
    "    idx_low = df['low'].idxmin()\n",
    "    idx_high = df['high'].idxmax()\n",
    "    lo = float(df.loc[idx_low, 'low'])\n",
    "    hi = float(df.loc[idx_high, 'high'])\n",
    "    ts_lo = df.loc[idx_low, 'ts'] if 'ts' in df.columns else None\n",
    "    ts_hi = df.loc[idx_high, 'ts'] if 'ts' in df.columns else None\n",
    "\n",
    "    if direction == 'auto':\n",
    "        direction = 'up' if idx_low < idx_high else 'down'\n",
    "\n",
    "    levels = []\n",
    "    if direction == 'up':\n",
    "        for r, name in zip(FIB_RATIOS, FIB_NAMES):\n",
    "            lvl = lo + (hi - lo) * r\n",
    "            levels.append((name, lvl))\n",
    "    else:\n",
    "        for r, name in zip(FIB_RATIOS, FIB_NAMES):\n",
    "            lvl = hi - (hi - lo) * r\n",
    "            levels.append((name, lvl))\n",
    "    return {\n",
    "        'direction': direction,\n",
    "        'low': lo,\n",
    "        'high': hi,\n",
    "        'ts_low': ts_lo,\n",
    "        'ts_high': ts_hi,\n",
    "        'levels': levels,\n",
    "    }"
   ]
  },
  {
   "cell_type": "code",
   "execution_count": 4,
   "id": "23d27ead",
   "metadata": {},
   "outputs": [
    {
     "name": "stdout",
     "output_type": "stream",
     "text": [
      "Loaded 390 rows for 2025-03-11\n"
     ]
    },
    {
     "data": {
      "text/html": [
       "<div>\n",
       "<style scoped>\n",
       "    .dataframe tbody tr th:only-of-type {\n",
       "        vertical-align: middle;\n",
       "    }\n",
       "\n",
       "    .dataframe tbody tr th {\n",
       "        vertical-align: top;\n",
       "    }\n",
       "\n",
       "    .dataframe thead th {\n",
       "        text-align: right;\n",
       "    }\n",
       "</style>\n",
       "<table border=\"1\" class=\"dataframe\">\n",
       "  <thead>\n",
       "    <tr style=\"text-align: right;\">\n",
       "      <th></th>\n",
       "      <th>ts</th>\n",
       "      <th>open</th>\n",
       "      <th>high</th>\n",
       "      <th>low</th>\n",
       "      <th>close</th>\n",
       "      <th>volume</th>\n",
       "    </tr>\n",
       "  </thead>\n",
       "  <tbody>\n",
       "    <tr>\n",
       "      <th>0</th>\n",
       "      <td>2025-03-11 14:30:00+00:00</td>\n",
       "      <td>555.950</td>\n",
       "      <td>557.24</td>\n",
       "      <td>555.9000</td>\n",
       "      <td>556.630</td>\n",
       "      <td>318164</td>\n",
       "    </tr>\n",
       "    <tr>\n",
       "      <th>1</th>\n",
       "      <td>2025-03-11 14:31:00+00:00</td>\n",
       "      <td>556.625</td>\n",
       "      <td>557.03</td>\n",
       "      <td>556.4928</td>\n",
       "      <td>556.600</td>\n",
       "      <td>142751</td>\n",
       "    </tr>\n",
       "    <tr>\n",
       "      <th>2</th>\n",
       "      <td>2025-03-11 14:32:00+00:00</td>\n",
       "      <td>556.570</td>\n",
       "      <td>556.71</td>\n",
       "      <td>556.2800</td>\n",
       "      <td>556.310</td>\n",
       "      <td>111371</td>\n",
       "    </tr>\n",
       "    <tr>\n",
       "      <th>3</th>\n",
       "      <td>2025-03-11 14:33:00+00:00</td>\n",
       "      <td>556.300</td>\n",
       "      <td>556.50</td>\n",
       "      <td>556.1087</td>\n",
       "      <td>556.435</td>\n",
       "      <td>126317</td>\n",
       "    </tr>\n",
       "    <tr>\n",
       "      <th>4</th>\n",
       "      <td>2025-03-11 14:34:00+00:00</td>\n",
       "      <td>556.450</td>\n",
       "      <td>556.48</td>\n",
       "      <td>555.8000</td>\n",
       "      <td>556.110</td>\n",
       "      <td>157529</td>\n",
       "    </tr>\n",
       "  </tbody>\n",
       "</table>\n",
       "</div>"
      ],
      "text/plain": [
       "                         ts     open    high       low    close  volume\n",
       "0 2025-03-11 14:30:00+00:00  555.950  557.24  555.9000  556.630  318164\n",
       "1 2025-03-11 14:31:00+00:00  556.625  557.03  556.4928  556.600  142751\n",
       "2 2025-03-11 14:32:00+00:00  556.570  556.71  556.2800  556.310  111371\n",
       "3 2025-03-11 14:33:00+00:00  556.300  556.50  556.1087  556.435  126317\n",
       "4 2025-03-11 14:34:00+00:00  556.450  556.48  555.8000  556.110  157529"
      ]
     },
     "execution_count": 4,
     "metadata": {},
     "output_type": "execute_result"
    }
   ],
   "source": [
    "# Load a sample date\n",
    "dt = os.getenv('SAMPLE_DT', '2025-03-11')\n",
    "df = load_day(dt)\n",
    "print(f'Loaded {len(df)} rows for {dt}')\n",
    "df.head()"
   ]
  },
  {
   "cell_type": "code",
   "execution_count": 5,
   "id": "61a86375",
   "metadata": {},
   "outputs": [
    {
     "data": {
      "application/vnd.plotly.v1+json": {
       "config": {
        "plotlyServerURL": "https://plot.ly"
       },
       "data": [
        {
         "close": {
          "bdata": "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",
          "dtype": "f8"
         },
         "high": {
          "bdata": "UrgehetpgUAK16NwPWiBQEjhehSuZYFAAAAAAABkgUCkcD0K12OBQFyPwvUoYoFACtejcD1kgUAfhetRuGCBQAu1pnlHWYFAcT0K16NYgUB7FK5H4VqBQPYoXI/CVYFAmpmZmZlTgUCPwvUoXFuBQFOWIY71XoFAzczMzMxggUDNzMzMzGCBQArXo3A9XoFAexSuR+FcgUApXI/C9ViBQOxRuB6FW4FAMzMzMzNdgUA9CtejcGOBQJqZmZmZZYFAuB6F61FogUAK16NwPWiBQBSuR+F6YoFAMzMzMzNhgUC1FfvLbl6BQFyPwvUoWoFAUrgehetVgUAfhetRuF6BQOxRuB6FW4FAKVyPwvVagUCmm8QgsFiBQHsUrkfhXoFApHA9CtdigUBxPQrXo2yBQFyPwvUobIFA7FG4HoVxgUCPwvUoXHKBQGZmZmZmboFAexSuR+F2gUAAAAAAAHSBQKRwPQrXcYFAhetRuB51gUCuR+F6FHSBQOF6FK5HdYFAXI/C9Sh2gUB7FK5H4XOBQMP1KFyPdIFASOF6FK51gUCF61G4HnWBQFyPwvUocoFA9ihcj8JrgUD2KFyPwm+BQAAAAAAAdIFAPQrXo3BzgUDhehSuR2+BQOF6FK5Hb4FAzczMzMxsgUDNzMzMzHKBQEjhehSudYFAUrgehet1gUBcj8L1KHSBQBSuR+F6dIFAmpmZmZlzgUBmZmZmZnKBQI/C9Shcb4FAZmZmZmZ0gUBcj8L1KH6BQOF6FK5HfYFAexSuR+F+gUCkcD0K13+BQEjhehSuf4FAH4XrUbh8gUAAAAAAAHiBQDMzMzMzd4FAMzMzMzN7gUBxPQrXo3qBQHzysFDre4FAMzMzMzN7gUAAAAAAAHyBQFK4HoXrd4FAZmZmZmZ6gUCkcD0K13mBQB+F61G4eIFAexSuR+F0gUApXI/C9XKBQHsUrkfhbIFAM8SxLm5pgUAK16NwPWqBQDMzMzMzbYFAexSuR+FsgUCkcD0K12mBQPYoXI/CZ4FAMzMzMzNpgUAK16NwPWSBQNejcD0KZYFAmpmZmZljgUDhehSuR2GBQK5H4XoUXoFASOF6FK5fgUDXo3A9Cl2BQArXo3A9WoFAmpmZmZlbgUApXI/C9VyBQKRwPQrXXYFArkfhehRcgUDXo3A9Cl2BQOF6FK5HXYFAAAAAAABggUCPwvUoXGOBQHsUrkfhYoFAZmZmZmZggUCF61G4HmGBQHE9CtejZIFAw/UoXI9igUA9CtejcGOBQClcj8L1YIFAH4XrUbhigUBcj8L1KGKBQHsUrkfhZIFAPQrXo3BlgUDsUbgehWWBQDMzMzMzZ4FAPQrXo3BngUAzMzMzM2OBQDMzMzMzX4FAcT0K16NegUBSuB6F612BQOF6FK5HW4FASOF6FK5fgUApXI/C9WSBQPYoXI/CXYFAzczMzMxegUBxPQrXo1yBQM3MzMzMXIFAexSuR+FcgUCF61G4Hl+BQOxRuB6FXYFAw/UoXI9egUBmZmZmZl6BQHE9CtejWoFAH4XrUbhUgUCuR+F6FFiBQM3MzMzMVoFAAAAAAABTgUD2KFyPwlGBQJqZmZmZU4FApHA9CtdSgUCPwvUo3FCBQHE9CtejToFASOF6FK5PgUDhehSuR0+BQEjhehSuT4FAhetRuB5PgUDhehSuR02BQPYoXI/CTYFAcT0K16NOgUBcj8L1KFCBQI/C9ShcT4FACtejcD1MgUCkcD0K102BQEjhehSuTYFArkfhehROgUB7FK5H4U6BQFyPwvUoUoFArkfhehRSgUBcj8L1KFCBQClcj8L1ToFAmpmZmZlPgUDsL7snj0iBQM4ZUdobRoFAsVBrmvdGgUBcj8L1KEiBQHE9CtejRIFAhetRuB5DgUDXo3A9CkOBQAAAAAAARIFAw/UoXI9KgUCF61G4HkeBQPYoXI/CRYFAcT0K16NGgUDNzMzMzEiBQB+F61G4RoFAUrgehetFgUCamZmZmUOBQOxRuB6FRYFAMzMzMzNJgUCF61G4HkmBQD0K16NwTYFAXI/C9ShOgUBI4XoUrkuBQHsUrkfhToFAZmZmZmZSgUApXI/C9VaBQM3MzMzMWoFAhetRuB5bgUApXI/C9VqBQMP1KFyPWoFA0ZFc/kNagUB7FK5H4ViBQIXrUbgeVYFAFK5H4XpWgUB7FK5H4VaBQI/C9ShcU4FA9ihcj8JPgUB7FK5H4VSBQGZmZmZmUoFAZmZmZmZYgUAzMzMzM2OBQKRwPQrXY4FAXI/C9ShogUAK16NwPWaBQF1txf4yZYFAw/UoXI9kgUAfhetRuGaBQMP1KFyPaoFAcT0K16NogUDXo3A9Cm2BQFK4HoXrbYFA9ihcj8JtgUAzMzMzM22BQClcj8L1boFAFK5H4XpugUB7FK5H4WyBQClcj8L1bIFAcT0K16NsgUDNzMzMzG6BQFyPwvUocoFAaLPqc7V0gUB7FK5H4XiBQMP1KFyPeoFAUrgehet3gUApXI/C9XSBQFK4HoXrd4FAFK5H4Xp0gUBxPQrXo3SBQFK4HoXrc4FAXI/C9Sh0gUB7FK5H4XSBQLgehetRdIFAuB6F61F0gUDXo3A9CnOBQLgehetRboFAj8L1KFxvgUCkcD0K13GBQB+F61G4coFAH4XrUbh2gUCkcD0K13eBQHsUrkfhfIFA16NwPQp/gUBSuB6F64WBQPYoXI/Ch4FAexSuR+GIgUDD9Shcj4uBQJqZmZmZiYFAPzVeukmIgUCuR+F6FIqBQDMzMzMzjYFAKVyPwvWOgUDXo3A9CpGBQK5H4XqUkoFAKVyPwvWWgUApXI/C9ZKBQB+F61G4kIFA7FG4HoWPgUCPwvUoXI+BQIXrUbgej4FAzczMzMyOgUAK16NwPYyBQIXrUbgeiYFA4XoUrkeDgUAzMzMzM4eBQNejcD0KjYFAuB6F61GMgUBcj8L1KKCBQM3MzMzMlIFAexSuR+GQgUDXo3A9Co+BQIXrUbgejYFAV1uxv+yLgUAzMzMzM4mBQHE9CtejiIFAFK5H4XqCgUBIv30dOH+BQLgehetRgIFAFK5H4XqAgUBmZmZmZn6BQMP1KFyPhIFAH4XrUbiFgUCPwvUoXIeBQDMzMzMzhYFAzczMzMx+gUCF61G4HnuBQClcj8L1foFAmpmZmZmBgUDsUbgehYGBQPYoXI/CgYFAw/UoXI9+gUDXo3A9Cn+BQHE9CtejgIFAH4XrUbiAgUAK16NwPYCBQMP1KFyPgoFAuB6F61GCgUCkcD0K14GBQI/C9Shcf4FA4XoUrkd9gUAhH/RsVnmBQOF6FK5Hd4FAhetRuB57gUCkcD0K13mBQDMzMzMzfYFAAAAAAAB+gUAfhetRuHqBQI/C9Shce4FAMzMzMzN9gUAAAAAAAICBQIXrUbgef4FA16NwPQp1gUDhehSuR3GBQB+F61G4cIFA16NwPQpzgUDXo3A9CnGBQAAAAAAAaoFA16NwPQprgUBSJ6CJMGmBQHE9CtejZoFAexSuR+FmgUDXo3A9CmeBQGZmZmZmaIFAFK5H4XpogUAfhetRuGiBQFyPwvUoaIFAhetRuB5ngUDD9Shcj2aBQClcj8L1aIFAZmZmZmZqgUD2KFyPwmmBQFyPwvUoaoFAuB6F61FqgUApXI/C9WqBQJqZmZmZa4FAmpmZmZlpgUBrK/aX3WaBQClcj8L1ZoFAmpmZmZlngUCPwvUoXGeBQDMzMzMzZYFAZmZmZmZkgUBI4XoUrmWBQLgehetRZIFArkfhehRkgUBmZmZmZmSBQPYoXI/CY4FASOF6FK5jgUBSuB6F62OBQFK4HoXrY4FA4XoUrkdjgUA9m1Wfq2OBQFK4HoXrY4FA9ihcj8JjgUA9CtejcGOBQOF6FK5HY4FA4XoUrkdjgUCF61G4HmGBQOxRuB6FYYFAhetRuB5hgUAAAAAAAGCBQLgehetRYoFA9ihcj8JjgUCamZmZmWOBQDMzMzMzY4FAFK5H4XpkgUCkcD0K12OBQK5H4XoUZIFAzczMzMxkgUDNzMzMzGSBQDMzMzMzY4FAZmZmZmZigUAzMzMzM2GBQKRwPQrXX4FA4XoUrkdfgUAAAAAAAGCBQArXo3A9YIFAXynLEEdhgUD2KFyPwmGBQFyPwvUoYoFA",
          "dtype": "f8"
         },
         "low": {
          "bdata": "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",
          "dtype": "f8"
         },
         "name": "SPY",
         "open": {
          "bdata": "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",
          "dtype": "f8"
         },
         "type": "candlestick",
         "x": [
          "2025-03-11T14:30:00",
          "2025-03-11T14:31:00",
          "2025-03-11T14:32:00",
          "2025-03-11T14:33:00",
          "2025-03-11T14:34:00",
          "2025-03-11T14:35:00",
          "2025-03-11T14:36:00",
          "2025-03-11T14:37:00",
          "2025-03-11T14:38:00",
          "2025-03-11T14:39:00",
          "2025-03-11T14:40:00",
          "2025-03-11T14:41:00",
          "2025-03-11T14:42:00",
          "2025-03-11T14:43:00",
          "2025-03-11T14:44:00",
          "2025-03-11T14:45:00",
          "2025-03-11T14:46:00",
          "2025-03-11T14:47:00",
          "2025-03-11T14:48:00",
          "2025-03-11T14:49:00",
          "2025-03-11T14:50:00",
          "2025-03-11T14:51:00",
          "2025-03-11T14:52:00",
          "2025-03-11T14:53:00",
          "2025-03-11T14:54:00",
          "2025-03-11T14:55:00",
          "2025-03-11T14:56:00",
          "2025-03-11T14:57:00",
          "2025-03-11T14:58:00",
          "2025-03-11T14:59:00",
          "2025-03-11T15:00:00",
          "2025-03-11T15:01:00",
          "2025-03-11T15:02:00",
          "2025-03-11T15:03:00",
          "2025-03-11T15:04:00",
          "2025-03-11T15:05:00",
          "2025-03-11T15:06:00",
          "2025-03-11T15:07:00",
          "2025-03-11T15:08:00",
          "2025-03-11T15:09:00",
          "2025-03-11T15:10:00",
          "2025-03-11T15:11:00",
          "2025-03-11T15:12:00",
          "2025-03-11T15:13:00",
          "2025-03-11T15:14:00",
          "2025-03-11T15:15:00",
          "2025-03-11T15:16:00",
          "2025-03-11T15:17:00",
          "2025-03-11T15:18:00",
          "2025-03-11T15:19:00",
          "2025-03-11T15:20:00",
          "2025-03-11T15:21:00",
          "2025-03-11T15:22:00",
          "2025-03-11T15:23:00",
          "2025-03-11T15:24:00",
          "2025-03-11T15:25:00",
          "2025-03-11T15:26:00",
          "2025-03-11T15:27:00",
          "2025-03-11T15:28:00",
          "2025-03-11T15:29:00",
          "2025-03-11T15:30:00",
          "2025-03-11T15:31:00",
          "2025-03-11T15:32:00",
          "2025-03-11T15:33:00",
          "2025-03-11T15:34:00",
          "2025-03-11T15:35:00",
          "2025-03-11T15:36:00",
          "2025-03-11T15:37:00",
          "2025-03-11T15:38:00",
          "2025-03-11T15:39:00",
          "2025-03-11T15:40:00",
          "2025-03-11T15:41:00",
          "2025-03-11T15:42:00",
          "2025-03-11T15:43:00",
          "2025-03-11T15:44:00",
          "2025-03-11T15:45:00",
          "2025-03-11T15:46:00",
          "2025-03-11T15:47:00",
          "2025-03-11T15:48:00",
          "2025-03-11T15:49:00",
          "2025-03-11T15:50:00",
          "2025-03-11T15:51:00",
          "2025-03-11T15:52:00",
          "2025-03-11T15:53:00",
          "2025-03-11T15:54:00",
          "2025-03-11T15:55:00",
          "2025-03-11T15:56:00",
          "2025-03-11T15:57:00",
          "2025-03-11T15:58:00",
          "2025-03-11T15:59:00",
          "2025-03-11T16:00:00",
          "2025-03-11T16:01:00",
          "2025-03-11T16:02:00",
          "2025-03-11T16:03:00",
          "2025-03-11T16:04:00",
          "2025-03-11T16:05:00",
          "2025-03-11T16:06:00",
          "2025-03-11T16:07:00",
          "2025-03-11T16:08:00",
          "2025-03-11T16:09:00",
          "2025-03-11T16:10:00",
          "2025-03-11T16:11:00",
          "2025-03-11T16:12:00",
          "2025-03-11T16:13:00",
          "2025-03-11T16:14:00",
          "2025-03-11T16:15:00",
          "2025-03-11T16:16:00",
          "2025-03-11T16:17:00",
          "2025-03-11T16:18:00",
          "2025-03-11T16:19:00",
          "2025-03-11T16:20:00",
          "2025-03-11T16:21:00",
          "2025-03-11T16:22:00",
          "2025-03-11T16:23:00",
          "2025-03-11T16:24:00",
          "2025-03-11T16:25:00",
          "2025-03-11T16:26:00",
          "2025-03-11T16:27:00",
          "2025-03-11T16:28:00",
          "2025-03-11T16:29:00",
          "2025-03-11T16:30:00",
          "2025-03-11T16:31:00",
          "2025-03-11T16:32:00",
          "2025-03-11T16:33:00",
          "2025-03-11T16:34:00",
          "2025-03-11T16:35:00",
          "2025-03-11T16:36:00",
          "2025-03-11T16:37:00",
          "2025-03-11T16:38:00",
          "2025-03-11T16:39:00",
          "2025-03-11T16:40:00",
          "2025-03-11T16:41:00",
          "2025-03-11T16:42:00",
          "2025-03-11T16:43:00",
          "2025-03-11T16:44:00",
          "2025-03-11T16:45:00",
          "2025-03-11T16:46:00",
          "2025-03-11T16:47:00",
          "2025-03-11T16:48:00",
          "2025-03-11T16:49:00",
          "2025-03-11T16:50:00",
          "2025-03-11T16:51:00",
          "2025-03-11T16:52:00",
          "2025-03-11T16:53:00",
          "2025-03-11T16:54:00",
          "2025-03-11T16:55:00",
          "2025-03-11T16:56:00",
          "2025-03-11T16:57:00",
          "2025-03-11T16:58:00",
          "2025-03-11T16:59:00",
          "2025-03-11T17:00:00",
          "2025-03-11T17:01:00",
          "2025-03-11T17:02:00",
          "2025-03-11T17:03:00",
          "2025-03-11T17:04:00",
          "2025-03-11T17:05:00",
          "2025-03-11T17:06:00",
          "2025-03-11T17:07:00",
          "2025-03-11T17:08:00",
          "2025-03-11T17:09:00",
          "2025-03-11T17:10:00",
          "2025-03-11T17:11:00",
          "2025-03-11T17:12:00",
          "2025-03-11T17:13:00",
          "2025-03-11T17:14:00",
          "2025-03-11T17:15:00",
          "2025-03-11T17:16:00",
          "2025-03-11T17:17:00",
          "2025-03-11T17:18:00",
          "2025-03-11T17:19:00",
          "2025-03-11T17:20:00",
          "2025-03-11T17:21:00",
          "2025-03-11T17:22:00",
          "2025-03-11T17:23:00",
          "2025-03-11T17:24:00",
          "2025-03-11T17:25:00",
          "2025-03-11T17:26:00",
          "2025-03-11T17:27:00",
          "2025-03-11T17:28:00",
          "2025-03-11T17:29:00",
          "2025-03-11T17:30:00",
          "2025-03-11T17:31:00",
          "2025-03-11T17:32:00",
          "2025-03-11T17:33:00",
          "2025-03-11T17:34:00",
          "2025-03-11T17:35:00",
          "2025-03-11T17:36:00",
          "2025-03-11T17:37:00",
          "2025-03-11T17:38:00",
          "2025-03-11T17:39:00",
          "2025-03-11T17:40:00",
          "2025-03-11T17:41:00",
          "2025-03-11T17:42:00",
          "2025-03-11T17:43:00",
          "2025-03-11T17:44:00",
          "2025-03-11T17:45:00",
          "2025-03-11T17:46:00",
          "2025-03-11T17:47:00",
          "2025-03-11T17:48:00",
          "2025-03-11T17:49:00",
          "2025-03-11T17:50:00",
          "2025-03-11T17:51:00",
          "2025-03-11T17:52:00",
          "2025-03-11T17:53:00",
          "2025-03-11T17:54:00",
          "2025-03-11T17:55:00",
          "2025-03-11T17:56:00",
          "2025-03-11T17:57:00",
          "2025-03-11T17:58:00",
          "2025-03-11T17:59:00",
          "2025-03-11T18:00:00",
          "2025-03-11T18:01:00",
          "2025-03-11T18:02:00",
          "2025-03-11T18:03:00",
          "2025-03-11T18:04:00",
          "2025-03-11T18:05:00",
          "2025-03-11T18:06:00",
          "2025-03-11T18:07:00",
          "2025-03-11T18:08:00",
          "2025-03-11T18:09:00",
          "2025-03-11T18:10:00",
          "2025-03-11T18:11:00",
          "2025-03-11T18:12:00",
          "2025-03-11T18:13:00",
          "2025-03-11T18:14:00",
          "2025-03-11T18:15:00",
          "2025-03-11T18:16:00",
          "2025-03-11T18:17:00",
          "2025-03-11T18:18:00",
          "2025-03-11T18:19:00",
          "2025-03-11T18:20:00",
          "2025-03-11T18:21:00",
          "2025-03-11T18:22:00",
          "2025-03-11T18:23:00",
          "2025-03-11T18:24:00",
          "2025-03-11T18:25:00",
          "2025-03-11T18:26:00",
          "2025-03-11T18:27:00",
          "2025-03-11T18:28:00",
          "2025-03-11T18:29:00",
          "2025-03-11T18:30:00",
          "2025-03-11T18:31:00",
          "2025-03-11T18:32:00",
          "2025-03-11T18:33:00",
          "2025-03-11T18:34:00",
          "2025-03-11T18:35:00",
          "2025-03-11T18:36:00",
          "2025-03-11T18:37:00",
          "2025-03-11T18:38:00",
          "2025-03-11T18:39:00",
          "2025-03-11T18:40:00",
          "2025-03-11T18:41:00",
          "2025-03-11T18:42:00",
          "2025-03-11T18:43:00",
          "2025-03-11T18:44:00",
          "2025-03-11T18:45:00",
          "2025-03-11T18:46:00",
          "2025-03-11T18:47:00",
          "2025-03-11T18:48:00",
          "2025-03-11T18:49:00",
          "2025-03-11T18:50:00",
          "2025-03-11T18:51:00",
          "2025-03-11T18:52:00",
          "2025-03-11T18:53:00",
          "2025-03-11T18:54:00",
          "2025-03-11T18:55:00",
          "2025-03-11T18:56:00",
          "2025-03-11T18:57:00",
          "2025-03-11T18:58:00",
          "2025-03-11T18:59:00",
          "2025-03-11T19:00:00",
          "2025-03-11T19:01:00",
          "2025-03-11T19:02:00",
          "2025-03-11T19:03:00",
          "2025-03-11T19:04:00",
          "2025-03-11T19:05:00",
          "2025-03-11T19:06:00",
          "2025-03-11T19:07:00",
          "2025-03-11T19:08:00",
          "2025-03-11T19:09:00",
          "2025-03-11T19:10:00",
          "2025-03-11T19:11:00",
          "2025-03-11T19:12:00",
          "2025-03-11T19:13:00",
          "2025-03-11T19:14:00",
          "2025-03-11T19:15:00",
          "2025-03-11T19:16:00",
          "2025-03-11T19:17:00",
          "2025-03-11T19:18:00",
          "2025-03-11T19:19:00",
          "2025-03-11T19:20:00",
          "2025-03-11T19:21:00",
          "2025-03-11T19:22:00",
          "2025-03-11T19:23:00",
          "2025-03-11T19:24:00",
          "2025-03-11T19:25:00",
          "2025-03-11T19:26:00",
          "2025-03-11T19:27:00",
          "2025-03-11T19:28:00",
          "2025-03-11T19:29:00",
          "2025-03-11T19:30:00",
          "2025-03-11T19:31:00",
          "2025-03-11T19:32:00",
          "2025-03-11T19:33:00",
          "2025-03-11T19:34:00",
          "2025-03-11T19:35:00",
          "2025-03-11T19:36:00",
          "2025-03-11T19:37:00",
          "2025-03-11T19:38:00",
          "2025-03-11T19:39:00",
          "2025-03-11T19:40:00",
          "2025-03-11T19:41:00",
          "2025-03-11T19:42:00",
          "2025-03-11T19:43:00",
          "2025-03-11T19:44:00",
          "2025-03-11T19:45:00",
          "2025-03-11T19:46:00",
          "2025-03-11T19:47:00",
          "2025-03-11T19:48:00",
          "2025-03-11T19:49:00",
          "2025-03-11T19:50:00",
          "2025-03-11T19:51:00",
          "2025-03-11T19:52:00",
          "2025-03-11T19:53:00",
          "2025-03-11T19:54:00",
          "2025-03-11T19:55:00",
          "2025-03-11T19:56:00",
          "2025-03-11T19:57:00",
          "2025-03-11T19:58:00",
          "2025-03-11T19:59:00",
          "2025-03-11T20:00:00",
          "2025-03-11T20:01:00",
          "2025-03-11T20:02:00",
          "2025-03-11T20:03:00",
          "2025-03-11T20:04:00",
          "2025-03-11T20:05:00",
          "2025-03-11T20:06:00",
          "2025-03-11T20:07:00",
          "2025-03-11T20:08:00",
          "2025-03-11T20:09:00",
          "2025-03-11T20:10:00",
          "2025-03-11T20:11:00",
          "2025-03-11T20:12:00",
          "2025-03-11T20:13:00",
          "2025-03-11T20:14:00",
          "2025-03-11T20:15:00",
          "2025-03-11T20:16:00",
          "2025-03-11T20:17:00",
          "2025-03-11T20:18:00",
          "2025-03-11T20:19:00",
          "2025-03-11T20:20:00",
          "2025-03-11T20:21:00",
          "2025-03-11T20:22:00",
          "2025-03-11T20:23:00",
          "2025-03-11T20:24:00",
          "2025-03-11T20:25:00",
          "2025-03-11T20:26:00",
          "2025-03-11T20:27:00",
          "2025-03-11T20:28:00",
          "2025-03-11T20:29:00",
          "2025-03-11T20:30:00",
          "2025-03-11T20:31:00",
          "2025-03-11T20:32:00",
          "2025-03-11T20:33:00",
          "2025-03-11T20:34:00",
          "2025-03-11T20:35:00",
          "2025-03-11T20:36:00",
          "2025-03-11T20:37:00",
          "2025-03-11T20:38:00",
          "2025-03-11T20:39:00",
          "2025-03-11T20:40:00",
          "2025-03-11T20:41:00",
          "2025-03-11T20:42:00",
          "2025-03-11T20:43:00",
          "2025-03-11T20:44:00",
          "2025-03-11T20:45:00",
          "2025-03-11T20:46:00",
          "2025-03-11T20:47:00",
          "2025-03-11T20:48:00",
          "2025-03-11T20:49:00",
          "2025-03-11T20:50:00",
          "2025-03-11T20:51:00",
          "2025-03-11T20:52:00",
          "2025-03-11T20:53:00",
          "2025-03-11T20:54:00",
          "2025-03-11T20:55:00",
          "2025-03-11T20:56:00",
          "2025-03-11T20:57:00",
          "2025-03-11T20:58:00",
          "2025-03-11T20:59:00"
         ]
        },
        {
         "marker": {
          "color": "lightgray"
         },
         "name": "Volume",
         "opacity": 0.4,
         "type": "bar",
         "x": [
          "2025-03-11T14:30:00",
          "2025-03-11T14:31:00",
          "2025-03-11T14:32:00",
          "2025-03-11T14:33:00",
          "2025-03-11T14:34:00",
          "2025-03-11T14:35:00",
          "2025-03-11T14:36:00",
          "2025-03-11T14:37:00",
          "2025-03-11T14:38:00",
          "2025-03-11T14:39:00",
          "2025-03-11T14:40:00",
          "2025-03-11T14:41:00",
          "2025-03-11T14:42:00",
          "2025-03-11T14:43:00",
          "2025-03-11T14:44:00",
          "2025-03-11T14:45:00",
          "2025-03-11T14:46:00",
          "2025-03-11T14:47:00",
          "2025-03-11T14:48:00",
          "2025-03-11T14:49:00",
          "2025-03-11T14:50:00",
          "2025-03-11T14:51:00",
          "2025-03-11T14:52:00",
          "2025-03-11T14:53:00",
          "2025-03-11T14:54:00",
          "2025-03-11T14:55:00",
          "2025-03-11T14:56:00",
          "2025-03-11T14:57:00",
          "2025-03-11T14:58:00",
          "2025-03-11T14:59:00",
          "2025-03-11T15:00:00",
          "2025-03-11T15:01:00",
          "2025-03-11T15:02:00",
          "2025-03-11T15:03:00",
          "2025-03-11T15:04:00",
          "2025-03-11T15:05:00",
          "2025-03-11T15:06:00",
          "2025-03-11T15:07:00",
          "2025-03-11T15:08:00",
          "2025-03-11T15:09:00",
          "2025-03-11T15:10:00",
          "2025-03-11T15:11:00",
          "2025-03-11T15:12:00",
          "2025-03-11T15:13:00",
          "2025-03-11T15:14:00",
          "2025-03-11T15:15:00",
          "2025-03-11T15:16:00",
          "2025-03-11T15:17:00",
          "2025-03-11T15:18:00",
          "2025-03-11T15:19:00",
          "2025-03-11T15:20:00",
          "2025-03-11T15:21:00",
          "2025-03-11T15:22:00",
          "2025-03-11T15:23:00",
          "2025-03-11T15:24:00",
          "2025-03-11T15:25:00",
          "2025-03-11T15:26:00",
          "2025-03-11T15:27:00",
          "2025-03-11T15:28:00",
          "2025-03-11T15:29:00",
          "2025-03-11T15:30:00",
          "2025-03-11T15:31:00",
          "2025-03-11T15:32:00",
          "2025-03-11T15:33:00",
          "2025-03-11T15:34:00",
          "2025-03-11T15:35:00",
          "2025-03-11T15:36:00",
          "2025-03-11T15:37:00",
          "2025-03-11T15:38:00",
          "2025-03-11T15:39:00",
          "2025-03-11T15:40:00",
          "2025-03-11T15:41:00",
          "2025-03-11T15:42:00",
          "2025-03-11T15:43:00",
          "2025-03-11T15:44:00",
          "2025-03-11T15:45:00",
          "2025-03-11T15:46:00",
          "2025-03-11T15:47:00",
          "2025-03-11T15:48:00",
          "2025-03-11T15:49:00",
          "2025-03-11T15:50:00",
          "2025-03-11T15:51:00",
          "2025-03-11T15:52:00",
          "2025-03-11T15:53:00",
          "2025-03-11T15:54:00",
          "2025-03-11T15:55:00",
          "2025-03-11T15:56:00",
          "2025-03-11T15:57:00",
          "2025-03-11T15:58:00",
          "2025-03-11T15:59:00",
          "2025-03-11T16:00:00",
          "2025-03-11T16:01:00",
          "2025-03-11T16:02:00",
          "2025-03-11T16:03:00",
          "2025-03-11T16:04:00",
          "2025-03-11T16:05:00",
          "2025-03-11T16:06:00",
          "2025-03-11T16:07:00",
          "2025-03-11T16:08:00",
          "2025-03-11T16:09:00",
          "2025-03-11T16:10:00",
          "2025-03-11T16:11:00",
          "2025-03-11T16:12:00",
          "2025-03-11T16:13:00",
          "2025-03-11T16:14:00",
          "2025-03-11T16:15:00",
          "2025-03-11T16:16:00",
          "2025-03-11T16:17:00",
          "2025-03-11T16:18:00",
          "2025-03-11T16:19:00",
          "2025-03-11T16:20:00",
          "2025-03-11T16:21:00",
          "2025-03-11T16:22:00",
          "2025-03-11T16:23:00",
          "2025-03-11T16:24:00",
          "2025-03-11T16:25:00",
          "2025-03-11T16:26:00",
          "2025-03-11T16:27:00",
          "2025-03-11T16:28:00",
          "2025-03-11T16:29:00",
          "2025-03-11T16:30:00",
          "2025-03-11T16:31:00",
          "2025-03-11T16:32:00",
          "2025-03-11T16:33:00",
          "2025-03-11T16:34:00",
          "2025-03-11T16:35:00",
          "2025-03-11T16:36:00",
          "2025-03-11T16:37:00",
          "2025-03-11T16:38:00",
          "2025-03-11T16:39:00",
          "2025-03-11T16:40:00",
          "2025-03-11T16:41:00",
          "2025-03-11T16:42:00",
          "2025-03-11T16:43:00",
          "2025-03-11T16:44:00",
          "2025-03-11T16:45:00",
          "2025-03-11T16:46:00",
          "2025-03-11T16:47:00",
          "2025-03-11T16:48:00",
          "2025-03-11T16:49:00",
          "2025-03-11T16:50:00",
          "2025-03-11T16:51:00",
          "2025-03-11T16:52:00",
          "2025-03-11T16:53:00",
          "2025-03-11T16:54:00",
          "2025-03-11T16:55:00",
          "2025-03-11T16:56:00",
          "2025-03-11T16:57:00",
          "2025-03-11T16:58:00",
          "2025-03-11T16:59:00",
          "2025-03-11T17:00:00",
          "2025-03-11T17:01:00",
          "2025-03-11T17:02:00",
          "2025-03-11T17:03:00",
          "2025-03-11T17:04:00",
          "2025-03-11T17:05:00",
          "2025-03-11T17:06:00",
          "2025-03-11T17:07:00",
          "2025-03-11T17:08:00",
          "2025-03-11T17:09:00",
          "2025-03-11T17:10:00",
          "2025-03-11T17:11:00",
          "2025-03-11T17:12:00",
          "2025-03-11T17:13:00",
          "2025-03-11T17:14:00",
          "2025-03-11T17:15:00",
          "2025-03-11T17:16:00",
          "2025-03-11T17:17:00",
          "2025-03-11T17:18:00",
          "2025-03-11T17:19:00",
          "2025-03-11T17:20:00",
          "2025-03-11T17:21:00",
          "2025-03-11T17:22:00",
          "2025-03-11T17:23:00",
          "2025-03-11T17:24:00",
          "2025-03-11T17:25:00",
          "2025-03-11T17:26:00",
          "2025-03-11T17:27:00",
          "2025-03-11T17:28:00",
          "2025-03-11T17:29:00",
          "2025-03-11T17:30:00",
          "2025-03-11T17:31:00",
          "2025-03-11T17:32:00",
          "2025-03-11T17:33:00",
          "2025-03-11T17:34:00",
          "2025-03-11T17:35:00",
          "2025-03-11T17:36:00",
          "2025-03-11T17:37:00",
          "2025-03-11T17:38:00",
          "2025-03-11T17:39:00",
          "2025-03-11T17:40:00",
          "2025-03-11T17:41:00",
          "2025-03-11T17:42:00",
          "2025-03-11T17:43:00",
          "2025-03-11T17:44:00",
          "2025-03-11T17:45:00",
          "2025-03-11T17:46:00",
          "2025-03-11T17:47:00",
          "2025-03-11T17:48:00",
          "2025-03-11T17:49:00",
          "2025-03-11T17:50:00",
          "2025-03-11T17:51:00",
          "2025-03-11T17:52:00",
          "2025-03-11T17:53:00",
          "2025-03-11T17:54:00",
          "2025-03-11T17:55:00",
          "2025-03-11T17:56:00",
          "2025-03-11T17:57:00",
          "2025-03-11T17:58:00",
          "2025-03-11T17:59:00",
          "2025-03-11T18:00:00",
          "2025-03-11T18:01:00",
          "2025-03-11T18:02:00",
          "2025-03-11T18:03:00",
          "2025-03-11T18:04:00",
          "2025-03-11T18:05:00",
          "2025-03-11T18:06:00",
          "2025-03-11T18:07:00",
          "2025-03-11T18:08:00",
          "2025-03-11T18:09:00",
          "2025-03-11T18:10:00",
          "2025-03-11T18:11:00",
          "2025-03-11T18:12:00",
          "2025-03-11T18:13:00",
          "2025-03-11T18:14:00",
          "2025-03-11T18:15:00",
          "2025-03-11T18:16:00",
          "2025-03-11T18:17:00",
          "2025-03-11T18:18:00",
          "2025-03-11T18:19:00",
          "2025-03-11T18:20:00",
          "2025-03-11T18:21:00",
          "2025-03-11T18:22:00",
          "2025-03-11T18:23:00",
          "2025-03-11T18:24:00",
          "2025-03-11T18:25:00",
          "2025-03-11T18:26:00",
          "2025-03-11T18:27:00",
          "2025-03-11T18:28:00",
          "2025-03-11T18:29:00",
          "2025-03-11T18:30:00",
          "2025-03-11T18:31:00",
          "2025-03-11T18:32:00",
          "2025-03-11T18:33:00",
          "2025-03-11T18:34:00",
          "2025-03-11T18:35:00",
          "2025-03-11T18:36:00",
          "2025-03-11T18:37:00",
          "2025-03-11T18:38:00",
          "2025-03-11T18:39:00",
          "2025-03-11T18:40:00",
          "2025-03-11T18:41:00",
          "2025-03-11T18:42:00",
          "2025-03-11T18:43:00",
          "2025-03-11T18:44:00",
          "2025-03-11T18:45:00",
          "2025-03-11T18:46:00",
          "2025-03-11T18:47:00",
          "2025-03-11T18:48:00",
          "2025-03-11T18:49:00",
          "2025-03-11T18:50:00",
          "2025-03-11T18:51:00",
          "2025-03-11T18:52:00",
          "2025-03-11T18:53:00",
          "2025-03-11T18:54:00",
          "2025-03-11T18:55:00",
          "2025-03-11T18:56:00",
          "2025-03-11T18:57:00",
          "2025-03-11T18:58:00",
          "2025-03-11T18:59:00",
          "2025-03-11T19:00:00",
          "2025-03-11T19:01:00",
          "2025-03-11T19:02:00",
          "2025-03-11T19:03:00",
          "2025-03-11T19:04:00",
          "2025-03-11T19:05:00",
          "2025-03-11T19:06:00",
          "2025-03-11T19:07:00",
          "2025-03-11T19:08:00",
          "2025-03-11T19:09:00",
          "2025-03-11T19:10:00",
          "2025-03-11T19:11:00",
          "2025-03-11T19:12:00",
          "2025-03-11T19:13:00",
          "2025-03-11T19:14:00",
          "2025-03-11T19:15:00",
          "2025-03-11T19:16:00",
          "2025-03-11T19:17:00",
          "2025-03-11T19:18:00",
          "2025-03-11T19:19:00",
          "2025-03-11T19:20:00",
          "2025-03-11T19:21:00",
          "2025-03-11T19:22:00",
          "2025-03-11T19:23:00",
          "2025-03-11T19:24:00",
          "2025-03-11T19:25:00",
          "2025-03-11T19:26:00",
          "2025-03-11T19:27:00",
          "2025-03-11T19:28:00",
          "2025-03-11T19:29:00",
          "2025-03-11T19:30:00",
          "2025-03-11T19:31:00",
          "2025-03-11T19:32:00",
          "2025-03-11T19:33:00",
          "2025-03-11T19:34:00",
          "2025-03-11T19:35:00",
          "2025-03-11T19:36:00",
          "2025-03-11T19:37:00",
          "2025-03-11T19:38:00",
          "2025-03-11T19:39:00",
          "2025-03-11T19:40:00",
          "2025-03-11T19:41:00",
          "2025-03-11T19:42:00",
          "2025-03-11T19:43:00",
          "2025-03-11T19:44:00",
          "2025-03-11T19:45:00",
          "2025-03-11T19:46:00",
          "2025-03-11T19:47:00",
          "2025-03-11T19:48:00",
          "2025-03-11T19:49:00",
          "2025-03-11T19:50:00",
          "2025-03-11T19:51:00",
          "2025-03-11T19:52:00",
          "2025-03-11T19:53:00",
          "2025-03-11T19:54:00",
          "2025-03-11T19:55:00",
          "2025-03-11T19:56:00",
          "2025-03-11T19:57:00",
          "2025-03-11T19:58:00",
          "2025-03-11T19:59:00",
          "2025-03-11T20:00:00",
          "2025-03-11T20:01:00",
          "2025-03-11T20:02:00",
          "2025-03-11T20:03:00",
          "2025-03-11T20:04:00",
          "2025-03-11T20:05:00",
          "2025-03-11T20:06:00",
          "2025-03-11T20:07:00",
          "2025-03-11T20:08:00",
          "2025-03-11T20:09:00",
          "2025-03-11T20:10:00",
          "2025-03-11T20:11:00",
          "2025-03-11T20:12:00",
          "2025-03-11T20:13:00",
          "2025-03-11T20:14:00",
          "2025-03-11T20:15:00",
          "2025-03-11T20:16:00",
          "2025-03-11T20:17:00",
          "2025-03-11T20:18:00",
          "2025-03-11T20:19:00",
          "2025-03-11T20:20:00",
          "2025-03-11T20:21:00",
          "2025-03-11T20:22:00",
          "2025-03-11T20:23:00",
          "2025-03-11T20:24:00",
          "2025-03-11T20:25:00",
          "2025-03-11T20:26:00",
          "2025-03-11T20:27:00",
          "2025-03-11T20:28:00",
          "2025-03-11T20:29:00",
          "2025-03-11T20:30:00",
          "2025-03-11T20:31:00",
          "2025-03-11T20:32:00",
          "2025-03-11T20:33:00",
          "2025-03-11T20:34:00",
          "2025-03-11T20:35:00",
          "2025-03-11T20:36:00",
          "2025-03-11T20:37:00",
          "2025-03-11T20:38:00",
          "2025-03-11T20:39:00",
          "2025-03-11T20:40:00",
          "2025-03-11T20:41:00",
          "2025-03-11T20:42:00",
          "2025-03-11T20:43:00",
          "2025-03-11T20:44:00",
          "2025-03-11T20:45:00",
          "2025-03-11T20:46:00",
          "2025-03-11T20:47:00",
          "2025-03-11T20:48:00",
          "2025-03-11T20:49:00",
          "2025-03-11T20:50:00",
          "2025-03-11T20:51:00",
          "2025-03-11T20:52:00",
          "2025-03-11T20:53:00",
          "2025-03-11T20:54:00",
          "2025-03-11T20:55:00",
          "2025-03-11T20:56:00",
          "2025-03-11T20:57:00",
          "2025-03-11T20:58:00",
          "2025-03-11T20:59:00"
         ],
         "y": {
          "bdata": "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",
          "dtype": "i4"
         },
         "yaxis": "y2"
        }
       ],
       "layout": {
        "height": 600,
        "template": {
         "data": {
          "bar": [
           {
            "error_x": {
             "color": "#2a3f5f"
            },
            "error_y": {
             "color": "#2a3f5f"
            },
            "marker": {
             "line": {
              "color": "white",
              "width": 0.5
             },
             "pattern": {
              "fillmode": "overlay",
              "size": 10,
              "solidity": 0.2
             }
            },
            "type": "bar"
           }
          ],
          "barpolar": [
           {
            "marker": {
             "line": {
              "color": "white",
              "width": 0.5
             },
             "pattern": {
              "fillmode": "overlay",
              "size": 10,
              "solidity": 0.2
             }
            },
            "type": "barpolar"
           }
          ],
          "carpet": [
           {
            "aaxis": {
             "endlinecolor": "#2a3f5f",
             "gridcolor": "#C8D4E3",
             "linecolor": "#C8D4E3",
             "minorgridcolor": "#C8D4E3",
             "startlinecolor": "#2a3f5f"
            },
            "baxis": {
             "endlinecolor": "#2a3f5f",
             "gridcolor": "#C8D4E3",
             "linecolor": "#C8D4E3",
             "minorgridcolor": "#C8D4E3",
             "startlinecolor": "#2a3f5f"
            },
            "type": "carpet"
           }
          ],
          "choropleth": [
           {
            "colorbar": {
             "outlinewidth": 0,
             "ticks": ""
            },
            "type": "choropleth"
           }
          ],
          "contour": [
           {
            "colorbar": {
             "outlinewidth": 0,
             "ticks": ""
            },
            "colorscale": [
             [
              0,
              "#0d0887"
             ],
             [
              0.1111111111111111,
              "#46039f"
             ],
             [
              0.2222222222222222,
              "#7201a8"
             ],
             [
              0.3333333333333333,
              "#9c179e"
             ],
             [
              0.4444444444444444,
              "#bd3786"
             ],
             [
              0.5555555555555556,
              "#d8576b"
             ],
             [
              0.6666666666666666,
              "#ed7953"
             ],
             [
              0.7777777777777778,
              "#fb9f3a"
             ],
             [
              0.8888888888888888,
              "#fdca26"
             ],
             [
              1,
              "#f0f921"
             ]
            ],
            "type": "contour"
           }
          ],
          "contourcarpet": [
           {
            "colorbar": {
             "outlinewidth": 0,
             "ticks": ""
            },
            "type": "contourcarpet"
           }
          ],
          "heatmap": [
           {
            "colorbar": {
             "outlinewidth": 0,
             "ticks": ""
            },
            "colorscale": [
             [
              0,
              "#0d0887"
             ],
             [
              0.1111111111111111,
              "#46039f"
             ],
             [
              0.2222222222222222,
              "#7201a8"
             ],
             [
              0.3333333333333333,
              "#9c179e"
             ],
             [
              0.4444444444444444,
              "#bd3786"
             ],
             [
              0.5555555555555556,
              "#d8576b"
             ],
             [
              0.6666666666666666,
              "#ed7953"
             ],
             [
              0.7777777777777778,
              "#fb9f3a"
             ],
             [
              0.8888888888888888,
              "#fdca26"
             ],
             [
              1,
              "#f0f921"
             ]
            ],
            "type": "heatmap"
           }
          ],
          "histogram": [
           {
            "marker": {
             "pattern": {
              "fillmode": "overlay",
              "size": 10,
              "solidity": 0.2
             }
            },
            "type": "histogram"
           }
          ],
          "histogram2d": [
           {
            "colorbar": {
             "outlinewidth": 0,
             "ticks": ""
            },
            "colorscale": [
             [
              0,
              "#0d0887"
             ],
             [
              0.1111111111111111,
              "#46039f"
             ],
             [
              0.2222222222222222,
              "#7201a8"
             ],
             [
              0.3333333333333333,
              "#9c179e"
             ],
             [
              0.4444444444444444,
              "#bd3786"
             ],
             [
              0.5555555555555556,
              "#d8576b"
             ],
             [
              0.6666666666666666,
              "#ed7953"
             ],
             [
              0.7777777777777778,
              "#fb9f3a"
             ],
             [
              0.8888888888888888,
              "#fdca26"
             ],
             [
              1,
              "#f0f921"
             ]
            ],
            "type": "histogram2d"
           }
          ],
          "histogram2dcontour": [
           {
            "colorbar": {
             "outlinewidth": 0,
             "ticks": ""
            },
            "colorscale": [
             [
              0,
              "#0d0887"
             ],
             [
              0.1111111111111111,
              "#46039f"
             ],
             [
              0.2222222222222222,
              "#7201a8"
             ],
             [
              0.3333333333333333,
              "#9c179e"
             ],
             [
              0.4444444444444444,
              "#bd3786"
             ],
             [
              0.5555555555555556,
              "#d8576b"
             ],
             [
              0.6666666666666666,
              "#ed7953"
             ],
             [
              0.7777777777777778,
              "#fb9f3a"
             ],
             [
              0.8888888888888888,
              "#fdca26"
             ],
             [
              1,
              "#f0f921"
             ]
            ],
            "type": "histogram2dcontour"
           }
          ],
          "mesh3d": [
           {
            "colorbar": {
             "outlinewidth": 0,
             "ticks": ""
            },
            "type": "mesh3d"
           }
          ],
          "parcoords": [
           {
            "line": {
             "colorbar": {
              "outlinewidth": 0,
              "ticks": ""
             }
            },
            "type": "parcoords"
           }
          ],
          "pie": [
           {
            "automargin": true,
            "type": "pie"
           }
          ],
          "scatter": [
           {
            "fillpattern": {
             "fillmode": "overlay",
             "size": 10,
             "solidity": 0.2
            },
            "type": "scatter"
           }
          ],
          "scatter3d": [
           {
            "line": {
             "colorbar": {
              "outlinewidth": 0,
              "ticks": ""
             }
            },
            "marker": {
             "colorbar": {
              "outlinewidth": 0,
              "ticks": ""
             }
            },
            "type": "scatter3d"
           }
          ],
          "scattercarpet": [
           {
            "marker": {
             "colorbar": {
              "outlinewidth": 0,
              "ticks": ""
             }
            },
            "type": "scattercarpet"
           }
          ],
          "scattergeo": [
           {
            "marker": {
             "colorbar": {
              "outlinewidth": 0,
              "ticks": ""
             }
            },
            "type": "scattergeo"
           }
          ],
          "scattergl": [
           {
            "marker": {
             "colorbar": {
              "outlinewidth": 0,
              "ticks": ""
             }
            },
            "type": "scattergl"
           }
          ],
          "scattermap": [
           {
            "marker": {
             "colorbar": {
              "outlinewidth": 0,
              "ticks": ""
             }
            },
            "type": "scattermap"
           }
          ],
          "scattermapbox": [
           {
            "marker": {
             "colorbar": {
              "outlinewidth": 0,
              "ticks": ""
             }
            },
            "type": "scattermapbox"
           }
          ],
          "scatterpolar": [
           {
            "marker": {
             "colorbar": {
              "outlinewidth": 0,
              "ticks": ""
             }
            },
            "type": "scatterpolar"
           }
          ],
          "scatterpolargl": [
           {
            "marker": {
             "colorbar": {
              "outlinewidth": 0,
              "ticks": ""
             }
            },
            "type": "scatterpolargl"
           }
          ],
          "scatterternary": [
           {
            "marker": {
             "colorbar": {
              "outlinewidth": 0,
              "ticks": ""
             }
            },
            "type": "scatterternary"
           }
          ],
          "surface": [
           {
            "colorbar": {
             "outlinewidth": 0,
             "ticks": ""
            },
            "colorscale": [
             [
              0,
              "#0d0887"
             ],
             [
              0.1111111111111111,
              "#46039f"
             ],
             [
              0.2222222222222222,
              "#7201a8"
             ],
             [
              0.3333333333333333,
              "#9c179e"
             ],
             [
              0.4444444444444444,
              "#bd3786"
             ],
             [
              0.5555555555555556,
              "#d8576b"
             ],
             [
              0.6666666666666666,
              "#ed7953"
             ],
             [
              0.7777777777777778,
              "#fb9f3a"
             ],
             [
              0.8888888888888888,
              "#fdca26"
             ],
             [
              1,
              "#f0f921"
             ]
            ],
            "type": "surface"
           }
          ],
          "table": [
           {
            "cells": {
             "fill": {
              "color": "#EBF0F8"
             },
             "line": {
              "color": "white"
             }
            },
            "header": {
             "fill": {
              "color": "#C8D4E3"
             },
             "line": {
              "color": "white"
             }
            },
            "type": "table"
           }
          ]
         },
         "layout": {
          "annotationdefaults": {
           "arrowcolor": "#2a3f5f",
           "arrowhead": 0,
           "arrowwidth": 1
          },
          "autotypenumbers": "strict",
          "coloraxis": {
           "colorbar": {
            "outlinewidth": 0,
            "ticks": ""
           }
          },
          "colorscale": {
           "diverging": [
            [
             0,
             "#8e0152"
            ],
            [
             0.1,
             "#c51b7d"
            ],
            [
             0.2,
             "#de77ae"
            ],
            [
             0.3,
             "#f1b6da"
            ],
            [
             0.4,
             "#fde0ef"
            ],
            [
             0.5,
             "#f7f7f7"
            ],
            [
             0.6,
             "#e6f5d0"
            ],
            [
             0.7,
             "#b8e186"
            ],
            [
             0.8,
             "#7fbc41"
            ],
            [
             0.9,
             "#4d9221"
            ],
            [
             1,
             "#276419"
            ]
           ],
           "sequential": [
            [
             0,
             "#0d0887"
            ],
            [
             0.1111111111111111,
             "#46039f"
            ],
            [
             0.2222222222222222,
             "#7201a8"
            ],
            [
             0.3333333333333333,
             "#9c179e"
            ],
            [
             0.4444444444444444,
             "#bd3786"
            ],
            [
             0.5555555555555556,
             "#d8576b"
            ],
            [
             0.6666666666666666,
             "#ed7953"
            ],
            [
             0.7777777777777778,
             "#fb9f3a"
            ],
            [
             0.8888888888888888,
             "#fdca26"
            ],
            [
             1,
             "#f0f921"
            ]
           ],
           "sequentialminus": [
            [
             0,
             "#0d0887"
            ],
            [
             0.1111111111111111,
             "#46039f"
            ],
            [
             0.2222222222222222,
             "#7201a8"
            ],
            [
             0.3333333333333333,
             "#9c179e"
            ],
            [
             0.4444444444444444,
             "#bd3786"
            ],
            [
             0.5555555555555556,
             "#d8576b"
            ],
            [
             0.6666666666666666,
             "#ed7953"
            ],
            [
             0.7777777777777778,
             "#fb9f3a"
            ],
            [
             0.8888888888888888,
             "#fdca26"
            ],
            [
             1,
             "#f0f921"
            ]
           ]
          },
          "colorway": [
           "#636efa",
           "#EF553B",
           "#00cc96",
           "#ab63fa",
           "#FFA15A",
           "#19d3f3",
           "#FF6692",
           "#B6E880",
           "#FF97FF",
           "#FECB52"
          ],
          "font": {
           "color": "#2a3f5f"
          },
          "geo": {
           "bgcolor": "white",
           "lakecolor": "white",
           "landcolor": "white",
           "showlakes": true,
           "showland": true,
           "subunitcolor": "#C8D4E3"
          },
          "hoverlabel": {
           "align": "left"
          },
          "hovermode": "closest",
          "mapbox": {
           "style": "light"
          },
          "paper_bgcolor": "white",
          "plot_bgcolor": "white",
          "polar": {
           "angularaxis": {
            "gridcolor": "#EBF0F8",
            "linecolor": "#EBF0F8",
            "ticks": ""
           },
           "bgcolor": "white",
           "radialaxis": {
            "gridcolor": "#EBF0F8",
            "linecolor": "#EBF0F8",
            "ticks": ""
           }
          },
          "scene": {
           "xaxis": {
            "backgroundcolor": "white",
            "gridcolor": "#DFE8F3",
            "gridwidth": 2,
            "linecolor": "#EBF0F8",
            "showbackground": true,
            "ticks": "",
            "zerolinecolor": "#EBF0F8"
           },
           "yaxis": {
            "backgroundcolor": "white",
            "gridcolor": "#DFE8F3",
            "gridwidth": 2,
            "linecolor": "#EBF0F8",
            "showbackground": true,
            "ticks": "",
            "zerolinecolor": "#EBF0F8"
           },
           "zaxis": {
            "backgroundcolor": "white",
            "gridcolor": "#DFE8F3",
            "gridwidth": 2,
            "linecolor": "#EBF0F8",
            "showbackground": true,
            "ticks": "",
            "zerolinecolor": "#EBF0F8"
           }
          },
          "shapedefaults": {
           "line": {
            "color": "#2a3f5f"
           }
          },
          "ternary": {
           "aaxis": {
            "gridcolor": "#DFE8F3",
            "linecolor": "#A2B1C6",
            "ticks": ""
           },
           "baxis": {
            "gridcolor": "#DFE8F3",
            "linecolor": "#A2B1C6",
            "ticks": ""
           },
           "bgcolor": "white",
           "caxis": {
            "gridcolor": "#DFE8F3",
            "linecolor": "#A2B1C6",
            "ticks": ""
           }
          },
          "title": {
           "x": 0.05
          },
          "xaxis": {
           "automargin": true,
           "gridcolor": "#EBF0F8",
           "linecolor": "#EBF0F8",
           "ticks": "",
           "title": {
            "standoff": 15
           },
           "zerolinecolor": "#EBF0F8",
           "zerolinewidth": 2
          },
          "yaxis": {
           "automargin": true,
           "gridcolor": "#EBF0F8",
           "linecolor": "#EBF0F8",
           "ticks": "",
           "title": {
            "standoff": 15
           },
           "zerolinecolor": "#EBF0F8",
           "zerolinewidth": 2
          }
         }
        },
        "title": {
         "text": "SPY 1-min 2025-03-11"
        },
        "xaxis": {
         "rangeslider": {
          "visible": false
         },
         "title": {
          "text": "Time"
         }
        },
        "yaxis": {
         "title": {
          "text": "Price"
         }
        },
        "yaxis2": {
         "overlaying": "y",
         "range": [
          0,
          16734200
         ],
         "showgrid": false,
         "side": "right"
        }
       }
      }
     },
     "metadata": {},
     "output_type": "display_data"
    }
   ],
   "source": [
    "# Plot candlestick + volume\n",
    "if not df.empty:\n",
    "    fig = go.Figure(data=[go.Candlestick(x=df['ts'], open=df.get('open'), high=df.get('high'), low=df.get('low'), close=df.get('close'), name='SPY')])\n",
    "    if 'volume' in df.columns:\n",
    "        fig.add_trace(go.Bar(x=df['ts'], y=df['volume'], name='Volume', yaxis='y2', marker_color='lightgray', opacity=0.4))\n",
    "        fig.update_layout(yaxis2=dict(overlaying='y', side='right', showgrid=False, range=[0, float(df['volume'].max())*4]))\n",
    "    fig.update_layout(title=f'SPY 1-min {dt}', xaxis_title='Time', yaxis_title='Price', xaxis_rangeslider_visible=False, template='plotly_white', height=600)\n",
    "    fig.show()\n",
    "else:\n",
    "    print('No data to plot; try another dt or check MinIO path.')"
   ]
  },
  {
   "cell_type": "markdown",
   "id": "9ccc0981",
   "metadata": {},
   "source": [
    "## Tips\n",
    "- MinIO console: http://localhost:9101\n",
    "- Ensure `.env` has: `MINIO_BUCKET`, `S3_ENDPOINT_URL=127.0.0.1:9100`, and credentials.\n",
    "- Weekends/holidays may return empty days; pick a trading day."
   ]
  },
  {
   "cell_type": "markdown",
   "id": "c1d81e5c",
   "metadata": {},
   "source": [
    "## Interactive TA dashboard (EMAs, Bollinger, RSI, MACD)\n",
    "\n",
    "Pick a trading day and render a multi-panel chart using data loaded directly from MinIO via DuckDB."
   ]
  },
  {
   "cell_type": "code",
   "execution_count": 6,
   "id": "7ba877b4",
   "metadata": {},
   "outputs": [
    {
     "name": "stdout",
     "output_type": "stream",
     "text": [
      "[setup] plotly renderer=plotly_mimetype\n"
     ]
    },
    {
     "data": {
      "application/vnd.jupyter.widget-view+json": {
       "model_id": "fb47dc4eafa3429caf7e10e5e3997f53",
       "version_major": 2,
       "version_minor": 0
      },
      "text/plain": [
       "VBox(children=(Text(value='2025-03-11', description='Date (YYYY-MM-DD):'), HBox(children=(IntSlider(value=9, d…"
      ]
     },
     "metadata": {},
     "output_type": "display_data"
    }
   ],
   "source": [
    "import numpy as np\n",
    "import ipywidgets as W\n",
    "from IPython.display import display\n",
    "import traceback\n",
    "import plotly.io as pio\n",
    "\n",
    "# TA helpers\n",
    "\n",
    "def ema(s, span):\n",
    "    return s.ewm(span=span, adjust=False).mean()\n",
    "\n",
    "def bollinger(s, n=20, k=2.0):\n",
    "    m = s.rolling(n).mean()\n",
    "    sd = s.rolling(n).std(ddof=0)\n",
    "    return m, m + k*sd, m - k*sd\n",
    "\n",
    "def rsi(s, n=14):\n",
    "    d = s.diff()\n",
    "    up = d.clip(lower=0)\n",
    "    dn = -d.clip(upper=0)\n",
    "    roll_up = up.ewm(alpha=1/n, adjust=False).mean()\n",
    "    roll_dn = dn.ewm(alpha=1/n, adjust=False).mean()\n",
    "    rs = np.where(roll_dn==0, np.nan, roll_up/roll_dn)\n",
    "    rsi = 100 - (100/(1+rs))\n",
    "    return pd.Series(rsi, index=s.index)\n",
    "\n",
    "# Fibonacci helpers\n",
    "FIB_RATIOS = [0.0, 0.236, 0.382, 0.5, 0.618, 0.786, 1.0]\n",
    "FIB_NAMES = ['0%', '23.6%', '38.2%', '50%', '61.8%', '78.6%', '100%']\n",
    "\n",
    "\n",
    "def compute_fib_levels(df, direction='auto'):\n",
    "    if 'high' not in df.columns or 'low' not in df.columns:\n",
    "        return None\n",
    "    # Determine swing using day low/high; decide direction based on which came first\n",
    "    idx_low = df['low'].idxmin()\n",
    "    idx_high = df['high'].idxmax()\n",
    "    lo = float(df.loc[idx_low, 'low'])\n",
    "    hi = float(df.loc[idx_high, 'high'])\n",
    "    ts_lo = df.loc[idx_low, 'ts'] if 'ts' in df.columns else None\n",
    "    ts_hi = df.loc[idx_high, 'ts'] if 'ts' in df.columns else None\n",
    "\n",
    "    if direction == 'auto':\n",
    "        direction = 'up' if idx_low < idx_high else 'down'\n",
    "\n",
    "    levels = []\n",
    "    if direction == 'up':\n",
    "        # Move: low -> high; retracements from high downward\n",
    "        for r, name in zip(FIB_RATIOS, FIB_NAMES):\n",
    "            lvl = lo + (hi - lo) * r\n",
    "            levels.append((name, lvl))\n",
    "    else:\n",
    "        # Move: high -> low; retracements from low upward\n",
    "        for r, name in zip(FIB_RATIOS, FIB_NAMES):\n",
    "            lvl = hi - (hi - lo) * r\n",
    "            levels.append((name, lvl))\n",
    "    return {\n",
    "        'direction': direction,\n",
    "        'low': lo,\n",
    "        'high': hi,\n",
    "        'ts_low': ts_lo,\n",
    "        'ts_high': ts_hi,\n",
    "        'levels': levels,\n",
    "    }\n",
    "\n",
    "print(f\"[setup] plotly renderer={pio.renderers.default}\")\n",
    "\n",
    "# UI widgets\n",
    "_dt = W.Text(value=os.getenv('SAMPLE_DT', '2025-03-11'), description='Date (YYYY-MM-DD):')\n",
    "_ema_fast = W.IntSlider(value=9, min=3, max=50, step=1, description='EMA fast')\n",
    "_ema_slow = W.IntSlider(value=21, min=5, max=100, step=1, description='EMA slow')\n",
    "_bb_n = W.IntSlider(value=20, min=10, max=50, step=1, description='BB n')\n",
    "_bb_k = W.FloatSlider(value=2.0, min=1.0, max=3.0, step=0.1, description='BB k')\n",
    "_fib_on = W.Checkbox(value=True, description='Show Fibonacci')\n",
    "_fib_dir = W.Dropdown(options=['auto', 'up', 'down'], value='auto', description='Fib dir')\n",
    "\n",
    "_out = W.Output()\n",
    "\n",
    "\n",
    "def render(*_):\n",
    "    with _out:\n",
    "        _out.clear_output(wait=True)\n",
    "        try:\n",
    "            print(f\"[render] dt={_dt.value}\")\n",
    "            df = load_day(_dt.value)\n",
    "            print(f\"[render] loaded rows={len(df)} cols={list(df.columns)}\")\n",
    "            if df.empty:\n",
    "                print('No data for', _dt.value)\n",
    "                return\n",
    "            # Indicators\n",
    "            if 'close' in df.columns:\n",
    "                df['ema_fast'] = ema(df['close'], _ema_fast.value)\n",
    "                df['ema_slow'] = ema(df['close'], _ema_slow.value)\n",
    "                m, up, dn = bollinger(df['close'], _bb_n.value, _bb_k.value)\n",
    "                df['bb_mid'] = m\n",
    "                df['bb_up'] = up\n",
    "                df['bb_dn'] = dn\n",
    "                r = rsi(df['close'], 14)\n",
    "                print(\n",
    "                    f\"[render] indicators ok: ema_fast={_ema_fast.value}, ema_slow={_ema_slow.value}, bb_n={_bb_n.value}, bb_k={_bb_k.value}\"\n",
    "                )\n",
    "                print(f\"[render] ts range: {df['ts'].min()} -> {df['ts'].max()}\")\n",
    "            else:\n",
    "                print('Missing close column; columns=', list(df.columns))\n",
    "                return\n",
    "            # Price pane\n",
    "            fig = go.Figure()\n",
    "            fig.add_trace(\n",
    "                go.Candlestick(\n",
    "                    x=df['ts'],\n",
    "                    open=df.get('open'),\n",
    "                    high=df.get('high'),\n",
    "                    low=df.get('low'),\n",
    "                    close=df.get('close'),\n",
    "                    name='Price',\n",
    "                )\n",
    "            )\n",
    "            fig.add_trace(\n",
    "                go.Scatter(x=df['ts'], y=df['ema_fast'], name=f'EMA{_ema_fast.value}', line=dict(width=1))\n",
    "            )\n",
    "            fig.add_trace(\n",
    "                go.Scatter(x=df['ts'], y=df['ema_slow'], name=f'EMA{_ema_slow.value}', line=dict(width=1))\n",
    "            )\n",
    "            fig.add_trace(\n",
    "                go.Scatter(x=df['ts'], y=df['bb_up'], name='BB up', line=dict(width=1, color='gray'))\n",
    "            )\n",
    "            fig.add_trace(\n",
    "                go.Scatter(x=df['ts'], y=df['bb_mid'], name='BB mid', line=dict(width=1, color='lightgray'))\n",
    "            )\n",
    "            fig.add_trace(\n",
    "                go.Scatter(x=df['ts'], y=df['bb_dn'], name='BB dn', line=dict(width=1, color='gray'))\n",
    "            )\n",
    "\n",
    "            # Fibonacci overlay\n",
    "            if _fib_on.value:\n",
    "                fib = compute_fib_levels(df, direction=_fib_dir.value)\n",
    "                if fib is None:\n",
    "                    print('[fib] cannot compute (need high/low columns)')\n",
    "                else:\n",
    "                    print(\n",
    "                        f\"[fib] dir={fib['direction']} low={fib['low']:.2f} at {fib['ts_low']} high={fib['high']:.2f} at {fib['ts_high']}\"\n",
    "                    )\n",
    "                    colors = ['#2ca02c', '#1f77b4', '#9467bd', '#ff7f0e', '#d62728', '#8c564b', '#7f7f7f']\n",
    "                    for (name, lvl), color in zip(fib['levels'], colors):\n",
    "                        fig.add_hline(\n",
    "                            y=lvl,\n",
    "                            line_dash='dot',\n",
    "                            line_color=color,\n",
    "                            annotation_text=f\"Fib {name} {lvl:.2f}\",\n",
    "                            annotation_position='right',\n",
    "                            opacity=0.6,\n",
    "                        )\n",
    "\n",
    "            # Volume on secondary axis\n",
    "            if 'volume' in df.columns:\n",
    "                fig.add_trace(\n",
    "                    go.Bar(\n",
    "                        x=df['ts'],\n",
    "                        y=df['volume'],\n",
    "                        name='Volume',\n",
    "                        yaxis='y2',\n",
    "                        marker_color='lightgray',\n",
    "                        opacity=0.4,\n",
    "                    )\n",
    "                )\n",
    "                fig.update_layout(\n",
    "                    yaxis2=dict(\n",
    "                        overlaying='y', side='right', showgrid=False, range=[0, float(df['volume'].max()) * 4]\n",
    "                    )\n",
    "                )\n",
    "            fig.update_layout(\n",
    "                title=f'SPY {_dt.value}',\n",
    "                xaxis_title='Time',\n",
    "                yaxis_title='Price',\n",
    "                xaxis_rangeslider_visible=False,\n",
    "                template='plotly_white',\n",
    "                height=700,\n",
    "            )\n",
    "            display(fig)\n",
    "\n",
    "            # RSI pane\n",
    "            fig2 = go.Figure()\n",
    "            fig2.add_trace(go.Scatter(x=df['ts'], y=r, name='RSI'))\n",
    "            fig2.add_hline(y=70, line_dash='dot', line_color='red')\n",
    "            fig2.add_hline(y=30, line_dash='dot', line_color='green')\n",
    "            fig2.update_layout(height=200, template='plotly_white', title='RSI (14)')\n",
    "            display(fig2)\n",
    "        except Exception as e:\n",
    "            print('[render] error:', repr(e))\n",
    "            traceback.print_exc()\n",
    "\n",
    "for w in (_dt, _ema_fast, _ema_slow, _bb_n, _bb_k, _fib_on, _fib_dir):\n",
    "    w.observe(render, names='value')\n",
    "\n",
    "# Explicitly display the widget container\n",
    "_box = W.VBox([\n",
    "    _dt,\n",
    "    W.HBox([_ema_fast, _ema_slow, _bb_n, _bb_k]),\n",
    "    W.HBox([_fib_on, _fib_dir]),\n",
    "    _out,\n",
    "])\n",
    "display(_box)\n",
    "\n",
    "# Initial render\n",
    "render()\n"
   ]
  },
  {
   "cell_type": "markdown",
   "id": "882ba8a4",
   "metadata": {},
   "source": [
    "## Signals: Fibonacci Pullback Strategy\n",
    "\n",
    "This section derives simple buy/sell signals from the Fibonacci retracement overlays and plots them on a dedicated chart. Rules (per side):\n",
    "\n",
    "- Direction: use intraday swing (auto) to decide up/down.\n",
    "- Entry: price touches the 50–61.8% zone; trend filter (EMA9 vs EMA21); momentum check (RSI).\n",
    "- Stop: beyond 78.6% or swing extreme with an ATR buffer.\n",
    "- Targets: 1R partial; then swing extreme or 127.2%/161.8% extension.\n",
    "\n",
    "A compact table prints key levels per signal."
   ]
  },
  {
   "cell_type": "code",
   "execution_count": 7,
   "id": "a1fd194e",
   "metadata": {},
   "outputs": [
    {
     "name": "stdout",
     "output_type": "stream",
     "text": [
      "[signals] dt=2025-03-11 rows=390\n"
     ]
    },
    {
     "data": {
      "application/vnd.plotly.v1+json": {
       "config": {
        "plotlyServerURL": "https://plot.ly"
       },
       "data": [
        {
         "close": {
          "bdata": "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",
          "dtype": "f8"
         },
         "high": {
          "bdata": "UrgehetpgUAK16NwPWiBQEjhehSuZYFAAAAAAABkgUCkcD0K12OBQFyPwvUoYoFACtejcD1kgUAfhetRuGCBQAu1pnlHWYFAcT0K16NYgUB7FK5H4VqBQPYoXI/CVYFAmpmZmZlTgUCPwvUoXFuBQFOWIY71XoFAzczMzMxggUDNzMzMzGCBQArXo3A9XoFAexSuR+FcgUApXI/C9ViBQOxRuB6FW4FAMzMzMzNdgUA9CtejcGOBQJqZmZmZZYFAuB6F61FogUAK16NwPWiBQBSuR+F6YoFAMzMzMzNhgUC1FfvLbl6BQFyPwvUoWoFAUrgehetVgUAfhetRuF6BQOxRuB6FW4FAKVyPwvVagUCmm8QgsFiBQHsUrkfhXoFApHA9CtdigUBxPQrXo2yBQFyPwvUobIFA7FG4HoVxgUCPwvUoXHKBQGZmZmZmboFAexSuR+F2gUAAAAAAAHSBQKRwPQrXcYFAhetRuB51gUCuR+F6FHSBQOF6FK5HdYFAXI/C9Sh2gUB7FK5H4XOBQMP1KFyPdIFASOF6FK51gUCF61G4HnWBQFyPwvUocoFA9ihcj8JrgUD2KFyPwm+BQAAAAAAAdIFAPQrXo3BzgUDhehSuR2+BQOF6FK5Hb4FAzczMzMxsgUDNzMzMzHKBQEjhehSudYFAUrgehet1gUBcj8L1KHSBQBSuR+F6dIFAmpmZmZlzgUBmZmZmZnKBQI/C9Shcb4FAZmZmZmZ0gUBcj8L1KH6BQOF6FK5HfYFAexSuR+F+gUCkcD0K13+BQEjhehSuf4FAH4XrUbh8gUAAAAAAAHiBQDMzMzMzd4FAMzMzMzN7gUBxPQrXo3qBQHzysFDre4FAMzMzMzN7gUAAAAAAAHyBQFK4HoXrd4FAZmZmZmZ6gUCkcD0K13mBQB+F61G4eIFAexSuR+F0gUApXI/C9XKBQHsUrkfhbIFAM8SxLm5pgUAK16NwPWqBQDMzMzMzbYFAexSuR+FsgUCkcD0K12mBQPYoXI/CZ4FAMzMzMzNpgUAK16NwPWSBQNejcD0KZYFAmpmZmZljgUDhehSuR2GBQK5H4XoUXoFASOF6FK5fgUDXo3A9Cl2BQArXo3A9WoFAmpmZmZlbgUApXI/C9VyBQKRwPQrXXYFArkfhehRcgUDXo3A9Cl2BQOF6FK5HXYFAAAAAAABggUCPwvUoXGOBQHsUrkfhYoFAZmZmZmZggUCF61G4HmGBQHE9CtejZIFAw/UoXI9igUA9CtejcGOBQClcj8L1YIFAH4XrUbhigUBcj8L1KGKBQHsUrkfhZIFAPQrXo3BlgUDsUbgehWWBQDMzMzMzZ4FAPQrXo3BngUAzMzMzM2OBQDMzMzMzX4FAcT0K16NegUBSuB6F612BQOF6FK5HW4FASOF6FK5fgUApXI/C9WSBQPYoXI/CXYFAzczMzMxegUBxPQrXo1yBQM3MzMzMXIFAexSuR+FcgUCF61G4Hl+BQOxRuB6FXYFAw/UoXI9egUBmZmZmZl6BQHE9CtejWoFAH4XrUbhUgUCuR+F6FFiBQM3MzMzMVoFAAAAAAABTgUD2KFyPwlGBQJqZmZmZU4FApHA9CtdSgUCPwvUo3FCBQHE9CtejToFASOF6FK5PgUDhehSuR0+BQEjhehSuT4FAhetRuB5PgUDhehSuR02BQPYoXI/CTYFAcT0K16NOgUBcj8L1KFCBQI/C9ShcT4FACtejcD1MgUCkcD0K102BQEjhehSuTYFArkfhehROgUB7FK5H4U6BQFyPwvUoUoFArkfhehRSgUBcj8L1KFCBQClcj8L1ToFAmpmZmZlPgUDsL7snj0iBQM4ZUdobRoFAsVBrmvdGgUBcj8L1KEiBQHE9CtejRIFAhetRuB5DgUDXo3A9CkOBQAAAAAAARIFAw/UoXI9KgUCF61G4HkeBQPYoXI/CRYFAcT0K16NGgUDNzMzMzEiBQB+F61G4RoFAUrgehetFgUCamZmZmUOBQOxRuB6FRYFAMzMzMzNJgUCF61G4HkmBQD0K16NwTYFAXI/C9ShOgUBI4XoUrkuBQHsUrkfhToFAZmZmZmZSgUApXI/C9VaBQM3MzMzMWoFAhetRuB5bgUApXI/C9VqBQMP1KFyPWoFA0ZFc/kNagUB7FK5H4ViBQIXrUbgeVYFAFK5H4XpWgUB7FK5H4VaBQI/C9ShcU4FA9ihcj8JPgUB7FK5H4VSBQGZmZmZmUoFAZmZmZmZYgUAzMzMzM2OBQKRwPQrXY4FAXI/C9ShogUAK16NwPWaBQF1txf4yZYFAw/UoXI9kgUAfhetRuGaBQMP1KFyPaoFAcT0K16NogUDXo3A9Cm2BQFK4HoXrbYFA9ihcj8JtgUAzMzMzM22BQClcj8L1boFAFK5H4XpugUB7FK5H4WyBQClcj8L1bIFAcT0K16NsgUDNzMzMzG6BQFyPwvUocoFAaLPqc7V0gUB7FK5H4XiBQMP1KFyPeoFAUrgehet3gUApXI/C9XSBQFK4HoXrd4FAFK5H4Xp0gUBxPQrXo3SBQFK4HoXrc4FAXI/C9Sh0gUB7FK5H4XSBQLgehetRdIFAuB6F61F0gUDXo3A9CnOBQLgehetRboFAj8L1KFxvgUCkcD0K13GBQB+F61G4coFAH4XrUbh2gUCkcD0K13eBQHsUrkfhfIFA16NwPQp/gUBSuB6F64WBQPYoXI/Ch4FAexSuR+GIgUDD9Shcj4uBQJqZmZmZiYFAPzVeukmIgUCuR+F6FIqBQDMzMzMzjYFAKVyPwvWOgUDXo3A9CpGBQK5H4XqUkoFAKVyPwvWWgUApXI/C9ZKBQB+F61G4kIFA7FG4HoWPgUCPwvUoXI+BQIXrUbgej4FAzczMzMyOgUAK16NwPYyBQIXrUbgeiYFA4XoUrkeDgUAzMzMzM4eBQNejcD0KjYFAuB6F61GMgUBcj8L1KKCBQM3MzMzMlIFAexSuR+GQgUDXo3A9Co+BQIXrUbgejYFAV1uxv+yLgUAzMzMzM4mBQHE9CtejiIFAFK5H4XqCgUBIv30dOH+BQLgehetRgIFAFK5H4XqAgUBmZmZmZn6BQMP1KFyPhIFAH4XrUbiFgUCPwvUoXIeBQDMzMzMzhYFAzczMzMx+gUCF61G4HnuBQClcj8L1foFAmpmZmZmBgUDsUbgehYGBQPYoXI/CgYFAw/UoXI9+gUDXo3A9Cn+BQHE9CtejgIFAH4XrUbiAgUAK16NwPYCBQMP1KFyPgoFAuB6F61GCgUCkcD0K14GBQI/C9Shcf4FA4XoUrkd9gUAhH/RsVnmBQOF6FK5Hd4FAhetRuB57gUCkcD0K13mBQDMzMzMzfYFAAAAAAAB+gUAfhetRuHqBQI/C9Shce4FAMzMzMzN9gUAAAAAAAICBQIXrUbgef4FA16NwPQp1gUDhehSuR3GBQB+F61G4cIFA16NwPQpzgUDXo3A9CnGBQAAAAAAAaoFA16NwPQprgUBSJ6CJMGmBQHE9CtejZoFAexSuR+FmgUDXo3A9CmeBQGZmZmZmaIFAFK5H4XpogUAfhetRuGiBQFyPwvUoaIFAhetRuB5ngUDD9Shcj2aBQClcj8L1aIFAZmZmZmZqgUD2KFyPwmmBQFyPwvUoaoFAuB6F61FqgUApXI/C9WqBQJqZmZmZa4FAmpmZmZlpgUBrK/aX3WaBQClcj8L1ZoFAmpmZmZlngUCPwvUoXGeBQDMzMzMzZYFAZmZmZmZkgUBI4XoUrmWBQLgehetRZIFArkfhehRkgUBmZmZmZmSBQPYoXI/CY4FASOF6FK5jgUBSuB6F62OBQFK4HoXrY4FA4XoUrkdjgUA9m1Wfq2OBQFK4HoXrY4FA9ihcj8JjgUA9CtejcGOBQOF6FK5HY4FA4XoUrkdjgUCF61G4HmGBQOxRuB6FYYFAhetRuB5hgUAAAAAAAGCBQLgehetRYoFA9ihcj8JjgUCamZmZmWOBQDMzMzMzY4FAFK5H4XpkgUCkcD0K12OBQK5H4XoUZIFAzczMzMxkgUDNzMzMzGSBQDMzMzMzY4FAZmZmZmZigUAzMzMzM2GBQKRwPQrXX4FA4XoUrkdfgUAAAAAAAGCBQArXo3A9YIFAXynLEEdhgUD2KFyPwmGBQFyPwvUoYoFA",
          "dtype": "f8"
         },
         "low": {
          "bdata": "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",
          "dtype": "f8"
         },
         "name": "Price",
         "open": {
          "bdata": "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",
          "dtype": "f8"
         },
         "type": "candlestick",
         "x": [
          "2025-03-11T14:30:00",
          "2025-03-11T14:31:00",
          "2025-03-11T14:32:00",
          "2025-03-11T14:33:00",
          "2025-03-11T14:34:00",
          "2025-03-11T14:35:00",
          "2025-03-11T14:36:00",
          "2025-03-11T14:37:00",
          "2025-03-11T14:38:00",
          "2025-03-11T14:39:00",
          "2025-03-11T14:40:00",
          "2025-03-11T14:41:00",
          "2025-03-11T14:42:00",
          "2025-03-11T14:43:00",
          "2025-03-11T14:44:00",
          "2025-03-11T14:45:00",
          "2025-03-11T14:46:00",
          "2025-03-11T14:47:00",
          "2025-03-11T14:48:00",
          "2025-03-11T14:49:00",
          "2025-03-11T14:50:00",
          "2025-03-11T14:51:00",
          "2025-03-11T14:52:00",
          "2025-03-11T14:53:00",
          "2025-03-11T14:54:00",
          "2025-03-11T14:55:00",
          "2025-03-11T14:56:00",
          "2025-03-11T14:57:00",
          "2025-03-11T14:58:00",
          "2025-03-11T14:59:00",
          "2025-03-11T15:00:00",
          "2025-03-11T15:01:00",
          "2025-03-11T15:02:00",
          "2025-03-11T15:03:00",
          "2025-03-11T15:04:00",
          "2025-03-11T15:05:00",
          "2025-03-11T15:06:00",
          "2025-03-11T15:07:00",
          "2025-03-11T15:08:00",
          "2025-03-11T15:09:00",
          "2025-03-11T15:10:00",
          "2025-03-11T15:11:00",
          "2025-03-11T15:12:00",
          "2025-03-11T15:13:00",
          "2025-03-11T15:14:00",
          "2025-03-11T15:15:00",
          "2025-03-11T15:16:00",
          "2025-03-11T15:17:00",
          "2025-03-11T15:18:00",
          "2025-03-11T15:19:00",
          "2025-03-11T15:20:00",
          "2025-03-11T15:21:00",
          "2025-03-11T15:22:00",
          "2025-03-11T15:23:00",
          "2025-03-11T15:24:00",
          "2025-03-11T15:25:00",
          "2025-03-11T15:26:00",
          "2025-03-11T15:27:00",
          "2025-03-11T15:28:00",
          "2025-03-11T15:29:00",
          "2025-03-11T15:30:00",
          "2025-03-11T15:31:00",
          "2025-03-11T15:32:00",
          "2025-03-11T15:33:00",
          "2025-03-11T15:34:00",
          "2025-03-11T15:35:00",
          "2025-03-11T15:36:00",
          "2025-03-11T15:37:00",
          "2025-03-11T15:38:00",
          "2025-03-11T15:39:00",
          "2025-03-11T15:40:00",
          "2025-03-11T15:41:00",
          "2025-03-11T15:42:00",
          "2025-03-11T15:43:00",
          "2025-03-11T15:44:00",
          "2025-03-11T15:45:00",
          "2025-03-11T15:46:00",
          "2025-03-11T15:47:00",
          "2025-03-11T15:48:00",
          "2025-03-11T15:49:00",
          "2025-03-11T15:50:00",
          "2025-03-11T15:51:00",
          "2025-03-11T15:52:00",
          "2025-03-11T15:53:00",
          "2025-03-11T15:54:00",
          "2025-03-11T15:55:00",
          "2025-03-11T15:56:00",
          "2025-03-11T15:57:00",
          "2025-03-11T15:58:00",
          "2025-03-11T15:59:00",
          "2025-03-11T16:00:00",
          "2025-03-11T16:01:00",
          "2025-03-11T16:02:00",
          "2025-03-11T16:03:00",
          "2025-03-11T16:04:00",
          "2025-03-11T16:05:00",
          "2025-03-11T16:06:00",
          "2025-03-11T16:07:00",
          "2025-03-11T16:08:00",
          "2025-03-11T16:09:00",
          "2025-03-11T16:10:00",
          "2025-03-11T16:11:00",
          "2025-03-11T16:12:00",
          "2025-03-11T16:13:00",
          "2025-03-11T16:14:00",
          "2025-03-11T16:15:00",
          "2025-03-11T16:16:00",
          "2025-03-11T16:17:00",
          "2025-03-11T16:18:00",
          "2025-03-11T16:19:00",
          "2025-03-11T16:20:00",
          "2025-03-11T16:21:00",
          "2025-03-11T16:22:00",
          "2025-03-11T16:23:00",
          "2025-03-11T16:24:00",
          "2025-03-11T16:25:00",
          "2025-03-11T16:26:00",
          "2025-03-11T16:27:00",
          "2025-03-11T16:28:00",
          "2025-03-11T16:29:00",
          "2025-03-11T16:30:00",
          "2025-03-11T16:31:00",
          "2025-03-11T16:32:00",
          "2025-03-11T16:33:00",
          "2025-03-11T16:34:00",
          "2025-03-11T16:35:00",
          "2025-03-11T16:36:00",
          "2025-03-11T16:37:00",
          "2025-03-11T16:38:00",
          "2025-03-11T16:39:00",
          "2025-03-11T16:40:00",
          "2025-03-11T16:41:00",
          "2025-03-11T16:42:00",
          "2025-03-11T16:43:00",
          "2025-03-11T16:44:00",
          "2025-03-11T16:45:00",
          "2025-03-11T16:46:00",
          "2025-03-11T16:47:00",
          "2025-03-11T16:48:00",
          "2025-03-11T16:49:00",
          "2025-03-11T16:50:00",
          "2025-03-11T16:51:00",
          "2025-03-11T16:52:00",
          "2025-03-11T16:53:00",
          "2025-03-11T16:54:00",
          "2025-03-11T16:55:00",
          "2025-03-11T16:56:00",
          "2025-03-11T16:57:00",
          "2025-03-11T16:58:00",
          "2025-03-11T16:59:00",
          "2025-03-11T17:00:00",
          "2025-03-11T17:01:00",
          "2025-03-11T17:02:00",
          "2025-03-11T17:03:00",
          "2025-03-11T17:04:00",
          "2025-03-11T17:05:00",
          "2025-03-11T17:06:00",
          "2025-03-11T17:07:00",
          "2025-03-11T17:08:00",
          "2025-03-11T17:09:00",
          "2025-03-11T17:10:00",
          "2025-03-11T17:11:00",
          "2025-03-11T17:12:00",
          "2025-03-11T17:13:00",
          "2025-03-11T17:14:00",
          "2025-03-11T17:15:00",
          "2025-03-11T17:16:00",
          "2025-03-11T17:17:00",
          "2025-03-11T17:18:00",
          "2025-03-11T17:19:00",
          "2025-03-11T17:20:00",
          "2025-03-11T17:21:00",
          "2025-03-11T17:22:00",
          "2025-03-11T17:23:00",
          "2025-03-11T17:24:00",
          "2025-03-11T17:25:00",
          "2025-03-11T17:26:00",
          "2025-03-11T17:27:00",
          "2025-03-11T17:28:00",
          "2025-03-11T17:29:00",
          "2025-03-11T17:30:00",
          "2025-03-11T17:31:00",
          "2025-03-11T17:32:00",
          "2025-03-11T17:33:00",
          "2025-03-11T17:34:00",
          "2025-03-11T17:35:00",
          "2025-03-11T17:36:00",
          "2025-03-11T17:37:00",
          "2025-03-11T17:38:00",
          "2025-03-11T17:39:00",
          "2025-03-11T17:40:00",
          "2025-03-11T17:41:00",
          "2025-03-11T17:42:00",
          "2025-03-11T17:43:00",
          "2025-03-11T17:44:00",
          "2025-03-11T17:45:00",
          "2025-03-11T17:46:00",
          "2025-03-11T17:47:00",
          "2025-03-11T17:48:00",
          "2025-03-11T17:49:00",
          "2025-03-11T17:50:00",
          "2025-03-11T17:51:00",
          "2025-03-11T17:52:00",
          "2025-03-11T17:53:00",
          "2025-03-11T17:54:00",
          "2025-03-11T17:55:00",
          "2025-03-11T17:56:00",
          "2025-03-11T17:57:00",
          "2025-03-11T17:58:00",
          "2025-03-11T17:59:00",
          "2025-03-11T18:00:00",
          "2025-03-11T18:01:00",
          "2025-03-11T18:02:00",
          "2025-03-11T18:03:00",
          "2025-03-11T18:04:00",
          "2025-03-11T18:05:00",
          "2025-03-11T18:06:00",
          "2025-03-11T18:07:00",
          "2025-03-11T18:08:00",
          "2025-03-11T18:09:00",
          "2025-03-11T18:10:00",
          "2025-03-11T18:11:00",
          "2025-03-11T18:12:00",
          "2025-03-11T18:13:00",
          "2025-03-11T18:14:00",
          "2025-03-11T18:15:00",
          "2025-03-11T18:16:00",
          "2025-03-11T18:17:00",
          "2025-03-11T18:18:00",
          "2025-03-11T18:19:00",
          "2025-03-11T18:20:00",
          "2025-03-11T18:21:00",
          "2025-03-11T18:22:00",
          "2025-03-11T18:23:00",
          "2025-03-11T18:24:00",
          "2025-03-11T18:25:00",
          "2025-03-11T18:26:00",
          "2025-03-11T18:27:00",
          "2025-03-11T18:28:00",
          "2025-03-11T18:29:00",
          "2025-03-11T18:30:00",
          "2025-03-11T18:31:00",
          "2025-03-11T18:32:00",
          "2025-03-11T18:33:00",
          "2025-03-11T18:34:00",
          "2025-03-11T18:35:00",
          "2025-03-11T18:36:00",
          "2025-03-11T18:37:00",
          "2025-03-11T18:38:00",
          "2025-03-11T18:39:00",
          "2025-03-11T18:40:00",
          "2025-03-11T18:41:00",
          "2025-03-11T18:42:00",
          "2025-03-11T18:43:00",
          "2025-03-11T18:44:00",
          "2025-03-11T18:45:00",
          "2025-03-11T18:46:00",
          "2025-03-11T18:47:00",
          "2025-03-11T18:48:00",
          "2025-03-11T18:49:00",
          "2025-03-11T18:50:00",
          "2025-03-11T18:51:00",
          "2025-03-11T18:52:00",
          "2025-03-11T18:53:00",
          "2025-03-11T18:54:00",
          "2025-03-11T18:55:00",
          "2025-03-11T18:56:00",
          "2025-03-11T18:57:00",
          "2025-03-11T18:58:00",
          "2025-03-11T18:59:00",
          "2025-03-11T19:00:00",
          "2025-03-11T19:01:00",
          "2025-03-11T19:02:00",
          "2025-03-11T19:03:00",
          "2025-03-11T19:04:00",
          "2025-03-11T19:05:00",
          "2025-03-11T19:06:00",
          "2025-03-11T19:07:00",
          "2025-03-11T19:08:00",
          "2025-03-11T19:09:00",
          "2025-03-11T19:10:00",
          "2025-03-11T19:11:00",
          "2025-03-11T19:12:00",
          "2025-03-11T19:13:00",
          "2025-03-11T19:14:00",
          "2025-03-11T19:15:00",
          "2025-03-11T19:16:00",
          "2025-03-11T19:17:00",
          "2025-03-11T19:18:00",
          "2025-03-11T19:19:00",
          "2025-03-11T19:20:00",
          "2025-03-11T19:21:00",
          "2025-03-11T19:22:00",
          "2025-03-11T19:23:00",
          "2025-03-11T19:24:00",
          "2025-03-11T19:25:00",
          "2025-03-11T19:26:00",
          "2025-03-11T19:27:00",
          "2025-03-11T19:28:00",
          "2025-03-11T19:29:00",
          "2025-03-11T19:30:00",
          "2025-03-11T19:31:00",
          "2025-03-11T19:32:00",
          "2025-03-11T19:33:00",
          "2025-03-11T19:34:00",
          "2025-03-11T19:35:00",
          "2025-03-11T19:36:00",
          "2025-03-11T19:37:00",
          "2025-03-11T19:38:00",
          "2025-03-11T19:39:00",
          "2025-03-11T19:40:00",
          "2025-03-11T19:41:00",
          "2025-03-11T19:42:00",
          "2025-03-11T19:43:00",
          "2025-03-11T19:44:00",
          "2025-03-11T19:45:00",
          "2025-03-11T19:46:00",
          "2025-03-11T19:47:00",
          "2025-03-11T19:48:00",
          "2025-03-11T19:49:00",
          "2025-03-11T19:50:00",
          "2025-03-11T19:51:00",
          "2025-03-11T19:52:00",
          "2025-03-11T19:53:00",
          "2025-03-11T19:54:00",
          "2025-03-11T19:55:00",
          "2025-03-11T19:56:00",
          "2025-03-11T19:57:00",
          "2025-03-11T19:58:00",
          "2025-03-11T19:59:00",
          "2025-03-11T20:00:00",
          "2025-03-11T20:01:00",
          "2025-03-11T20:02:00",
          "2025-03-11T20:03:00",
          "2025-03-11T20:04:00",
          "2025-03-11T20:05:00",
          "2025-03-11T20:06:00",
          "2025-03-11T20:07:00",
          "2025-03-11T20:08:00",
          "2025-03-11T20:09:00",
          "2025-03-11T20:10:00",
          "2025-03-11T20:11:00",
          "2025-03-11T20:12:00",
          "2025-03-11T20:13:00",
          "2025-03-11T20:14:00",
          "2025-03-11T20:15:00",
          "2025-03-11T20:16:00",
          "2025-03-11T20:17:00",
          "2025-03-11T20:18:00",
          "2025-03-11T20:19:00",
          "2025-03-11T20:20:00",
          "2025-03-11T20:21:00",
          "2025-03-11T20:22:00",
          "2025-03-11T20:23:00",
          "2025-03-11T20:24:00",
          "2025-03-11T20:25:00",
          "2025-03-11T20:26:00",
          "2025-03-11T20:27:00",
          "2025-03-11T20:28:00",
          "2025-03-11T20:29:00",
          "2025-03-11T20:30:00",
          "2025-03-11T20:31:00",
          "2025-03-11T20:32:00",
          "2025-03-11T20:33:00",
          "2025-03-11T20:34:00",
          "2025-03-11T20:35:00",
          "2025-03-11T20:36:00",
          "2025-03-11T20:37:00",
          "2025-03-11T20:38:00",
          "2025-03-11T20:39:00",
          "2025-03-11T20:40:00",
          "2025-03-11T20:41:00",
          "2025-03-11T20:42:00",
          "2025-03-11T20:43:00",
          "2025-03-11T20:44:00",
          "2025-03-11T20:45:00",
          "2025-03-11T20:46:00",
          "2025-03-11T20:47:00",
          "2025-03-11T20:48:00",
          "2025-03-11T20:49:00",
          "2025-03-11T20:50:00",
          "2025-03-11T20:51:00",
          "2025-03-11T20:52:00",
          "2025-03-11T20:53:00",
          "2025-03-11T20:54:00",
          "2025-03-11T20:55:00",
          "2025-03-11T20:56:00",
          "2025-03-11T20:57:00",
          "2025-03-11T20:58:00",
          "2025-03-11T20:59:00"
         ]
        },
        {
         "marker": {
          "color": "green",
          "size": 8,
          "symbol": "triangle-up"
         },
         "mode": "markers",
         "name": "Long entry",
         "type": "scatter",
         "x": [
          "2025-03-11T15:09:00",
          "2025-03-11T15:10:00",
          "2025-03-11T15:12:00",
          "2025-03-11T15:13:00",
          "2025-03-11T15:14:00",
          "2025-03-11T15:15:00",
          "2025-03-11T15:16:00",
          "2025-03-11T15:17:00",
          "2025-03-11T15:18:00",
          "2025-03-11T15:19:00",
          "2025-03-11T15:20:00",
          "2025-03-11T15:21:00",
          "2025-03-11T15:22:00",
          "2025-03-11T15:23:00",
          "2025-03-11T15:26:00",
          "2025-03-11T15:27:00",
          "2025-03-11T15:31:00",
          "2025-03-11T15:32:00",
          "2025-03-11T15:33:00",
          "2025-03-11T15:34:00",
          "2025-03-11T15:35:00",
          "2025-03-11T15:36:00",
          "2025-03-11T15:37:00",
          "2025-03-11T15:39:00",
          "2025-03-11T15:40:00",
          "2025-03-11T15:41:00",
          "2025-03-11T15:44:00",
          "2025-03-11T15:45:00",
          "2025-03-11T15:46:00",
          "2025-03-11T15:47:00",
          "2025-03-11T15:48:00",
          "2025-03-11T15:49:00",
          "2025-03-11T15:50:00",
          "2025-03-11T15:51:00",
          "2025-03-11T15:52:00",
          "2025-03-11T15:53:00",
          "2025-03-11T15:54:00",
          "2025-03-11T15:55:00",
          "2025-03-11T15:56:00",
          "2025-03-11T15:57:00",
          "2025-03-11T18:20:00",
          "2025-03-11T18:21:00",
          "2025-03-11T18:22:00",
          "2025-03-11T18:23:00",
          "2025-03-11T18:24:00",
          "2025-03-11T18:25:00",
          "2025-03-11T18:26:00",
          "2025-03-11T18:27:00",
          "2025-03-11T18:28:00",
          "2025-03-11T18:29:00",
          "2025-03-11T18:30:00",
          "2025-03-11T18:31:00",
          "2025-03-11T18:32:00",
          "2025-03-11T18:33:00",
          "2025-03-11T18:34:00",
          "2025-03-11T18:37:00",
          "2025-03-11T18:38:00",
          "2025-03-11T18:39:00",
          "2025-03-11T18:40:00",
          "2025-03-11T18:41:00",
          "2025-03-11T18:42:00",
          "2025-03-11T18:43:00"
         ],
         "y": {
          "bdata": "CtejcD1wgUCamZmZmWuBQD0K16Nwc4FAMzMzMzNxgUAzMzMzM2+BQD0K16Nwc4FAzczMzMxwgUApXI/C9XSBQFyPwvUocoFAhetRuB5zgUCuR+F6FHKBQHsUrkfhcoFA4XoUrkdvgUBcj8L1KGqBQJXUCWiicoFAmpmZmZlrgUBmZmZmZnKBQD0K16NwdYFAcT0K16NygUCPwvUoXHGBQLgehetRcoFA7FG4HoVxgUDNzMzMzGyBQMe6uI2Gc4FAZmZmZmZ8gUBmZmZmZnyBQClcj8L1eoFAcT0K16N2gUA9CtejcHWBQI/C9ShcdYFAFK5H4Xp4gUBcj8L1KHqBQJZDi2zneIFARwN4C6R6gUB7FK5H4XSBQFK4HoXrd4FAFK5H4Xp4gUCPwvUoXHeBQHsUrkfhdIFAcT0K16NygUBcj8L1KHCBQFyPwvUodIFA4XoUrkd3gUB7gy9MpnaBQD0K16Nwc4FAH4XrUbh0gUCF61G4HnOBQJqZmZmZc4FAzczMzMxygUDsUbgehXOBQFuxv+yea4FAFK5H4XpugUD2KFyPwnOBQOCcEaU9coFAhetRuB5ugUBI4XoUrm+BQMP1KFyPcoFAUrgehet1gUDD9Shcj3eBQGZmZmZmfIFA7FG4HoV6gUB7FK5H4YSBQA==",
          "dtype": "f8"
         }
        }
       ],
       "layout": {
        "annotations": [
         {
          "showarrow": false,
          "text": "Fib 50%",
          "x": 1,
          "xanchor": "right",
          "xref": "x domain",
          "y": 558.02,
          "yanchor": "bottom",
          "yref": "y"
         },
         {
          "showarrow": false,
          "text": "Fib 61.8%",
          "x": 1,
          "xanchor": "right",
          "xref": "x domain",
          "y": 559.436,
          "yanchor": "bottom",
          "yref": "y"
         },
         {
          "showarrow": false,
          "text": "Fib 78.6%",
          "x": 1,
          "xanchor": "right",
          "xref": "x domain",
          "y": 561.452,
          "yanchor": "bottom",
          "yref": "y"
         },
         {
          "showarrow": false,
          "text": "127.2%",
          "x": 1,
          "xanchor": "right",
          "xref": "x domain",
          "y": 567.284,
          "yanchor": "bottom",
          "yref": "y"
         },
         {
          "showarrow": false,
          "text": "161.8%",
          "x": 1,
          "xanchor": "right",
          "xref": "x domain",
          "y": 571.436,
          "yanchor": "bottom",
          "yref": "y"
         }
        ],
        "height": 600,
        "shapes": [
         {
          "line": {
           "color": "#999",
           "dash": "dot"
          },
          "type": "line",
          "x0": 0,
          "x1": 1,
          "xref": "x domain",
          "y0": 558.02,
          "y1": 558.02,
          "yref": "y"
         },
         {
          "line": {
           "color": "#666",
           "dash": "dot"
          },
          "type": "line",
          "x0": 0,
          "x1": 1,
          "xref": "x domain",
          "y0": 559.436,
          "y1": 559.436,
          "yref": "y"
         },
         {
          "line": {
           "color": "#444",
           "dash": "dot"
          },
          "type": "line",
          "x0": 0,
          "x1": 1,
          "xref": "x domain",
          "y0": 561.452,
          "y1": 561.452,
          "yref": "y"
         },
         {
          "line": {
           "color": "#2ca02c",
           "dash": "dash"
          },
          "type": "line",
          "x0": 0,
          "x1": 1,
          "xref": "x domain",
          "y0": 567.284,
          "y1": 567.284,
          "yref": "y"
         },
         {
          "line": {
           "color": "#1f77b4",
           "dash": "dash"
          },
          "type": "line",
          "x0": 0,
          "x1": 1,
          "xref": "x domain",
          "y0": 571.436,
          "y1": 571.436,
          "yref": "y"
         }
        ],
        "template": {
         "data": {
          "bar": [
           {
            "error_x": {
             "color": "#2a3f5f"
            },
            "error_y": {
             "color": "#2a3f5f"
            },
            "marker": {
             "line": {
              "color": "white",
              "width": 0.5
             },
             "pattern": {
              "fillmode": "overlay",
              "size": 10,
              "solidity": 0.2
             }
            },
            "type": "bar"
           }
          ],
          "barpolar": [
           {
            "marker": {
             "line": {
              "color": "white",
              "width": 0.5
             },
             "pattern": {
              "fillmode": "overlay",
              "size": 10,
              "solidity": 0.2
             }
            },
            "type": "barpolar"
           }
          ],
          "carpet": [
           {
            "aaxis": {
             "endlinecolor": "#2a3f5f",
             "gridcolor": "#C8D4E3",
             "linecolor": "#C8D4E3",
             "minorgridcolor": "#C8D4E3",
             "startlinecolor": "#2a3f5f"
            },
            "baxis": {
             "endlinecolor": "#2a3f5f",
             "gridcolor": "#C8D4E3",
             "linecolor": "#C8D4E3",
             "minorgridcolor": "#C8D4E3",
             "startlinecolor": "#2a3f5f"
            },
            "type": "carpet"
           }
          ],
          "choropleth": [
           {
            "colorbar": {
             "outlinewidth": 0,
             "ticks": ""
            },
            "type": "choropleth"
           }
          ],
          "contour": [
           {
            "colorbar": {
             "outlinewidth": 0,
             "ticks": ""
            },
            "colorscale": [
             [
              0,
              "#0d0887"
             ],
             [
              0.1111111111111111,
              "#46039f"
             ],
             [
              0.2222222222222222,
              "#7201a8"
             ],
             [
              0.3333333333333333,
              "#9c179e"
             ],
             [
              0.4444444444444444,
              "#bd3786"
             ],
             [
              0.5555555555555556,
              "#d8576b"
             ],
             [
              0.6666666666666666,
              "#ed7953"
             ],
             [
              0.7777777777777778,
              "#fb9f3a"
             ],
             [
              0.8888888888888888,
              "#fdca26"
             ],
             [
              1,
              "#f0f921"
             ]
            ],
            "type": "contour"
           }
          ],
          "contourcarpet": [
           {
            "colorbar": {
             "outlinewidth": 0,
             "ticks": ""
            },
            "type": "contourcarpet"
           }
          ],
          "heatmap": [
           {
            "colorbar": {
             "outlinewidth": 0,
             "ticks": ""
            },
            "colorscale": [
             [
              0,
              "#0d0887"
             ],
             [
              0.1111111111111111,
              "#46039f"
             ],
             [
              0.2222222222222222,
              "#7201a8"
             ],
             [
              0.3333333333333333,
              "#9c179e"
             ],
             [
              0.4444444444444444,
              "#bd3786"
             ],
             [
              0.5555555555555556,
              "#d8576b"
             ],
             [
              0.6666666666666666,
              "#ed7953"
             ],
             [
              0.7777777777777778,
              "#fb9f3a"
             ],
             [
              0.8888888888888888,
              "#fdca26"
             ],
             [
              1,
              "#f0f921"
             ]
            ],
            "type": "heatmap"
           }
          ],
          "histogram": [
           {
            "marker": {
             "pattern": {
              "fillmode": "overlay",
              "size": 10,
              "solidity": 0.2
             }
            },
            "type": "histogram"
           }
          ],
          "histogram2d": [
           {
            "colorbar": {
             "outlinewidth": 0,
             "ticks": ""
            },
            "colorscale": [
             [
              0,
              "#0d0887"
             ],
             [
              0.1111111111111111,
              "#46039f"
             ],
             [
              0.2222222222222222,
              "#7201a8"
             ],
             [
              0.3333333333333333,
              "#9c179e"
             ],
             [
              0.4444444444444444,
              "#bd3786"
             ],
             [
              0.5555555555555556,
              "#d8576b"
             ],
             [
              0.6666666666666666,
              "#ed7953"
             ],
             [
              0.7777777777777778,
              "#fb9f3a"
             ],
             [
              0.8888888888888888,
              "#fdca26"
             ],
             [
              1,
              "#f0f921"
             ]
            ],
            "type": "histogram2d"
           }
          ],
          "histogram2dcontour": [
           {
            "colorbar": {
             "outlinewidth": 0,
             "ticks": ""
            },
            "colorscale": [
             [
              0,
              "#0d0887"
             ],
             [
              0.1111111111111111,
              "#46039f"
             ],
             [
              0.2222222222222222,
              "#7201a8"
             ],
             [
              0.3333333333333333,
              "#9c179e"
             ],
             [
              0.4444444444444444,
              "#bd3786"
             ],
             [
              0.5555555555555556,
              "#d8576b"
             ],
             [
              0.6666666666666666,
              "#ed7953"
             ],
             [
              0.7777777777777778,
              "#fb9f3a"
             ],
             [
              0.8888888888888888,
              "#fdca26"
             ],
             [
              1,
              "#f0f921"
             ]
            ],
            "type": "histogram2dcontour"
           }
          ],
          "mesh3d": [
           {
            "colorbar": {
             "outlinewidth": 0,
             "ticks": ""
            },
            "type": "mesh3d"
           }
          ],
          "parcoords": [
           {
            "line": {
             "colorbar": {
              "outlinewidth": 0,
              "ticks": ""
             }
            },
            "type": "parcoords"
           }
          ],
          "pie": [
           {
            "automargin": true,
            "type": "pie"
           }
          ],
          "scatter": [
           {
            "fillpattern": {
             "fillmode": "overlay",
             "size": 10,
             "solidity": 0.2
            },
            "type": "scatter"
           }
          ],
          "scatter3d": [
           {
            "line": {
             "colorbar": {
              "outlinewidth": 0,
              "ticks": ""
             }
            },
            "marker": {
             "colorbar": {
              "outlinewidth": 0,
              "ticks": ""
             }
            },
            "type": "scatter3d"
           }
          ],
          "scattercarpet": [
           {
            "marker": {
             "colorbar": {
              "outlinewidth": 0,
              "ticks": ""
             }
            },
            "type": "scattercarpet"
           }
          ],
          "scattergeo": [
           {
            "marker": {
             "colorbar": {
              "outlinewidth": 0,
              "ticks": ""
             }
            },
            "type": "scattergeo"
           }
          ],
          "scattergl": [
           {
            "marker": {
             "colorbar": {
              "outlinewidth": 0,
              "ticks": ""
             }
            },
            "type": "scattergl"
           }
          ],
          "scattermap": [
           {
            "marker": {
             "colorbar": {
              "outlinewidth": 0,
              "ticks": ""
             }
            },
            "type": "scattermap"
           }
          ],
          "scattermapbox": [
           {
            "marker": {
             "colorbar": {
              "outlinewidth": 0,
              "ticks": ""
             }
            },
            "type": "scattermapbox"
           }
          ],
          "scatterpolar": [
           {
            "marker": {
             "colorbar": {
              "outlinewidth": 0,
              "ticks": ""
             }
            },
            "type": "scatterpolar"
           }
          ],
          "scatterpolargl": [
           {
            "marker": {
             "colorbar": {
              "outlinewidth": 0,
              "ticks": ""
             }
            },
            "type": "scatterpolargl"
           }
          ],
          "scatterternary": [
           {
            "marker": {
             "colorbar": {
              "outlinewidth": 0,
              "ticks": ""
             }
            },
            "type": "scatterternary"
           }
          ],
          "surface": [
           {
            "colorbar": {
             "outlinewidth": 0,
             "ticks": ""
            },
            "colorscale": [
             [
              0,
              "#0d0887"
             ],
             [
              0.1111111111111111,
              "#46039f"
             ],
             [
              0.2222222222222222,
              "#7201a8"
             ],
             [
              0.3333333333333333,
              "#9c179e"
             ],
             [
              0.4444444444444444,
              "#bd3786"
             ],
             [
              0.5555555555555556,
              "#d8576b"
             ],
             [
              0.6666666666666666,
              "#ed7953"
             ],
             [
              0.7777777777777778,
              "#fb9f3a"
             ],
             [
              0.8888888888888888,
              "#fdca26"
             ],
             [
              1,
              "#f0f921"
             ]
            ],
            "type": "surface"
           }
          ],
          "table": [
           {
            "cells": {
             "fill": {
              "color": "#EBF0F8"
             },
             "line": {
              "color": "white"
             }
            },
            "header": {
             "fill": {
              "color": "#C8D4E3"
             },
             "line": {
              "color": "white"
             }
            },
            "type": "table"
           }
          ]
         },
         "layout": {
          "annotationdefaults": {
           "arrowcolor": "#2a3f5f",
           "arrowhead": 0,
           "arrowwidth": 1
          },
          "autotypenumbers": "strict",
          "coloraxis": {
           "colorbar": {
            "outlinewidth": 0,
            "ticks": ""
           }
          },
          "colorscale": {
           "diverging": [
            [
             0,
             "#8e0152"
            ],
            [
             0.1,
             "#c51b7d"
            ],
            [
             0.2,
             "#de77ae"
            ],
            [
             0.3,
             "#f1b6da"
            ],
            [
             0.4,
             "#fde0ef"
            ],
            [
             0.5,
             "#f7f7f7"
            ],
            [
             0.6,
             "#e6f5d0"
            ],
            [
             0.7,
             "#b8e186"
            ],
            [
             0.8,
             "#7fbc41"
            ],
            [
             0.9,
             "#4d9221"
            ],
            [
             1,
             "#276419"
            ]
           ],
           "sequential": [
            [
             0,
             "#0d0887"
            ],
            [
             0.1111111111111111,
             "#46039f"
            ],
            [
             0.2222222222222222,
             "#7201a8"
            ],
            [
             0.3333333333333333,
             "#9c179e"
            ],
            [
             0.4444444444444444,
             "#bd3786"
            ],
            [
             0.5555555555555556,
             "#d8576b"
            ],
            [
             0.6666666666666666,
             "#ed7953"
            ],
            [
             0.7777777777777778,
             "#fb9f3a"
            ],
            [
             0.8888888888888888,
             "#fdca26"
            ],
            [
             1,
             "#f0f921"
            ]
           ],
           "sequentialminus": [
            [
             0,
             "#0d0887"
            ],
            [
             0.1111111111111111,
             "#46039f"
            ],
            [
             0.2222222222222222,
             "#7201a8"
            ],
            [
             0.3333333333333333,
             "#9c179e"
            ],
            [
             0.4444444444444444,
             "#bd3786"
            ],
            [
             0.5555555555555556,
             "#d8576b"
            ],
            [
             0.6666666666666666,
             "#ed7953"
            ],
            [
             0.7777777777777778,
             "#fb9f3a"
            ],
            [
             0.8888888888888888,
             "#fdca26"
            ],
            [
             1,
             "#f0f921"
            ]
           ]
          },
          "colorway": [
           "#636efa",
           "#EF553B",
           "#00cc96",
           "#ab63fa",
           "#FFA15A",
           "#19d3f3",
           "#FF6692",
           "#B6E880",
           "#FF97FF",
           "#FECB52"
          ],
          "font": {
           "color": "#2a3f5f"
          },
          "geo": {
           "bgcolor": "white",
           "lakecolor": "white",
           "landcolor": "white",
           "showlakes": true,
           "showland": true,
           "subunitcolor": "#C8D4E3"
          },
          "hoverlabel": {
           "align": "left"
          },
          "hovermode": "closest",
          "mapbox": {
           "style": "light"
          },
          "paper_bgcolor": "white",
          "plot_bgcolor": "white",
          "polar": {
           "angularaxis": {
            "gridcolor": "#EBF0F8",
            "linecolor": "#EBF0F8",
            "ticks": ""
           },
           "bgcolor": "white",
           "radialaxis": {
            "gridcolor": "#EBF0F8",
            "linecolor": "#EBF0F8",
            "ticks": ""
           }
          },
          "scene": {
           "xaxis": {
            "backgroundcolor": "white",
            "gridcolor": "#DFE8F3",
            "gridwidth": 2,
            "linecolor": "#EBF0F8",
            "showbackground": true,
            "ticks": "",
            "zerolinecolor": "#EBF0F8"
           },
           "yaxis": {
            "backgroundcolor": "white",
            "gridcolor": "#DFE8F3",
            "gridwidth": 2,
            "linecolor": "#EBF0F8",
            "showbackground": true,
            "ticks": "",
            "zerolinecolor": "#EBF0F8"
           },
           "zaxis": {
            "backgroundcolor": "white",
            "gridcolor": "#DFE8F3",
            "gridwidth": 2,
            "linecolor": "#EBF0F8",
            "showbackground": true,
            "ticks": "",
            "zerolinecolor": "#EBF0F8"
           }
          },
          "shapedefaults": {
           "line": {
            "color": "#2a3f5f"
           }
          },
          "ternary": {
           "aaxis": {
            "gridcolor": "#DFE8F3",
            "linecolor": "#A2B1C6",
            "ticks": ""
           },
           "baxis": {
            "gridcolor": "#DFE8F3",
            "linecolor": "#A2B1C6",
            "ticks": ""
           },
           "bgcolor": "white",
           "caxis": {
            "gridcolor": "#DFE8F3",
            "linecolor": "#A2B1C6",
            "ticks": ""
           }
          },
          "title": {
           "x": 0.05
          },
          "xaxis": {
           "automargin": true,
           "gridcolor": "#EBF0F8",
           "linecolor": "#EBF0F8",
           "ticks": "",
           "title": {
            "standoff": 15
           },
           "zerolinecolor": "#EBF0F8",
           "zerolinewidth": 2
          },
          "yaxis": {
           "automargin": true,
           "gridcolor": "#EBF0F8",
           "linecolor": "#EBF0F8",
           "ticks": "",
           "title": {
            "standoff": 15
           },
           "zerolinecolor": "#EBF0F8",
           "zerolinewidth": 2
          }
         }
        },
        "title": {
         "text": "Signals for 2025-03-11 (dir=up)"
        },
        "xaxis": {
         "rangeslider": {
          "visible": false
         }
        }
       }
      }
     },
     "metadata": {},
     "output_type": "display_data"
    },
    {
     "data": {
      "text/html": [
       "<div>\n",
       "<style scoped>\n",
       "    .dataframe tbody tr th:only-of-type {\n",
       "        vertical-align: middle;\n",
       "    }\n",
       "\n",
       "    .dataframe tbody tr th {\n",
       "        vertical-align: top;\n",
       "    }\n",
       "\n",
       "    .dataframe thead th {\n",
       "        text-align: right;\n",
       "    }\n",
       "</style>\n",
       "<table border=\"1\" class=\"dataframe\">\n",
       "  <thead>\n",
       "    <tr style=\"text-align: right;\">\n",
       "      <th></th>\n",
       "      <th>ts</th>\n",
       "      <th>side</th>\n",
       "      <th>price</th>\n",
       "      <th>stop_level</th>\n",
       "      <th>tgt_level</th>\n",
       "      <th>ema_fast</th>\n",
       "      <th>ema_slow</th>\n",
       "      <th>rsi</th>\n",
       "    </tr>\n",
       "  </thead>\n",
       "  <tbody>\n",
       "    <tr>\n",
       "      <th>0</th>\n",
       "      <td>2025-03-11 15:09:00+00:00</td>\n",
       "      <td>LONG</td>\n",
       "      <td>558.0300</td>\n",
       "      <td>552.02</td>\n",
       "      <td>567.284</td>\n",
       "      <td>556.540608</td>\n",
       "      <td>556.047605</td>\n",
       "      <td>67.819444</td>\n",
       "    </tr>\n",
       "    <tr>\n",
       "      <th>1</th>\n",
       "      <td>2025-03-11 15:10:00+00:00</td>\n",
       "      <td>LONG</td>\n",
       "      <td>557.4500</td>\n",
       "      <td>552.02</td>\n",
       "      <td>567.284</td>\n",
       "      <td>556.722487</td>\n",
       "      <td>556.175095</td>\n",
       "      <td>61.549561</td>\n",
       "    </tr>\n",
       "    <tr>\n",
       "      <th>2</th>\n",
       "      <td>2025-03-11 15:12:00+00:00</td>\n",
       "      <td>LONG</td>\n",
       "      <td>558.4300</td>\n",
       "      <td>552.02</td>\n",
       "      <td>567.284</td>\n",
       "      <td>557.215592</td>\n",
       "      <td>556.503632</td>\n",
       "      <td>67.366744</td>\n",
       "    </tr>\n",
       "    <tr>\n",
       "      <th>3</th>\n",
       "      <td>2025-03-11 15:13:00+00:00</td>\n",
       "      <td>LONG</td>\n",
       "      <td>558.1500</td>\n",
       "      <td>552.02</td>\n",
       "      <td>567.284</td>\n",
       "      <td>557.402473</td>\n",
       "      <td>556.653302</td>\n",
       "      <td>64.323625</td>\n",
       "    </tr>\n",
       "    <tr>\n",
       "      <th>4</th>\n",
       "      <td>2025-03-11 15:14:00+00:00</td>\n",
       "      <td>LONG</td>\n",
       "      <td>557.9000</td>\n",
       "      <td>552.02</td>\n",
       "      <td>567.284</td>\n",
       "      <td>557.501979</td>\n",
       "      <td>556.766638</td>\n",
       "      <td>61.646028</td>\n",
       "    </tr>\n",
       "    <tr>\n",
       "      <th>5</th>\n",
       "      <td>2025-03-11 15:15:00+00:00</td>\n",
       "      <td>LONG</td>\n",
       "      <td>558.4300</td>\n",
       "      <td>552.02</td>\n",
       "      <td>567.284</td>\n",
       "      <td>557.687583</td>\n",
       "      <td>556.917853</td>\n",
       "      <td>64.974743</td>\n",
       "    </tr>\n",
       "    <tr>\n",
       "      <th>6</th>\n",
       "      <td>2025-03-11 15:16:00+00:00</td>\n",
       "      <td>LONG</td>\n",
       "      <td>558.1000</td>\n",
       "      <td>552.02</td>\n",
       "      <td>567.284</td>\n",
       "      <td>557.770066</td>\n",
       "      <td>557.025321</td>\n",
       "      <td>61.401458</td>\n",
       "    </tr>\n",
       "    <tr>\n",
       "      <th>7</th>\n",
       "      <td>2025-03-11 15:17:00+00:00</td>\n",
       "      <td>LONG</td>\n",
       "      <td>558.6200</td>\n",
       "      <td>552.02</td>\n",
       "      <td>567.284</td>\n",
       "      <td>557.940053</td>\n",
       "      <td>557.170292</td>\n",
       "      <td>64.696180</td>\n",
       "    </tr>\n",
       "    <tr>\n",
       "      <th>8</th>\n",
       "      <td>2025-03-11 15:18:00+00:00</td>\n",
       "      <td>LONG</td>\n",
       "      <td>558.2700</td>\n",
       "      <td>552.02</td>\n",
       "      <td>567.284</td>\n",
       "      <td>558.006042</td>\n",
       "      <td>557.270265</td>\n",
       "      <td>60.926508</td>\n",
       "    </tr>\n",
       "    <tr>\n",
       "      <th>9</th>\n",
       "      <td>2025-03-11 15:19:00+00:00</td>\n",
       "      <td>LONG</td>\n",
       "      <td>558.3900</td>\n",
       "      <td>552.02</td>\n",
       "      <td>567.284</td>\n",
       "      <td>558.082834</td>\n",
       "      <td>557.372059</td>\n",
       "      <td>61.749434</td>\n",
       "    </tr>\n",
       "    <tr>\n",
       "      <th>10</th>\n",
       "      <td>2025-03-11 15:20:00+00:00</td>\n",
       "      <td>LONG</td>\n",
       "      <td>558.2600</td>\n",
       "      <td>552.02</td>\n",
       "      <td>567.284</td>\n",
       "      <td>558.118267</td>\n",
       "      <td>557.452781</td>\n",
       "      <td>60.268567</td>\n",
       "    </tr>\n",
       "    <tr>\n",
       "      <th>11</th>\n",
       "      <td>2025-03-11 15:21:00+00:00</td>\n",
       "      <td>LONG</td>\n",
       "      <td>558.3600</td>\n",
       "      <td>552.02</td>\n",
       "      <td>567.284</td>\n",
       "      <td>558.166614</td>\n",
       "      <td>557.535256</td>\n",
       "      <td>61.042521</td>\n",
       "    </tr>\n",
       "    <tr>\n",
       "      <th>12</th>\n",
       "      <td>2025-03-11 15:22:00+00:00</td>\n",
       "      <td>LONG</td>\n",
       "      <td>557.9100</td>\n",
       "      <td>552.02</td>\n",
       "      <td>567.284</td>\n",
       "      <td>558.115291</td>\n",
       "      <td>557.569323</td>\n",
       "      <td>55.777088</td>\n",
       "    </tr>\n",
       "    <tr>\n",
       "      <th>13</th>\n",
       "      <td>2025-03-11 15:23:00+00:00</td>\n",
       "      <td>LONG</td>\n",
       "      <td>557.2700</td>\n",
       "      <td>552.02</td>\n",
       "      <td>567.284</td>\n",
       "      <td>557.946233</td>\n",
       "      <td>557.542112</td>\n",
       "      <td>49.268018</td>\n",
       "    </tr>\n",
       "    <tr>\n",
       "      <th>14</th>\n",
       "      <td>2025-03-11 15:26:00+00:00</td>\n",
       "      <td>LONG</td>\n",
       "      <td>558.3293</td>\n",
       "      <td>552.02</td>\n",
       "      <td>567.284</td>\n",
       "      <td>557.933131</td>\n",
       "      <td>557.625178</td>\n",
       "      <td>58.772004</td>\n",
       "    </tr>\n",
       "    <tr>\n",
       "      <th>15</th>\n",
       "      <td>2025-03-11 15:27:00+00:00</td>\n",
       "      <td>LONG</td>\n",
       "      <td>557.4500</td>\n",
       "      <td>552.02</td>\n",
       "      <td>567.284</td>\n",
       "      <td>557.836505</td>\n",
       "      <td>557.609253</td>\n",
       "      <td>50.007893</td>\n",
       "    </tr>\n",
       "    <tr>\n",
       "      <th>16</th>\n",
       "      <td>2025-03-11 15:31:00+00:00</td>\n",
       "      <td>LONG</td>\n",
       "      <td>558.3000</td>\n",
       "      <td>552.02</td>\n",
       "      <td>567.284</td>\n",
       "      <td>557.789704</td>\n",
       "      <td>557.646030</td>\n",
       "      <td>56.523167</td>\n",
       "    </tr>\n",
       "    <tr>\n",
       "      <th>17</th>\n",
       "      <td>2025-03-11 15:32:00+00:00</td>\n",
       "      <td>LONG</td>\n",
       "      <td>558.6800</td>\n",
       "      <td>552.02</td>\n",
       "      <td>567.284</td>\n",
       "      <td>557.967764</td>\n",
       "      <td>557.740028</td>\n",
       "      <td>59.117449</td>\n",
       "    </tr>\n",
       "    <tr>\n",
       "      <th>18</th>\n",
       "      <td>2025-03-11 15:33:00+00:00</td>\n",
       "      <td>LONG</td>\n",
       "      <td>558.3300</td>\n",
       "      <td>552.02</td>\n",
       "      <td>567.284</td>\n",
       "      <td>558.040211</td>\n",
       "      <td>557.793661</td>\n",
       "      <td>55.813972</td>\n",
       "    </tr>\n",
       "    <tr>\n",
       "      <th>19</th>\n",
       "      <td>2025-03-11 15:34:00+00:00</td>\n",
       "      <td>LONG</td>\n",
       "      <td>558.1700</td>\n",
       "      <td>552.02</td>\n",
       "      <td>567.284</td>\n",
       "      <td>558.066169</td>\n",
       "      <td>557.827874</td>\n",
       "      <td>54.319633</td>\n",
       "    </tr>\n",
       "  </tbody>\n",
       "</table>\n",
       "</div>"
      ],
      "text/plain": [
       "                          ts  side     price  stop_level  tgt_level  \\\n",
       "0  2025-03-11 15:09:00+00:00  LONG  558.0300      552.02    567.284   \n",
       "1  2025-03-11 15:10:00+00:00  LONG  557.4500      552.02    567.284   \n",
       "2  2025-03-11 15:12:00+00:00  LONG  558.4300      552.02    567.284   \n",
       "3  2025-03-11 15:13:00+00:00  LONG  558.1500      552.02    567.284   \n",
       "4  2025-03-11 15:14:00+00:00  LONG  557.9000      552.02    567.284   \n",
       "5  2025-03-11 15:15:00+00:00  LONG  558.4300      552.02    567.284   \n",
       "6  2025-03-11 15:16:00+00:00  LONG  558.1000      552.02    567.284   \n",
       "7  2025-03-11 15:17:00+00:00  LONG  558.6200      552.02    567.284   \n",
       "8  2025-03-11 15:18:00+00:00  LONG  558.2700      552.02    567.284   \n",
       "9  2025-03-11 15:19:00+00:00  LONG  558.3900      552.02    567.284   \n",
       "10 2025-03-11 15:20:00+00:00  LONG  558.2600      552.02    567.284   \n",
       "11 2025-03-11 15:21:00+00:00  LONG  558.3600      552.02    567.284   \n",
       "12 2025-03-11 15:22:00+00:00  LONG  557.9100      552.02    567.284   \n",
       "13 2025-03-11 15:23:00+00:00  LONG  557.2700      552.02    567.284   \n",
       "14 2025-03-11 15:26:00+00:00  LONG  558.3293      552.02    567.284   \n",
       "15 2025-03-11 15:27:00+00:00  LONG  557.4500      552.02    567.284   \n",
       "16 2025-03-11 15:31:00+00:00  LONG  558.3000      552.02    567.284   \n",
       "17 2025-03-11 15:32:00+00:00  LONG  558.6800      552.02    567.284   \n",
       "18 2025-03-11 15:33:00+00:00  LONG  558.3300      552.02    567.284   \n",
       "19 2025-03-11 15:34:00+00:00  LONG  558.1700      552.02    567.284   \n",
       "\n",
       "      ema_fast    ema_slow        rsi  \n",
       "0   556.540608  556.047605  67.819444  \n",
       "1   556.722487  556.175095  61.549561  \n",
       "2   557.215592  556.503632  67.366744  \n",
       "3   557.402473  556.653302  64.323625  \n",
       "4   557.501979  556.766638  61.646028  \n",
       "5   557.687583  556.917853  64.974743  \n",
       "6   557.770066  557.025321  61.401458  \n",
       "7   557.940053  557.170292  64.696180  \n",
       "8   558.006042  557.270265  60.926508  \n",
       "9   558.082834  557.372059  61.749434  \n",
       "10  558.118267  557.452781  60.268567  \n",
       "11  558.166614  557.535256  61.042521  \n",
       "12  558.115291  557.569323  55.777088  \n",
       "13  557.946233  557.542112  49.268018  \n",
       "14  557.933131  557.625178  58.772004  \n",
       "15  557.836505  557.609253  50.007893  \n",
       "16  557.789704  557.646030  56.523167  \n",
       "17  557.967764  557.740028  59.117449  \n",
       "18  558.040211  557.793661  55.813972  \n",
       "19  558.066169  557.827874  54.319633  "
      ]
     },
     "metadata": {},
     "output_type": "display_data"
    }
   ],
   "source": [
    "# Compute and visualize simple Fibonacci pullback signals for the selected day\n",
    "import math\n",
    "from IPython.display import display\n",
    "\n",
    "try:\n",
    "    # Reuse the same date and loader from the dashboard\n",
    "    day = _dt.value if '_dt' in globals() else os.getenv('SAMPLE_DT', '2025-03-11')\n",
    "    sdf = load_day(day)\n",
    "    print(f\"[signals] dt={day} rows={len(sdf)}\")\n",
    "    if sdf.empty or not {'open','high','low','close'}.issubset(sdf.columns):\n",
    "        print('[signals] missing data columns or empty day')\n",
    "    else:\n",
    "        # Indicators required for filters\n",
    "        sdf['ema_fast'] = ema(sdf['close'], _ema_fast.value if '_ema_fast' in globals() else 9)\n",
    "        sdf['ema_slow'] = ema(sdf['close'], _ema_slow.value if '_ema_slow' in globals() else 21)\n",
    "        rsis = rsi(sdf['close'], 14)\n",
    "        sdf['rsi'] = rsis\n",
    "\n",
    "        # Determine swing and fib levels\n",
    "        fib = compute_fib_levels(sdf, direction=_fib_dir.value if '_fib_dir' in globals() else 'auto')\n",
    "        if not fib:\n",
    "            print('[signals] cannot compute fib levels')\n",
    "        else:\n",
    "            lo, hi, direction = fib['low'], fib['high'], fib['direction']\n",
    "            # Key levels\n",
    "            fib_levels = dict(fib['levels'])\n",
    "            L50, L618, L786 = fib_levels['50%'], fib_levels['61.8%'], fib_levels['78.6%']\n",
    "\n",
    "            # Extension levels\n",
    "            rng = hi - lo\n",
    "            ext127, ext161 = (hi + 0.272*rng, hi + 0.618*rng) if direction=='up' else (lo - 0.272*rng, lo - 0.618*rng)\n",
    "\n",
    "            # Build boolean masks\n",
    "            in_zone = (sdf['low'] <= max(L50,L618)) & (sdf['high'] >= min(L50,L618))\n",
    "            trend_up = (sdf['ema_fast'] > sdf['ema_slow'])\n",
    "            trend_dn = (sdf['ema_fast'] < sdf['ema_slow'])\n",
    "            mom_ok_long = sdf['rsi'] > 45\n",
    "            mom_ok_short = sdf['rsi'] < 55\n",
    "\n",
    "            # Entry signals\n",
    "            long_ok = (direction=='up') & in_zone & trend_up & mom_ok_long\n",
    "            short_ok = (direction=='down') & in_zone & trend_dn & mom_ok_short\n",
    "\n",
    "            sdf['long_entry'] = long_ok\n",
    "            sdf['short_entry'] = short_ok\n",
    "\n",
    "            # Simple plot\n",
    "            sfig = go.Figure()\n",
    "            sfig.add_trace(go.Candlestick(x=sdf['ts'], open=sdf['open'], high=sdf['high'], low=sdf['low'], close=sdf['close'], name='Price'))\n",
    "            # Zone bands\n",
    "            sfig.add_hline(y=L50, line_dash='dot', line_color='#999', annotation_text='Fib 50%')\n",
    "            sfig.add_hline(y=L618, line_dash='dot', line_color='#666', annotation_text='Fib 61.8%')\n",
    "            sfig.add_hline(y=L786, line_dash='dot', line_color='#444', annotation_text='Fib 78.6%')\n",
    "            # Extensions\n",
    "            sfig.add_hline(y=ext127, line_dash='dash', line_color='#2ca02c', annotation_text='127.2%')\n",
    "            sfig.add_hline(y=ext161, line_dash='dash', line_color='#1f77b4', annotation_text='161.8%')\n",
    "\n",
    "            # Markers\n",
    "            if sdf['long_entry'].any():\n",
    "                e = sdf[sdf['long_entry']]\n",
    "                sfig.add_trace(go.Scatter(x=e['ts'], y=e['close'], mode='markers', marker=dict(color='green', size=8, symbol='triangle-up'), name='Long entry'))\n",
    "            if sdf['short_entry'].any():\n",
    "                e = sdf[sdf['short_entry']]\n",
    "                sfig.add_trace(go.Scatter(x=e['ts'], y=e['close'], mode='markers', marker=dict(color='red', size=8, symbol='triangle-down'), name='Short entry'))\n",
    "\n",
    "            sfig.update_layout(title=f'Signals for {day} (dir={direction})', template='plotly_white', xaxis_rangeslider_visible=False, height=600)\n",
    "            display(sfig)\n",
    "\n",
    "            # Mini summary table\n",
    "            import pandas as pd\n",
    "            rows = []\n",
    "            for idx, row in sdf[sdf['long_entry'] | sdf['short_entry']].iterrows():\n",
    "                side = 'LONG' if row['long_entry'] else 'SHORT'\n",
    "                stop = (lo if side=='LONG' else hi)\n",
    "                tgt = (ext127 if side=='LONG' else ext127)\n",
    "                rows.append({\n",
    "                    'ts': row['ts'],\n",
    "                    'side': side,\n",
    "                    'price': row['close'],\n",
    "                    'stop_level': stop,\n",
    "                    'tgt_level': tgt,\n",
    "                    'ema_fast': row['ema_fast'],\n",
    "                    'ema_slow': row['ema_slow'],\n",
    "                    'rsi': row['rsi'],\n",
    "                })\n",
    "            if rows:\n",
    "                sigdf = pd.DataFrame(rows)\n",
    "                display(sigdf.head(20))\n",
    "            else:\n",
    "                print('[signals] no entries under current rules')\n",
    "except Exception as ex:\n",
    "    print('[signals] error:', repr(ex))\n"
   ]
  },
  {
   "cell_type": "code",
   "execution_count": null,
   "id": "6d99f5f7",
   "metadata": {},
   "outputs": [
    {
     "ename": "KeyError",
     "evalue": "'61%'",
     "output_type": "error",
     "traceback": [
      "\u001b[31m---------------------------------------------------------------------------\u001b[39m",
      "\u001b[31mKeyError\u001b[39m                                  Traceback (most recent call last)",
      "\u001b[36mCell\u001b[39m\u001b[36m \u001b[39m\u001b[32mIn[8]\u001b[39m\u001b[32m, line 183\u001b[39m\n\u001b[32m    181\u001b[39m all_trades = []\n\u001b[32m    182\u001b[39m \u001b[38;5;28;01mfor\u001b[39;00m d \u001b[38;5;129;01min\u001b[39;00m days:\n\u001b[32m--> \u001b[39m\u001b[32m183\u001b[39m     tdf = \u001b[43msimulate_day_with_params\u001b[49m\u001b[43m(\u001b[49m\u001b[43md\u001b[49m\u001b[43m,\u001b[49m\u001b[43m \u001b[49m\u001b[43m*\u001b[49m\u001b[43m*\u001b[49m\u001b[43mP\u001b[49m\u001b[43m,\u001b[49m\u001b[43m \u001b[49m\u001b[43msession_filter\u001b[49m\u001b[43m=\u001b[49m\u001b[43m(\u001b[49m\u001b[33;43m\"\u001b[39;49m\u001b[33;43m09:35\u001b[39;49m\u001b[33;43m\"\u001b[39;49m\u001b[43m,\u001b[49m\u001b[33;43m\"\u001b[39;49m\u001b[33;43m11:00\u001b[39;49m\u001b[33;43m\"\u001b[39;49m\u001b[43m,\u001b[49m\u001b[33;43m\"\u001b[39;49m\u001b[33;43m14:00\u001b[39;49m\u001b[33;43m\"\u001b[39;49m\u001b[43m,\u001b[49m\u001b[33;43m\"\u001b[39;49m\u001b[33;43m15:45\u001b[39;49m\u001b[33;43m\"\u001b[39;49m\u001b[43m)\u001b[49m\u001b[43m)\u001b[49m\n\u001b[32m    184\u001b[39m     \u001b[38;5;28;01mif\u001b[39;00m \u001b[38;5;129;01mnot\u001b[39;00m tdf.empty:\n\u001b[32m    185\u001b[39m         all_trades.append(tdf)\n",
      "\u001b[36mCell\u001b[39m\u001b[36m \u001b[39m\u001b[32mIn[8]\u001b[39m\u001b[32m, line 42\u001b[39m, in \u001b[36msimulate_day_with_params\u001b[39m\u001b[34m(day, ema_fast, ema_slow, rsi_len, rsi_long, rsi_short, atr_len, atr_mult_stop, retr_low, retr_high, ext_pref, session_filter)\u001b[39m\n\u001b[32m     40\u001b[39m lo, hi, direction = fibc[\u001b[33m'\u001b[39m\u001b[33mlow\u001b[39m\u001b[33m'\u001b[39m], fibc[\u001b[33m'\u001b[39m\u001b[33mhigh\u001b[39m\u001b[33m'\u001b[39m], fibc[\u001b[33m'\u001b[39m\u001b[33mdirection\u001b[39m\u001b[33m'\u001b[39m]\n\u001b[32m     41\u001b[39m levels = \u001b[38;5;28mdict\u001b[39m(fibc[\u001b[33m'\u001b[39m\u001b[33mlevels\u001b[39m\u001b[33m'\u001b[39m])\n\u001b[32m---> \u001b[39m\u001b[32m42\u001b[39m Llo, Lhi = levels[\u001b[33mf\u001b[39m\u001b[33m'\u001b[39m\u001b[38;5;132;01m{\u001b[39;00m\u001b[38;5;28mint\u001b[39m(retr_low*\u001b[32m100\u001b[39m)\u001b[38;5;132;01m}\u001b[39;00m\u001b[33m%\u001b[39m\u001b[33m'\u001b[39m], \u001b[43mlevels\u001b[49m\u001b[43m[\u001b[49m\u001b[33;43mf\u001b[39;49m\u001b[33;43m'\u001b[39;49m\u001b[38;5;132;43;01m{\u001b[39;49;00m\u001b[38;5;28;43mint\u001b[39;49m\u001b[43m(\u001b[49m\u001b[43mretr_high\u001b[49m\u001b[43m*\u001b[49m\u001b[32;43m100\u001b[39;49m\u001b[43m)\u001b[49m\u001b[38;5;132;43;01m}\u001b[39;49;00m\u001b[33;43m%\u001b[39;49m\u001b[33;43m'\u001b[39;49m\u001b[43m]\u001b[49m\n\u001b[32m     44\u001b[39m \u001b[38;5;66;03m# extension targets from the same impulse\u001b[39;00m\n\u001b[32m     45\u001b[39m rng = hi - lo\n",
      "\u001b[31mKeyError\u001b[39m: '61%'"
     ]
    }
   ],
   "source": [
    "# === FIB GRID SEARCH (drop-in) ===============================================\n",
    "import itertools, math, numpy as np, pandas as pd\n",
    "from collections import defaultdict\n",
    "from datetime import datetime\n",
    "\n",
    "# --- helpers -------------------------------------------------\n",
    "def simulate_day_with_params(day, ema_fast=9, ema_slow=21, rsi_len=14,\n",
    "                             rsi_long=50, rsi_short=50, atr_len=14,\n",
    "                             atr_mult_stop=0.5, retr_low=0.50, retr_high=0.618,\n",
    "                             ext_pref=('161','127'), session_filter=None):\n",
    "    df = load_day(day)\n",
    "    if df.empty: \n",
    "        return pd.DataFrame()\n",
    "\n",
    "    # indicators\n",
    "    if ('ema_fast' not in df.columns) or ('ema_slow' not in df.columns):\n",
    "        df['ema_fast'] = ema(df['close'], ema_fast)\n",
    "        df['ema_slow'] = ema(df['close'], ema_slow)\n",
    "    df['rsi'] = rsi(df['close'], rsi_len)\n",
    "    df['atr'] = atr(df, atr_len)\n",
    "\n",
    "    # Optional time-of-day filter: pass (\"09:35\",\"11:00\",\"14:00\",\"15:45\") etc.\n",
    "    if session_filter:\n",
    "        def in_window(ts, windows):\n",
    "            t = pd.to_datetime(ts).time()\n",
    "            return any(start <= t <= end for (start, end) in windows)\n",
    "        windows = []\n",
    "        for s,e in zip(session_filter[::2], session_filter[1::2]):\n",
    "            windows.append((pd.to_datetime(s).time(), pd.to_datetime(e).time()))\n",
    "        df = df[df['ts'].apply(lambda x: in_window(x, windows))].reset_index(drop=True)\n",
    "        if df.empty: \n",
    "            return pd.DataFrame()\n",
    "\n",
    "    # NOTE: compute_fib_levels(df, direction='auto') likely uses full-day hi/lo → leakage.\n",
    "    # Until you anchor to a rolling swing, we keep your approach but warn about it.\n",
    "    fibc = compute_fib_levels(df, direction='auto')\n",
    "    if not fibc: \n",
    "        return pd.DataFrame()\n",
    "\n",
    "    lo, hi, direction = float(fibc['low']), float(fibc['high']), fibc['direction']\n",
    "\n",
    "    # Compute retracement levels numerically to allow non-canonical ratios (e.g. 0.62)\n",
    "    rl = max(0.0, min(1.0, float(retr_low)))\n",
    "    rh = max(0.0, min(1.0, float(retr_high)))\n",
    "    if direction == 'up':\n",
    "        Llo = lo + (hi - lo) * rl\n",
    "        Lhi = lo + (hi - lo) * rh\n",
    "    else:\n",
    "        Llo = hi - (hi - lo) * rl\n",
    "        Lhi = hi - (hi - lo) * rh\n",
    "\n",
    "    # extension targets from the same impulse\n",
    "    rng = hi - lo\n",
    "    ext127 = (hi + 0.272*rng) if direction=='up' else (lo - 0.272*rng)\n",
    "    ext161 = (hi + 0.618*rng) if direction=='up' else (lo - 0.618*rng)\n",
    "    ext_map = {'127': ext127, '161': ext161}\n",
    "\n",
    "    # entries: retrace touches the zone with trend + RSI confirmation\n",
    "    zone_lo, zone_hi = min(Llo, Lhi), max(Llo, Lhi)\n",
    "    in_zone = (df['low'] <= zone_hi) & (df['high'] >= zone_lo)\n",
    "    trend_up = df['ema_fast'] > df['ema_slow']\n",
    "    trend_dn = df['ema_fast'] < df['ema_slow']\n",
    "    df['long_entry']  = (direction=='up') & in_zone & trend_up  & (df['rsi'] >= rsi_long)\n",
    "    df['short_entry'] = (direction=='down') & in_zone & trend_dn & (df['rsi'] <= (100 - rsi_short))\n",
    "\n",
    "    trades, N = [], len(df)\n",
    "    i, last_exit_idx = 0, -1\n",
    "    while i < N:\n",
    "        if i <= last_exit_idx: \n",
    "            i += 1; continue\n",
    "        row = df.iloc[i]\n",
    "        side = 'LONG' if row.get('long_entry', False) else ('SHORT' if row.get('short_entry', False) else None)\n",
    "        if not side:\n",
    "            i += 1; continue\n",
    "\n",
    "        entry_idx = i + 1\n",
    "        if entry_idx >= N: break\n",
    "        entry_time = df.iloc[entry_idx]['ts']\n",
    "        entry = float(df.iloc[entry_idx]['open'])\n",
    "        atr_val = float(df.iloc[entry_idx]['atr'])\n",
    "        raw_stop = float(lo) if side=='LONG' else float(hi)\n",
    "        stop = raw_stop - atr_mult_stop*atr_val if side=='LONG' else raw_stop + atr_mult_stop*atr_val\n",
    "        R = abs(entry - stop)\n",
    "        if not np.isfinite(R) or R <= 0:\n",
    "            i += 1; continue\n",
    "\n",
    "        # management\n",
    "        tp1 = entry + R if side=='LONG' else entry - R\n",
    "        ext1, ext2 = ext_map[ext_pref[0]], ext_map[ext_pref[1]]\n",
    "        stop_lvl = stop\n",
    "        filled_half = False\n",
    "        exit_idx, exit_reason, seq_exit_price = N-1, 'EOD', float(df.iloc[N-1]['close'])\n",
    "\n",
    "        def hit_up(level,h,l):  return h >= level\n",
    "        def hit_dn(level,h,l):  return l <= level\n",
    "\n",
    "        for j in range(entry_idx+1, N):\n",
    "            h = float(df.iloc[j]['high']); l = float(df.iloc[j]['low'])\n",
    "            # stop first\n",
    "            if (side=='LONG' and hit_dn(stop_lvl,h,l)) or (side=='SHORT' and hit_up(stop_lvl,h,l)):\n",
    "                exit_idx, exit_reason, seq_exit_price = j, 'STOP', stop_lvl\n",
    "                if filled_half:\n",
    "                    pnl_first = 0.5*R\n",
    "                    pnl_second = -0.5*R  # runner stopped at BE or below\n",
    "                else:\n",
    "                    pnl_first = pnl_second = -0.5*R\n",
    "                break\n",
    "\n",
    "            # first target → BE\n",
    "            if not filled_half and ((side=='LONG' and hit_up(tp1,h,l)) or (side=='SHORT' and hit_dn(tp1,h,l))):\n",
    "                filled_half = True\n",
    "                pnl_first = 0.5*R\n",
    "                stop_lvl = entry  # BE\n",
    "\n",
    "            # extension targets\n",
    "            if filled_half:\n",
    "                if (side=='LONG' and hit_up(ext1,h,l)) or (side=='SHORT' and hit_dn(ext1,h,l)):\n",
    "                    exit_idx, exit_reason, seq_exit_price = j, f'TP{ext_pref[0]}', ext1\n",
    "                    gain = (ext1 - entry) if side=='LONG' else (entry - ext1)\n",
    "                    pnl_second = 0.5*gain\n",
    "                    break\n",
    "                if (side=='LONG' and hit_up(ext2,h,l)) or (side=='SHORT' and hit_dn(ext2,h,l)):\n",
    "                    exit_idx, exit_reason, seq_exit_price = j, f'TP{ext_pref[1]}', ext2\n",
    "                    gain = (ext2 - entry) if side=='LONG' else (entry - ext2)\n",
    "                    pnl_second = 0.5*gain\n",
    "                    break\n",
    "        else:\n",
    "            # EOD\n",
    "            if filled_half:\n",
    "                pnl_first = 0.5*R\n",
    "                pnl_second = 0.5*((df.iloc[N-1]['close'] - entry) if side=='LONG' else (entry - df.iloc[N-1]['close']))\n",
    "            else:\n",
    "                both = 0.5*((df.iloc[N-1]['close'] - entry) if side=='LONG' else (entry - df.iloc[N-1]['close']))\n",
    "                pnl_first = pnl_second = both\n",
    "\n",
    "        pnl_abs = pnl_first + pnl_second\n",
    "        trades.append({\n",
    "            'day': day, 'ts_in': entry_time, 'side': side, 'entry': entry,\n",
    "            'R': R, 'exit_ts': df.iloc[exit_idx]['ts'], 'exit_reason': exit_reason,\n",
    "            'exit_price': seq_exit_price, 'pnl_R': pnl_abs / R\n",
    "        })\n",
    "        last_exit_idx = exit_idx\n",
    "        i = exit_idx + 1\n",
    "\n",
    "    return pd.DataFrame(trades)\n",
    "\n",
    "def summarize(df):\n",
    "    if df.empty: \n",
    "        return {}\n",
    "    wins = (df['pnl_R'] > 0).sum()\n",
    "    losses = len(df) - wins\n",
    "    netR = df['pnl_R'].sum()\n",
    "    gross_win = df.loc[df['pnl_R']>0, 'pnl_R'].sum()\n",
    "    gross_loss = -df.loc[df['pnl_R']<=0, 'pnl_R'].sum()\n",
    "    pf = (gross_win / gross_loss) if gross_loss > 0 else np.inf\n",
    "    # equity & drawdown\n",
    "    eq = df['pnl_R'].cumsum()\n",
    "    peak = eq.cummax()\n",
    "    dd = (eq - peak)\n",
    "    max_dd = dd.min()\n",
    "    exp = df['pnl_R'].mean()\n",
    "    return dict(n=len(df), wins=int(wins), losses=int(losses), netR=float(netR),\n",
    "                pf=float(pf), maxDD=float(max_dd), expectancy=float(exp))\n",
    "\n",
    "# --- grid ----------------------------------------------------\n",
    "days = [\n",
    "    # put your training dates here\n",
    "    '2025-03-10','2025-03-11','2025-03-12'\n",
    "]\n",
    "\n",
    "param_grid = dict(\n",
    "    ema_fast=[8,9,12],\n",
    "    ema_slow=[21,26,34],\n",
    "    rsi_len=[14],\n",
    "    rsi_long=[48,50,52],     # long filter threshold\n",
    "    rsi_short=[48,50,52],    # symmetric short filter\n",
    "    atr_len=[14,21],\n",
    "    atr_mult_stop=[0.25,0.5,0.75,1.0],\n",
    "    retr_low=[0.50,0.382],\n",
    "    retr_high=[0.618,0.62],  # keep near canonical values\n",
    "    ext_pref=[('161','127'), ('127','161')]\n",
    ")\n",
    "\n",
    "rows = []\n",
    "keys, vals = zip(*param_grid.items())\n",
    "for combo in itertools.product(*vals):\n",
    "    P = dict(zip(keys, combo))\n",
    "    if P['ema_fast'] >= P['ema_slow']: \n",
    "        continue\n",
    "    all_trades = []\n",
    "    for d in days:\n",
    "        tdf = simulate_day_with_params(d, **P, session_filter=(\"09:35\",\"11:00\",\"14:00\",\"15:45\"))\n",
    "        if not tdf.empty:\n",
    "            all_trades.append(tdf)\n",
    "    if not all_trades:\n",
    "        continue\n",
    "    res = pd.concat(all_trades, ignore_index=True)\n",
    "    metrics = summarize(res)\n",
    "    rows.append({**P, **metrics})\n",
    "\n",
    "results = pd.DataFrame(rows).sort_values(['netR','pf'], ascending=[False, False])\n",
    "print(results.head(15).to_string(index=False))\n",
    "# save full table if you like\n",
    "# results.to_csv('fib_grid_results.csv', index=False)\n"
   ]
  }
 ],
 "metadata": {
  "kernelspec": {
   "display_name": "antman_env",
   "language": "python",
   "name": "python3"
  },
  "language_info": {
   "codemirror_mode": {
    "name": "ipython",
    "version": 3
   },
   "file_extension": ".py",
   "mimetype": "text/x-python",
   "name": "python",
   "nbconvert_exporter": "python",
   "pygments_lexer": "ipython3",
   "version": "3.12.3"
  }
 },
 "nbformat": 4,
 "nbformat_minor": 5
}
