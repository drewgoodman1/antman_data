{
 "cells": [
  {
   "cell_type": "markdown",
   "id": "217b6470",
   "metadata": {},
   "source": [
    "# Inspect and Summarize Silver SPY Parquet Files\n",
    "\n",
    "This notebook helps you inspect and summarize your silver-layer SPY 1-minute bar data. It loads, displays, and summarizes the cleaned data ready for analysis or visualization."
   ]
  },
  {
   "cell_type": "code",
   "execution_count": 1,
   "id": "a0f139f9",
   "metadata": {},
   "outputs": [],
   "source": [
    "# Import Required Libraries\n",
    "import os\n",
    "import pandas as pd\n",
    "import duckdb"
   ]
  },
  {
   "cell_type": "code",
   "execution_count": 2,
   "id": "7c1451ae",
   "metadata": {},
   "outputs": [
    {
     "name": "stdout",
     "output_type": "stream",
     "text": [
      "Plotly renderer: vscode\n"
     ]
    }
   ],
   "source": [
    "# Plotly renderer setup for VS Code + quick sanity check\n",
    "import plotly.io as pio\n",
    "try:\n",
    "    pio.renderers.default = 'vscode'  # Best for VS Code Jupyter\n",
    "except Exception:\n",
    "    try:\n",
    "        pio.renderers.default = 'plotly_mimetype'  # Fallback MIME renderer\n",
    "    except Exception:\n",
    "        pio.renderers.default = 'notebook_connected'  # Last resort\n",
    "print(f\"Plotly renderer: {pio.renderers.default}\")"
   ]
  },
  {
   "cell_type": "code",
   "execution_count": 3,
   "id": "5a0e38ba",
   "metadata": {},
   "outputs": [],
   "source": [
    "# Set up path to silver SPY data\n",
    "silver_dir = os.path.join(\n",
    "    os.path.dirname(os.path.dirname(os.path.abspath(\"../scripts/inspect_silver_spy.py\"))),\n",
    "    \"data\", \"silver\", \"SPY\"\n",
    ")"
   ]
  },
  {
   "cell_type": "code",
   "execution_count": 4,
   "id": "d4f7a0e0",
   "metadata": {},
   "outputs": [
    {
     "data": {
      "application/vnd.plotly.v1+json": {
       "config": {
        "plotlyServerURL": "https://plot.ly"
       },
       "data": [
        {
         "mode": "lines+markers",
         "name": "sanity",
         "type": "scatter",
         "x": [
          0,
          1,
          2
         ],
         "y": [
          0,
          1,
          0
         ]
        }
       ],
       "layout": {
        "template": {
         "data": {
          "bar": [
           {
            "error_x": {
             "color": "#2a3f5f"
            },
            "error_y": {
             "color": "#2a3f5f"
            },
            "marker": {
             "line": {
              "color": "#E5ECF6",
              "width": 0.5
             },
             "pattern": {
              "fillmode": "overlay",
              "size": 10,
              "solidity": 0.2
             }
            },
            "type": "bar"
           }
          ],
          "barpolar": [
           {
            "marker": {
             "line": {
              "color": "#E5ECF6",
              "width": 0.5
             },
             "pattern": {
              "fillmode": "overlay",
              "size": 10,
              "solidity": 0.2
             }
            },
            "type": "barpolar"
           }
          ],
          "carpet": [
           {
            "aaxis": {
             "endlinecolor": "#2a3f5f",
             "gridcolor": "white",
             "linecolor": "white",
             "minorgridcolor": "white",
             "startlinecolor": "#2a3f5f"
            },
            "baxis": {
             "endlinecolor": "#2a3f5f",
             "gridcolor": "white",
             "linecolor": "white",
             "minorgridcolor": "white",
             "startlinecolor": "#2a3f5f"
            },
            "type": "carpet"
           }
          ],
          "choropleth": [
           {
            "colorbar": {
             "outlinewidth": 0,
             "ticks": ""
            },
            "type": "choropleth"
           }
          ],
          "contour": [
           {
            "colorbar": {
             "outlinewidth": 0,
             "ticks": ""
            },
            "colorscale": [
             [
              0,
              "#0d0887"
             ],
             [
              0.1111111111111111,
              "#46039f"
             ],
             [
              0.2222222222222222,
              "#7201a8"
             ],
             [
              0.3333333333333333,
              "#9c179e"
             ],
             [
              0.4444444444444444,
              "#bd3786"
             ],
             [
              0.5555555555555556,
              "#d8576b"
             ],
             [
              0.6666666666666666,
              "#ed7953"
             ],
             [
              0.7777777777777778,
              "#fb9f3a"
             ],
             [
              0.8888888888888888,
              "#fdca26"
             ],
             [
              1,
              "#f0f921"
             ]
            ],
            "type": "contour"
           }
          ],
          "contourcarpet": [
           {
            "colorbar": {
             "outlinewidth": 0,
             "ticks": ""
            },
            "type": "contourcarpet"
           }
          ],
          "heatmap": [
           {
            "colorbar": {
             "outlinewidth": 0,
             "ticks": ""
            },
            "colorscale": [
             [
              0,
              "#0d0887"
             ],
             [
              0.1111111111111111,
              "#46039f"
             ],
             [
              0.2222222222222222,
              "#7201a8"
             ],
             [
              0.3333333333333333,
              "#9c179e"
             ],
             [
              0.4444444444444444,
              "#bd3786"
             ],
             [
              0.5555555555555556,
              "#d8576b"
             ],
             [
              0.6666666666666666,
              "#ed7953"
             ],
             [
              0.7777777777777778,
              "#fb9f3a"
             ],
             [
              0.8888888888888888,
              "#fdca26"
             ],
             [
              1,
              "#f0f921"
             ]
            ],
            "type": "heatmap"
           }
          ],
          "histogram": [
           {
            "marker": {
             "pattern": {
              "fillmode": "overlay",
              "size": 10,
              "solidity": 0.2
             }
            },
            "type": "histogram"
           }
          ],
          "histogram2d": [
           {
            "colorbar": {
             "outlinewidth": 0,
             "ticks": ""
            },
            "colorscale": [
             [
              0,
              "#0d0887"
             ],
             [
              0.1111111111111111,
              "#46039f"
             ],
             [
              0.2222222222222222,
              "#7201a8"
             ],
             [
              0.3333333333333333,
              "#9c179e"
             ],
             [
              0.4444444444444444,
              "#bd3786"
             ],
             [
              0.5555555555555556,
              "#d8576b"
             ],
             [
              0.6666666666666666,
              "#ed7953"
             ],
             [
              0.7777777777777778,
              "#fb9f3a"
             ],
             [
              0.8888888888888888,
              "#fdca26"
             ],
             [
              1,
              "#f0f921"
             ]
            ],
            "type": "histogram2d"
           }
          ],
          "histogram2dcontour": [
           {
            "colorbar": {
             "outlinewidth": 0,
             "ticks": ""
            },
            "colorscale": [
             [
              0,
              "#0d0887"
             ],
             [
              0.1111111111111111,
              "#46039f"
             ],
             [
              0.2222222222222222,
              "#7201a8"
             ],
             [
              0.3333333333333333,
              "#9c179e"
             ],
             [
              0.4444444444444444,
              "#bd3786"
             ],
             [
              0.5555555555555556,
              "#d8576b"
             ],
             [
              0.6666666666666666,
              "#ed7953"
             ],
             [
              0.7777777777777778,
              "#fb9f3a"
             ],
             [
              0.8888888888888888,
              "#fdca26"
             ],
             [
              1,
              "#f0f921"
             ]
            ],
            "type": "histogram2dcontour"
           }
          ],
          "mesh3d": [
           {
            "colorbar": {
             "outlinewidth": 0,
             "ticks": ""
            },
            "type": "mesh3d"
           }
          ],
          "parcoords": [
           {
            "line": {
             "colorbar": {
              "outlinewidth": 0,
              "ticks": ""
             }
            },
            "type": "parcoords"
           }
          ],
          "pie": [
           {
            "automargin": true,
            "type": "pie"
           }
          ],
          "scatter": [
           {
            "fillpattern": {
             "fillmode": "overlay",
             "size": 10,
             "solidity": 0.2
            },
            "type": "scatter"
           }
          ],
          "scatter3d": [
           {
            "line": {
             "colorbar": {
              "outlinewidth": 0,
              "ticks": ""
             }
            },
            "marker": {
             "colorbar": {
              "outlinewidth": 0,
              "ticks": ""
             }
            },
            "type": "scatter3d"
           }
          ],
          "scattercarpet": [
           {
            "marker": {
             "colorbar": {
              "outlinewidth": 0,
              "ticks": ""
             }
            },
            "type": "scattercarpet"
           }
          ],
          "scattergeo": [
           {
            "marker": {
             "colorbar": {
              "outlinewidth": 0,
              "ticks": ""
             }
            },
            "type": "scattergeo"
           }
          ],
          "scattergl": [
           {
            "marker": {
             "colorbar": {
              "outlinewidth": 0,
              "ticks": ""
             }
            },
            "type": "scattergl"
           }
          ],
          "scattermap": [
           {
            "marker": {
             "colorbar": {
              "outlinewidth": 0,
              "ticks": ""
             }
            },
            "type": "scattermap"
           }
          ],
          "scattermapbox": [
           {
            "marker": {
             "colorbar": {
              "outlinewidth": 0,
              "ticks": ""
             }
            },
            "type": "scattermapbox"
           }
          ],
          "scatterpolar": [
           {
            "marker": {
             "colorbar": {
              "outlinewidth": 0,
              "ticks": ""
             }
            },
            "type": "scatterpolar"
           }
          ],
          "scatterpolargl": [
           {
            "marker": {
             "colorbar": {
              "outlinewidth": 0,
              "ticks": ""
             }
            },
            "type": "scatterpolargl"
           }
          ],
          "scatterternary": [
           {
            "marker": {
             "colorbar": {
              "outlinewidth": 0,
              "ticks": ""
             }
            },
            "type": "scatterternary"
           }
          ],
          "surface": [
           {
            "colorbar": {
             "outlinewidth": 0,
             "ticks": ""
            },
            "colorscale": [
             [
              0,
              "#0d0887"
             ],
             [
              0.1111111111111111,
              "#46039f"
             ],
             [
              0.2222222222222222,
              "#7201a8"
             ],
             [
              0.3333333333333333,
              "#9c179e"
             ],
             [
              0.4444444444444444,
              "#bd3786"
             ],
             [
              0.5555555555555556,
              "#d8576b"
             ],
             [
              0.6666666666666666,
              "#ed7953"
             ],
             [
              0.7777777777777778,
              "#fb9f3a"
             ],
             [
              0.8888888888888888,
              "#fdca26"
             ],
             [
              1,
              "#f0f921"
             ]
            ],
            "type": "surface"
           }
          ],
          "table": [
           {
            "cells": {
             "fill": {
              "color": "#EBF0F8"
             },
             "line": {
              "color": "white"
             }
            },
            "header": {
             "fill": {
              "color": "#C8D4E3"
             },
             "line": {
              "color": "white"
             }
            },
            "type": "table"
           }
          ]
         },
         "layout": {
          "annotationdefaults": {
           "arrowcolor": "#2a3f5f",
           "arrowhead": 0,
           "arrowwidth": 1
          },
          "autotypenumbers": "strict",
          "coloraxis": {
           "colorbar": {
            "outlinewidth": 0,
            "ticks": ""
           }
          },
          "colorscale": {
           "diverging": [
            [
             0,
             "#8e0152"
            ],
            [
             0.1,
             "#c51b7d"
            ],
            [
             0.2,
             "#de77ae"
            ],
            [
             0.3,
             "#f1b6da"
            ],
            [
             0.4,
             "#fde0ef"
            ],
            [
             0.5,
             "#f7f7f7"
            ],
            [
             0.6,
             "#e6f5d0"
            ],
            [
             0.7,
             "#b8e186"
            ],
            [
             0.8,
             "#7fbc41"
            ],
            [
             0.9,
             "#4d9221"
            ],
            [
             1,
             "#276419"
            ]
           ],
           "sequential": [
            [
             0,
             "#0d0887"
            ],
            [
             0.1111111111111111,
             "#46039f"
            ],
            [
             0.2222222222222222,
             "#7201a8"
            ],
            [
             0.3333333333333333,
             "#9c179e"
            ],
            [
             0.4444444444444444,
             "#bd3786"
            ],
            [
             0.5555555555555556,
             "#d8576b"
            ],
            [
             0.6666666666666666,
             "#ed7953"
            ],
            [
             0.7777777777777778,
             "#fb9f3a"
            ],
            [
             0.8888888888888888,
             "#fdca26"
            ],
            [
             1,
             "#f0f921"
            ]
           ],
           "sequentialminus": [
            [
             0,
             "#0d0887"
            ],
            [
             0.1111111111111111,
             "#46039f"
            ],
            [
             0.2222222222222222,
             "#7201a8"
            ],
            [
             0.3333333333333333,
             "#9c179e"
            ],
            [
             0.4444444444444444,
             "#bd3786"
            ],
            [
             0.5555555555555556,
             "#d8576b"
            ],
            [
             0.6666666666666666,
             "#ed7953"
            ],
            [
             0.7777777777777778,
             "#fb9f3a"
            ],
            [
             0.8888888888888888,
             "#fdca26"
            ],
            [
             1,
             "#f0f921"
            ]
           ]
          },
          "colorway": [
           "#636efa",
           "#EF553B",
           "#00cc96",
           "#ab63fa",
           "#FFA15A",
           "#19d3f3",
           "#FF6692",
           "#B6E880",
           "#FF97FF",
           "#FECB52"
          ],
          "font": {
           "color": "#2a3f5f"
          },
          "geo": {
           "bgcolor": "white",
           "lakecolor": "white",
           "landcolor": "#E5ECF6",
           "showlakes": true,
           "showland": true,
           "subunitcolor": "white"
          },
          "hoverlabel": {
           "align": "left"
          },
          "hovermode": "closest",
          "mapbox": {
           "style": "light"
          },
          "paper_bgcolor": "white",
          "plot_bgcolor": "#E5ECF6",
          "polar": {
           "angularaxis": {
            "gridcolor": "white",
            "linecolor": "white",
            "ticks": ""
           },
           "bgcolor": "#E5ECF6",
           "radialaxis": {
            "gridcolor": "white",
            "linecolor": "white",
            "ticks": ""
           }
          },
          "scene": {
           "xaxis": {
            "backgroundcolor": "#E5ECF6",
            "gridcolor": "white",
            "gridwidth": 2,
            "linecolor": "white",
            "showbackground": true,
            "ticks": "",
            "zerolinecolor": "white"
           },
           "yaxis": {
            "backgroundcolor": "#E5ECF6",
            "gridcolor": "white",
            "gridwidth": 2,
            "linecolor": "white",
            "showbackground": true,
            "ticks": "",
            "zerolinecolor": "white"
           },
           "zaxis": {
            "backgroundcolor": "#E5ECF6",
            "gridcolor": "white",
            "gridwidth": 2,
            "linecolor": "white",
            "showbackground": true,
            "ticks": "",
            "zerolinecolor": "white"
           }
          },
          "shapedefaults": {
           "line": {
            "color": "#2a3f5f"
           }
          },
          "ternary": {
           "aaxis": {
            "gridcolor": "white",
            "linecolor": "white",
            "ticks": ""
           },
           "baxis": {
            "gridcolor": "white",
            "linecolor": "white",
            "ticks": ""
           },
           "bgcolor": "#E5ECF6",
           "caxis": {
            "gridcolor": "white",
            "linecolor": "white",
            "ticks": ""
           }
          },
          "title": {
           "x": 0.05
          },
          "xaxis": {
           "automargin": true,
           "gridcolor": "white",
           "linecolor": "white",
           "ticks": "",
           "title": {
            "standoff": 15
           },
           "zerolinecolor": "white",
           "zerolinewidth": 2
          },
          "yaxis": {
           "automargin": true,
           "gridcolor": "white",
           "linecolor": "white",
           "ticks": "",
           "title": {
            "standoff": 15
           },
           "zerolinecolor": "white",
           "zerolinewidth": 2
          }
         }
        },
        "title": {
         "text": "Plotly Sanity Check"
        }
       }
      }
     },
     "metadata": {},
     "output_type": "display_data"
    }
   ],
   "source": [
    "# Sanity check plot\n",
    "import plotly.graph_objects as go\n",
    "fig__sanity = go.Figure(data=[go.Scatter(x=[0,1,2], y=[0,1,0], mode='lines+markers', name='sanity')])\n",
    "fig__sanity.update_layout(title='Plotly Sanity Check')\n",
    "fig__sanity.show()"
   ]
  },
  {
   "cell_type": "code",
   "execution_count": 5,
   "id": "efe7d871",
   "metadata": {},
   "outputs": [],
   "source": [
    "# List and load parquet files\n",
    "files = sorted([f for f in os.listdir(silver_dir) if f.endswith(\".parquet\")])\n",
    "\n",
    "if not files:\n",
    "    raise FileNotFoundError(f\"No parquet files found in {silver_dir}\")"
   ]
  },
  {
   "cell_type": "code",
   "execution_count": 6,
   "id": "1dfff635",
   "metadata": {},
   "outputs": [
    {
     "name": "stdout",
     "output_type": "stream",
     "text": [
      "Sample file: /home/agoodman/workspace/antman_data/data/silver/SPY/spy_1min_2025-01-02.parquet\n"
     ]
    },
    {
     "data": {
      "text/html": [
       "<div>\n",
       "<style scoped>\n",
       "    .dataframe tbody tr th:only-of-type {\n",
       "        vertical-align: middle;\n",
       "    }\n",
       "\n",
       "    .dataframe tbody tr th {\n",
       "        vertical-align: top;\n",
       "    }\n",
       "\n",
       "    .dataframe thead th {\n",
       "        text-align: right;\n",
       "    }\n",
       "</style>\n",
       "<table border=\"1\" class=\"dataframe\">\n",
       "  <thead>\n",
       "    <tr style=\"text-align: right;\">\n",
       "      <th></th>\n",
       "      <th>close</th>\n",
       "      <th>high</th>\n",
       "      <th>low</th>\n",
       "      <th>num_trades</th>\n",
       "      <th>open</th>\n",
       "      <th>volume</th>\n",
       "      <th>vwap</th>\n",
       "    </tr>\n",
       "    <tr>\n",
       "      <th>t</th>\n",
       "      <th></th>\n",
       "      <th></th>\n",
       "      <th></th>\n",
       "      <th></th>\n",
       "      <th></th>\n",
       "      <th></th>\n",
       "      <th></th>\n",
       "    </tr>\n",
       "  </thead>\n",
       "  <tbody>\n",
       "    <tr>\n",
       "      <th>2025-01-02 14:30:00+00:00</th>\n",
       "      <td>589.45</td>\n",
       "      <td>589.45</td>\n",
       "      <td>588.4600</td>\n",
       "      <td>16472</td>\n",
       "      <td>589.39</td>\n",
       "      <td>1300579</td>\n",
       "      <td>588.918280</td>\n",
       "    </tr>\n",
       "    <tr>\n",
       "      <th>2025-01-02 14:31:00+00:00</th>\n",
       "      <td>589.57</td>\n",
       "      <td>589.60</td>\n",
       "      <td>589.0400</td>\n",
       "      <td>2160</td>\n",
       "      <td>589.45</td>\n",
       "      <td>175662</td>\n",
       "      <td>589.334934</td>\n",
       "    </tr>\n",
       "    <tr>\n",
       "      <th>2025-01-02 14:32:00+00:00</th>\n",
       "      <td>589.09</td>\n",
       "      <td>589.65</td>\n",
       "      <td>589.0319</td>\n",
       "      <td>1542</td>\n",
       "      <td>589.49</td>\n",
       "      <td>125032</td>\n",
       "      <td>589.381349</td>\n",
       "    </tr>\n",
       "    <tr>\n",
       "      <th>2025-01-02 14:33:00+00:00</th>\n",
       "      <td>588.01</td>\n",
       "      <td>589.18</td>\n",
       "      <td>587.9800</td>\n",
       "      <td>2396</td>\n",
       "      <td>589.09</td>\n",
       "      <td>132101</td>\n",
       "      <td>588.624495</td>\n",
       "    </tr>\n",
       "    <tr>\n",
       "      <th>2025-01-02 14:34:00+00:00</th>\n",
       "      <td>587.83</td>\n",
       "      <td>588.52</td>\n",
       "      <td>587.8100</td>\n",
       "      <td>1916</td>\n",
       "      <td>587.99</td>\n",
       "      <td>145261</td>\n",
       "      <td>588.180358</td>\n",
       "    </tr>\n",
       "  </tbody>\n",
       "</table>\n",
       "</div>"
      ],
      "text/plain": [
       "                            close    high       low  num_trades    open  \\\n",
       "t                                                                         \n",
       "2025-01-02 14:30:00+00:00  589.45  589.45  588.4600       16472  589.39   \n",
       "2025-01-02 14:31:00+00:00  589.57  589.60  589.0400        2160  589.45   \n",
       "2025-01-02 14:32:00+00:00  589.09  589.65  589.0319        1542  589.49   \n",
       "2025-01-02 14:33:00+00:00  588.01  589.18  587.9800        2396  589.09   \n",
       "2025-01-02 14:34:00+00:00  587.83  588.52  587.8100        1916  587.99   \n",
       "\n",
       "                            volume        vwap  \n",
       "t                                               \n",
       "2025-01-02 14:30:00+00:00  1300579  588.918280  \n",
       "2025-01-02 14:31:00+00:00   175662  589.334934  \n",
       "2025-01-02 14:32:00+00:00   125032  589.381349  \n",
       "2025-01-02 14:33:00+00:00   132101  588.624495  \n",
       "2025-01-02 14:34:00+00:00   145261  588.180358  "
      ]
     },
     "metadata": {},
     "output_type": "display_data"
    },
    {
     "name": "stdout",
     "output_type": "stream",
     "text": [
      "<class 'pandas.core.frame.DataFrame'>\n",
      "DatetimeIndex: 391 entries, 2025-01-02 14:30:00+00:00 to 2025-01-02 21:00:00+00:00\n",
      "Data columns (total 7 columns):\n",
      " #   Column      Non-Null Count  Dtype  \n",
      "---  ------      --------------  -----  \n",
      " 0   close       391 non-null    float64\n",
      " 1   high        391 non-null    float64\n",
      " 2   low         391 non-null    float64\n",
      " 3   num_trades  391 non-null    int64  \n",
      " 4   open        391 non-null    float64\n",
      " 5   volume      391 non-null    int64  \n",
      " 6   vwap        391 non-null    float64\n",
      "dtypes: float64(5), int64(2)\n",
      "memory usage: 24.4 KB\n"
     ]
    },
    {
     "data": {
      "text/plain": [
       "None"
      ]
     },
     "metadata": {},
     "output_type": "display_data"
    },
    {
     "name": "stdout",
     "output_type": "stream",
     "text": [
      "\n",
      "Columns: ['close', 'high', 'low', 'num_trades', 'open', 'volume', 'vwap']\n"
     ]
    }
   ],
   "source": [
    "# Inspect a sample parquet file\n",
    "sample_file = os.path.join(silver_dir, files[0])\n",
    "df = pd.read_parquet(sample_file)\n",
    "\n",
    "print(f\"Sample file: {sample_file}\")\n",
    "display(df.head())\n",
    "display(df.info())\n",
    "print(\"\\nColumns:\", df.columns.tolist())"
   ]
  },
  {
   "cell_type": "code",
   "execution_count": 7,
   "id": "9d02cea7",
   "metadata": {},
   "outputs": [
    {
     "name": "stdout",
     "output_type": "stream",
     "text": [
      "Total files: 149\n",
      "Total rows: 58094\n",
      "Date range: 2025-01-02 to 2025-08-07\n"
     ]
    }
   ],
   "source": [
    "# Summarize all parquet files (row counts, date range) — fast via DuckDB\n",
    "import duckdb\n",
    "\n",
    "glob_path = os.path.join(silver_dir, \"*.parquet\")\n",
    "# Count rows across all Parquet files efficiently\n",
    "with duckdb.connect() as con:\n",
    "    (total_rows,) = con.execute(\n",
    "        \"SELECT COUNT(*) FROM read_parquet(?, union_by_name=true)\", [glob_path]\n",
    "    ).fetchone()\n",
    "\n",
    "# Derive available dates from filenames (no data load)\n",
    "dates = sorted(f.split(\"_\")[-1].replace(\".parquet\", \"\") for f in files)\n",
    "print(f\"Total files: {len(files)}\")\n",
    "print(f\"Total rows: {total_rows}\")\n",
    "print(f\"Date range: {min(dates)} to {max(dates)}\")"
   ]
  },
  {
   "cell_type": "markdown",
   "id": "937c63b4",
   "metadata": {},
   "source": [
    "## Visualizing SPY 1-Minute Bars with Plotly\n",
    "\n",
    "The following cells demonstrate how to create interactive candlestick and volume charts using Plotly. These are standard visualizations for financial time series data."
   ]
  },
  {
   "cell_type": "code",
   "execution_count": 8,
   "id": "f44fbd76",
   "metadata": {},
   "outputs": [
    {
     "data": {
      "application/vnd.plotly.v1+json": {
       "config": {
        "plotlyServerURL": "https://plot.ly"
       },
       "data": [
        {
         "close": {
          "bdata": "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",
          "dtype": "f8"
         },
         "high": {
          "bdata": "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",
          "dtype": "f8"
         },
         "low": {
          "bdata": "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",
          "dtype": "f8"
         },
         "name": "SPY 1-min",
         "open": {
          "bdata": "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",
          "dtype": "f8"
         },
         "type": "candlestick",
         "x": [
          "2025-01-02T14:30:00+00:00",
          "2025-01-02T14:31:00+00:00",
          "2025-01-02T14:32:00+00:00",
          "2025-01-02T14:33:00+00:00",
          "2025-01-02T14:34:00+00:00",
          "2025-01-02T14:35:00+00:00",
          "2025-01-02T14:36:00+00:00",
          "2025-01-02T14:37:00+00:00",
          "2025-01-02T14:38:00+00:00",
          "2025-01-02T14:39:00+00:00",
          "2025-01-02T14:40:00+00:00",
          "2025-01-02T14:41:00+00:00",
          "2025-01-02T14:42:00+00:00",
          "2025-01-02T14:43:00+00:00",
          "2025-01-02T14:44:00+00:00",
          "2025-01-02T14:45:00+00:00",
          "2025-01-02T14:46:00+00:00",
          "2025-01-02T14:47:00+00:00",
          "2025-01-02T14:48:00+00:00",
          "2025-01-02T14:49:00+00:00",
          "2025-01-02T14:50:00+00:00",
          "2025-01-02T14:51:00+00:00",
          "2025-01-02T14:52:00+00:00",
          "2025-01-02T14:53:00+00:00",
          "2025-01-02T14:54:00+00:00",
          "2025-01-02T14:55:00+00:00",
          "2025-01-02T14:56:00+00:00",
          "2025-01-02T14:57:00+00:00",
          "2025-01-02T14:58:00+00:00",
          "2025-01-02T14:59:00+00:00",
          "2025-01-02T15:00:00+00:00",
          "2025-01-02T15:01:00+00:00",
          "2025-01-02T15:02:00+00:00",
          "2025-01-02T15:03:00+00:00",
          "2025-01-02T15:04:00+00:00",
          "2025-01-02T15:05:00+00:00",
          "2025-01-02T15:06:00+00:00",
          "2025-01-02T15:07:00+00:00",
          "2025-01-02T15:08:00+00:00",
          "2025-01-02T15:09:00+00:00",
          "2025-01-02T15:10:00+00:00",
          "2025-01-02T15:11:00+00:00",
          "2025-01-02T15:12:00+00:00",
          "2025-01-02T15:13:00+00:00",
          "2025-01-02T15:14:00+00:00",
          "2025-01-02T15:15:00+00:00",
          "2025-01-02T15:16:00+00:00",
          "2025-01-02T15:17:00+00:00",
          "2025-01-02T15:18:00+00:00",
          "2025-01-02T15:19:00+00:00",
          "2025-01-02T15:20:00+00:00",
          "2025-01-02T15:21:00+00:00",
          "2025-01-02T15:22:00+00:00",
          "2025-01-02T15:23:00+00:00",
          "2025-01-02T15:24:00+00:00",
          "2025-01-02T15:25:00+00:00",
          "2025-01-02T15:26:00+00:00",
          "2025-01-02T15:27:00+00:00",
          "2025-01-02T15:28:00+00:00",
          "2025-01-02T15:29:00+00:00",
          "2025-01-02T15:30:00+00:00",
          "2025-01-02T15:31:00+00:00",
          "2025-01-02T15:32:00+00:00",
          "2025-01-02T15:33:00+00:00",
          "2025-01-02T15:34:00+00:00",
          "2025-01-02T15:35:00+00:00",
          "2025-01-02T15:36:00+00:00",
          "2025-01-02T15:37:00+00:00",
          "2025-01-02T15:38:00+00:00",
          "2025-01-02T15:39:00+00:00",
          "2025-01-02T15:40:00+00:00",
          "2025-01-02T15:41:00+00:00",
          "2025-01-02T15:42:00+00:00",
          "2025-01-02T15:43:00+00:00",
          "2025-01-02T15:44:00+00:00",
          "2025-01-02T15:45:00+00:00",
          "2025-01-02T15:46:00+00:00",
          "2025-01-02T15:47:00+00:00",
          "2025-01-02T15:48:00+00:00",
          "2025-01-02T15:49:00+00:00",
          "2025-01-02T15:50:00+00:00",
          "2025-01-02T15:51:00+00:00",
          "2025-01-02T15:52:00+00:00",
          "2025-01-02T15:53:00+00:00",
          "2025-01-02T15:54:00+00:00",
          "2025-01-02T15:55:00+00:00",
          "2025-01-02T15:56:00+00:00",
          "2025-01-02T15:57:00+00:00",
          "2025-01-02T15:58:00+00:00",
          "2025-01-02T15:59:00+00:00",
          "2025-01-02T16:00:00+00:00",
          "2025-01-02T16:01:00+00:00",
          "2025-01-02T16:02:00+00:00",
          "2025-01-02T16:03:00+00:00",
          "2025-01-02T16:04:00+00:00",
          "2025-01-02T16:05:00+00:00",
          "2025-01-02T16:06:00+00:00",
          "2025-01-02T16:07:00+00:00",
          "2025-01-02T16:08:00+00:00",
          "2025-01-02T16:09:00+00:00",
          "2025-01-02T16:10:00+00:00",
          "2025-01-02T16:11:00+00:00",
          "2025-01-02T16:12:00+00:00",
          "2025-01-02T16:13:00+00:00",
          "2025-01-02T16:14:00+00:00",
          "2025-01-02T16:15:00+00:00",
          "2025-01-02T16:16:00+00:00",
          "2025-01-02T16:17:00+00:00",
          "2025-01-02T16:18:00+00:00",
          "2025-01-02T16:19:00+00:00",
          "2025-01-02T16:20:00+00:00",
          "2025-01-02T16:21:00+00:00",
          "2025-01-02T16:22:00+00:00",
          "2025-01-02T16:23:00+00:00",
          "2025-01-02T16:24:00+00:00",
          "2025-01-02T16:25:00+00:00",
          "2025-01-02T16:26:00+00:00",
          "2025-01-02T16:27:00+00:00",
          "2025-01-02T16:28:00+00:00",
          "2025-01-02T16:29:00+00:00",
          "2025-01-02T16:30:00+00:00",
          "2025-01-02T16:31:00+00:00",
          "2025-01-02T16:32:00+00:00",
          "2025-01-02T16:33:00+00:00",
          "2025-01-02T16:34:00+00:00",
          "2025-01-02T16:35:00+00:00",
          "2025-01-02T16:36:00+00:00",
          "2025-01-02T16:37:00+00:00",
          "2025-01-02T16:38:00+00:00",
          "2025-01-02T16:39:00+00:00",
          "2025-01-02T16:40:00+00:00",
          "2025-01-02T16:41:00+00:00",
          "2025-01-02T16:42:00+00:00",
          "2025-01-02T16:43:00+00:00",
          "2025-01-02T16:44:00+00:00",
          "2025-01-02T16:45:00+00:00",
          "2025-01-02T16:46:00+00:00",
          "2025-01-02T16:47:00+00:00",
          "2025-01-02T16:48:00+00:00",
          "2025-01-02T16:49:00+00:00",
          "2025-01-02T16:50:00+00:00",
          "2025-01-02T16:51:00+00:00",
          "2025-01-02T16:52:00+00:00",
          "2025-01-02T16:53:00+00:00",
          "2025-01-02T16:54:00+00:00",
          "2025-01-02T16:55:00+00:00",
          "2025-01-02T16:56:00+00:00",
          "2025-01-02T16:57:00+00:00",
          "2025-01-02T16:58:00+00:00",
          "2025-01-02T16:59:00+00:00",
          "2025-01-02T17:00:00+00:00",
          "2025-01-02T17:01:00+00:00",
          "2025-01-02T17:02:00+00:00",
          "2025-01-02T17:03:00+00:00",
          "2025-01-02T17:04:00+00:00",
          "2025-01-02T17:05:00+00:00",
          "2025-01-02T17:06:00+00:00",
          "2025-01-02T17:07:00+00:00",
          "2025-01-02T17:08:00+00:00",
          "2025-01-02T17:09:00+00:00",
          "2025-01-02T17:10:00+00:00",
          "2025-01-02T17:11:00+00:00",
          "2025-01-02T17:12:00+00:00",
          "2025-01-02T17:13:00+00:00",
          "2025-01-02T17:14:00+00:00",
          "2025-01-02T17:15:00+00:00",
          "2025-01-02T17:16:00+00:00",
          "2025-01-02T17:17:00+00:00",
          "2025-01-02T17:18:00+00:00",
          "2025-01-02T17:19:00+00:00",
          "2025-01-02T17:20:00+00:00",
          "2025-01-02T17:21:00+00:00",
          "2025-01-02T17:22:00+00:00",
          "2025-01-02T17:23:00+00:00",
          "2025-01-02T17:24:00+00:00",
          "2025-01-02T17:25:00+00:00",
          "2025-01-02T17:26:00+00:00",
          "2025-01-02T17:27:00+00:00",
          "2025-01-02T17:28:00+00:00",
          "2025-01-02T17:29:00+00:00",
          "2025-01-02T17:30:00+00:00",
          "2025-01-02T17:31:00+00:00",
          "2025-01-02T17:32:00+00:00",
          "2025-01-02T17:33:00+00:00",
          "2025-01-02T17:34:00+00:00",
          "2025-01-02T17:35:00+00:00",
          "2025-01-02T17:36:00+00:00",
          "2025-01-02T17:37:00+00:00",
          "2025-01-02T17:38:00+00:00",
          "2025-01-02T17:39:00+00:00",
          "2025-01-02T17:40:00+00:00",
          "2025-01-02T17:41:00+00:00",
          "2025-01-02T17:42:00+00:00",
          "2025-01-02T17:43:00+00:00",
          "2025-01-02T17:44:00+00:00",
          "2025-01-02T17:45:00+00:00",
          "2025-01-02T17:46:00+00:00",
          "2025-01-02T17:47:00+00:00",
          "2025-01-02T17:48:00+00:00",
          "2025-01-02T17:49:00+00:00",
          "2025-01-02T17:50:00+00:00",
          "2025-01-02T17:51:00+00:00",
          "2025-01-02T17:52:00+00:00",
          "2025-01-02T17:53:00+00:00",
          "2025-01-02T17:54:00+00:00",
          "2025-01-02T17:55:00+00:00",
          "2025-01-02T17:56:00+00:00",
          "2025-01-02T17:57:00+00:00",
          "2025-01-02T17:58:00+00:00",
          "2025-01-02T17:59:00+00:00",
          "2025-01-02T18:00:00+00:00",
          "2025-01-02T18:01:00+00:00",
          "2025-01-02T18:02:00+00:00",
          "2025-01-02T18:03:00+00:00",
          "2025-01-02T18:04:00+00:00",
          "2025-01-02T18:05:00+00:00",
          "2025-01-02T18:06:00+00:00",
          "2025-01-02T18:07:00+00:00",
          "2025-01-02T18:08:00+00:00",
          "2025-01-02T18:09:00+00:00",
          "2025-01-02T18:10:00+00:00",
          "2025-01-02T18:11:00+00:00",
          "2025-01-02T18:12:00+00:00",
          "2025-01-02T18:13:00+00:00",
          "2025-01-02T18:14:00+00:00",
          "2025-01-02T18:15:00+00:00",
          "2025-01-02T18:16:00+00:00",
          "2025-01-02T18:17:00+00:00",
          "2025-01-02T18:18:00+00:00",
          "2025-01-02T18:19:00+00:00",
          "2025-01-02T18:20:00+00:00",
          "2025-01-02T18:21:00+00:00",
          "2025-01-02T18:22:00+00:00",
          "2025-01-02T18:23:00+00:00",
          "2025-01-02T18:24:00+00:00",
          "2025-01-02T18:25:00+00:00",
          "2025-01-02T18:26:00+00:00",
          "2025-01-02T18:27:00+00:00",
          "2025-01-02T18:28:00+00:00",
          "2025-01-02T18:29:00+00:00",
          "2025-01-02T18:30:00+00:00",
          "2025-01-02T18:31:00+00:00",
          "2025-01-02T18:32:00+00:00",
          "2025-01-02T18:33:00+00:00",
          "2025-01-02T18:34:00+00:00",
          "2025-01-02T18:35:00+00:00",
          "2025-01-02T18:36:00+00:00",
          "2025-01-02T18:37:00+00:00",
          "2025-01-02T18:38:00+00:00",
          "2025-01-02T18:39:00+00:00",
          "2025-01-02T18:40:00+00:00",
          "2025-01-02T18:41:00+00:00",
          "2025-01-02T18:42:00+00:00",
          "2025-01-02T18:43:00+00:00",
          "2025-01-02T18:44:00+00:00",
          "2025-01-02T18:45:00+00:00",
          "2025-01-02T18:46:00+00:00",
          "2025-01-02T18:47:00+00:00",
          "2025-01-02T18:48:00+00:00",
          "2025-01-02T18:49:00+00:00",
          "2025-01-02T18:50:00+00:00",
          "2025-01-02T18:51:00+00:00",
          "2025-01-02T18:52:00+00:00",
          "2025-01-02T18:53:00+00:00",
          "2025-01-02T18:54:00+00:00",
          "2025-01-02T18:55:00+00:00",
          "2025-01-02T18:56:00+00:00",
          "2025-01-02T18:57:00+00:00",
          "2025-01-02T18:58:00+00:00",
          "2025-01-02T18:59:00+00:00",
          "2025-01-02T19:00:00+00:00",
          "2025-01-02T19:01:00+00:00",
          "2025-01-02T19:02:00+00:00",
          "2025-01-02T19:03:00+00:00",
          "2025-01-02T19:04:00+00:00",
          "2025-01-02T19:05:00+00:00",
          "2025-01-02T19:06:00+00:00",
          "2025-01-02T19:07:00+00:00",
          "2025-01-02T19:08:00+00:00",
          "2025-01-02T19:09:00+00:00",
          "2025-01-02T19:10:00+00:00",
          "2025-01-02T19:11:00+00:00",
          "2025-01-02T19:12:00+00:00",
          "2025-01-02T19:13:00+00:00",
          "2025-01-02T19:14:00+00:00",
          "2025-01-02T19:15:00+00:00",
          "2025-01-02T19:16:00+00:00",
          "2025-01-02T19:17:00+00:00",
          "2025-01-02T19:18:00+00:00",
          "2025-01-02T19:19:00+00:00",
          "2025-01-02T19:20:00+00:00",
          "2025-01-02T19:21:00+00:00",
          "2025-01-02T19:22:00+00:00",
          "2025-01-02T19:23:00+00:00",
          "2025-01-02T19:24:00+00:00",
          "2025-01-02T19:25:00+00:00",
          "2025-01-02T19:26:00+00:00",
          "2025-01-02T19:27:00+00:00",
          "2025-01-02T19:28:00+00:00",
          "2025-01-02T19:29:00+00:00",
          "2025-01-02T19:30:00+00:00",
          "2025-01-02T19:31:00+00:00",
          "2025-01-02T19:32:00+00:00",
          "2025-01-02T19:33:00+00:00",
          "2025-01-02T19:34:00+00:00",
          "2025-01-02T19:35:00+00:00",
          "2025-01-02T19:36:00+00:00",
          "2025-01-02T19:37:00+00:00",
          "2025-01-02T19:38:00+00:00",
          "2025-01-02T19:39:00+00:00",
          "2025-01-02T19:40:00+00:00",
          "2025-01-02T19:41:00+00:00",
          "2025-01-02T19:42:00+00:00",
          "2025-01-02T19:43:00+00:00",
          "2025-01-02T19:44:00+00:00",
          "2025-01-02T19:45:00+00:00",
          "2025-01-02T19:46:00+00:00",
          "2025-01-02T19:47:00+00:00",
          "2025-01-02T19:48:00+00:00",
          "2025-01-02T19:49:00+00:00",
          "2025-01-02T19:50:00+00:00",
          "2025-01-02T19:51:00+00:00",
          "2025-01-02T19:52:00+00:00",
          "2025-01-02T19:53:00+00:00",
          "2025-01-02T19:54:00+00:00",
          "2025-01-02T19:55:00+00:00",
          "2025-01-02T19:56:00+00:00",
          "2025-01-02T19:57:00+00:00",
          "2025-01-02T19:58:00+00:00",
          "2025-01-02T19:59:00+00:00",
          "2025-01-02T20:00:00+00:00",
          "2025-01-02T20:01:00+00:00",
          "2025-01-02T20:02:00+00:00",
          "2025-01-02T20:03:00+00:00",
          "2025-01-02T20:04:00+00:00",
          "2025-01-02T20:05:00+00:00",
          "2025-01-02T20:06:00+00:00",
          "2025-01-02T20:07:00+00:00",
          "2025-01-02T20:08:00+00:00",
          "2025-01-02T20:09:00+00:00",
          "2025-01-02T20:10:00+00:00",
          "2025-01-02T20:11:00+00:00",
          "2025-01-02T20:12:00+00:00",
          "2025-01-02T20:13:00+00:00",
          "2025-01-02T20:14:00+00:00",
          "2025-01-02T20:15:00+00:00",
          "2025-01-02T20:16:00+00:00",
          "2025-01-02T20:17:00+00:00",
          "2025-01-02T20:18:00+00:00",
          "2025-01-02T20:19:00+00:00",
          "2025-01-02T20:20:00+00:00",
          "2025-01-02T20:21:00+00:00",
          "2025-01-02T20:22:00+00:00",
          "2025-01-02T20:23:00+00:00",
          "2025-01-02T20:24:00+00:00",
          "2025-01-02T20:25:00+00:00",
          "2025-01-02T20:26:00+00:00",
          "2025-01-02T20:27:00+00:00",
          "2025-01-02T20:28:00+00:00",
          "2025-01-02T20:29:00+00:00",
          "2025-01-02T20:30:00+00:00",
          "2025-01-02T20:31:00+00:00",
          "2025-01-02T20:32:00+00:00",
          "2025-01-02T20:33:00+00:00",
          "2025-01-02T20:34:00+00:00",
          "2025-01-02T20:35:00+00:00",
          "2025-01-02T20:36:00+00:00",
          "2025-01-02T20:37:00+00:00",
          "2025-01-02T20:38:00+00:00",
          "2025-01-02T20:39:00+00:00",
          "2025-01-02T20:40:00+00:00",
          "2025-01-02T20:41:00+00:00",
          "2025-01-02T20:42:00+00:00",
          "2025-01-02T20:43:00+00:00",
          "2025-01-02T20:44:00+00:00",
          "2025-01-02T20:45:00+00:00",
          "2025-01-02T20:46:00+00:00",
          "2025-01-02T20:47:00+00:00",
          "2025-01-02T20:48:00+00:00",
          "2025-01-02T20:49:00+00:00",
          "2025-01-02T20:50:00+00:00",
          "2025-01-02T20:51:00+00:00",
          "2025-01-02T20:52:00+00:00",
          "2025-01-02T20:53:00+00:00",
          "2025-01-02T20:54:00+00:00",
          "2025-01-02T20:55:00+00:00",
          "2025-01-02T20:56:00+00:00",
          "2025-01-02T20:57:00+00:00",
          "2025-01-02T20:58:00+00:00",
          "2025-01-02T20:59:00+00:00",
          "2025-01-02T21:00:00+00:00"
         ]
        }
       ],
       "layout": {
        "template": {
         "data": {
          "bar": [
           {
            "error_x": {
             "color": "#2a3f5f"
            },
            "error_y": {
             "color": "#2a3f5f"
            },
            "marker": {
             "line": {
              "color": "#E5ECF6",
              "width": 0.5
             },
             "pattern": {
              "fillmode": "overlay",
              "size": 10,
              "solidity": 0.2
             }
            },
            "type": "bar"
           }
          ],
          "barpolar": [
           {
            "marker": {
             "line": {
              "color": "#E5ECF6",
              "width": 0.5
             },
             "pattern": {
              "fillmode": "overlay",
              "size": 10,
              "solidity": 0.2
             }
            },
            "type": "barpolar"
           }
          ],
          "carpet": [
           {
            "aaxis": {
             "endlinecolor": "#2a3f5f",
             "gridcolor": "white",
             "linecolor": "white",
             "minorgridcolor": "white",
             "startlinecolor": "#2a3f5f"
            },
            "baxis": {
             "endlinecolor": "#2a3f5f",
             "gridcolor": "white",
             "linecolor": "white",
             "minorgridcolor": "white",
             "startlinecolor": "#2a3f5f"
            },
            "type": "carpet"
           }
          ],
          "choropleth": [
           {
            "colorbar": {
             "outlinewidth": 0,
             "ticks": ""
            },
            "type": "choropleth"
           }
          ],
          "contour": [
           {
            "colorbar": {
             "outlinewidth": 0,
             "ticks": ""
            },
            "colorscale": [
             [
              0,
              "#0d0887"
             ],
             [
              0.1111111111111111,
              "#46039f"
             ],
             [
              0.2222222222222222,
              "#7201a8"
             ],
             [
              0.3333333333333333,
              "#9c179e"
             ],
             [
              0.4444444444444444,
              "#bd3786"
             ],
             [
              0.5555555555555556,
              "#d8576b"
             ],
             [
              0.6666666666666666,
              "#ed7953"
             ],
             [
              0.7777777777777778,
              "#fb9f3a"
             ],
             [
              0.8888888888888888,
              "#fdca26"
             ],
             [
              1,
              "#f0f921"
             ]
            ],
            "type": "contour"
           }
          ],
          "contourcarpet": [
           {
            "colorbar": {
             "outlinewidth": 0,
             "ticks": ""
            },
            "type": "contourcarpet"
           }
          ],
          "heatmap": [
           {
            "colorbar": {
             "outlinewidth": 0,
             "ticks": ""
            },
            "colorscale": [
             [
              0,
              "#0d0887"
             ],
             [
              0.1111111111111111,
              "#46039f"
             ],
             [
              0.2222222222222222,
              "#7201a8"
             ],
             [
              0.3333333333333333,
              "#9c179e"
             ],
             [
              0.4444444444444444,
              "#bd3786"
             ],
             [
              0.5555555555555556,
              "#d8576b"
             ],
             [
              0.6666666666666666,
              "#ed7953"
             ],
             [
              0.7777777777777778,
              "#fb9f3a"
             ],
             [
              0.8888888888888888,
              "#fdca26"
             ],
             [
              1,
              "#f0f921"
             ]
            ],
            "type": "heatmap"
           }
          ],
          "histogram": [
           {
            "marker": {
             "pattern": {
              "fillmode": "overlay",
              "size": 10,
              "solidity": 0.2
             }
            },
            "type": "histogram"
           }
          ],
          "histogram2d": [
           {
            "colorbar": {
             "outlinewidth": 0,
             "ticks": ""
            },
            "colorscale": [
             [
              0,
              "#0d0887"
             ],
             [
              0.1111111111111111,
              "#46039f"
             ],
             [
              0.2222222222222222,
              "#7201a8"
             ],
             [
              0.3333333333333333,
              "#9c179e"
             ],
             [
              0.4444444444444444,
              "#bd3786"
             ],
             [
              0.5555555555555556,
              "#d8576b"
             ],
             [
              0.6666666666666666,
              "#ed7953"
             ],
             [
              0.7777777777777778,
              "#fb9f3a"
             ],
             [
              0.8888888888888888,
              "#fdca26"
             ],
             [
              1,
              "#f0f921"
             ]
            ],
            "type": "histogram2d"
           }
          ],
          "histogram2dcontour": [
           {
            "colorbar": {
             "outlinewidth": 0,
             "ticks": ""
            },
            "colorscale": [
             [
              0,
              "#0d0887"
             ],
             [
              0.1111111111111111,
              "#46039f"
             ],
             [
              0.2222222222222222,
              "#7201a8"
             ],
             [
              0.3333333333333333,
              "#9c179e"
             ],
             [
              0.4444444444444444,
              "#bd3786"
             ],
             [
              0.5555555555555556,
              "#d8576b"
             ],
             [
              0.6666666666666666,
              "#ed7953"
             ],
             [
              0.7777777777777778,
              "#fb9f3a"
             ],
             [
              0.8888888888888888,
              "#fdca26"
             ],
             [
              1,
              "#f0f921"
             ]
            ],
            "type": "histogram2dcontour"
           }
          ],
          "mesh3d": [
           {
            "colorbar": {
             "outlinewidth": 0,
             "ticks": ""
            },
            "type": "mesh3d"
           }
          ],
          "parcoords": [
           {
            "line": {
             "colorbar": {
              "outlinewidth": 0,
              "ticks": ""
             }
            },
            "type": "parcoords"
           }
          ],
          "pie": [
           {
            "automargin": true,
            "type": "pie"
           }
          ],
          "scatter": [
           {
            "fillpattern": {
             "fillmode": "overlay",
             "size": 10,
             "solidity": 0.2
            },
            "type": "scatter"
           }
          ],
          "scatter3d": [
           {
            "line": {
             "colorbar": {
              "outlinewidth": 0,
              "ticks": ""
             }
            },
            "marker": {
             "colorbar": {
              "outlinewidth": 0,
              "ticks": ""
             }
            },
            "type": "scatter3d"
           }
          ],
          "scattercarpet": [
           {
            "marker": {
             "colorbar": {
              "outlinewidth": 0,
              "ticks": ""
             }
            },
            "type": "scattercarpet"
           }
          ],
          "scattergeo": [
           {
            "marker": {
             "colorbar": {
              "outlinewidth": 0,
              "ticks": ""
             }
            },
            "type": "scattergeo"
           }
          ],
          "scattergl": [
           {
            "marker": {
             "colorbar": {
              "outlinewidth": 0,
              "ticks": ""
             }
            },
            "type": "scattergl"
           }
          ],
          "scattermap": [
           {
            "marker": {
             "colorbar": {
              "outlinewidth": 0,
              "ticks": ""
             }
            },
            "type": "scattermap"
           }
          ],
          "scattermapbox": [
           {
            "marker": {
             "colorbar": {
              "outlinewidth": 0,
              "ticks": ""
             }
            },
            "type": "scattermapbox"
           }
          ],
          "scatterpolar": [
           {
            "marker": {
             "colorbar": {
              "outlinewidth": 0,
              "ticks": ""
             }
            },
            "type": "scatterpolar"
           }
          ],
          "scatterpolargl": [
           {
            "marker": {
             "colorbar": {
              "outlinewidth": 0,
              "ticks": ""
             }
            },
            "type": "scatterpolargl"
           }
          ],
          "scatterternary": [
           {
            "marker": {
             "colorbar": {
              "outlinewidth": 0,
              "ticks": ""
             }
            },
            "type": "scatterternary"
           }
          ],
          "surface": [
           {
            "colorbar": {
             "outlinewidth": 0,
             "ticks": ""
            },
            "colorscale": [
             [
              0,
              "#0d0887"
             ],
             [
              0.1111111111111111,
              "#46039f"
             ],
             [
              0.2222222222222222,
              "#7201a8"
             ],
             [
              0.3333333333333333,
              "#9c179e"
             ],
             [
              0.4444444444444444,
              "#bd3786"
             ],
             [
              0.5555555555555556,
              "#d8576b"
             ],
             [
              0.6666666666666666,
              "#ed7953"
             ],
             [
              0.7777777777777778,
              "#fb9f3a"
             ],
             [
              0.8888888888888888,
              "#fdca26"
             ],
             [
              1,
              "#f0f921"
             ]
            ],
            "type": "surface"
           }
          ],
          "table": [
           {
            "cells": {
             "fill": {
              "color": "#EBF0F8"
             },
             "line": {
              "color": "white"
             }
            },
            "header": {
             "fill": {
              "color": "#C8D4E3"
             },
             "line": {
              "color": "white"
             }
            },
            "type": "table"
           }
          ]
         },
         "layout": {
          "annotationdefaults": {
           "arrowcolor": "#2a3f5f",
           "arrowhead": 0,
           "arrowwidth": 1
          },
          "autotypenumbers": "strict",
          "coloraxis": {
           "colorbar": {
            "outlinewidth": 0,
            "ticks": ""
           }
          },
          "colorscale": {
           "diverging": [
            [
             0,
             "#8e0152"
            ],
            [
             0.1,
             "#c51b7d"
            ],
            [
             0.2,
             "#de77ae"
            ],
            [
             0.3,
             "#f1b6da"
            ],
            [
             0.4,
             "#fde0ef"
            ],
            [
             0.5,
             "#f7f7f7"
            ],
            [
             0.6,
             "#e6f5d0"
            ],
            [
             0.7,
             "#b8e186"
            ],
            [
             0.8,
             "#7fbc41"
            ],
            [
             0.9,
             "#4d9221"
            ],
            [
             1,
             "#276419"
            ]
           ],
           "sequential": [
            [
             0,
             "#0d0887"
            ],
            [
             0.1111111111111111,
             "#46039f"
            ],
            [
             0.2222222222222222,
             "#7201a8"
            ],
            [
             0.3333333333333333,
             "#9c179e"
            ],
            [
             0.4444444444444444,
             "#bd3786"
            ],
            [
             0.5555555555555556,
             "#d8576b"
            ],
            [
             0.6666666666666666,
             "#ed7953"
            ],
            [
             0.7777777777777778,
             "#fb9f3a"
            ],
            [
             0.8888888888888888,
             "#fdca26"
            ],
            [
             1,
             "#f0f921"
            ]
           ],
           "sequentialminus": [
            [
             0,
             "#0d0887"
            ],
            [
             0.1111111111111111,
             "#46039f"
            ],
            [
             0.2222222222222222,
             "#7201a8"
            ],
            [
             0.3333333333333333,
             "#9c179e"
            ],
            [
             0.4444444444444444,
             "#bd3786"
            ],
            [
             0.5555555555555556,
             "#d8576b"
            ],
            [
             0.6666666666666666,
             "#ed7953"
            ],
            [
             0.7777777777777778,
             "#fb9f3a"
            ],
            [
             0.8888888888888888,
             "#fdca26"
            ],
            [
             1,
             "#f0f921"
            ]
           ]
          },
          "colorway": [
           "#636efa",
           "#EF553B",
           "#00cc96",
           "#ab63fa",
           "#FFA15A",
           "#19d3f3",
           "#FF6692",
           "#B6E880",
           "#FF97FF",
           "#FECB52"
          ],
          "font": {
           "color": "#2a3f5f"
          },
          "geo": {
           "bgcolor": "white",
           "lakecolor": "white",
           "landcolor": "#E5ECF6",
           "showlakes": true,
           "showland": true,
           "subunitcolor": "white"
          },
          "hoverlabel": {
           "align": "left"
          },
          "hovermode": "closest",
          "mapbox": {
           "style": "light"
          },
          "paper_bgcolor": "white",
          "plot_bgcolor": "#E5ECF6",
          "polar": {
           "angularaxis": {
            "gridcolor": "white",
            "linecolor": "white",
            "ticks": ""
           },
           "bgcolor": "#E5ECF6",
           "radialaxis": {
            "gridcolor": "white",
            "linecolor": "white",
            "ticks": ""
           }
          },
          "scene": {
           "xaxis": {
            "backgroundcolor": "#E5ECF6",
            "gridcolor": "white",
            "gridwidth": 2,
            "linecolor": "white",
            "showbackground": true,
            "ticks": "",
            "zerolinecolor": "white"
           },
           "yaxis": {
            "backgroundcolor": "#E5ECF6",
            "gridcolor": "white",
            "gridwidth": 2,
            "linecolor": "white",
            "showbackground": true,
            "ticks": "",
            "zerolinecolor": "white"
           },
           "zaxis": {
            "backgroundcolor": "#E5ECF6",
            "gridcolor": "white",
            "gridwidth": 2,
            "linecolor": "white",
            "showbackground": true,
            "ticks": "",
            "zerolinecolor": "white"
           }
          },
          "shapedefaults": {
           "line": {
            "color": "#2a3f5f"
           }
          },
          "ternary": {
           "aaxis": {
            "gridcolor": "white",
            "linecolor": "white",
            "ticks": ""
           },
           "baxis": {
            "gridcolor": "white",
            "linecolor": "white",
            "ticks": ""
           },
           "bgcolor": "#E5ECF6",
           "caxis": {
            "gridcolor": "white",
            "linecolor": "white",
            "ticks": ""
           }
          },
          "title": {
           "x": 0.05
          },
          "xaxis": {
           "automargin": true,
           "gridcolor": "white",
           "linecolor": "white",
           "ticks": "",
           "title": {
            "standoff": 15
           },
           "zerolinecolor": "white",
           "zerolinewidth": 2
          },
          "yaxis": {
           "automargin": true,
           "gridcolor": "white",
           "linecolor": "white",
           "ticks": "",
           "title": {
            "standoff": 15
           },
           "zerolinecolor": "white",
           "zerolinewidth": 2
          }
         }
        },
        "title": {
         "text": "SPY 1-Minute Candlestick Chart"
        },
        "xaxis": {
         "rangeslider": {
          "visible": false
         },
         "title": {
          "text": "Time"
         }
        },
        "yaxis": {
         "title": {
          "text": "Price"
         }
        }
       }
      }
     },
     "metadata": {},
     "output_type": "display_data"
    }
   ],
   "source": [
    "# Plotly Candlestick Chart for SPY 1-Minute Bars\n",
    "import plotly.graph_objects as go\n",
    "\n",
    "# Ensure 'df' is loaded from a sample file (already done above)\n",
    "fig = go.Figure(data=[\n",
    "    go.Candlestick(\n",
    "        x=df.index,\n",
    "        open=df['open'],\n",
    "        high=df['high'],\n",
    "        low=df['low'],\n",
    "        close=df['close'],\n",
    "        name='SPY 1-min'\n",
    "    )\n",
    "])\n",
    "fig.update_layout(\n",
    "    title='SPY 1-Minute Candlestick Chart',\n",
    "    xaxis_title='Time',\n",
    "    yaxis_title='Price',\n",
    "    xaxis_rangeslider_visible=False\n",
    ")\n",
    "fig.show()"
   ]
  },
  {
   "cell_type": "code",
   "execution_count": 9,
   "id": "4a404d39",
   "metadata": {},
   "outputs": [
    {
     "data": {
      "application/vnd.plotly.v1+json": {
       "config": {
        "plotlyServerURL": "https://plot.ly"
       },
       "data": [
        {
         "hovertemplate": "t=%{x}<br>Volume=%{y}<extra></extra>",
         "legendgroup": "",
         "marker": {
          "color": "#636efa",
          "pattern": {
           "shape": ""
          }
         },
         "name": "",
         "orientation": "v",
         "showlegend": false,
         "textposition": "auto",
         "type": "bar",
         "x": [
          "2025-01-02T14:30:00",
          "2025-01-02T14:31:00",
          "2025-01-02T14:32:00",
          "2025-01-02T14:33:00",
          "2025-01-02T14:34:00",
          "2025-01-02T14:35:00",
          "2025-01-02T14:36:00",
          "2025-01-02T14:37:00",
          "2025-01-02T14:38:00",
          "2025-01-02T14:39:00",
          "2025-01-02T14:40:00",
          "2025-01-02T14:41:00",
          "2025-01-02T14:42:00",
          "2025-01-02T14:43:00",
          "2025-01-02T14:44:00",
          "2025-01-02T14:45:00",
          "2025-01-02T14:46:00",
          "2025-01-02T14:47:00",
          "2025-01-02T14:48:00",
          "2025-01-02T14:49:00",
          "2025-01-02T14:50:00",
          "2025-01-02T14:51:00",
          "2025-01-02T14:52:00",
          "2025-01-02T14:53:00",
          "2025-01-02T14:54:00",
          "2025-01-02T14:55:00",
          "2025-01-02T14:56:00",
          "2025-01-02T14:57:00",
          "2025-01-02T14:58:00",
          "2025-01-02T14:59:00",
          "2025-01-02T15:00:00",
          "2025-01-02T15:01:00",
          "2025-01-02T15:02:00",
          "2025-01-02T15:03:00",
          "2025-01-02T15:04:00",
          "2025-01-02T15:05:00",
          "2025-01-02T15:06:00",
          "2025-01-02T15:07:00",
          "2025-01-02T15:08:00",
          "2025-01-02T15:09:00",
          "2025-01-02T15:10:00",
          "2025-01-02T15:11:00",
          "2025-01-02T15:12:00",
          "2025-01-02T15:13:00",
          "2025-01-02T15:14:00",
          "2025-01-02T15:15:00",
          "2025-01-02T15:16:00",
          "2025-01-02T15:17:00",
          "2025-01-02T15:18:00",
          "2025-01-02T15:19:00",
          "2025-01-02T15:20:00",
          "2025-01-02T15:21:00",
          "2025-01-02T15:22:00",
          "2025-01-02T15:23:00",
          "2025-01-02T15:24:00",
          "2025-01-02T15:25:00",
          "2025-01-02T15:26:00",
          "2025-01-02T15:27:00",
          "2025-01-02T15:28:00",
          "2025-01-02T15:29:00",
          "2025-01-02T15:30:00",
          "2025-01-02T15:31:00",
          "2025-01-02T15:32:00",
          "2025-01-02T15:33:00",
          "2025-01-02T15:34:00",
          "2025-01-02T15:35:00",
          "2025-01-02T15:36:00",
          "2025-01-02T15:37:00",
          "2025-01-02T15:38:00",
          "2025-01-02T15:39:00",
          "2025-01-02T15:40:00",
          "2025-01-02T15:41:00",
          "2025-01-02T15:42:00",
          "2025-01-02T15:43:00",
          "2025-01-02T15:44:00",
          "2025-01-02T15:45:00",
          "2025-01-02T15:46:00",
          "2025-01-02T15:47:00",
          "2025-01-02T15:48:00",
          "2025-01-02T15:49:00",
          "2025-01-02T15:50:00",
          "2025-01-02T15:51:00",
          "2025-01-02T15:52:00",
          "2025-01-02T15:53:00",
          "2025-01-02T15:54:00",
          "2025-01-02T15:55:00",
          "2025-01-02T15:56:00",
          "2025-01-02T15:57:00",
          "2025-01-02T15:58:00",
          "2025-01-02T15:59:00",
          "2025-01-02T16:00:00",
          "2025-01-02T16:01:00",
          "2025-01-02T16:02:00",
          "2025-01-02T16:03:00",
          "2025-01-02T16:04:00",
          "2025-01-02T16:05:00",
          "2025-01-02T16:06:00",
          "2025-01-02T16:07:00",
          "2025-01-02T16:08:00",
          "2025-01-02T16:09:00",
          "2025-01-02T16:10:00",
          "2025-01-02T16:11:00",
          "2025-01-02T16:12:00",
          "2025-01-02T16:13:00",
          "2025-01-02T16:14:00",
          "2025-01-02T16:15:00",
          "2025-01-02T16:16:00",
          "2025-01-02T16:17:00",
          "2025-01-02T16:18:00",
          "2025-01-02T16:19:00",
          "2025-01-02T16:20:00",
          "2025-01-02T16:21:00",
          "2025-01-02T16:22:00",
          "2025-01-02T16:23:00",
          "2025-01-02T16:24:00",
          "2025-01-02T16:25:00",
          "2025-01-02T16:26:00",
          "2025-01-02T16:27:00",
          "2025-01-02T16:28:00",
          "2025-01-02T16:29:00",
          "2025-01-02T16:30:00",
          "2025-01-02T16:31:00",
          "2025-01-02T16:32:00",
          "2025-01-02T16:33:00",
          "2025-01-02T16:34:00",
          "2025-01-02T16:35:00",
          "2025-01-02T16:36:00",
          "2025-01-02T16:37:00",
          "2025-01-02T16:38:00",
          "2025-01-02T16:39:00",
          "2025-01-02T16:40:00",
          "2025-01-02T16:41:00",
          "2025-01-02T16:42:00",
          "2025-01-02T16:43:00",
          "2025-01-02T16:44:00",
          "2025-01-02T16:45:00",
          "2025-01-02T16:46:00",
          "2025-01-02T16:47:00",
          "2025-01-02T16:48:00",
          "2025-01-02T16:49:00",
          "2025-01-02T16:50:00",
          "2025-01-02T16:51:00",
          "2025-01-02T16:52:00",
          "2025-01-02T16:53:00",
          "2025-01-02T16:54:00",
          "2025-01-02T16:55:00",
          "2025-01-02T16:56:00",
          "2025-01-02T16:57:00",
          "2025-01-02T16:58:00",
          "2025-01-02T16:59:00",
          "2025-01-02T17:00:00",
          "2025-01-02T17:01:00",
          "2025-01-02T17:02:00",
          "2025-01-02T17:03:00",
          "2025-01-02T17:04:00",
          "2025-01-02T17:05:00",
          "2025-01-02T17:06:00",
          "2025-01-02T17:07:00",
          "2025-01-02T17:08:00",
          "2025-01-02T17:09:00",
          "2025-01-02T17:10:00",
          "2025-01-02T17:11:00",
          "2025-01-02T17:12:00",
          "2025-01-02T17:13:00",
          "2025-01-02T17:14:00",
          "2025-01-02T17:15:00",
          "2025-01-02T17:16:00",
          "2025-01-02T17:17:00",
          "2025-01-02T17:18:00",
          "2025-01-02T17:19:00",
          "2025-01-02T17:20:00",
          "2025-01-02T17:21:00",
          "2025-01-02T17:22:00",
          "2025-01-02T17:23:00",
          "2025-01-02T17:24:00",
          "2025-01-02T17:25:00",
          "2025-01-02T17:26:00",
          "2025-01-02T17:27:00",
          "2025-01-02T17:28:00",
          "2025-01-02T17:29:00",
          "2025-01-02T17:30:00",
          "2025-01-02T17:31:00",
          "2025-01-02T17:32:00",
          "2025-01-02T17:33:00",
          "2025-01-02T17:34:00",
          "2025-01-02T17:35:00",
          "2025-01-02T17:36:00",
          "2025-01-02T17:37:00",
          "2025-01-02T17:38:00",
          "2025-01-02T17:39:00",
          "2025-01-02T17:40:00",
          "2025-01-02T17:41:00",
          "2025-01-02T17:42:00",
          "2025-01-02T17:43:00",
          "2025-01-02T17:44:00",
          "2025-01-02T17:45:00",
          "2025-01-02T17:46:00",
          "2025-01-02T17:47:00",
          "2025-01-02T17:48:00",
          "2025-01-02T17:49:00",
          "2025-01-02T17:50:00",
          "2025-01-02T17:51:00",
          "2025-01-02T17:52:00",
          "2025-01-02T17:53:00",
          "2025-01-02T17:54:00",
          "2025-01-02T17:55:00",
          "2025-01-02T17:56:00",
          "2025-01-02T17:57:00",
          "2025-01-02T17:58:00",
          "2025-01-02T17:59:00",
          "2025-01-02T18:00:00",
          "2025-01-02T18:01:00",
          "2025-01-02T18:02:00",
          "2025-01-02T18:03:00",
          "2025-01-02T18:04:00",
          "2025-01-02T18:05:00",
          "2025-01-02T18:06:00",
          "2025-01-02T18:07:00",
          "2025-01-02T18:08:00",
          "2025-01-02T18:09:00",
          "2025-01-02T18:10:00",
          "2025-01-02T18:11:00",
          "2025-01-02T18:12:00",
          "2025-01-02T18:13:00",
          "2025-01-02T18:14:00",
          "2025-01-02T18:15:00",
          "2025-01-02T18:16:00",
          "2025-01-02T18:17:00",
          "2025-01-02T18:18:00",
          "2025-01-02T18:19:00",
          "2025-01-02T18:20:00",
          "2025-01-02T18:21:00",
          "2025-01-02T18:22:00",
          "2025-01-02T18:23:00",
          "2025-01-02T18:24:00",
          "2025-01-02T18:25:00",
          "2025-01-02T18:26:00",
          "2025-01-02T18:27:00",
          "2025-01-02T18:28:00",
          "2025-01-02T18:29:00",
          "2025-01-02T18:30:00",
          "2025-01-02T18:31:00",
          "2025-01-02T18:32:00",
          "2025-01-02T18:33:00",
          "2025-01-02T18:34:00",
          "2025-01-02T18:35:00",
          "2025-01-02T18:36:00",
          "2025-01-02T18:37:00",
          "2025-01-02T18:38:00",
          "2025-01-02T18:39:00",
          "2025-01-02T18:40:00",
          "2025-01-02T18:41:00",
          "2025-01-02T18:42:00",
          "2025-01-02T18:43:00",
          "2025-01-02T18:44:00",
          "2025-01-02T18:45:00",
          "2025-01-02T18:46:00",
          "2025-01-02T18:47:00",
          "2025-01-02T18:48:00",
          "2025-01-02T18:49:00",
          "2025-01-02T18:50:00",
          "2025-01-02T18:51:00",
          "2025-01-02T18:52:00",
          "2025-01-02T18:53:00",
          "2025-01-02T18:54:00",
          "2025-01-02T18:55:00",
          "2025-01-02T18:56:00",
          "2025-01-02T18:57:00",
          "2025-01-02T18:58:00",
          "2025-01-02T18:59:00",
          "2025-01-02T19:00:00",
          "2025-01-02T19:01:00",
          "2025-01-02T19:02:00",
          "2025-01-02T19:03:00",
          "2025-01-02T19:04:00",
          "2025-01-02T19:05:00",
          "2025-01-02T19:06:00",
          "2025-01-02T19:07:00",
          "2025-01-02T19:08:00",
          "2025-01-02T19:09:00",
          "2025-01-02T19:10:00",
          "2025-01-02T19:11:00",
          "2025-01-02T19:12:00",
          "2025-01-02T19:13:00",
          "2025-01-02T19:14:00",
          "2025-01-02T19:15:00",
          "2025-01-02T19:16:00",
          "2025-01-02T19:17:00",
          "2025-01-02T19:18:00",
          "2025-01-02T19:19:00",
          "2025-01-02T19:20:00",
          "2025-01-02T19:21:00",
          "2025-01-02T19:22:00",
          "2025-01-02T19:23:00",
          "2025-01-02T19:24:00",
          "2025-01-02T19:25:00",
          "2025-01-02T19:26:00",
          "2025-01-02T19:27:00",
          "2025-01-02T19:28:00",
          "2025-01-02T19:29:00",
          "2025-01-02T19:30:00",
          "2025-01-02T19:31:00",
          "2025-01-02T19:32:00",
          "2025-01-02T19:33:00",
          "2025-01-02T19:34:00",
          "2025-01-02T19:35:00",
          "2025-01-02T19:36:00",
          "2025-01-02T19:37:00",
          "2025-01-02T19:38:00",
          "2025-01-02T19:39:00",
          "2025-01-02T19:40:00",
          "2025-01-02T19:41:00",
          "2025-01-02T19:42:00",
          "2025-01-02T19:43:00",
          "2025-01-02T19:44:00",
          "2025-01-02T19:45:00",
          "2025-01-02T19:46:00",
          "2025-01-02T19:47:00",
          "2025-01-02T19:48:00",
          "2025-01-02T19:49:00",
          "2025-01-02T19:50:00",
          "2025-01-02T19:51:00",
          "2025-01-02T19:52:00",
          "2025-01-02T19:53:00",
          "2025-01-02T19:54:00",
          "2025-01-02T19:55:00",
          "2025-01-02T19:56:00",
          "2025-01-02T19:57:00",
          "2025-01-02T19:58:00",
          "2025-01-02T19:59:00",
          "2025-01-02T20:00:00",
          "2025-01-02T20:01:00",
          "2025-01-02T20:02:00",
          "2025-01-02T20:03:00",
          "2025-01-02T20:04:00",
          "2025-01-02T20:05:00",
          "2025-01-02T20:06:00",
          "2025-01-02T20:07:00",
          "2025-01-02T20:08:00",
          "2025-01-02T20:09:00",
          "2025-01-02T20:10:00",
          "2025-01-02T20:11:00",
          "2025-01-02T20:12:00",
          "2025-01-02T20:13:00",
          "2025-01-02T20:14:00",
          "2025-01-02T20:15:00",
          "2025-01-02T20:16:00",
          "2025-01-02T20:17:00",
          "2025-01-02T20:18:00",
          "2025-01-02T20:19:00",
          "2025-01-02T20:20:00",
          "2025-01-02T20:21:00",
          "2025-01-02T20:22:00",
          "2025-01-02T20:23:00",
          "2025-01-02T20:24:00",
          "2025-01-02T20:25:00",
          "2025-01-02T20:26:00",
          "2025-01-02T20:27:00",
          "2025-01-02T20:28:00",
          "2025-01-02T20:29:00",
          "2025-01-02T20:30:00",
          "2025-01-02T20:31:00",
          "2025-01-02T20:32:00",
          "2025-01-02T20:33:00",
          "2025-01-02T20:34:00",
          "2025-01-02T20:35:00",
          "2025-01-02T20:36:00",
          "2025-01-02T20:37:00",
          "2025-01-02T20:38:00",
          "2025-01-02T20:39:00",
          "2025-01-02T20:40:00",
          "2025-01-02T20:41:00",
          "2025-01-02T20:42:00",
          "2025-01-02T20:43:00",
          "2025-01-02T20:44:00",
          "2025-01-02T20:45:00",
          "2025-01-02T20:46:00",
          "2025-01-02T20:47:00",
          "2025-01-02T20:48:00",
          "2025-01-02T20:49:00",
          "2025-01-02T20:50:00",
          "2025-01-02T20:51:00",
          "2025-01-02T20:52:00",
          "2025-01-02T20:53:00",
          "2025-01-02T20:54:00",
          "2025-01-02T20:55:00",
          "2025-01-02T20:56:00",
          "2025-01-02T20:57:00",
          "2025-01-02T20:58:00",
          "2025-01-02T20:59:00",
          "2025-01-02T21:00:00"
         ],
         "xaxis": "x",
         "y": {
          "bdata": "Y9gTAC6uAgBo6AEABQQCAG03AgDHiwIAkjgDAORwAwBbqwIANYkCAHCyAgC0sQEA4fwBAN7cAgB3uQEAvd0BAITsAQB7iAEAdlcBAJfGAQC+dgMA1+MBALSLAgB43wEARxQDAMWWAgAVxwEAo/wCAI7QAgAFpwEAiDkCAG+dAQD9vgEAylgBAJfKAQB3kwIA7xkDAHGoAgCVyAEAeJEBAMdFAQAR0wEA25IBAFzuAQAaqQEAetoBANkkAQDfwwIAry8CAHm2AQDeIAQAr34CAJypAQBLmQEAqMEBAL9gAgCgzAEAO6gBAMPkAQAnrwAATwsBAAT/AQDAvAEA1M4AAPuDAQDWvwEAB0EBAGy9AQCbDAEA1rAAAE6XAADAAwIA6j8BABgWAQALrgAAAeUAANINAQDIwgAAaeoBAByiAQCt9AEAfWkBAO4uAQDqHwEAd8UAAMOYAADUZQAAfX0AAL3JAACRtwEAcDsBAHnxAAD9ywEA0OABALHnBgBCZQEACBwDADQKAQCEDQEAxvEAADoPAgB4iQEAIKUBAFayAACOHAEADFwBAG30AACA9gAANq4AAANTAQCvagEAT8QAAEXqAACkpQAAKAwCAJX8AACr+AAAG7kAALN/AABCZwAACtUAAMuHAAAteAAAzL8AAHCEAAD+iAAAkK0AADSfAACgfwAAjpwBANfNAADjIwEAP7oAAB2jAAA99QAA5fMAAKmLAABVigAAs70AAMezAADJDgEAUA4BALKnAAD1jgAAnu0BAMJyAAAtpwAAM5cAAKuuAAB0eAAAu3YAAHKPAAD1LQEAf2kAAMu5AADYWAAAm3kAAMhrAADO9AAALHMAAAtyAAAVdgAA9T8AANi5AACXZwAAhZsAADeIAACM7QAAcNUAACwiAQC+LgEAqEwBAAK/AgDEpAAA8asAADVNAQADKgEAE04CAMxuAgCbBAMA/a4CAHiJBQAesQMAyKECAN9zAgDNGwIAkyACACEoBABSBQMAW/0CALoZAwAjQgMA3A0DACiBAgCzGAIAOg8CAExcAwBUtgEAtMcBAEGSAQBdKwQAp+YBAK3xAgDp4QMAxwMCAIdvAgBRnAEArwECAIDuAgDFNQIA5pwCAAWzAgBoJQIAzNIBAGOWAQCUygEAH4UBAMlrAQDmQAMAVKoCAG4vAgAuNQEArIkBAGPmAAAeRwEAeEsCAPg+AQCEygIAwY0BAEgXAQDN4wEAcDABAJguAQAzSQEA0AEBAAY5AQCD4QAA7ekAAO/bAACdwQAAPE8BAKKSBAAruAEAuioBAJjoAABNDQEAjUECAGtdCABGxQEApWEBAEVzAQACdQEAehwBAGKIAgCkhgQAgZoBAKheAQBxHwEAOvgAAOIJAgAjIQEAP/IAAANjAQD45AMAfxgCAMoEAgB2ggEA6xQBACYUAQBNkAEA3EoBAJgDAQBLgQEADdoBABxcAgACbAEAPUUCAI5lAQB3PwEAklEBAEQWAQDoEAEApewAAAU6AQDThwAAC0kBAMsWAQDOywAA59sAAIv2AADUpwAAoqYAAHImAQC0LwEAd9MAAHVPAQAkAAEAVxQBAE0zAQCEAgEA524BAOZDAQAVtAAAINkAAHY1AQBenAEAhdsAAL/IAABF5wAAd7YAAAyFAABOEQEAzKgAAHXGAAAobwAAL8IAAIjsAAD9HwMAj48BAA80AQBD+gAAApcAADwHAgCDFAEAde0AAN7RAACC/QAAAKkBAKxwAQDOfgEAIvIAAGfOAAC86QAA+oUBAGoLAgC8rAEAfd4AAE+4AACYOgEA6MoAAH01AQC4rQEAF/4BAP9xAQBOmgEA4xcCANhOAQDQ9wAA9f4BAL4kAQDZPAEA3LUBALhbAQBwOAEAQ0gBAOb1AADMyQAAGpMAAKDPAAC2IwEAnuMBAFoKAwC6qwEArRICALcABACOmQEAhbMBAHvOAQA2PwEANT0BAKqBAQBEnAEA6RwBAISUAQCOVgEArX4BAOA0AgBrQQIAuc4BAKX6AQDkbwMA0RQCADRiAgDfdQIAYh8DAPm7BAA+lgMAurEFAEbCBQDuVxIAo5IVAA==",
          "dtype": "i4"
         },
         "yaxis": "y"
        }
       ],
       "layout": {
        "barmode": "relative",
        "legend": {
         "tracegroupgap": 0
        },
        "template": {
         "data": {
          "bar": [
           {
            "error_x": {
             "color": "#2a3f5f"
            },
            "error_y": {
             "color": "#2a3f5f"
            },
            "marker": {
             "line": {
              "color": "#E5ECF6",
              "width": 0.5
             },
             "pattern": {
              "fillmode": "overlay",
              "size": 10,
              "solidity": 0.2
             }
            },
            "type": "bar"
           }
          ],
          "barpolar": [
           {
            "marker": {
             "line": {
              "color": "#E5ECF6",
              "width": 0.5
             },
             "pattern": {
              "fillmode": "overlay",
              "size": 10,
              "solidity": 0.2
             }
            },
            "type": "barpolar"
           }
          ],
          "carpet": [
           {
            "aaxis": {
             "endlinecolor": "#2a3f5f",
             "gridcolor": "white",
             "linecolor": "white",
             "minorgridcolor": "white",
             "startlinecolor": "#2a3f5f"
            },
            "baxis": {
             "endlinecolor": "#2a3f5f",
             "gridcolor": "white",
             "linecolor": "white",
             "minorgridcolor": "white",
             "startlinecolor": "#2a3f5f"
            },
            "type": "carpet"
           }
          ],
          "choropleth": [
           {
            "colorbar": {
             "outlinewidth": 0,
             "ticks": ""
            },
            "type": "choropleth"
           }
          ],
          "contour": [
           {
            "colorbar": {
             "outlinewidth": 0,
             "ticks": ""
            },
            "colorscale": [
             [
              0,
              "#0d0887"
             ],
             [
              0.1111111111111111,
              "#46039f"
             ],
             [
              0.2222222222222222,
              "#7201a8"
             ],
             [
              0.3333333333333333,
              "#9c179e"
             ],
             [
              0.4444444444444444,
              "#bd3786"
             ],
             [
              0.5555555555555556,
              "#d8576b"
             ],
             [
              0.6666666666666666,
              "#ed7953"
             ],
             [
              0.7777777777777778,
              "#fb9f3a"
             ],
             [
              0.8888888888888888,
              "#fdca26"
             ],
             [
              1,
              "#f0f921"
             ]
            ],
            "type": "contour"
           }
          ],
          "contourcarpet": [
           {
            "colorbar": {
             "outlinewidth": 0,
             "ticks": ""
            },
            "type": "contourcarpet"
           }
          ],
          "heatmap": [
           {
            "colorbar": {
             "outlinewidth": 0,
             "ticks": ""
            },
            "colorscale": [
             [
              0,
              "#0d0887"
             ],
             [
              0.1111111111111111,
              "#46039f"
             ],
             [
              0.2222222222222222,
              "#7201a8"
             ],
             [
              0.3333333333333333,
              "#9c179e"
             ],
             [
              0.4444444444444444,
              "#bd3786"
             ],
             [
              0.5555555555555556,
              "#d8576b"
             ],
             [
              0.6666666666666666,
              "#ed7953"
             ],
             [
              0.7777777777777778,
              "#fb9f3a"
             ],
             [
              0.8888888888888888,
              "#fdca26"
             ],
             [
              1,
              "#f0f921"
             ]
            ],
            "type": "heatmap"
           }
          ],
          "histogram": [
           {
            "marker": {
             "pattern": {
              "fillmode": "overlay",
              "size": 10,
              "solidity": 0.2
             }
            },
            "type": "histogram"
           }
          ],
          "histogram2d": [
           {
            "colorbar": {
             "outlinewidth": 0,
             "ticks": ""
            },
            "colorscale": [
             [
              0,
              "#0d0887"
             ],
             [
              0.1111111111111111,
              "#46039f"
             ],
             [
              0.2222222222222222,
              "#7201a8"
             ],
             [
              0.3333333333333333,
              "#9c179e"
             ],
             [
              0.4444444444444444,
              "#bd3786"
             ],
             [
              0.5555555555555556,
              "#d8576b"
             ],
             [
              0.6666666666666666,
              "#ed7953"
             ],
             [
              0.7777777777777778,
              "#fb9f3a"
             ],
             [
              0.8888888888888888,
              "#fdca26"
             ],
             [
              1,
              "#f0f921"
             ]
            ],
            "type": "histogram2d"
           }
          ],
          "histogram2dcontour": [
           {
            "colorbar": {
             "outlinewidth": 0,
             "ticks": ""
            },
            "colorscale": [
             [
              0,
              "#0d0887"
             ],
             [
              0.1111111111111111,
              "#46039f"
             ],
             [
              0.2222222222222222,
              "#7201a8"
             ],
             [
              0.3333333333333333,
              "#9c179e"
             ],
             [
              0.4444444444444444,
              "#bd3786"
             ],
             [
              0.5555555555555556,
              "#d8576b"
             ],
             [
              0.6666666666666666,
              "#ed7953"
             ],
             [
              0.7777777777777778,
              "#fb9f3a"
             ],
             [
              0.8888888888888888,
              "#fdca26"
             ],
             [
              1,
              "#f0f921"
             ]
            ],
            "type": "histogram2dcontour"
           }
          ],
          "mesh3d": [
           {
            "colorbar": {
             "outlinewidth": 0,
             "ticks": ""
            },
            "type": "mesh3d"
           }
          ],
          "parcoords": [
           {
            "line": {
             "colorbar": {
              "outlinewidth": 0,
              "ticks": ""
             }
            },
            "type": "parcoords"
           }
          ],
          "pie": [
           {
            "automargin": true,
            "type": "pie"
           }
          ],
          "scatter": [
           {
            "fillpattern": {
             "fillmode": "overlay",
             "size": 10,
             "solidity": 0.2
            },
            "type": "scatter"
           }
          ],
          "scatter3d": [
           {
            "line": {
             "colorbar": {
              "outlinewidth": 0,
              "ticks": ""
             }
            },
            "marker": {
             "colorbar": {
              "outlinewidth": 0,
              "ticks": ""
             }
            },
            "type": "scatter3d"
           }
          ],
          "scattercarpet": [
           {
            "marker": {
             "colorbar": {
              "outlinewidth": 0,
              "ticks": ""
             }
            },
            "type": "scattercarpet"
           }
          ],
          "scattergeo": [
           {
            "marker": {
             "colorbar": {
              "outlinewidth": 0,
              "ticks": ""
             }
            },
            "type": "scattergeo"
           }
          ],
          "scattergl": [
           {
            "marker": {
             "colorbar": {
              "outlinewidth": 0,
              "ticks": ""
             }
            },
            "type": "scattergl"
           }
          ],
          "scattermap": [
           {
            "marker": {
             "colorbar": {
              "outlinewidth": 0,
              "ticks": ""
             }
            },
            "type": "scattermap"
           }
          ],
          "scattermapbox": [
           {
            "marker": {
             "colorbar": {
              "outlinewidth": 0,
              "ticks": ""
             }
            },
            "type": "scattermapbox"
           }
          ],
          "scatterpolar": [
           {
            "marker": {
             "colorbar": {
              "outlinewidth": 0,
              "ticks": ""
             }
            },
            "type": "scatterpolar"
           }
          ],
          "scatterpolargl": [
           {
            "marker": {
             "colorbar": {
              "outlinewidth": 0,
              "ticks": ""
             }
            },
            "type": "scatterpolargl"
           }
          ],
          "scatterternary": [
           {
            "marker": {
             "colorbar": {
              "outlinewidth": 0,
              "ticks": ""
             }
            },
            "type": "scatterternary"
           }
          ],
          "surface": [
           {
            "colorbar": {
             "outlinewidth": 0,
             "ticks": ""
            },
            "colorscale": [
             [
              0,
              "#0d0887"
             ],
             [
              0.1111111111111111,
              "#46039f"
             ],
             [
              0.2222222222222222,
              "#7201a8"
             ],
             [
              0.3333333333333333,
              "#9c179e"
             ],
             [
              0.4444444444444444,
              "#bd3786"
             ],
             [
              0.5555555555555556,
              "#d8576b"
             ],
             [
              0.6666666666666666,
              "#ed7953"
             ],
             [
              0.7777777777777778,
              "#fb9f3a"
             ],
             [
              0.8888888888888888,
              "#fdca26"
             ],
             [
              1,
              "#f0f921"
             ]
            ],
            "type": "surface"
           }
          ],
          "table": [
           {
            "cells": {
             "fill": {
              "color": "#EBF0F8"
             },
             "line": {
              "color": "white"
             }
            },
            "header": {
             "fill": {
              "color": "#C8D4E3"
             },
             "line": {
              "color": "white"
             }
            },
            "type": "table"
           }
          ]
         },
         "layout": {
          "annotationdefaults": {
           "arrowcolor": "#2a3f5f",
           "arrowhead": 0,
           "arrowwidth": 1
          },
          "autotypenumbers": "strict",
          "coloraxis": {
           "colorbar": {
            "outlinewidth": 0,
            "ticks": ""
           }
          },
          "colorscale": {
           "diverging": [
            [
             0,
             "#8e0152"
            ],
            [
             0.1,
             "#c51b7d"
            ],
            [
             0.2,
             "#de77ae"
            ],
            [
             0.3,
             "#f1b6da"
            ],
            [
             0.4,
             "#fde0ef"
            ],
            [
             0.5,
             "#f7f7f7"
            ],
            [
             0.6,
             "#e6f5d0"
            ],
            [
             0.7,
             "#b8e186"
            ],
            [
             0.8,
             "#7fbc41"
            ],
            [
             0.9,
             "#4d9221"
            ],
            [
             1,
             "#276419"
            ]
           ],
           "sequential": [
            [
             0,
             "#0d0887"
            ],
            [
             0.1111111111111111,
             "#46039f"
            ],
            [
             0.2222222222222222,
             "#7201a8"
            ],
            [
             0.3333333333333333,
             "#9c179e"
            ],
            [
             0.4444444444444444,
             "#bd3786"
            ],
            [
             0.5555555555555556,
             "#d8576b"
            ],
            [
             0.6666666666666666,
             "#ed7953"
            ],
            [
             0.7777777777777778,
             "#fb9f3a"
            ],
            [
             0.8888888888888888,
             "#fdca26"
            ],
            [
             1,
             "#f0f921"
            ]
           ],
           "sequentialminus": [
            [
             0,
             "#0d0887"
            ],
            [
             0.1111111111111111,
             "#46039f"
            ],
            [
             0.2222222222222222,
             "#7201a8"
            ],
            [
             0.3333333333333333,
             "#9c179e"
            ],
            [
             0.4444444444444444,
             "#bd3786"
            ],
            [
             0.5555555555555556,
             "#d8576b"
            ],
            [
             0.6666666666666666,
             "#ed7953"
            ],
            [
             0.7777777777777778,
             "#fb9f3a"
            ],
            [
             0.8888888888888888,
             "#fdca26"
            ],
            [
             1,
             "#f0f921"
            ]
           ]
          },
          "colorway": [
           "#636efa",
           "#EF553B",
           "#00cc96",
           "#ab63fa",
           "#FFA15A",
           "#19d3f3",
           "#FF6692",
           "#B6E880",
           "#FF97FF",
           "#FECB52"
          ],
          "font": {
           "color": "#2a3f5f"
          },
          "geo": {
           "bgcolor": "white",
           "lakecolor": "white",
           "landcolor": "#E5ECF6",
           "showlakes": true,
           "showland": true,
           "subunitcolor": "white"
          },
          "hoverlabel": {
           "align": "left"
          },
          "hovermode": "closest",
          "mapbox": {
           "style": "light"
          },
          "paper_bgcolor": "white",
          "plot_bgcolor": "#E5ECF6",
          "polar": {
           "angularaxis": {
            "gridcolor": "white",
            "linecolor": "white",
            "ticks": ""
           },
           "bgcolor": "#E5ECF6",
           "radialaxis": {
            "gridcolor": "white",
            "linecolor": "white",
            "ticks": ""
           }
          },
          "scene": {
           "xaxis": {
            "backgroundcolor": "#E5ECF6",
            "gridcolor": "white",
            "gridwidth": 2,
            "linecolor": "white",
            "showbackground": true,
            "ticks": "",
            "zerolinecolor": "white"
           },
           "yaxis": {
            "backgroundcolor": "#E5ECF6",
            "gridcolor": "white",
            "gridwidth": 2,
            "linecolor": "white",
            "showbackground": true,
            "ticks": "",
            "zerolinecolor": "white"
           },
           "zaxis": {
            "backgroundcolor": "#E5ECF6",
            "gridcolor": "white",
            "gridwidth": 2,
            "linecolor": "white",
            "showbackground": true,
            "ticks": "",
            "zerolinecolor": "white"
           }
          },
          "shapedefaults": {
           "line": {
            "color": "#2a3f5f"
           }
          },
          "ternary": {
           "aaxis": {
            "gridcolor": "white",
            "linecolor": "white",
            "ticks": ""
           },
           "baxis": {
            "gridcolor": "white",
            "linecolor": "white",
            "ticks": ""
           },
           "bgcolor": "#E5ECF6",
           "caxis": {
            "gridcolor": "white",
            "linecolor": "white",
            "ticks": ""
           }
          },
          "title": {
           "x": 0.05
          },
          "xaxis": {
           "automargin": true,
           "gridcolor": "white",
           "linecolor": "white",
           "ticks": "",
           "title": {
            "standoff": 15
           },
           "zerolinecolor": "white",
           "zerolinewidth": 2
          },
          "yaxis": {
           "automargin": true,
           "gridcolor": "white",
           "linecolor": "white",
           "ticks": "",
           "title": {
            "standoff": 15
           },
           "zerolinecolor": "white",
           "zerolinewidth": 2
          }
         }
        },
        "title": {
         "text": "SPY 1-Minute Volume"
        },
        "xaxis": {
         "anchor": "y",
         "domain": [
          0,
          1
         ],
         "title": {
          "text": "t"
         }
        },
        "yaxis": {
         "anchor": "x",
         "domain": [
          0,
          1
         ],
         "title": {
          "text": "Volume"
         }
        }
       }
      }
     },
     "metadata": {},
     "output_type": "display_data"
    }
   ],
   "source": [
    "# Plotly Volume Bar Chart for SPY 1-Minute Bars\n",
    "import plotly.express as px\n",
    "\n",
    "fig_vol = px.bar(\n",
    "    df,\n",
    "    x=df.index,\n",
    "    y='volume',\n",
    "    labels={'x': 'Time', 'volume': 'Volume'},\n",
    "    title='SPY 1-Minute Volume'\n",
    ")\n",
    "fig_vol.show()"
   ]
  },
  {
   "cell_type": "markdown",
   "id": "4ac3b8f3",
   "metadata": {},
   "source": [
    "## 1-Day Intraday Plotly Dashboard (SPY)\n",
    "\n",
    "This section plots a rich, interactive dashboard for a single trading day using Plotly:\n",
    "- Candlesticks with Moving Averages (9/21/50) and VWAP\n",
    "- Volume bars colored by up/down\n",
    "- Hover tooltips and unified crosshair\n",
    "- Optional highlight of Regular Trading Hours (RTH)\n",
    "\n",
    "Set `target_date` (YYYY-MM-DD) to choose the session. If not set, it will default to the date from the loaded sample."
   ]
  },
  {
   "cell_type": "code",
   "execution_count": 10,
   "id": "51bc35da",
   "metadata": {},
   "outputs": [
    {
     "data": {
      "application/vnd.plotly.v1+json": {
       "config": {
        "plotlyServerURL": "https://plot.ly"
       },
       "data": [
        {
         "close": {
          "bdata": "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",
          "dtype": "f8"
         },
         "decreasing": {
          "line": {
           "color": "#ef5350"
          }
         },
         "high": {
          "bdata": "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",
          "dtype": "f8"
         },
         "increasing": {
          "line": {
           "color": "#26a69a"
          }
         },
         "low": {
          "bdata": "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",
          "dtype": "f8"
         },
         "name": "OHLC",
         "open": {
          "bdata": "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",
          "dtype": "f8"
         },
         "type": "candlestick",
         "x": [
          "2025-01-02T14:30:00+00:00",
          "2025-01-02T14:31:00+00:00",
          "2025-01-02T14:32:00+00:00",
          "2025-01-02T14:33:00+00:00",
          "2025-01-02T14:34:00+00:00",
          "2025-01-02T14:35:00+00:00",
          "2025-01-02T14:36:00+00:00",
          "2025-01-02T14:37:00+00:00",
          "2025-01-02T14:38:00+00:00",
          "2025-01-02T14:39:00+00:00",
          "2025-01-02T14:40:00+00:00",
          "2025-01-02T14:41:00+00:00",
          "2025-01-02T14:42:00+00:00",
          "2025-01-02T14:43:00+00:00",
          "2025-01-02T14:44:00+00:00",
          "2025-01-02T14:45:00+00:00",
          "2025-01-02T14:46:00+00:00",
          "2025-01-02T14:47:00+00:00",
          "2025-01-02T14:48:00+00:00",
          "2025-01-02T14:49:00+00:00",
          "2025-01-02T14:50:00+00:00",
          "2025-01-02T14:51:00+00:00",
          "2025-01-02T14:52:00+00:00",
          "2025-01-02T14:53:00+00:00",
          "2025-01-02T14:54:00+00:00",
          "2025-01-02T14:55:00+00:00",
          "2025-01-02T14:56:00+00:00",
          "2025-01-02T14:57:00+00:00",
          "2025-01-02T14:58:00+00:00",
          "2025-01-02T14:59:00+00:00",
          "2025-01-02T15:00:00+00:00",
          "2025-01-02T15:01:00+00:00",
          "2025-01-02T15:02:00+00:00",
          "2025-01-02T15:03:00+00:00",
          "2025-01-02T15:04:00+00:00",
          "2025-01-02T15:05:00+00:00",
          "2025-01-02T15:06:00+00:00",
          "2025-01-02T15:07:00+00:00",
          "2025-01-02T15:08:00+00:00",
          "2025-01-02T15:09:00+00:00",
          "2025-01-02T15:10:00+00:00",
          "2025-01-02T15:11:00+00:00",
          "2025-01-02T15:12:00+00:00",
          "2025-01-02T15:13:00+00:00",
          "2025-01-02T15:14:00+00:00",
          "2025-01-02T15:15:00+00:00",
          "2025-01-02T15:16:00+00:00",
          "2025-01-02T15:17:00+00:00",
          "2025-01-02T15:18:00+00:00",
          "2025-01-02T15:19:00+00:00",
          "2025-01-02T15:20:00+00:00",
          "2025-01-02T15:21:00+00:00",
          "2025-01-02T15:22:00+00:00",
          "2025-01-02T15:23:00+00:00",
          "2025-01-02T15:24:00+00:00",
          "2025-01-02T15:25:00+00:00",
          "2025-01-02T15:26:00+00:00",
          "2025-01-02T15:27:00+00:00",
          "2025-01-02T15:28:00+00:00",
          "2025-01-02T15:29:00+00:00",
          "2025-01-02T15:30:00+00:00",
          "2025-01-02T15:31:00+00:00",
          "2025-01-02T15:32:00+00:00",
          "2025-01-02T15:33:00+00:00",
          "2025-01-02T15:34:00+00:00",
          "2025-01-02T15:35:00+00:00",
          "2025-01-02T15:36:00+00:00",
          "2025-01-02T15:37:00+00:00",
          "2025-01-02T15:38:00+00:00",
          "2025-01-02T15:39:00+00:00",
          "2025-01-02T15:40:00+00:00",
          "2025-01-02T15:41:00+00:00",
          "2025-01-02T15:42:00+00:00",
          "2025-01-02T15:43:00+00:00",
          "2025-01-02T15:44:00+00:00",
          "2025-01-02T15:45:00+00:00",
          "2025-01-02T15:46:00+00:00",
          "2025-01-02T15:47:00+00:00",
          "2025-01-02T15:48:00+00:00",
          "2025-01-02T15:49:00+00:00",
          "2025-01-02T15:50:00+00:00",
          "2025-01-02T15:51:00+00:00",
          "2025-01-02T15:52:00+00:00",
          "2025-01-02T15:53:00+00:00",
          "2025-01-02T15:54:00+00:00",
          "2025-01-02T15:55:00+00:00",
          "2025-01-02T15:56:00+00:00",
          "2025-01-02T15:57:00+00:00",
          "2025-01-02T15:58:00+00:00",
          "2025-01-02T15:59:00+00:00",
          "2025-01-02T16:00:00+00:00",
          "2025-01-02T16:01:00+00:00",
          "2025-01-02T16:02:00+00:00",
          "2025-01-02T16:03:00+00:00",
          "2025-01-02T16:04:00+00:00",
          "2025-01-02T16:05:00+00:00",
          "2025-01-02T16:06:00+00:00",
          "2025-01-02T16:07:00+00:00",
          "2025-01-02T16:08:00+00:00",
          "2025-01-02T16:09:00+00:00",
          "2025-01-02T16:10:00+00:00",
          "2025-01-02T16:11:00+00:00",
          "2025-01-02T16:12:00+00:00",
          "2025-01-02T16:13:00+00:00",
          "2025-01-02T16:14:00+00:00",
          "2025-01-02T16:15:00+00:00",
          "2025-01-02T16:16:00+00:00",
          "2025-01-02T16:17:00+00:00",
          "2025-01-02T16:18:00+00:00",
          "2025-01-02T16:19:00+00:00",
          "2025-01-02T16:20:00+00:00",
          "2025-01-02T16:21:00+00:00",
          "2025-01-02T16:22:00+00:00",
          "2025-01-02T16:23:00+00:00",
          "2025-01-02T16:24:00+00:00",
          "2025-01-02T16:25:00+00:00",
          "2025-01-02T16:26:00+00:00",
          "2025-01-02T16:27:00+00:00",
          "2025-01-02T16:28:00+00:00",
          "2025-01-02T16:29:00+00:00",
          "2025-01-02T16:30:00+00:00",
          "2025-01-02T16:31:00+00:00",
          "2025-01-02T16:32:00+00:00",
          "2025-01-02T16:33:00+00:00",
          "2025-01-02T16:34:00+00:00",
          "2025-01-02T16:35:00+00:00",
          "2025-01-02T16:36:00+00:00",
          "2025-01-02T16:37:00+00:00",
          "2025-01-02T16:38:00+00:00",
          "2025-01-02T16:39:00+00:00",
          "2025-01-02T16:40:00+00:00",
          "2025-01-02T16:41:00+00:00",
          "2025-01-02T16:42:00+00:00",
          "2025-01-02T16:43:00+00:00",
          "2025-01-02T16:44:00+00:00",
          "2025-01-02T16:45:00+00:00",
          "2025-01-02T16:46:00+00:00",
          "2025-01-02T16:47:00+00:00",
          "2025-01-02T16:48:00+00:00",
          "2025-01-02T16:49:00+00:00",
          "2025-01-02T16:50:00+00:00",
          "2025-01-02T16:51:00+00:00",
          "2025-01-02T16:52:00+00:00",
          "2025-01-02T16:53:00+00:00",
          "2025-01-02T16:54:00+00:00",
          "2025-01-02T16:55:00+00:00",
          "2025-01-02T16:56:00+00:00",
          "2025-01-02T16:57:00+00:00",
          "2025-01-02T16:58:00+00:00",
          "2025-01-02T16:59:00+00:00",
          "2025-01-02T17:00:00+00:00",
          "2025-01-02T17:01:00+00:00",
          "2025-01-02T17:02:00+00:00",
          "2025-01-02T17:03:00+00:00",
          "2025-01-02T17:04:00+00:00",
          "2025-01-02T17:05:00+00:00",
          "2025-01-02T17:06:00+00:00",
          "2025-01-02T17:07:00+00:00",
          "2025-01-02T17:08:00+00:00",
          "2025-01-02T17:09:00+00:00",
          "2025-01-02T17:10:00+00:00",
          "2025-01-02T17:11:00+00:00",
          "2025-01-02T17:12:00+00:00",
          "2025-01-02T17:13:00+00:00",
          "2025-01-02T17:14:00+00:00",
          "2025-01-02T17:15:00+00:00",
          "2025-01-02T17:16:00+00:00",
          "2025-01-02T17:17:00+00:00",
          "2025-01-02T17:18:00+00:00",
          "2025-01-02T17:19:00+00:00",
          "2025-01-02T17:20:00+00:00",
          "2025-01-02T17:21:00+00:00",
          "2025-01-02T17:22:00+00:00",
          "2025-01-02T17:23:00+00:00",
          "2025-01-02T17:24:00+00:00",
          "2025-01-02T17:25:00+00:00",
          "2025-01-02T17:26:00+00:00",
          "2025-01-02T17:27:00+00:00",
          "2025-01-02T17:28:00+00:00",
          "2025-01-02T17:29:00+00:00",
          "2025-01-02T17:30:00+00:00",
          "2025-01-02T17:31:00+00:00",
          "2025-01-02T17:32:00+00:00",
          "2025-01-02T17:33:00+00:00",
          "2025-01-02T17:34:00+00:00",
          "2025-01-02T17:35:00+00:00",
          "2025-01-02T17:36:00+00:00",
          "2025-01-02T17:37:00+00:00",
          "2025-01-02T17:38:00+00:00",
          "2025-01-02T17:39:00+00:00",
          "2025-01-02T17:40:00+00:00",
          "2025-01-02T17:41:00+00:00",
          "2025-01-02T17:42:00+00:00",
          "2025-01-02T17:43:00+00:00",
          "2025-01-02T17:44:00+00:00",
          "2025-01-02T17:45:00+00:00",
          "2025-01-02T17:46:00+00:00",
          "2025-01-02T17:47:00+00:00",
          "2025-01-02T17:48:00+00:00",
          "2025-01-02T17:49:00+00:00",
          "2025-01-02T17:50:00+00:00",
          "2025-01-02T17:51:00+00:00",
          "2025-01-02T17:52:00+00:00",
          "2025-01-02T17:53:00+00:00",
          "2025-01-02T17:54:00+00:00",
          "2025-01-02T17:55:00+00:00",
          "2025-01-02T17:56:00+00:00",
          "2025-01-02T17:57:00+00:00",
          "2025-01-02T17:58:00+00:00",
          "2025-01-02T17:59:00+00:00",
          "2025-01-02T18:00:00+00:00",
          "2025-01-02T18:01:00+00:00",
          "2025-01-02T18:02:00+00:00",
          "2025-01-02T18:03:00+00:00",
          "2025-01-02T18:04:00+00:00",
          "2025-01-02T18:05:00+00:00",
          "2025-01-02T18:06:00+00:00",
          "2025-01-02T18:07:00+00:00",
          "2025-01-02T18:08:00+00:00",
          "2025-01-02T18:09:00+00:00",
          "2025-01-02T18:10:00+00:00",
          "2025-01-02T18:11:00+00:00",
          "2025-01-02T18:12:00+00:00",
          "2025-01-02T18:13:00+00:00",
          "2025-01-02T18:14:00+00:00",
          "2025-01-02T18:15:00+00:00",
          "2025-01-02T18:16:00+00:00",
          "2025-01-02T18:17:00+00:00",
          "2025-01-02T18:18:00+00:00",
          "2025-01-02T18:19:00+00:00",
          "2025-01-02T18:20:00+00:00",
          "2025-01-02T18:21:00+00:00",
          "2025-01-02T18:22:00+00:00",
          "2025-01-02T18:23:00+00:00",
          "2025-01-02T18:24:00+00:00",
          "2025-01-02T18:25:00+00:00",
          "2025-01-02T18:26:00+00:00",
          "2025-01-02T18:27:00+00:00",
          "2025-01-02T18:28:00+00:00",
          "2025-01-02T18:29:00+00:00",
          "2025-01-02T18:30:00+00:00",
          "2025-01-02T18:31:00+00:00",
          "2025-01-02T18:32:00+00:00",
          "2025-01-02T18:33:00+00:00",
          "2025-01-02T18:34:00+00:00",
          "2025-01-02T18:35:00+00:00",
          "2025-01-02T18:36:00+00:00",
          "2025-01-02T18:37:00+00:00",
          "2025-01-02T18:38:00+00:00",
          "2025-01-02T18:39:00+00:00",
          "2025-01-02T18:40:00+00:00",
          "2025-01-02T18:41:00+00:00",
          "2025-01-02T18:42:00+00:00",
          "2025-01-02T18:43:00+00:00",
          "2025-01-02T18:44:00+00:00",
          "2025-01-02T18:45:00+00:00",
          "2025-01-02T18:46:00+00:00",
          "2025-01-02T18:47:00+00:00",
          "2025-01-02T18:48:00+00:00",
          "2025-01-02T18:49:00+00:00",
          "2025-01-02T18:50:00+00:00",
          "2025-01-02T18:51:00+00:00",
          "2025-01-02T18:52:00+00:00",
          "2025-01-02T18:53:00+00:00",
          "2025-01-02T18:54:00+00:00",
          "2025-01-02T18:55:00+00:00",
          "2025-01-02T18:56:00+00:00",
          "2025-01-02T18:57:00+00:00",
          "2025-01-02T18:58:00+00:00",
          "2025-01-02T18:59:00+00:00",
          "2025-01-02T19:00:00+00:00",
          "2025-01-02T19:01:00+00:00",
          "2025-01-02T19:02:00+00:00",
          "2025-01-02T19:03:00+00:00",
          "2025-01-02T19:04:00+00:00",
          "2025-01-02T19:05:00+00:00",
          "2025-01-02T19:06:00+00:00",
          "2025-01-02T19:07:00+00:00",
          "2025-01-02T19:08:00+00:00",
          "2025-01-02T19:09:00+00:00",
          "2025-01-02T19:10:00+00:00",
          "2025-01-02T19:11:00+00:00",
          "2025-01-02T19:12:00+00:00",
          "2025-01-02T19:13:00+00:00",
          "2025-01-02T19:14:00+00:00",
          "2025-01-02T19:15:00+00:00",
          "2025-01-02T19:16:00+00:00",
          "2025-01-02T19:17:00+00:00",
          "2025-01-02T19:18:00+00:00",
          "2025-01-02T19:19:00+00:00",
          "2025-01-02T19:20:00+00:00",
          "2025-01-02T19:21:00+00:00",
          "2025-01-02T19:22:00+00:00",
          "2025-01-02T19:23:00+00:00",
          "2025-01-02T19:24:00+00:00",
          "2025-01-02T19:25:00+00:00",
          "2025-01-02T19:26:00+00:00",
          "2025-01-02T19:27:00+00:00",
          "2025-01-02T19:28:00+00:00",
          "2025-01-02T19:29:00+00:00",
          "2025-01-02T19:30:00+00:00",
          "2025-01-02T19:31:00+00:00",
          "2025-01-02T19:32:00+00:00",
          "2025-01-02T19:33:00+00:00",
          "2025-01-02T19:34:00+00:00",
          "2025-01-02T19:35:00+00:00",
          "2025-01-02T19:36:00+00:00",
          "2025-01-02T19:37:00+00:00",
          "2025-01-02T19:38:00+00:00",
          "2025-01-02T19:39:00+00:00",
          "2025-01-02T19:40:00+00:00",
          "2025-01-02T19:41:00+00:00",
          "2025-01-02T19:42:00+00:00",
          "2025-01-02T19:43:00+00:00",
          "2025-01-02T19:44:00+00:00",
          "2025-01-02T19:45:00+00:00",
          "2025-01-02T19:46:00+00:00",
          "2025-01-02T19:47:00+00:00",
          "2025-01-02T19:48:00+00:00",
          "2025-01-02T19:49:00+00:00",
          "2025-01-02T19:50:00+00:00",
          "2025-01-02T19:51:00+00:00",
          "2025-01-02T19:52:00+00:00",
          "2025-01-02T19:53:00+00:00",
          "2025-01-02T19:54:00+00:00",
          "2025-01-02T19:55:00+00:00",
          "2025-01-02T19:56:00+00:00",
          "2025-01-02T19:57:00+00:00",
          "2025-01-02T19:58:00+00:00",
          "2025-01-02T19:59:00+00:00",
          "2025-01-02T20:00:00+00:00",
          "2025-01-02T20:01:00+00:00",
          "2025-01-02T20:02:00+00:00",
          "2025-01-02T20:03:00+00:00",
          "2025-01-02T20:04:00+00:00",
          "2025-01-02T20:05:00+00:00",
          "2025-01-02T20:06:00+00:00",
          "2025-01-02T20:07:00+00:00",
          "2025-01-02T20:08:00+00:00",
          "2025-01-02T20:09:00+00:00",
          "2025-01-02T20:10:00+00:00",
          "2025-01-02T20:11:00+00:00",
          "2025-01-02T20:12:00+00:00",
          "2025-01-02T20:13:00+00:00",
          "2025-01-02T20:14:00+00:00",
          "2025-01-02T20:15:00+00:00",
          "2025-01-02T20:16:00+00:00",
          "2025-01-02T20:17:00+00:00",
          "2025-01-02T20:18:00+00:00",
          "2025-01-02T20:19:00+00:00",
          "2025-01-02T20:20:00+00:00",
          "2025-01-02T20:21:00+00:00",
          "2025-01-02T20:22:00+00:00",
          "2025-01-02T20:23:00+00:00",
          "2025-01-02T20:24:00+00:00",
          "2025-01-02T20:25:00+00:00",
          "2025-01-02T20:26:00+00:00",
          "2025-01-02T20:27:00+00:00",
          "2025-01-02T20:28:00+00:00",
          "2025-01-02T20:29:00+00:00",
          "2025-01-02T20:30:00+00:00",
          "2025-01-02T20:31:00+00:00",
          "2025-01-02T20:32:00+00:00",
          "2025-01-02T20:33:00+00:00",
          "2025-01-02T20:34:00+00:00",
          "2025-01-02T20:35:00+00:00",
          "2025-01-02T20:36:00+00:00",
          "2025-01-02T20:37:00+00:00",
          "2025-01-02T20:38:00+00:00",
          "2025-01-02T20:39:00+00:00",
          "2025-01-02T20:40:00+00:00",
          "2025-01-02T20:41:00+00:00",
          "2025-01-02T20:42:00+00:00",
          "2025-01-02T20:43:00+00:00",
          "2025-01-02T20:44:00+00:00",
          "2025-01-02T20:45:00+00:00",
          "2025-01-02T20:46:00+00:00",
          "2025-01-02T20:47:00+00:00",
          "2025-01-02T20:48:00+00:00",
          "2025-01-02T20:49:00+00:00",
          "2025-01-02T20:50:00+00:00",
          "2025-01-02T20:51:00+00:00",
          "2025-01-02T20:52:00+00:00",
          "2025-01-02T20:53:00+00:00",
          "2025-01-02T20:54:00+00:00",
          "2025-01-02T20:55:00+00:00",
          "2025-01-02T20:56:00+00:00",
          "2025-01-02T20:57:00+00:00",
          "2025-01-02T20:58:00+00:00",
          "2025-01-02T20:59:00+00:00",
          "2025-01-02T21:00:00+00:00"
         ],
         "xaxis": "x",
         "yaxis": "y"
        },
        {
         "line": {
          "color": "#42a5f5",
          "width": 1.5
         },
         "name": "SMA 9",
         "type": "scatter",
         "x": [
          "2025-01-02T14:30:00+00:00",
          "2025-01-02T14:31:00+00:00",
          "2025-01-02T14:32:00+00:00",
          "2025-01-02T14:33:00+00:00",
          "2025-01-02T14:34:00+00:00",
          "2025-01-02T14:35:00+00:00",
          "2025-01-02T14:36:00+00:00",
          "2025-01-02T14:37:00+00:00",
          "2025-01-02T14:38:00+00:00",
          "2025-01-02T14:39:00+00:00",
          "2025-01-02T14:40:00+00:00",
          "2025-01-02T14:41:00+00:00",
          "2025-01-02T14:42:00+00:00",
          "2025-01-02T14:43:00+00:00",
          "2025-01-02T14:44:00+00:00",
          "2025-01-02T14:45:00+00:00",
          "2025-01-02T14:46:00+00:00",
          "2025-01-02T14:47:00+00:00",
          "2025-01-02T14:48:00+00:00",
          "2025-01-02T14:49:00+00:00",
          "2025-01-02T14:50:00+00:00",
          "2025-01-02T14:51:00+00:00",
          "2025-01-02T14:52:00+00:00",
          "2025-01-02T14:53:00+00:00",
          "2025-01-02T14:54:00+00:00",
          "2025-01-02T14:55:00+00:00",
          "2025-01-02T14:56:00+00:00",
          "2025-01-02T14:57:00+00:00",
          "2025-01-02T14:58:00+00:00",
          "2025-01-02T14:59:00+00:00",
          "2025-01-02T15:00:00+00:00",
          "2025-01-02T15:01:00+00:00",
          "2025-01-02T15:02:00+00:00",
          "2025-01-02T15:03:00+00:00",
          "2025-01-02T15:04:00+00:00",
          "2025-01-02T15:05:00+00:00",
          "2025-01-02T15:06:00+00:00",
          "2025-01-02T15:07:00+00:00",
          "2025-01-02T15:08:00+00:00",
          "2025-01-02T15:09:00+00:00",
          "2025-01-02T15:10:00+00:00",
          "2025-01-02T15:11:00+00:00",
          "2025-01-02T15:12:00+00:00",
          "2025-01-02T15:13:00+00:00",
          "2025-01-02T15:14:00+00:00",
          "2025-01-02T15:15:00+00:00",
          "2025-01-02T15:16:00+00:00",
          "2025-01-02T15:17:00+00:00",
          "2025-01-02T15:18:00+00:00",
          "2025-01-02T15:19:00+00:00",
          "2025-01-02T15:20:00+00:00",
          "2025-01-02T15:21:00+00:00",
          "2025-01-02T15:22:00+00:00",
          "2025-01-02T15:23:00+00:00",
          "2025-01-02T15:24:00+00:00",
          "2025-01-02T15:25:00+00:00",
          "2025-01-02T15:26:00+00:00",
          "2025-01-02T15:27:00+00:00",
          "2025-01-02T15:28:00+00:00",
          "2025-01-02T15:29:00+00:00",
          "2025-01-02T15:30:00+00:00",
          "2025-01-02T15:31:00+00:00",
          "2025-01-02T15:32:00+00:00",
          "2025-01-02T15:33:00+00:00",
          "2025-01-02T15:34:00+00:00",
          "2025-01-02T15:35:00+00:00",
          "2025-01-02T15:36:00+00:00",
          "2025-01-02T15:37:00+00:00",
          "2025-01-02T15:38:00+00:00",
          "2025-01-02T15:39:00+00:00",
          "2025-01-02T15:40:00+00:00",
          "2025-01-02T15:41:00+00:00",
          "2025-01-02T15:42:00+00:00",
          "2025-01-02T15:43:00+00:00",
          "2025-01-02T15:44:00+00:00",
          "2025-01-02T15:45:00+00:00",
          "2025-01-02T15:46:00+00:00",
          "2025-01-02T15:47:00+00:00",
          "2025-01-02T15:48:00+00:00",
          "2025-01-02T15:49:00+00:00",
          "2025-01-02T15:50:00+00:00",
          "2025-01-02T15:51:00+00:00",
          "2025-01-02T15:52:00+00:00",
          "2025-01-02T15:53:00+00:00",
          "2025-01-02T15:54:00+00:00",
          "2025-01-02T15:55:00+00:00",
          "2025-01-02T15:56:00+00:00",
          "2025-01-02T15:57:00+00:00",
          "2025-01-02T15:58:00+00:00",
          "2025-01-02T15:59:00+00:00",
          "2025-01-02T16:00:00+00:00",
          "2025-01-02T16:01:00+00:00",
          "2025-01-02T16:02:00+00:00",
          "2025-01-02T16:03:00+00:00",
          "2025-01-02T16:04:00+00:00",
          "2025-01-02T16:05:00+00:00",
          "2025-01-02T16:06:00+00:00",
          "2025-01-02T16:07:00+00:00",
          "2025-01-02T16:08:00+00:00",
          "2025-01-02T16:09:00+00:00",
          "2025-01-02T16:10:00+00:00",
          "2025-01-02T16:11:00+00:00",
          "2025-01-02T16:12:00+00:00",
          "2025-01-02T16:13:00+00:00",
          "2025-01-02T16:14:00+00:00",
          "2025-01-02T16:15:00+00:00",
          "2025-01-02T16:16:00+00:00",
          "2025-01-02T16:17:00+00:00",
          "2025-01-02T16:18:00+00:00",
          "2025-01-02T16:19:00+00:00",
          "2025-01-02T16:20:00+00:00",
          "2025-01-02T16:21:00+00:00",
          "2025-01-02T16:22:00+00:00",
          "2025-01-02T16:23:00+00:00",
          "2025-01-02T16:24:00+00:00",
          "2025-01-02T16:25:00+00:00",
          "2025-01-02T16:26:00+00:00",
          "2025-01-02T16:27:00+00:00",
          "2025-01-02T16:28:00+00:00",
          "2025-01-02T16:29:00+00:00",
          "2025-01-02T16:30:00+00:00",
          "2025-01-02T16:31:00+00:00",
          "2025-01-02T16:32:00+00:00",
          "2025-01-02T16:33:00+00:00",
          "2025-01-02T16:34:00+00:00",
          "2025-01-02T16:35:00+00:00",
          "2025-01-02T16:36:00+00:00",
          "2025-01-02T16:37:00+00:00",
          "2025-01-02T16:38:00+00:00",
          "2025-01-02T16:39:00+00:00",
          "2025-01-02T16:40:00+00:00",
          "2025-01-02T16:41:00+00:00",
          "2025-01-02T16:42:00+00:00",
          "2025-01-02T16:43:00+00:00",
          "2025-01-02T16:44:00+00:00",
          "2025-01-02T16:45:00+00:00",
          "2025-01-02T16:46:00+00:00",
          "2025-01-02T16:47:00+00:00",
          "2025-01-02T16:48:00+00:00",
          "2025-01-02T16:49:00+00:00",
          "2025-01-02T16:50:00+00:00",
          "2025-01-02T16:51:00+00:00",
          "2025-01-02T16:52:00+00:00",
          "2025-01-02T16:53:00+00:00",
          "2025-01-02T16:54:00+00:00",
          "2025-01-02T16:55:00+00:00",
          "2025-01-02T16:56:00+00:00",
          "2025-01-02T16:57:00+00:00",
          "2025-01-02T16:58:00+00:00",
          "2025-01-02T16:59:00+00:00",
          "2025-01-02T17:00:00+00:00",
          "2025-01-02T17:01:00+00:00",
          "2025-01-02T17:02:00+00:00",
          "2025-01-02T17:03:00+00:00",
          "2025-01-02T17:04:00+00:00",
          "2025-01-02T17:05:00+00:00",
          "2025-01-02T17:06:00+00:00",
          "2025-01-02T17:07:00+00:00",
          "2025-01-02T17:08:00+00:00",
          "2025-01-02T17:09:00+00:00",
          "2025-01-02T17:10:00+00:00",
          "2025-01-02T17:11:00+00:00",
          "2025-01-02T17:12:00+00:00",
          "2025-01-02T17:13:00+00:00",
          "2025-01-02T17:14:00+00:00",
          "2025-01-02T17:15:00+00:00",
          "2025-01-02T17:16:00+00:00",
          "2025-01-02T17:17:00+00:00",
          "2025-01-02T17:18:00+00:00",
          "2025-01-02T17:19:00+00:00",
          "2025-01-02T17:20:00+00:00",
          "2025-01-02T17:21:00+00:00",
          "2025-01-02T17:22:00+00:00",
          "2025-01-02T17:23:00+00:00",
          "2025-01-02T17:24:00+00:00",
          "2025-01-02T17:25:00+00:00",
          "2025-01-02T17:26:00+00:00",
          "2025-01-02T17:27:00+00:00",
          "2025-01-02T17:28:00+00:00",
          "2025-01-02T17:29:00+00:00",
          "2025-01-02T17:30:00+00:00",
          "2025-01-02T17:31:00+00:00",
          "2025-01-02T17:32:00+00:00",
          "2025-01-02T17:33:00+00:00",
          "2025-01-02T17:34:00+00:00",
          "2025-01-02T17:35:00+00:00",
          "2025-01-02T17:36:00+00:00",
          "2025-01-02T17:37:00+00:00",
          "2025-01-02T17:38:00+00:00",
          "2025-01-02T17:39:00+00:00",
          "2025-01-02T17:40:00+00:00",
          "2025-01-02T17:41:00+00:00",
          "2025-01-02T17:42:00+00:00",
          "2025-01-02T17:43:00+00:00",
          "2025-01-02T17:44:00+00:00",
          "2025-01-02T17:45:00+00:00",
          "2025-01-02T17:46:00+00:00",
          "2025-01-02T17:47:00+00:00",
          "2025-01-02T17:48:00+00:00",
          "2025-01-02T17:49:00+00:00",
          "2025-01-02T17:50:00+00:00",
          "2025-01-02T17:51:00+00:00",
          "2025-01-02T17:52:00+00:00",
          "2025-01-02T17:53:00+00:00",
          "2025-01-02T17:54:00+00:00",
          "2025-01-02T17:55:00+00:00",
          "2025-01-02T17:56:00+00:00",
          "2025-01-02T17:57:00+00:00",
          "2025-01-02T17:58:00+00:00",
          "2025-01-02T17:59:00+00:00",
          "2025-01-02T18:00:00+00:00",
          "2025-01-02T18:01:00+00:00",
          "2025-01-02T18:02:00+00:00",
          "2025-01-02T18:03:00+00:00",
          "2025-01-02T18:04:00+00:00",
          "2025-01-02T18:05:00+00:00",
          "2025-01-02T18:06:00+00:00",
          "2025-01-02T18:07:00+00:00",
          "2025-01-02T18:08:00+00:00",
          "2025-01-02T18:09:00+00:00",
          "2025-01-02T18:10:00+00:00",
          "2025-01-02T18:11:00+00:00",
          "2025-01-02T18:12:00+00:00",
          "2025-01-02T18:13:00+00:00",
          "2025-01-02T18:14:00+00:00",
          "2025-01-02T18:15:00+00:00",
          "2025-01-02T18:16:00+00:00",
          "2025-01-02T18:17:00+00:00",
          "2025-01-02T18:18:00+00:00",
          "2025-01-02T18:19:00+00:00",
          "2025-01-02T18:20:00+00:00",
          "2025-01-02T18:21:00+00:00",
          "2025-01-02T18:22:00+00:00",
          "2025-01-02T18:23:00+00:00",
          "2025-01-02T18:24:00+00:00",
          "2025-01-02T18:25:00+00:00",
          "2025-01-02T18:26:00+00:00",
          "2025-01-02T18:27:00+00:00",
          "2025-01-02T18:28:00+00:00",
          "2025-01-02T18:29:00+00:00",
          "2025-01-02T18:30:00+00:00",
          "2025-01-02T18:31:00+00:00",
          "2025-01-02T18:32:00+00:00",
          "2025-01-02T18:33:00+00:00",
          "2025-01-02T18:34:00+00:00",
          "2025-01-02T18:35:00+00:00",
          "2025-01-02T18:36:00+00:00",
          "2025-01-02T18:37:00+00:00",
          "2025-01-02T18:38:00+00:00",
          "2025-01-02T18:39:00+00:00",
          "2025-01-02T18:40:00+00:00",
          "2025-01-02T18:41:00+00:00",
          "2025-01-02T18:42:00+00:00",
          "2025-01-02T18:43:00+00:00",
          "2025-01-02T18:44:00+00:00",
          "2025-01-02T18:45:00+00:00",
          "2025-01-02T18:46:00+00:00",
          "2025-01-02T18:47:00+00:00",
          "2025-01-02T18:48:00+00:00",
          "2025-01-02T18:49:00+00:00",
          "2025-01-02T18:50:00+00:00",
          "2025-01-02T18:51:00+00:00",
          "2025-01-02T18:52:00+00:00",
          "2025-01-02T18:53:00+00:00",
          "2025-01-02T18:54:00+00:00",
          "2025-01-02T18:55:00+00:00",
          "2025-01-02T18:56:00+00:00",
          "2025-01-02T18:57:00+00:00",
          "2025-01-02T18:58:00+00:00",
          "2025-01-02T18:59:00+00:00",
          "2025-01-02T19:00:00+00:00",
          "2025-01-02T19:01:00+00:00",
          "2025-01-02T19:02:00+00:00",
          "2025-01-02T19:03:00+00:00",
          "2025-01-02T19:04:00+00:00",
          "2025-01-02T19:05:00+00:00",
          "2025-01-02T19:06:00+00:00",
          "2025-01-02T19:07:00+00:00",
          "2025-01-02T19:08:00+00:00",
          "2025-01-02T19:09:00+00:00",
          "2025-01-02T19:10:00+00:00",
          "2025-01-02T19:11:00+00:00",
          "2025-01-02T19:12:00+00:00",
          "2025-01-02T19:13:00+00:00",
          "2025-01-02T19:14:00+00:00",
          "2025-01-02T19:15:00+00:00",
          "2025-01-02T19:16:00+00:00",
          "2025-01-02T19:17:00+00:00",
          "2025-01-02T19:18:00+00:00",
          "2025-01-02T19:19:00+00:00",
          "2025-01-02T19:20:00+00:00",
          "2025-01-02T19:21:00+00:00",
          "2025-01-02T19:22:00+00:00",
          "2025-01-02T19:23:00+00:00",
          "2025-01-02T19:24:00+00:00",
          "2025-01-02T19:25:00+00:00",
          "2025-01-02T19:26:00+00:00",
          "2025-01-02T19:27:00+00:00",
          "2025-01-02T19:28:00+00:00",
          "2025-01-02T19:29:00+00:00",
          "2025-01-02T19:30:00+00:00",
          "2025-01-02T19:31:00+00:00",
          "2025-01-02T19:32:00+00:00",
          "2025-01-02T19:33:00+00:00",
          "2025-01-02T19:34:00+00:00",
          "2025-01-02T19:35:00+00:00",
          "2025-01-02T19:36:00+00:00",
          "2025-01-02T19:37:00+00:00",
          "2025-01-02T19:38:00+00:00",
          "2025-01-02T19:39:00+00:00",
          "2025-01-02T19:40:00+00:00",
          "2025-01-02T19:41:00+00:00",
          "2025-01-02T19:42:00+00:00",
          "2025-01-02T19:43:00+00:00",
          "2025-01-02T19:44:00+00:00",
          "2025-01-02T19:45:00+00:00",
          "2025-01-02T19:46:00+00:00",
          "2025-01-02T19:47:00+00:00",
          "2025-01-02T19:48:00+00:00",
          "2025-01-02T19:49:00+00:00",
          "2025-01-02T19:50:00+00:00",
          "2025-01-02T19:51:00+00:00",
          "2025-01-02T19:52:00+00:00",
          "2025-01-02T19:53:00+00:00",
          "2025-01-02T19:54:00+00:00",
          "2025-01-02T19:55:00+00:00",
          "2025-01-02T19:56:00+00:00",
          "2025-01-02T19:57:00+00:00",
          "2025-01-02T19:58:00+00:00",
          "2025-01-02T19:59:00+00:00",
          "2025-01-02T20:00:00+00:00",
          "2025-01-02T20:01:00+00:00",
          "2025-01-02T20:02:00+00:00",
          "2025-01-02T20:03:00+00:00",
          "2025-01-02T20:04:00+00:00",
          "2025-01-02T20:05:00+00:00",
          "2025-01-02T20:06:00+00:00",
          "2025-01-02T20:07:00+00:00",
          "2025-01-02T20:08:00+00:00",
          "2025-01-02T20:09:00+00:00",
          "2025-01-02T20:10:00+00:00",
          "2025-01-02T20:11:00+00:00",
          "2025-01-02T20:12:00+00:00",
          "2025-01-02T20:13:00+00:00",
          "2025-01-02T20:14:00+00:00",
          "2025-01-02T20:15:00+00:00",
          "2025-01-02T20:16:00+00:00",
          "2025-01-02T20:17:00+00:00",
          "2025-01-02T20:18:00+00:00",
          "2025-01-02T20:19:00+00:00",
          "2025-01-02T20:20:00+00:00",
          "2025-01-02T20:21:00+00:00",
          "2025-01-02T20:22:00+00:00",
          "2025-01-02T20:23:00+00:00",
          "2025-01-02T20:24:00+00:00",
          "2025-01-02T20:25:00+00:00",
          "2025-01-02T20:26:00+00:00",
          "2025-01-02T20:27:00+00:00",
          "2025-01-02T20:28:00+00:00",
          "2025-01-02T20:29:00+00:00",
          "2025-01-02T20:30:00+00:00",
          "2025-01-02T20:31:00+00:00",
          "2025-01-02T20:32:00+00:00",
          "2025-01-02T20:33:00+00:00",
          "2025-01-02T20:34:00+00:00",
          "2025-01-02T20:35:00+00:00",
          "2025-01-02T20:36:00+00:00",
          "2025-01-02T20:37:00+00:00",
          "2025-01-02T20:38:00+00:00",
          "2025-01-02T20:39:00+00:00",
          "2025-01-02T20:40:00+00:00",
          "2025-01-02T20:41:00+00:00",
          "2025-01-02T20:42:00+00:00",
          "2025-01-02T20:43:00+00:00",
          "2025-01-02T20:44:00+00:00",
          "2025-01-02T20:45:00+00:00",
          "2025-01-02T20:46:00+00:00",
          "2025-01-02T20:47:00+00:00",
          "2025-01-02T20:48:00+00:00",
          "2025-01-02T20:49:00+00:00",
          "2025-01-02T20:50:00+00:00",
          "2025-01-02T20:51:00+00:00",
          "2025-01-02T20:52:00+00:00",
          "2025-01-02T20:53:00+00:00",
          "2025-01-02T20:54:00+00:00",
          "2025-01-02T20:55:00+00:00",
          "2025-01-02T20:56:00+00:00",
          "2025-01-02T20:57:00+00:00",
          "2025-01-02T20:58:00+00:00",
          "2025-01-02T20:59:00+00:00",
          "2025-01-02T21:00:00+00:00"
         ],
         "xaxis": "x",
         "y": {
          "bdata": "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",
          "dtype": "f8"
         },
         "yaxis": "y"
        },
        {
         "line": {
          "color": "#ab47bc",
          "width": 1.5
         },
         "name": "SMA 21",
         "type": "scatter",
         "x": [
          "2025-01-02T14:30:00+00:00",
          "2025-01-02T14:31:00+00:00",
          "2025-01-02T14:32:00+00:00",
          "2025-01-02T14:33:00+00:00",
          "2025-01-02T14:34:00+00:00",
          "2025-01-02T14:35:00+00:00",
          "2025-01-02T14:36:00+00:00",
          "2025-01-02T14:37:00+00:00",
          "2025-01-02T14:38:00+00:00",
          "2025-01-02T14:39:00+00:00",
          "2025-01-02T14:40:00+00:00",
          "2025-01-02T14:41:00+00:00",
          "2025-01-02T14:42:00+00:00",
          "2025-01-02T14:43:00+00:00",
          "2025-01-02T14:44:00+00:00",
          "2025-01-02T14:45:00+00:00",
          "2025-01-02T14:46:00+00:00",
          "2025-01-02T14:47:00+00:00",
          "2025-01-02T14:48:00+00:00",
          "2025-01-02T14:49:00+00:00",
          "2025-01-02T14:50:00+00:00",
          "2025-01-02T14:51:00+00:00",
          "2025-01-02T14:52:00+00:00",
          "2025-01-02T14:53:00+00:00",
          "2025-01-02T14:54:00+00:00",
          "2025-01-02T14:55:00+00:00",
          "2025-01-02T14:56:00+00:00",
          "2025-01-02T14:57:00+00:00",
          "2025-01-02T14:58:00+00:00",
          "2025-01-02T14:59:00+00:00",
          "2025-01-02T15:00:00+00:00",
          "2025-01-02T15:01:00+00:00",
          "2025-01-02T15:02:00+00:00",
          "2025-01-02T15:03:00+00:00",
          "2025-01-02T15:04:00+00:00",
          "2025-01-02T15:05:00+00:00",
          "2025-01-02T15:06:00+00:00",
          "2025-01-02T15:07:00+00:00",
          "2025-01-02T15:08:00+00:00",
          "2025-01-02T15:09:00+00:00",
          "2025-01-02T15:10:00+00:00",
          "2025-01-02T15:11:00+00:00",
          "2025-01-02T15:12:00+00:00",
          "2025-01-02T15:13:00+00:00",
          "2025-01-02T15:14:00+00:00",
          "2025-01-02T15:15:00+00:00",
          "2025-01-02T15:16:00+00:00",
          "2025-01-02T15:17:00+00:00",
          "2025-01-02T15:18:00+00:00",
          "2025-01-02T15:19:00+00:00",
          "2025-01-02T15:20:00+00:00",
          "2025-01-02T15:21:00+00:00",
          "2025-01-02T15:22:00+00:00",
          "2025-01-02T15:23:00+00:00",
          "2025-01-02T15:24:00+00:00",
          "2025-01-02T15:25:00+00:00",
          "2025-01-02T15:26:00+00:00",
          "2025-01-02T15:27:00+00:00",
          "2025-01-02T15:28:00+00:00",
          "2025-01-02T15:29:00+00:00",
          "2025-01-02T15:30:00+00:00",
          "2025-01-02T15:31:00+00:00",
          "2025-01-02T15:32:00+00:00",
          "2025-01-02T15:33:00+00:00",
          "2025-01-02T15:34:00+00:00",
          "2025-01-02T15:35:00+00:00",
          "2025-01-02T15:36:00+00:00",
          "2025-01-02T15:37:00+00:00",
          "2025-01-02T15:38:00+00:00",
          "2025-01-02T15:39:00+00:00",
          "2025-01-02T15:40:00+00:00",
          "2025-01-02T15:41:00+00:00",
          "2025-01-02T15:42:00+00:00",
          "2025-01-02T15:43:00+00:00",
          "2025-01-02T15:44:00+00:00",
          "2025-01-02T15:45:00+00:00",
          "2025-01-02T15:46:00+00:00",
          "2025-01-02T15:47:00+00:00",
          "2025-01-02T15:48:00+00:00",
          "2025-01-02T15:49:00+00:00",
          "2025-01-02T15:50:00+00:00",
          "2025-01-02T15:51:00+00:00",
          "2025-01-02T15:52:00+00:00",
          "2025-01-02T15:53:00+00:00",
          "2025-01-02T15:54:00+00:00",
          "2025-01-02T15:55:00+00:00",
          "2025-01-02T15:56:00+00:00",
          "2025-01-02T15:57:00+00:00",
          "2025-01-02T15:58:00+00:00",
          "2025-01-02T15:59:00+00:00",
          "2025-01-02T16:00:00+00:00",
          "2025-01-02T16:01:00+00:00",
          "2025-01-02T16:02:00+00:00",
          "2025-01-02T16:03:00+00:00",
          "2025-01-02T16:04:00+00:00",
          "2025-01-02T16:05:00+00:00",
          "2025-01-02T16:06:00+00:00",
          "2025-01-02T16:07:00+00:00",
          "2025-01-02T16:08:00+00:00",
          "2025-01-02T16:09:00+00:00",
          "2025-01-02T16:10:00+00:00",
          "2025-01-02T16:11:00+00:00",
          "2025-01-02T16:12:00+00:00",
          "2025-01-02T16:13:00+00:00",
          "2025-01-02T16:14:00+00:00",
          "2025-01-02T16:15:00+00:00",
          "2025-01-02T16:16:00+00:00",
          "2025-01-02T16:17:00+00:00",
          "2025-01-02T16:18:00+00:00",
          "2025-01-02T16:19:00+00:00",
          "2025-01-02T16:20:00+00:00",
          "2025-01-02T16:21:00+00:00",
          "2025-01-02T16:22:00+00:00",
          "2025-01-02T16:23:00+00:00",
          "2025-01-02T16:24:00+00:00",
          "2025-01-02T16:25:00+00:00",
          "2025-01-02T16:26:00+00:00",
          "2025-01-02T16:27:00+00:00",
          "2025-01-02T16:28:00+00:00",
          "2025-01-02T16:29:00+00:00",
          "2025-01-02T16:30:00+00:00",
          "2025-01-02T16:31:00+00:00",
          "2025-01-02T16:32:00+00:00",
          "2025-01-02T16:33:00+00:00",
          "2025-01-02T16:34:00+00:00",
          "2025-01-02T16:35:00+00:00",
          "2025-01-02T16:36:00+00:00",
          "2025-01-02T16:37:00+00:00",
          "2025-01-02T16:38:00+00:00",
          "2025-01-02T16:39:00+00:00",
          "2025-01-02T16:40:00+00:00",
          "2025-01-02T16:41:00+00:00",
          "2025-01-02T16:42:00+00:00",
          "2025-01-02T16:43:00+00:00",
          "2025-01-02T16:44:00+00:00",
          "2025-01-02T16:45:00+00:00",
          "2025-01-02T16:46:00+00:00",
          "2025-01-02T16:47:00+00:00",
          "2025-01-02T16:48:00+00:00",
          "2025-01-02T16:49:00+00:00",
          "2025-01-02T16:50:00+00:00",
          "2025-01-02T16:51:00+00:00",
          "2025-01-02T16:52:00+00:00",
          "2025-01-02T16:53:00+00:00",
          "2025-01-02T16:54:00+00:00",
          "2025-01-02T16:55:00+00:00",
          "2025-01-02T16:56:00+00:00",
          "2025-01-02T16:57:00+00:00",
          "2025-01-02T16:58:00+00:00",
          "2025-01-02T16:59:00+00:00",
          "2025-01-02T17:00:00+00:00",
          "2025-01-02T17:01:00+00:00",
          "2025-01-02T17:02:00+00:00",
          "2025-01-02T17:03:00+00:00",
          "2025-01-02T17:04:00+00:00",
          "2025-01-02T17:05:00+00:00",
          "2025-01-02T17:06:00+00:00",
          "2025-01-02T17:07:00+00:00",
          "2025-01-02T17:08:00+00:00",
          "2025-01-02T17:09:00+00:00",
          "2025-01-02T17:10:00+00:00",
          "2025-01-02T17:11:00+00:00",
          "2025-01-02T17:12:00+00:00",
          "2025-01-02T17:13:00+00:00",
          "2025-01-02T17:14:00+00:00",
          "2025-01-02T17:15:00+00:00",
          "2025-01-02T17:16:00+00:00",
          "2025-01-02T17:17:00+00:00",
          "2025-01-02T17:18:00+00:00",
          "2025-01-02T17:19:00+00:00",
          "2025-01-02T17:20:00+00:00",
          "2025-01-02T17:21:00+00:00",
          "2025-01-02T17:22:00+00:00",
          "2025-01-02T17:23:00+00:00",
          "2025-01-02T17:24:00+00:00",
          "2025-01-02T17:25:00+00:00",
          "2025-01-02T17:26:00+00:00",
          "2025-01-02T17:27:00+00:00",
          "2025-01-02T17:28:00+00:00",
          "2025-01-02T17:29:00+00:00",
          "2025-01-02T17:30:00+00:00",
          "2025-01-02T17:31:00+00:00",
          "2025-01-02T17:32:00+00:00",
          "2025-01-02T17:33:00+00:00",
          "2025-01-02T17:34:00+00:00",
          "2025-01-02T17:35:00+00:00",
          "2025-01-02T17:36:00+00:00",
          "2025-01-02T17:37:00+00:00",
          "2025-01-02T17:38:00+00:00",
          "2025-01-02T17:39:00+00:00",
          "2025-01-02T17:40:00+00:00",
          "2025-01-02T17:41:00+00:00",
          "2025-01-02T17:42:00+00:00",
          "2025-01-02T17:43:00+00:00",
          "2025-01-02T17:44:00+00:00",
          "2025-01-02T17:45:00+00:00",
          "2025-01-02T17:46:00+00:00",
          "2025-01-02T17:47:00+00:00",
          "2025-01-02T17:48:00+00:00",
          "2025-01-02T17:49:00+00:00",
          "2025-01-02T17:50:00+00:00",
          "2025-01-02T17:51:00+00:00",
          "2025-01-02T17:52:00+00:00",
          "2025-01-02T17:53:00+00:00",
          "2025-01-02T17:54:00+00:00",
          "2025-01-02T17:55:00+00:00",
          "2025-01-02T17:56:00+00:00",
          "2025-01-02T17:57:00+00:00",
          "2025-01-02T17:58:00+00:00",
          "2025-01-02T17:59:00+00:00",
          "2025-01-02T18:00:00+00:00",
          "2025-01-02T18:01:00+00:00",
          "2025-01-02T18:02:00+00:00",
          "2025-01-02T18:03:00+00:00",
          "2025-01-02T18:04:00+00:00",
          "2025-01-02T18:05:00+00:00",
          "2025-01-02T18:06:00+00:00",
          "2025-01-02T18:07:00+00:00",
          "2025-01-02T18:08:00+00:00",
          "2025-01-02T18:09:00+00:00",
          "2025-01-02T18:10:00+00:00",
          "2025-01-02T18:11:00+00:00",
          "2025-01-02T18:12:00+00:00",
          "2025-01-02T18:13:00+00:00",
          "2025-01-02T18:14:00+00:00",
          "2025-01-02T18:15:00+00:00",
          "2025-01-02T18:16:00+00:00",
          "2025-01-02T18:17:00+00:00",
          "2025-01-02T18:18:00+00:00",
          "2025-01-02T18:19:00+00:00",
          "2025-01-02T18:20:00+00:00",
          "2025-01-02T18:21:00+00:00",
          "2025-01-02T18:22:00+00:00",
          "2025-01-02T18:23:00+00:00",
          "2025-01-02T18:24:00+00:00",
          "2025-01-02T18:25:00+00:00",
          "2025-01-02T18:26:00+00:00",
          "2025-01-02T18:27:00+00:00",
          "2025-01-02T18:28:00+00:00",
          "2025-01-02T18:29:00+00:00",
          "2025-01-02T18:30:00+00:00",
          "2025-01-02T18:31:00+00:00",
          "2025-01-02T18:32:00+00:00",
          "2025-01-02T18:33:00+00:00",
          "2025-01-02T18:34:00+00:00",
          "2025-01-02T18:35:00+00:00",
          "2025-01-02T18:36:00+00:00",
          "2025-01-02T18:37:00+00:00",
          "2025-01-02T18:38:00+00:00",
          "2025-01-02T18:39:00+00:00",
          "2025-01-02T18:40:00+00:00",
          "2025-01-02T18:41:00+00:00",
          "2025-01-02T18:42:00+00:00",
          "2025-01-02T18:43:00+00:00",
          "2025-01-02T18:44:00+00:00",
          "2025-01-02T18:45:00+00:00",
          "2025-01-02T18:46:00+00:00",
          "2025-01-02T18:47:00+00:00",
          "2025-01-02T18:48:00+00:00",
          "2025-01-02T18:49:00+00:00",
          "2025-01-02T18:50:00+00:00",
          "2025-01-02T18:51:00+00:00",
          "2025-01-02T18:52:00+00:00",
          "2025-01-02T18:53:00+00:00",
          "2025-01-02T18:54:00+00:00",
          "2025-01-02T18:55:00+00:00",
          "2025-01-02T18:56:00+00:00",
          "2025-01-02T18:57:00+00:00",
          "2025-01-02T18:58:00+00:00",
          "2025-01-02T18:59:00+00:00",
          "2025-01-02T19:00:00+00:00",
          "2025-01-02T19:01:00+00:00",
          "2025-01-02T19:02:00+00:00",
          "2025-01-02T19:03:00+00:00",
          "2025-01-02T19:04:00+00:00",
          "2025-01-02T19:05:00+00:00",
          "2025-01-02T19:06:00+00:00",
          "2025-01-02T19:07:00+00:00",
          "2025-01-02T19:08:00+00:00",
          "2025-01-02T19:09:00+00:00",
          "2025-01-02T19:10:00+00:00",
          "2025-01-02T19:11:00+00:00",
          "2025-01-02T19:12:00+00:00",
          "2025-01-02T19:13:00+00:00",
          "2025-01-02T19:14:00+00:00",
          "2025-01-02T19:15:00+00:00",
          "2025-01-02T19:16:00+00:00",
          "2025-01-02T19:17:00+00:00",
          "2025-01-02T19:18:00+00:00",
          "2025-01-02T19:19:00+00:00",
          "2025-01-02T19:20:00+00:00",
          "2025-01-02T19:21:00+00:00",
          "2025-01-02T19:22:00+00:00",
          "2025-01-02T19:23:00+00:00",
          "2025-01-02T19:24:00+00:00",
          "2025-01-02T19:25:00+00:00",
          "2025-01-02T19:26:00+00:00",
          "2025-01-02T19:27:00+00:00",
          "2025-01-02T19:28:00+00:00",
          "2025-01-02T19:29:00+00:00",
          "2025-01-02T19:30:00+00:00",
          "2025-01-02T19:31:00+00:00",
          "2025-01-02T19:32:00+00:00",
          "2025-01-02T19:33:00+00:00",
          "2025-01-02T19:34:00+00:00",
          "2025-01-02T19:35:00+00:00",
          "2025-01-02T19:36:00+00:00",
          "2025-01-02T19:37:00+00:00",
          "2025-01-02T19:38:00+00:00",
          "2025-01-02T19:39:00+00:00",
          "2025-01-02T19:40:00+00:00",
          "2025-01-02T19:41:00+00:00",
          "2025-01-02T19:42:00+00:00",
          "2025-01-02T19:43:00+00:00",
          "2025-01-02T19:44:00+00:00",
          "2025-01-02T19:45:00+00:00",
          "2025-01-02T19:46:00+00:00",
          "2025-01-02T19:47:00+00:00",
          "2025-01-02T19:48:00+00:00",
          "2025-01-02T19:49:00+00:00",
          "2025-01-02T19:50:00+00:00",
          "2025-01-02T19:51:00+00:00",
          "2025-01-02T19:52:00+00:00",
          "2025-01-02T19:53:00+00:00",
          "2025-01-02T19:54:00+00:00",
          "2025-01-02T19:55:00+00:00",
          "2025-01-02T19:56:00+00:00",
          "2025-01-02T19:57:00+00:00",
          "2025-01-02T19:58:00+00:00",
          "2025-01-02T19:59:00+00:00",
          "2025-01-02T20:00:00+00:00",
          "2025-01-02T20:01:00+00:00",
          "2025-01-02T20:02:00+00:00",
          "2025-01-02T20:03:00+00:00",
          "2025-01-02T20:04:00+00:00",
          "2025-01-02T20:05:00+00:00",
          "2025-01-02T20:06:00+00:00",
          "2025-01-02T20:07:00+00:00",
          "2025-01-02T20:08:00+00:00",
          "2025-01-02T20:09:00+00:00",
          "2025-01-02T20:10:00+00:00",
          "2025-01-02T20:11:00+00:00",
          "2025-01-02T20:12:00+00:00",
          "2025-01-02T20:13:00+00:00",
          "2025-01-02T20:14:00+00:00",
          "2025-01-02T20:15:00+00:00",
          "2025-01-02T20:16:00+00:00",
          "2025-01-02T20:17:00+00:00",
          "2025-01-02T20:18:00+00:00",
          "2025-01-02T20:19:00+00:00",
          "2025-01-02T20:20:00+00:00",
          "2025-01-02T20:21:00+00:00",
          "2025-01-02T20:22:00+00:00",
          "2025-01-02T20:23:00+00:00",
          "2025-01-02T20:24:00+00:00",
          "2025-01-02T20:25:00+00:00",
          "2025-01-02T20:26:00+00:00",
          "2025-01-02T20:27:00+00:00",
          "2025-01-02T20:28:00+00:00",
          "2025-01-02T20:29:00+00:00",
          "2025-01-02T20:30:00+00:00",
          "2025-01-02T20:31:00+00:00",
          "2025-01-02T20:32:00+00:00",
          "2025-01-02T20:33:00+00:00",
          "2025-01-02T20:34:00+00:00",
          "2025-01-02T20:35:00+00:00",
          "2025-01-02T20:36:00+00:00",
          "2025-01-02T20:37:00+00:00",
          "2025-01-02T20:38:00+00:00",
          "2025-01-02T20:39:00+00:00",
          "2025-01-02T20:40:00+00:00",
          "2025-01-02T20:41:00+00:00",
          "2025-01-02T20:42:00+00:00",
          "2025-01-02T20:43:00+00:00",
          "2025-01-02T20:44:00+00:00",
          "2025-01-02T20:45:00+00:00",
          "2025-01-02T20:46:00+00:00",
          "2025-01-02T20:47:00+00:00",
          "2025-01-02T20:48:00+00:00",
          "2025-01-02T20:49:00+00:00",
          "2025-01-02T20:50:00+00:00",
          "2025-01-02T20:51:00+00:00",
          "2025-01-02T20:52:00+00:00",
          "2025-01-02T20:53:00+00:00",
          "2025-01-02T20:54:00+00:00",
          "2025-01-02T20:55:00+00:00",
          "2025-01-02T20:56:00+00:00",
          "2025-01-02T20:57:00+00:00",
          "2025-01-02T20:58:00+00:00",
          "2025-01-02T20:59:00+00:00",
          "2025-01-02T21:00:00+00:00"
         ],
         "xaxis": "x",
         "y": {
          "bdata": "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",
          "dtype": "f8"
         },
         "yaxis": "y"
        },
        {
         "line": {
          "color": "#ffa726",
          "width": 1.5
         },
         "name": "SMA 50",
         "type": "scatter",
         "x": [
          "2025-01-02T14:30:00+00:00",
          "2025-01-02T14:31:00+00:00",
          "2025-01-02T14:32:00+00:00",
          "2025-01-02T14:33:00+00:00",
          "2025-01-02T14:34:00+00:00",
          "2025-01-02T14:35:00+00:00",
          "2025-01-02T14:36:00+00:00",
          "2025-01-02T14:37:00+00:00",
          "2025-01-02T14:38:00+00:00",
          "2025-01-02T14:39:00+00:00",
          "2025-01-02T14:40:00+00:00",
          "2025-01-02T14:41:00+00:00",
          "2025-01-02T14:42:00+00:00",
          "2025-01-02T14:43:00+00:00",
          "2025-01-02T14:44:00+00:00",
          "2025-01-02T14:45:00+00:00",
          "2025-01-02T14:46:00+00:00",
          "2025-01-02T14:47:00+00:00",
          "2025-01-02T14:48:00+00:00",
          "2025-01-02T14:49:00+00:00",
          "2025-01-02T14:50:00+00:00",
          "2025-01-02T14:51:00+00:00",
          "2025-01-02T14:52:00+00:00",
          "2025-01-02T14:53:00+00:00",
          "2025-01-02T14:54:00+00:00",
          "2025-01-02T14:55:00+00:00",
          "2025-01-02T14:56:00+00:00",
          "2025-01-02T14:57:00+00:00",
          "2025-01-02T14:58:00+00:00",
          "2025-01-02T14:59:00+00:00",
          "2025-01-02T15:00:00+00:00",
          "2025-01-02T15:01:00+00:00",
          "2025-01-02T15:02:00+00:00",
          "2025-01-02T15:03:00+00:00",
          "2025-01-02T15:04:00+00:00",
          "2025-01-02T15:05:00+00:00",
          "2025-01-02T15:06:00+00:00",
          "2025-01-02T15:07:00+00:00",
          "2025-01-02T15:08:00+00:00",
          "2025-01-02T15:09:00+00:00",
          "2025-01-02T15:10:00+00:00",
          "2025-01-02T15:11:00+00:00",
          "2025-01-02T15:12:00+00:00",
          "2025-01-02T15:13:00+00:00",
          "2025-01-02T15:14:00+00:00",
          "2025-01-02T15:15:00+00:00",
          "2025-01-02T15:16:00+00:00",
          "2025-01-02T15:17:00+00:00",
          "2025-01-02T15:18:00+00:00",
          "2025-01-02T15:19:00+00:00",
          "2025-01-02T15:20:00+00:00",
          "2025-01-02T15:21:00+00:00",
          "2025-01-02T15:22:00+00:00",
          "2025-01-02T15:23:00+00:00",
          "2025-01-02T15:24:00+00:00",
          "2025-01-02T15:25:00+00:00",
          "2025-01-02T15:26:00+00:00",
          "2025-01-02T15:27:00+00:00",
          "2025-01-02T15:28:00+00:00",
          "2025-01-02T15:29:00+00:00",
          "2025-01-02T15:30:00+00:00",
          "2025-01-02T15:31:00+00:00",
          "2025-01-02T15:32:00+00:00",
          "2025-01-02T15:33:00+00:00",
          "2025-01-02T15:34:00+00:00",
          "2025-01-02T15:35:00+00:00",
          "2025-01-02T15:36:00+00:00",
          "2025-01-02T15:37:00+00:00",
          "2025-01-02T15:38:00+00:00",
          "2025-01-02T15:39:00+00:00",
          "2025-01-02T15:40:00+00:00",
          "2025-01-02T15:41:00+00:00",
          "2025-01-02T15:42:00+00:00",
          "2025-01-02T15:43:00+00:00",
          "2025-01-02T15:44:00+00:00",
          "2025-01-02T15:45:00+00:00",
          "2025-01-02T15:46:00+00:00",
          "2025-01-02T15:47:00+00:00",
          "2025-01-02T15:48:00+00:00",
          "2025-01-02T15:49:00+00:00",
          "2025-01-02T15:50:00+00:00",
          "2025-01-02T15:51:00+00:00",
          "2025-01-02T15:52:00+00:00",
          "2025-01-02T15:53:00+00:00",
          "2025-01-02T15:54:00+00:00",
          "2025-01-02T15:55:00+00:00",
          "2025-01-02T15:56:00+00:00",
          "2025-01-02T15:57:00+00:00",
          "2025-01-02T15:58:00+00:00",
          "2025-01-02T15:59:00+00:00",
          "2025-01-02T16:00:00+00:00",
          "2025-01-02T16:01:00+00:00",
          "2025-01-02T16:02:00+00:00",
          "2025-01-02T16:03:00+00:00",
          "2025-01-02T16:04:00+00:00",
          "2025-01-02T16:05:00+00:00",
          "2025-01-02T16:06:00+00:00",
          "2025-01-02T16:07:00+00:00",
          "2025-01-02T16:08:00+00:00",
          "2025-01-02T16:09:00+00:00",
          "2025-01-02T16:10:00+00:00",
          "2025-01-02T16:11:00+00:00",
          "2025-01-02T16:12:00+00:00",
          "2025-01-02T16:13:00+00:00",
          "2025-01-02T16:14:00+00:00",
          "2025-01-02T16:15:00+00:00",
          "2025-01-02T16:16:00+00:00",
          "2025-01-02T16:17:00+00:00",
          "2025-01-02T16:18:00+00:00",
          "2025-01-02T16:19:00+00:00",
          "2025-01-02T16:20:00+00:00",
          "2025-01-02T16:21:00+00:00",
          "2025-01-02T16:22:00+00:00",
          "2025-01-02T16:23:00+00:00",
          "2025-01-02T16:24:00+00:00",
          "2025-01-02T16:25:00+00:00",
          "2025-01-02T16:26:00+00:00",
          "2025-01-02T16:27:00+00:00",
          "2025-01-02T16:28:00+00:00",
          "2025-01-02T16:29:00+00:00",
          "2025-01-02T16:30:00+00:00",
          "2025-01-02T16:31:00+00:00",
          "2025-01-02T16:32:00+00:00",
          "2025-01-02T16:33:00+00:00",
          "2025-01-02T16:34:00+00:00",
          "2025-01-02T16:35:00+00:00",
          "2025-01-02T16:36:00+00:00",
          "2025-01-02T16:37:00+00:00",
          "2025-01-02T16:38:00+00:00",
          "2025-01-02T16:39:00+00:00",
          "2025-01-02T16:40:00+00:00",
          "2025-01-02T16:41:00+00:00",
          "2025-01-02T16:42:00+00:00",
          "2025-01-02T16:43:00+00:00",
          "2025-01-02T16:44:00+00:00",
          "2025-01-02T16:45:00+00:00",
          "2025-01-02T16:46:00+00:00",
          "2025-01-02T16:47:00+00:00",
          "2025-01-02T16:48:00+00:00",
          "2025-01-02T16:49:00+00:00",
          "2025-01-02T16:50:00+00:00",
          "2025-01-02T16:51:00+00:00",
          "2025-01-02T16:52:00+00:00",
          "2025-01-02T16:53:00+00:00",
          "2025-01-02T16:54:00+00:00",
          "2025-01-02T16:55:00+00:00",
          "2025-01-02T16:56:00+00:00",
          "2025-01-02T16:57:00+00:00",
          "2025-01-02T16:58:00+00:00",
          "2025-01-02T16:59:00+00:00",
          "2025-01-02T17:00:00+00:00",
          "2025-01-02T17:01:00+00:00",
          "2025-01-02T17:02:00+00:00",
          "2025-01-02T17:03:00+00:00",
          "2025-01-02T17:04:00+00:00",
          "2025-01-02T17:05:00+00:00",
          "2025-01-02T17:06:00+00:00",
          "2025-01-02T17:07:00+00:00",
          "2025-01-02T17:08:00+00:00",
          "2025-01-02T17:09:00+00:00",
          "2025-01-02T17:10:00+00:00",
          "2025-01-02T17:11:00+00:00",
          "2025-01-02T17:12:00+00:00",
          "2025-01-02T17:13:00+00:00",
          "2025-01-02T17:14:00+00:00",
          "2025-01-02T17:15:00+00:00",
          "2025-01-02T17:16:00+00:00",
          "2025-01-02T17:17:00+00:00",
          "2025-01-02T17:18:00+00:00",
          "2025-01-02T17:19:00+00:00",
          "2025-01-02T17:20:00+00:00",
          "2025-01-02T17:21:00+00:00",
          "2025-01-02T17:22:00+00:00",
          "2025-01-02T17:23:00+00:00",
          "2025-01-02T17:24:00+00:00",
          "2025-01-02T17:25:00+00:00",
          "2025-01-02T17:26:00+00:00",
          "2025-01-02T17:27:00+00:00",
          "2025-01-02T17:28:00+00:00",
          "2025-01-02T17:29:00+00:00",
          "2025-01-02T17:30:00+00:00",
          "2025-01-02T17:31:00+00:00",
          "2025-01-02T17:32:00+00:00",
          "2025-01-02T17:33:00+00:00",
          "2025-01-02T17:34:00+00:00",
          "2025-01-02T17:35:00+00:00",
          "2025-01-02T17:36:00+00:00",
          "2025-01-02T17:37:00+00:00",
          "2025-01-02T17:38:00+00:00",
          "2025-01-02T17:39:00+00:00",
          "2025-01-02T17:40:00+00:00",
          "2025-01-02T17:41:00+00:00",
          "2025-01-02T17:42:00+00:00",
          "2025-01-02T17:43:00+00:00",
          "2025-01-02T17:44:00+00:00",
          "2025-01-02T17:45:00+00:00",
          "2025-01-02T17:46:00+00:00",
          "2025-01-02T17:47:00+00:00",
          "2025-01-02T17:48:00+00:00",
          "2025-01-02T17:49:00+00:00",
          "2025-01-02T17:50:00+00:00",
          "2025-01-02T17:51:00+00:00",
          "2025-01-02T17:52:00+00:00",
          "2025-01-02T17:53:00+00:00",
          "2025-01-02T17:54:00+00:00",
          "2025-01-02T17:55:00+00:00",
          "2025-01-02T17:56:00+00:00",
          "2025-01-02T17:57:00+00:00",
          "2025-01-02T17:58:00+00:00",
          "2025-01-02T17:59:00+00:00",
          "2025-01-02T18:00:00+00:00",
          "2025-01-02T18:01:00+00:00",
          "2025-01-02T18:02:00+00:00",
          "2025-01-02T18:03:00+00:00",
          "2025-01-02T18:04:00+00:00",
          "2025-01-02T18:05:00+00:00",
          "2025-01-02T18:06:00+00:00",
          "2025-01-02T18:07:00+00:00",
          "2025-01-02T18:08:00+00:00",
          "2025-01-02T18:09:00+00:00",
          "2025-01-02T18:10:00+00:00",
          "2025-01-02T18:11:00+00:00",
          "2025-01-02T18:12:00+00:00",
          "2025-01-02T18:13:00+00:00",
          "2025-01-02T18:14:00+00:00",
          "2025-01-02T18:15:00+00:00",
          "2025-01-02T18:16:00+00:00",
          "2025-01-02T18:17:00+00:00",
          "2025-01-02T18:18:00+00:00",
          "2025-01-02T18:19:00+00:00",
          "2025-01-02T18:20:00+00:00",
          "2025-01-02T18:21:00+00:00",
          "2025-01-02T18:22:00+00:00",
          "2025-01-02T18:23:00+00:00",
          "2025-01-02T18:24:00+00:00",
          "2025-01-02T18:25:00+00:00",
          "2025-01-02T18:26:00+00:00",
          "2025-01-02T18:27:00+00:00",
          "2025-01-02T18:28:00+00:00",
          "2025-01-02T18:29:00+00:00",
          "2025-01-02T18:30:00+00:00",
          "2025-01-02T18:31:00+00:00",
          "2025-01-02T18:32:00+00:00",
          "2025-01-02T18:33:00+00:00",
          "2025-01-02T18:34:00+00:00",
          "2025-01-02T18:35:00+00:00",
          "2025-01-02T18:36:00+00:00",
          "2025-01-02T18:37:00+00:00",
          "2025-01-02T18:38:00+00:00",
          "2025-01-02T18:39:00+00:00",
          "2025-01-02T18:40:00+00:00",
          "2025-01-02T18:41:00+00:00",
          "2025-01-02T18:42:00+00:00",
          "2025-01-02T18:43:00+00:00",
          "2025-01-02T18:44:00+00:00",
          "2025-01-02T18:45:00+00:00",
          "2025-01-02T18:46:00+00:00",
          "2025-01-02T18:47:00+00:00",
          "2025-01-02T18:48:00+00:00",
          "2025-01-02T18:49:00+00:00",
          "2025-01-02T18:50:00+00:00",
          "2025-01-02T18:51:00+00:00",
          "2025-01-02T18:52:00+00:00",
          "2025-01-02T18:53:00+00:00",
          "2025-01-02T18:54:00+00:00",
          "2025-01-02T18:55:00+00:00",
          "2025-01-02T18:56:00+00:00",
          "2025-01-02T18:57:00+00:00",
          "2025-01-02T18:58:00+00:00",
          "2025-01-02T18:59:00+00:00",
          "2025-01-02T19:00:00+00:00",
          "2025-01-02T19:01:00+00:00",
          "2025-01-02T19:02:00+00:00",
          "2025-01-02T19:03:00+00:00",
          "2025-01-02T19:04:00+00:00",
          "2025-01-02T19:05:00+00:00",
          "2025-01-02T19:06:00+00:00",
          "2025-01-02T19:07:00+00:00",
          "2025-01-02T19:08:00+00:00",
          "2025-01-02T19:09:00+00:00",
          "2025-01-02T19:10:00+00:00",
          "2025-01-02T19:11:00+00:00",
          "2025-01-02T19:12:00+00:00",
          "2025-01-02T19:13:00+00:00",
          "2025-01-02T19:14:00+00:00",
          "2025-01-02T19:15:00+00:00",
          "2025-01-02T19:16:00+00:00",
          "2025-01-02T19:17:00+00:00",
          "2025-01-02T19:18:00+00:00",
          "2025-01-02T19:19:00+00:00",
          "2025-01-02T19:20:00+00:00",
          "2025-01-02T19:21:00+00:00",
          "2025-01-02T19:22:00+00:00",
          "2025-01-02T19:23:00+00:00",
          "2025-01-02T19:24:00+00:00",
          "2025-01-02T19:25:00+00:00",
          "2025-01-02T19:26:00+00:00",
          "2025-01-02T19:27:00+00:00",
          "2025-01-02T19:28:00+00:00",
          "2025-01-02T19:29:00+00:00",
          "2025-01-02T19:30:00+00:00",
          "2025-01-02T19:31:00+00:00",
          "2025-01-02T19:32:00+00:00",
          "2025-01-02T19:33:00+00:00",
          "2025-01-02T19:34:00+00:00",
          "2025-01-02T19:35:00+00:00",
          "2025-01-02T19:36:00+00:00",
          "2025-01-02T19:37:00+00:00",
          "2025-01-02T19:38:00+00:00",
          "2025-01-02T19:39:00+00:00",
          "2025-01-02T19:40:00+00:00",
          "2025-01-02T19:41:00+00:00",
          "2025-01-02T19:42:00+00:00",
          "2025-01-02T19:43:00+00:00",
          "2025-01-02T19:44:00+00:00",
          "2025-01-02T19:45:00+00:00",
          "2025-01-02T19:46:00+00:00",
          "2025-01-02T19:47:00+00:00",
          "2025-01-02T19:48:00+00:00",
          "2025-01-02T19:49:00+00:00",
          "2025-01-02T19:50:00+00:00",
          "2025-01-02T19:51:00+00:00",
          "2025-01-02T19:52:00+00:00",
          "2025-01-02T19:53:00+00:00",
          "2025-01-02T19:54:00+00:00",
          "2025-01-02T19:55:00+00:00",
          "2025-01-02T19:56:00+00:00",
          "2025-01-02T19:57:00+00:00",
          "2025-01-02T19:58:00+00:00",
          "2025-01-02T19:59:00+00:00",
          "2025-01-02T20:00:00+00:00",
          "2025-01-02T20:01:00+00:00",
          "2025-01-02T20:02:00+00:00",
          "2025-01-02T20:03:00+00:00",
          "2025-01-02T20:04:00+00:00",
          "2025-01-02T20:05:00+00:00",
          "2025-01-02T20:06:00+00:00",
          "2025-01-02T20:07:00+00:00",
          "2025-01-02T20:08:00+00:00",
          "2025-01-02T20:09:00+00:00",
          "2025-01-02T20:10:00+00:00",
          "2025-01-02T20:11:00+00:00",
          "2025-01-02T20:12:00+00:00",
          "2025-01-02T20:13:00+00:00",
          "2025-01-02T20:14:00+00:00",
          "2025-01-02T20:15:00+00:00",
          "2025-01-02T20:16:00+00:00",
          "2025-01-02T20:17:00+00:00",
          "2025-01-02T20:18:00+00:00",
          "2025-01-02T20:19:00+00:00",
          "2025-01-02T20:20:00+00:00",
          "2025-01-02T20:21:00+00:00",
          "2025-01-02T20:22:00+00:00",
          "2025-01-02T20:23:00+00:00",
          "2025-01-02T20:24:00+00:00",
          "2025-01-02T20:25:00+00:00",
          "2025-01-02T20:26:00+00:00",
          "2025-01-02T20:27:00+00:00",
          "2025-01-02T20:28:00+00:00",
          "2025-01-02T20:29:00+00:00",
          "2025-01-02T20:30:00+00:00",
          "2025-01-02T20:31:00+00:00",
          "2025-01-02T20:32:00+00:00",
          "2025-01-02T20:33:00+00:00",
          "2025-01-02T20:34:00+00:00",
          "2025-01-02T20:35:00+00:00",
          "2025-01-02T20:36:00+00:00",
          "2025-01-02T20:37:00+00:00",
          "2025-01-02T20:38:00+00:00",
          "2025-01-02T20:39:00+00:00",
          "2025-01-02T20:40:00+00:00",
          "2025-01-02T20:41:00+00:00",
          "2025-01-02T20:42:00+00:00",
          "2025-01-02T20:43:00+00:00",
          "2025-01-02T20:44:00+00:00",
          "2025-01-02T20:45:00+00:00",
          "2025-01-02T20:46:00+00:00",
          "2025-01-02T20:47:00+00:00",
          "2025-01-02T20:48:00+00:00",
          "2025-01-02T20:49:00+00:00",
          "2025-01-02T20:50:00+00:00",
          "2025-01-02T20:51:00+00:00",
          "2025-01-02T20:52:00+00:00",
          "2025-01-02T20:53:00+00:00",
          "2025-01-02T20:54:00+00:00",
          "2025-01-02T20:55:00+00:00",
          "2025-01-02T20:56:00+00:00",
          "2025-01-02T20:57:00+00:00",
          "2025-01-02T20:58:00+00:00",
          "2025-01-02T20:59:00+00:00",
          "2025-01-02T21:00:00+00:00"
         ],
         "xaxis": "x",
         "y": {
          "bdata": "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",
          "dtype": "f8"
         },
         "yaxis": "y"
        },
        {
         "line": {
          "color": "#8d6e63",
          "dash": "dot",
          "width": 2
         },
         "name": "VWAP",
         "type": "scatter",
         "x": [
          "2025-01-02T14:30:00+00:00",
          "2025-01-02T14:31:00+00:00",
          "2025-01-02T14:32:00+00:00",
          "2025-01-02T14:33:00+00:00",
          "2025-01-02T14:34:00+00:00",
          "2025-01-02T14:35:00+00:00",
          "2025-01-02T14:36:00+00:00",
          "2025-01-02T14:37:00+00:00",
          "2025-01-02T14:38:00+00:00",
          "2025-01-02T14:39:00+00:00",
          "2025-01-02T14:40:00+00:00",
          "2025-01-02T14:41:00+00:00",
          "2025-01-02T14:42:00+00:00",
          "2025-01-02T14:43:00+00:00",
          "2025-01-02T14:44:00+00:00",
          "2025-01-02T14:45:00+00:00",
          "2025-01-02T14:46:00+00:00",
          "2025-01-02T14:47:00+00:00",
          "2025-01-02T14:48:00+00:00",
          "2025-01-02T14:49:00+00:00",
          "2025-01-02T14:50:00+00:00",
          "2025-01-02T14:51:00+00:00",
          "2025-01-02T14:52:00+00:00",
          "2025-01-02T14:53:00+00:00",
          "2025-01-02T14:54:00+00:00",
          "2025-01-02T14:55:00+00:00",
          "2025-01-02T14:56:00+00:00",
          "2025-01-02T14:57:00+00:00",
          "2025-01-02T14:58:00+00:00",
          "2025-01-02T14:59:00+00:00",
          "2025-01-02T15:00:00+00:00",
          "2025-01-02T15:01:00+00:00",
          "2025-01-02T15:02:00+00:00",
          "2025-01-02T15:03:00+00:00",
          "2025-01-02T15:04:00+00:00",
          "2025-01-02T15:05:00+00:00",
          "2025-01-02T15:06:00+00:00",
          "2025-01-02T15:07:00+00:00",
          "2025-01-02T15:08:00+00:00",
          "2025-01-02T15:09:00+00:00",
          "2025-01-02T15:10:00+00:00",
          "2025-01-02T15:11:00+00:00",
          "2025-01-02T15:12:00+00:00",
          "2025-01-02T15:13:00+00:00",
          "2025-01-02T15:14:00+00:00",
          "2025-01-02T15:15:00+00:00",
          "2025-01-02T15:16:00+00:00",
          "2025-01-02T15:17:00+00:00",
          "2025-01-02T15:18:00+00:00",
          "2025-01-02T15:19:00+00:00",
          "2025-01-02T15:20:00+00:00",
          "2025-01-02T15:21:00+00:00",
          "2025-01-02T15:22:00+00:00",
          "2025-01-02T15:23:00+00:00",
          "2025-01-02T15:24:00+00:00",
          "2025-01-02T15:25:00+00:00",
          "2025-01-02T15:26:00+00:00",
          "2025-01-02T15:27:00+00:00",
          "2025-01-02T15:28:00+00:00",
          "2025-01-02T15:29:00+00:00",
          "2025-01-02T15:30:00+00:00",
          "2025-01-02T15:31:00+00:00",
          "2025-01-02T15:32:00+00:00",
          "2025-01-02T15:33:00+00:00",
          "2025-01-02T15:34:00+00:00",
          "2025-01-02T15:35:00+00:00",
          "2025-01-02T15:36:00+00:00",
          "2025-01-02T15:37:00+00:00",
          "2025-01-02T15:38:00+00:00",
          "2025-01-02T15:39:00+00:00",
          "2025-01-02T15:40:00+00:00",
          "2025-01-02T15:41:00+00:00",
          "2025-01-02T15:42:00+00:00",
          "2025-01-02T15:43:00+00:00",
          "2025-01-02T15:44:00+00:00",
          "2025-01-02T15:45:00+00:00",
          "2025-01-02T15:46:00+00:00",
          "2025-01-02T15:47:00+00:00",
          "2025-01-02T15:48:00+00:00",
          "2025-01-02T15:49:00+00:00",
          "2025-01-02T15:50:00+00:00",
          "2025-01-02T15:51:00+00:00",
          "2025-01-02T15:52:00+00:00",
          "2025-01-02T15:53:00+00:00",
          "2025-01-02T15:54:00+00:00",
          "2025-01-02T15:55:00+00:00",
          "2025-01-02T15:56:00+00:00",
          "2025-01-02T15:57:00+00:00",
          "2025-01-02T15:58:00+00:00",
          "2025-01-02T15:59:00+00:00",
          "2025-01-02T16:00:00+00:00",
          "2025-01-02T16:01:00+00:00",
          "2025-01-02T16:02:00+00:00",
          "2025-01-02T16:03:00+00:00",
          "2025-01-02T16:04:00+00:00",
          "2025-01-02T16:05:00+00:00",
          "2025-01-02T16:06:00+00:00",
          "2025-01-02T16:07:00+00:00",
          "2025-01-02T16:08:00+00:00",
          "2025-01-02T16:09:00+00:00",
          "2025-01-02T16:10:00+00:00",
          "2025-01-02T16:11:00+00:00",
          "2025-01-02T16:12:00+00:00",
          "2025-01-02T16:13:00+00:00",
          "2025-01-02T16:14:00+00:00",
          "2025-01-02T16:15:00+00:00",
          "2025-01-02T16:16:00+00:00",
          "2025-01-02T16:17:00+00:00",
          "2025-01-02T16:18:00+00:00",
          "2025-01-02T16:19:00+00:00",
          "2025-01-02T16:20:00+00:00",
          "2025-01-02T16:21:00+00:00",
          "2025-01-02T16:22:00+00:00",
          "2025-01-02T16:23:00+00:00",
          "2025-01-02T16:24:00+00:00",
          "2025-01-02T16:25:00+00:00",
          "2025-01-02T16:26:00+00:00",
          "2025-01-02T16:27:00+00:00",
          "2025-01-02T16:28:00+00:00",
          "2025-01-02T16:29:00+00:00",
          "2025-01-02T16:30:00+00:00",
          "2025-01-02T16:31:00+00:00",
          "2025-01-02T16:32:00+00:00",
          "2025-01-02T16:33:00+00:00",
          "2025-01-02T16:34:00+00:00",
          "2025-01-02T16:35:00+00:00",
          "2025-01-02T16:36:00+00:00",
          "2025-01-02T16:37:00+00:00",
          "2025-01-02T16:38:00+00:00",
          "2025-01-02T16:39:00+00:00",
          "2025-01-02T16:40:00+00:00",
          "2025-01-02T16:41:00+00:00",
          "2025-01-02T16:42:00+00:00",
          "2025-01-02T16:43:00+00:00",
          "2025-01-02T16:44:00+00:00",
          "2025-01-02T16:45:00+00:00",
          "2025-01-02T16:46:00+00:00",
          "2025-01-02T16:47:00+00:00",
          "2025-01-02T16:48:00+00:00",
          "2025-01-02T16:49:00+00:00",
          "2025-01-02T16:50:00+00:00",
          "2025-01-02T16:51:00+00:00",
          "2025-01-02T16:52:00+00:00",
          "2025-01-02T16:53:00+00:00",
          "2025-01-02T16:54:00+00:00",
          "2025-01-02T16:55:00+00:00",
          "2025-01-02T16:56:00+00:00",
          "2025-01-02T16:57:00+00:00",
          "2025-01-02T16:58:00+00:00",
          "2025-01-02T16:59:00+00:00",
          "2025-01-02T17:00:00+00:00",
          "2025-01-02T17:01:00+00:00",
          "2025-01-02T17:02:00+00:00",
          "2025-01-02T17:03:00+00:00",
          "2025-01-02T17:04:00+00:00",
          "2025-01-02T17:05:00+00:00",
          "2025-01-02T17:06:00+00:00",
          "2025-01-02T17:07:00+00:00",
          "2025-01-02T17:08:00+00:00",
          "2025-01-02T17:09:00+00:00",
          "2025-01-02T17:10:00+00:00",
          "2025-01-02T17:11:00+00:00",
          "2025-01-02T17:12:00+00:00",
          "2025-01-02T17:13:00+00:00",
          "2025-01-02T17:14:00+00:00",
          "2025-01-02T17:15:00+00:00",
          "2025-01-02T17:16:00+00:00",
          "2025-01-02T17:17:00+00:00",
          "2025-01-02T17:18:00+00:00",
          "2025-01-02T17:19:00+00:00",
          "2025-01-02T17:20:00+00:00",
          "2025-01-02T17:21:00+00:00",
          "2025-01-02T17:22:00+00:00",
          "2025-01-02T17:23:00+00:00",
          "2025-01-02T17:24:00+00:00",
          "2025-01-02T17:25:00+00:00",
          "2025-01-02T17:26:00+00:00",
          "2025-01-02T17:27:00+00:00",
          "2025-01-02T17:28:00+00:00",
          "2025-01-02T17:29:00+00:00",
          "2025-01-02T17:30:00+00:00",
          "2025-01-02T17:31:00+00:00",
          "2025-01-02T17:32:00+00:00",
          "2025-01-02T17:33:00+00:00",
          "2025-01-02T17:34:00+00:00",
          "2025-01-02T17:35:00+00:00",
          "2025-01-02T17:36:00+00:00",
          "2025-01-02T17:37:00+00:00",
          "2025-01-02T17:38:00+00:00",
          "2025-01-02T17:39:00+00:00",
          "2025-01-02T17:40:00+00:00",
          "2025-01-02T17:41:00+00:00",
          "2025-01-02T17:42:00+00:00",
          "2025-01-02T17:43:00+00:00",
          "2025-01-02T17:44:00+00:00",
          "2025-01-02T17:45:00+00:00",
          "2025-01-02T17:46:00+00:00",
          "2025-01-02T17:47:00+00:00",
          "2025-01-02T17:48:00+00:00",
          "2025-01-02T17:49:00+00:00",
          "2025-01-02T17:50:00+00:00",
          "2025-01-02T17:51:00+00:00",
          "2025-01-02T17:52:00+00:00",
          "2025-01-02T17:53:00+00:00",
          "2025-01-02T17:54:00+00:00",
          "2025-01-02T17:55:00+00:00",
          "2025-01-02T17:56:00+00:00",
          "2025-01-02T17:57:00+00:00",
          "2025-01-02T17:58:00+00:00",
          "2025-01-02T17:59:00+00:00",
          "2025-01-02T18:00:00+00:00",
          "2025-01-02T18:01:00+00:00",
          "2025-01-02T18:02:00+00:00",
          "2025-01-02T18:03:00+00:00",
          "2025-01-02T18:04:00+00:00",
          "2025-01-02T18:05:00+00:00",
          "2025-01-02T18:06:00+00:00",
          "2025-01-02T18:07:00+00:00",
          "2025-01-02T18:08:00+00:00",
          "2025-01-02T18:09:00+00:00",
          "2025-01-02T18:10:00+00:00",
          "2025-01-02T18:11:00+00:00",
          "2025-01-02T18:12:00+00:00",
          "2025-01-02T18:13:00+00:00",
          "2025-01-02T18:14:00+00:00",
          "2025-01-02T18:15:00+00:00",
          "2025-01-02T18:16:00+00:00",
          "2025-01-02T18:17:00+00:00",
          "2025-01-02T18:18:00+00:00",
          "2025-01-02T18:19:00+00:00",
          "2025-01-02T18:20:00+00:00",
          "2025-01-02T18:21:00+00:00",
          "2025-01-02T18:22:00+00:00",
          "2025-01-02T18:23:00+00:00",
          "2025-01-02T18:24:00+00:00",
          "2025-01-02T18:25:00+00:00",
          "2025-01-02T18:26:00+00:00",
          "2025-01-02T18:27:00+00:00",
          "2025-01-02T18:28:00+00:00",
          "2025-01-02T18:29:00+00:00",
          "2025-01-02T18:30:00+00:00",
          "2025-01-02T18:31:00+00:00",
          "2025-01-02T18:32:00+00:00",
          "2025-01-02T18:33:00+00:00",
          "2025-01-02T18:34:00+00:00",
          "2025-01-02T18:35:00+00:00",
          "2025-01-02T18:36:00+00:00",
          "2025-01-02T18:37:00+00:00",
          "2025-01-02T18:38:00+00:00",
          "2025-01-02T18:39:00+00:00",
          "2025-01-02T18:40:00+00:00",
          "2025-01-02T18:41:00+00:00",
          "2025-01-02T18:42:00+00:00",
          "2025-01-02T18:43:00+00:00",
          "2025-01-02T18:44:00+00:00",
          "2025-01-02T18:45:00+00:00",
          "2025-01-02T18:46:00+00:00",
          "2025-01-02T18:47:00+00:00",
          "2025-01-02T18:48:00+00:00",
          "2025-01-02T18:49:00+00:00",
          "2025-01-02T18:50:00+00:00",
          "2025-01-02T18:51:00+00:00",
          "2025-01-02T18:52:00+00:00",
          "2025-01-02T18:53:00+00:00",
          "2025-01-02T18:54:00+00:00",
          "2025-01-02T18:55:00+00:00",
          "2025-01-02T18:56:00+00:00",
          "2025-01-02T18:57:00+00:00",
          "2025-01-02T18:58:00+00:00",
          "2025-01-02T18:59:00+00:00",
          "2025-01-02T19:00:00+00:00",
          "2025-01-02T19:01:00+00:00",
          "2025-01-02T19:02:00+00:00",
          "2025-01-02T19:03:00+00:00",
          "2025-01-02T19:04:00+00:00",
          "2025-01-02T19:05:00+00:00",
          "2025-01-02T19:06:00+00:00",
          "2025-01-02T19:07:00+00:00",
          "2025-01-02T19:08:00+00:00",
          "2025-01-02T19:09:00+00:00",
          "2025-01-02T19:10:00+00:00",
          "2025-01-02T19:11:00+00:00",
          "2025-01-02T19:12:00+00:00",
          "2025-01-02T19:13:00+00:00",
          "2025-01-02T19:14:00+00:00",
          "2025-01-02T19:15:00+00:00",
          "2025-01-02T19:16:00+00:00",
          "2025-01-02T19:17:00+00:00",
          "2025-01-02T19:18:00+00:00",
          "2025-01-02T19:19:00+00:00",
          "2025-01-02T19:20:00+00:00",
          "2025-01-02T19:21:00+00:00",
          "2025-01-02T19:22:00+00:00",
          "2025-01-02T19:23:00+00:00",
          "2025-01-02T19:24:00+00:00",
          "2025-01-02T19:25:00+00:00",
          "2025-01-02T19:26:00+00:00",
          "2025-01-02T19:27:00+00:00",
          "2025-01-02T19:28:00+00:00",
          "2025-01-02T19:29:00+00:00",
          "2025-01-02T19:30:00+00:00",
          "2025-01-02T19:31:00+00:00",
          "2025-01-02T19:32:00+00:00",
          "2025-01-02T19:33:00+00:00",
          "2025-01-02T19:34:00+00:00",
          "2025-01-02T19:35:00+00:00",
          "2025-01-02T19:36:00+00:00",
          "2025-01-02T19:37:00+00:00",
          "2025-01-02T19:38:00+00:00",
          "2025-01-02T19:39:00+00:00",
          "2025-01-02T19:40:00+00:00",
          "2025-01-02T19:41:00+00:00",
          "2025-01-02T19:42:00+00:00",
          "2025-01-02T19:43:00+00:00",
          "2025-01-02T19:44:00+00:00",
          "2025-01-02T19:45:00+00:00",
          "2025-01-02T19:46:00+00:00",
          "2025-01-02T19:47:00+00:00",
          "2025-01-02T19:48:00+00:00",
          "2025-01-02T19:49:00+00:00",
          "2025-01-02T19:50:00+00:00",
          "2025-01-02T19:51:00+00:00",
          "2025-01-02T19:52:00+00:00",
          "2025-01-02T19:53:00+00:00",
          "2025-01-02T19:54:00+00:00",
          "2025-01-02T19:55:00+00:00",
          "2025-01-02T19:56:00+00:00",
          "2025-01-02T19:57:00+00:00",
          "2025-01-02T19:58:00+00:00",
          "2025-01-02T19:59:00+00:00",
          "2025-01-02T20:00:00+00:00",
          "2025-01-02T20:01:00+00:00",
          "2025-01-02T20:02:00+00:00",
          "2025-01-02T20:03:00+00:00",
          "2025-01-02T20:04:00+00:00",
          "2025-01-02T20:05:00+00:00",
          "2025-01-02T20:06:00+00:00",
          "2025-01-02T20:07:00+00:00",
          "2025-01-02T20:08:00+00:00",
          "2025-01-02T20:09:00+00:00",
          "2025-01-02T20:10:00+00:00",
          "2025-01-02T20:11:00+00:00",
          "2025-01-02T20:12:00+00:00",
          "2025-01-02T20:13:00+00:00",
          "2025-01-02T20:14:00+00:00",
          "2025-01-02T20:15:00+00:00",
          "2025-01-02T20:16:00+00:00",
          "2025-01-02T20:17:00+00:00",
          "2025-01-02T20:18:00+00:00",
          "2025-01-02T20:19:00+00:00",
          "2025-01-02T20:20:00+00:00",
          "2025-01-02T20:21:00+00:00",
          "2025-01-02T20:22:00+00:00",
          "2025-01-02T20:23:00+00:00",
          "2025-01-02T20:24:00+00:00",
          "2025-01-02T20:25:00+00:00",
          "2025-01-02T20:26:00+00:00",
          "2025-01-02T20:27:00+00:00",
          "2025-01-02T20:28:00+00:00",
          "2025-01-02T20:29:00+00:00",
          "2025-01-02T20:30:00+00:00",
          "2025-01-02T20:31:00+00:00",
          "2025-01-02T20:32:00+00:00",
          "2025-01-02T20:33:00+00:00",
          "2025-01-02T20:34:00+00:00",
          "2025-01-02T20:35:00+00:00",
          "2025-01-02T20:36:00+00:00",
          "2025-01-02T20:37:00+00:00",
          "2025-01-02T20:38:00+00:00",
          "2025-01-02T20:39:00+00:00",
          "2025-01-02T20:40:00+00:00",
          "2025-01-02T20:41:00+00:00",
          "2025-01-02T20:42:00+00:00",
          "2025-01-02T20:43:00+00:00",
          "2025-01-02T20:44:00+00:00",
          "2025-01-02T20:45:00+00:00",
          "2025-01-02T20:46:00+00:00",
          "2025-01-02T20:47:00+00:00",
          "2025-01-02T20:48:00+00:00",
          "2025-01-02T20:49:00+00:00",
          "2025-01-02T20:50:00+00:00",
          "2025-01-02T20:51:00+00:00",
          "2025-01-02T20:52:00+00:00",
          "2025-01-02T20:53:00+00:00",
          "2025-01-02T20:54:00+00:00",
          "2025-01-02T20:55:00+00:00",
          "2025-01-02T20:56:00+00:00",
          "2025-01-02T20:57:00+00:00",
          "2025-01-02T20:58:00+00:00",
          "2025-01-02T20:59:00+00:00",
          "2025-01-02T21:00:00+00:00"
         ],
         "xaxis": "x",
         "y": {
          "bdata": "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",
          "dtype": "f8"
         },
         "yaxis": "y"
        },
        {
         "marker": {
          "color": [
           "rgba(0,150,0,0.6)",
           "rgba(0,150,0,0.6)",
           "rgba(200,0,0,0.6)",
           "rgba(200,0,0,0.6)",
           "rgba(200,0,0,0.6)",
           "rgba(200,0,0,0.6)",
           "rgba(0,150,0,0.6)",
           "rgba(0,150,0,0.6)",
           "rgba(200,0,0,0.6)",
           "rgba(200,0,0,0.6)",
           "rgba(0,150,0,0.6)",
           "rgba(0,150,0,0.6)",
           "rgba(0,150,0,0.6)",
           "rgba(200,0,0,0.6)",
           "rgba(0,150,0,0.6)",
           "rgba(0,150,0,0.6)",
           "rgba(0,150,0,0.6)",
           "rgba(0,150,0,0.6)",
           "rgba(0,150,0,0.6)",
           "rgba(0,150,0,0.6)",
           "rgba(200,0,0,0.6)",
           "rgba(0,150,0,0.6)",
           "rgba(0,150,0,0.6)",
           "rgba(0,150,0,0.6)",
           "rgba(0,150,0,0.6)",
           "rgba(0,150,0,0.6)",
           "rgba(0,150,0,0.6)",
           "rgba(200,0,0,0.6)",
           "rgba(200,0,0,0.6)",
           "rgba(0,150,0,0.6)",
           "rgba(0,150,0,0.6)",
           "rgba(200,0,0,0.6)",
           "rgba(0,150,0,0.6)",
           "rgba(200,0,0,0.6)",
           "rgba(0,150,0,0.6)",
           "rgba(0,150,0,0.6)",
           "rgba(200,0,0,0.6)",
           "rgba(200,0,0,0.6)",
           "rgba(0,150,0,0.6)",
           "rgba(200,0,0,0.6)",
           "rgba(0,150,0,0.6)",
           "rgba(0,150,0,0.6)",
           "rgba(200,0,0,0.6)",
           "rgba(0,150,0,0.6)",
           "rgba(200,0,0,0.6)",
           "rgba(0,150,0,0.6)",
           "rgba(200,0,0,0.6)",
           "rgba(200,0,0,0.6)",
           "rgba(0,150,0,0.6)",
           "rgba(200,0,0,0.6)",
           "rgba(200,0,0,0.6)",
           "rgba(200,0,0,0.6)",
           "rgba(200,0,0,0.6)",
           "rgba(0,150,0,0.6)",
           "rgba(200,0,0,0.6)",
           "rgba(0,150,0,0.6)",
           "rgba(0,150,0,0.6)",
           "rgba(200,0,0,0.6)",
           "rgba(200,0,0,0.6)",
           "rgba(0,150,0,0.6)",
           "rgba(200,0,0,0.6)",
           "rgba(200,0,0,0.6)",
           "rgba(0,150,0,0.6)",
           "rgba(200,0,0,0.6)",
           "rgba(0,150,0,0.6)",
           "rgba(200,0,0,0.6)",
           "rgba(0,150,0,0.6)",
           "rgba(200,0,0,0.6)",
           "rgba(200,0,0,0.6)",
           "rgba(200,0,0,0.6)",
           "rgba(0,150,0,0.6)",
           "rgba(200,0,0,0.6)",
           "rgba(0,150,0,0.6)",
           "rgba(0,150,0,0.6)",
           "rgba(0,150,0,0.6)",
           "rgba(200,0,0,0.6)",
           "rgba(200,0,0,0.6)",
           "rgba(0,150,0,0.6)",
           "rgba(0,150,0,0.6)",
           "rgba(0,150,0,0.6)",
           "rgba(0,150,0,0.6)",
           "rgba(0,150,0,0.6)",
           "rgba(200,0,0,0.6)",
           "rgba(200,0,0,0.6)",
           "rgba(0,150,0,0.6)",
           "rgba(200,0,0,0.6)",
           "rgba(0,150,0,0.6)",
           "rgba(200,0,0,0.6)",
           "rgba(200,0,0,0.6)",
           "rgba(200,0,0,0.6)",
           "rgba(200,0,0,0.6)",
           "rgba(0,150,0,0.6)",
           "rgba(200,0,0,0.6)",
           "rgba(200,0,0,0.6)",
           "rgba(200,0,0,0.6)",
           "rgba(0,150,0,0.6)",
           "rgba(0,150,0,0.6)",
           "rgba(200,0,0,0.6)",
           "rgba(200,0,0,0.6)",
           "rgba(0,150,0,0.6)",
           "rgba(200,0,0,0.6)",
           "rgba(0,150,0,0.6)",
           "rgba(200,0,0,0.6)",
           "rgba(0,150,0,0.6)",
           "rgba(0,150,0,0.6)",
           "rgba(200,0,0,0.6)",
           "rgba(0,150,0,0.6)",
           "rgba(0,150,0,0.6)",
           "rgba(0,150,0,0.6)",
           "rgba(0,150,0,0.6)",
           "rgba(200,0,0,0.6)",
           "rgba(200,0,0,0.6)",
           "rgba(200,0,0,0.6)",
           "rgba(0,150,0,0.6)",
           "rgba(0,150,0,0.6)",
           "rgba(200,0,0,0.6)",
           "rgba(0,150,0,0.6)",
           "rgba(200,0,0,0.6)",
           "rgba(0,150,0,0.6)",
           "rgba(200,0,0,0.6)",
           "rgba(0,150,0,0.6)",
           "rgba(200,0,0,0.6)",
           "rgba(0,150,0,0.6)",
           "rgba(0,150,0,0.6)",
           "rgba(200,0,0,0.6)",
           "rgba(0,150,0,0.6)",
           "rgba(200,0,0,0.6)",
           "rgba(200,0,0,0.6)",
           "rgba(200,0,0,0.6)",
           "rgba(0,150,0,0.6)",
           "rgba(0,150,0,0.6)",
           "rgba(200,0,0,0.6)",
           "rgba(200,0,0,0.6)",
           "rgba(200,0,0,0.6)",
           "rgba(200,0,0,0.6)",
           "rgba(0,150,0,0.6)",
           "rgba(0,150,0,0.6)",
           "rgba(0,150,0,0.6)",
           "rgba(0,150,0,0.6)",
           "rgba(0,150,0,0.6)",
           "rgba(200,0,0,0.6)",
           "rgba(0,150,0,0.6)",
           "rgba(200,0,0,0.6)",
           "rgba(200,0,0,0.6)",
           "rgba(200,0,0,0.6)",
           "rgba(0,150,0,0.6)",
           "rgba(200,0,0,0.6)",
           "rgba(0,150,0,0.6)",
           "rgba(0,150,0,0.6)",
           "rgba(200,0,0,0.6)",
           "rgba(200,0,0,0.6)",
           "rgba(0,150,0,0.6)",
           "rgba(200,0,0,0.6)",
           "rgba(0,150,0,0.6)",
           "rgba(0,150,0,0.6)",
           "rgba(200,0,0,0.6)",
           "rgba(200,0,0,0.6)",
           "rgba(200,0,0,0.6)",
           "rgba(200,0,0,0.6)",
           "rgba(200,0,0,0.6)",
           "rgba(0,150,0,0.6)",
           "rgba(200,0,0,0.6)",
           "rgba(0,150,0,0.6)",
           "rgba(0,150,0,0.6)",
           "rgba(200,0,0,0.6)",
           "rgba(0,150,0,0.6)",
           "rgba(200,0,0,0.6)",
           "rgba(200,0,0,0.6)",
           "rgba(200,0,0,0.6)",
           "rgba(0,150,0,0.6)",
           "rgba(200,0,0,0.6)",
           "rgba(0,150,0,0.6)",
           "rgba(200,0,0,0.6)",
           "rgba(200,0,0,0.6)",
           "rgba(200,0,0,0.6)",
           "rgba(200,0,0,0.6)",
           "rgba(200,0,0,0.6)",
           "rgba(200,0,0,0.6)",
           "rgba(200,0,0,0.6)",
           "rgba(200,0,0,0.6)",
           "rgba(200,0,0,0.6)",
           "rgba(0,150,0,0.6)",
           "rgba(200,0,0,0.6)",
           "rgba(200,0,0,0.6)",
           "rgba(0,150,0,0.6)",
           "rgba(200,0,0,0.6)",
           "rgba(200,0,0,0.6)",
           "rgba(200,0,0,0.6)",
           "rgba(200,0,0,0.6)",
           "rgba(200,0,0,0.6)",
           "rgba(200,0,0,0.6)",
           "rgba(0,150,0,0.6)",
           "rgba(200,0,0,0.6)",
           "rgba(0,150,0,0.6)",
           "rgba(200,0,0,0.6)",
           "rgba(200,0,0,0.6)",
           "rgba(200,0,0,0.6)",
           "rgba(200,0,0,0.6)",
           "rgba(200,0,0,0.6)",
           "rgba(200,0,0,0.6)",
           "rgba(0,150,0,0.6)",
           "rgba(0,150,0,0.6)",
           "rgba(200,0,0,0.6)",
           "rgba(0,150,0,0.6)",
           "rgba(200,0,0,0.6)",
           "rgba(0,150,0,0.6)",
           "rgba(0,150,0,0.6)",
           "rgba(200,0,0,0.6)",
           "rgba(0,150,0,0.6)",
           "rgba(200,0,0,0.6)",
           "rgba(200,0,0,0.6)",
           "rgba(200,0,0,0.6)",
           "rgba(200,0,0,0.6)",
           "rgba(200,0,0,0.6)",
           "rgba(200,0,0,0.6)",
           "rgba(0,150,0,0.6)",
           "rgba(0,150,0,0.6)",
           "rgba(0,150,0,0.6)",
           "rgba(0,150,0,0.6)",
           "rgba(0,150,0,0.6)",
           "rgba(200,0,0,0.6)",
           "rgba(200,0,0,0.6)",
           "rgba(200,0,0,0.6)",
           "rgba(200,0,0,0.6)",
           "rgba(0,150,0,0.6)",
           "rgba(200,0,0,0.6)",
           "rgba(0,150,0,0.6)",
           "rgba(200,0,0,0.6)",
           "rgba(0,150,0,0.6)",
           "rgba(200,0,0,0.6)",
           "rgba(0,150,0,0.6)",
           "rgba(200,0,0,0.6)",
           "rgba(0,150,0,0.6)",
           "rgba(0,150,0,0.6)",
           "rgba(200,0,0,0.6)",
           "rgba(200,0,0,0.6)",
           "rgba(200,0,0,0.6)",
           "rgba(0,150,0,0.6)",
           "rgba(200,0,0,0.6)",
           "rgba(0,150,0,0.6)",
           "rgba(200,0,0,0.6)",
           "rgba(200,0,0,0.6)",
           "rgba(0,150,0,0.6)",
           "rgba(0,150,0,0.6)",
           "rgba(200,0,0,0.6)",
           "rgba(0,150,0,0.6)",
           "rgba(0,150,0,0.6)",
           "rgba(0,150,0,0.6)",
           "rgba(200,0,0,0.6)",
           "rgba(0,150,0,0.6)",
           "rgba(200,0,0,0.6)",
           "rgba(0,150,0,0.6)",
           "rgba(200,0,0,0.6)",
           "rgba(0,150,0,0.6)",
           "rgba(0,150,0,0.6)",
           "rgba(200,0,0,0.6)",
           "rgba(200,0,0,0.6)",
           "rgba(200,0,0,0.6)",
           "rgba(200,0,0,0.6)",
           "rgba(0,150,0,0.6)",
           "rgba(200,0,0,0.6)",
           "rgba(200,0,0,0.6)",
           "rgba(200,0,0,0.6)",
           "rgba(0,150,0,0.6)",
           "rgba(200,0,0,0.6)",
           "rgba(0,150,0,0.6)",
           "rgba(0,150,0,0.6)",
           "rgba(0,150,0,0.6)",
           "rgba(0,150,0,0.6)",
           "rgba(0,150,0,0.6)",
           "rgba(200,0,0,0.6)",
           "rgba(200,0,0,0.6)",
           "rgba(0,150,0,0.6)",
           "rgba(0,150,0,0.6)",
           "rgba(0,150,0,0.6)",
           "rgba(200,0,0,0.6)",
           "rgba(0,150,0,0.6)",
           "rgba(200,0,0,0.6)",
           "rgba(200,0,0,0.6)",
           "rgba(0,150,0,0.6)",
           "rgba(0,150,0,0.6)",
           "rgba(200,0,0,0.6)",
           "rgba(200,0,0,0.6)",
           "rgba(200,0,0,0.6)",
           "rgba(200,0,0,0.6)",
           "rgba(0,150,0,0.6)",
           "rgba(200,0,0,0.6)",
           "rgba(0,150,0,0.6)",
           "rgba(0,150,0,0.6)",
           "rgba(200,0,0,0.6)",
           "rgba(200,0,0,0.6)",
           "rgba(0,150,0,0.6)",
           "rgba(0,150,0,0.6)",
           "rgba(200,0,0,0.6)",
           "rgba(0,150,0,0.6)",
           "rgba(0,150,0,0.6)",
           "rgba(0,150,0,0.6)",
           "rgba(0,150,0,0.6)",
           "rgba(200,0,0,0.6)",
           "rgba(200,0,0,0.6)",
           "rgba(200,0,0,0.6)",
           "rgba(0,150,0,0.6)",
           "rgba(0,150,0,0.6)",
           "rgba(200,0,0,0.6)",
           "rgba(200,0,0,0.6)",
           "rgba(200,0,0,0.6)",
           "rgba(0,150,0,0.6)",
           "rgba(0,150,0,0.6)",
           "rgba(0,150,0,0.6)",
           "rgba(200,0,0,0.6)",
           "rgba(0,150,0,0.6)",
           "rgba(200,0,0,0.6)",
           "rgba(0,150,0,0.6)",
           "rgba(200,0,0,0.6)",
           "rgba(0,150,0,0.6)",
           "rgba(0,150,0,0.6)",
           "rgba(200,0,0,0.6)",
           "rgba(0,150,0,0.6)",
           "rgba(0,150,0,0.6)",
           "rgba(200,0,0,0.6)",
           "rgba(200,0,0,0.6)",
           "rgba(0,150,0,0.6)",
           "rgba(0,150,0,0.6)",
           "rgba(200,0,0,0.6)",
           "rgba(0,150,0,0.6)",
           "rgba(200,0,0,0.6)",
           "rgba(200,0,0,0.6)",
           "rgba(200,0,0,0.6)",
           "rgba(0,150,0,0.6)",
           "rgba(200,0,0,0.6)",
           "rgba(0,150,0,0.6)",
           "rgba(200,0,0,0.6)",
           "rgba(0,150,0,0.6)",
           "rgba(0,150,0,0.6)",
           "rgba(0,150,0,0.6)",
           "rgba(200,0,0,0.6)",
           "rgba(0,150,0,0.6)",
           "rgba(0,150,0,0.6)",
           "rgba(0,150,0,0.6)",
           "rgba(0,150,0,0.6)",
           "rgba(0,150,0,0.6)",
           "rgba(0,150,0,0.6)",
           "rgba(0,150,0,0.6)",
           "rgba(0,150,0,0.6)",
           "rgba(200,0,0,0.6)",
           "rgba(200,0,0,0.6)",
           "rgba(0,150,0,0.6)",
           "rgba(0,150,0,0.6)",
           "rgba(0,150,0,0.6)",
           "rgba(0,150,0,0.6)",
           "rgba(200,0,0,0.6)",
           "rgba(0,150,0,0.6)",
           "rgba(0,150,0,0.6)",
           "rgba(200,0,0,0.6)",
           "rgba(200,0,0,0.6)",
           "rgba(200,0,0,0.6)",
           "rgba(0,150,0,0.6)",
           "rgba(0,150,0,0.6)",
           "rgba(0,150,0,0.6)",
           "rgba(200,0,0,0.6)",
           "rgba(200,0,0,0.6)",
           "rgba(0,150,0,0.6)",
           "rgba(200,0,0,0.6)",
           "rgba(200,0,0,0.6)",
           "rgba(200,0,0,0.6)",
           "rgba(200,0,0,0.6)",
           "rgba(200,0,0,0.6)",
           "rgba(0,150,0,0.6)",
           "rgba(0,150,0,0.6)",
           "rgba(200,0,0,0.6)",
           "rgba(0,150,0,0.6)",
           "rgba(0,150,0,0.6)",
           "rgba(0,150,0,0.6)",
           "rgba(200,0,0,0.6)",
           "rgba(0,150,0,0.6)",
           "rgba(0,150,0,0.6)",
           "rgba(0,150,0,0.6)",
           "rgba(0,150,0,0.6)",
           "rgba(200,0,0,0.6)",
           "rgba(200,0,0,0.6)",
           "rgba(0,150,0,0.6)",
           "rgba(200,0,0,0.6)",
           "rgba(0,150,0,0.6)",
           "rgba(200,0,0,0.6)",
           "rgba(200,0,0,0.6)",
           "rgba(0,150,0,0.6)",
           "rgba(200,0,0,0.6)",
           "rgba(0,150,0,0.6)",
           "rgba(200,0,0,0.6)",
           "rgba(0,150,0,0.6)",
           "rgba(0,150,0,0.6)"
          ]
         },
         "name": "Volume",
         "type": "bar",
         "x": [
          "2025-01-02T14:30:00+00:00",
          "2025-01-02T14:31:00+00:00",
          "2025-01-02T14:32:00+00:00",
          "2025-01-02T14:33:00+00:00",
          "2025-01-02T14:34:00+00:00",
          "2025-01-02T14:35:00+00:00",
          "2025-01-02T14:36:00+00:00",
          "2025-01-02T14:37:00+00:00",
          "2025-01-02T14:38:00+00:00",
          "2025-01-02T14:39:00+00:00",
          "2025-01-02T14:40:00+00:00",
          "2025-01-02T14:41:00+00:00",
          "2025-01-02T14:42:00+00:00",
          "2025-01-02T14:43:00+00:00",
          "2025-01-02T14:44:00+00:00",
          "2025-01-02T14:45:00+00:00",
          "2025-01-02T14:46:00+00:00",
          "2025-01-02T14:47:00+00:00",
          "2025-01-02T14:48:00+00:00",
          "2025-01-02T14:49:00+00:00",
          "2025-01-02T14:50:00+00:00",
          "2025-01-02T14:51:00+00:00",
          "2025-01-02T14:52:00+00:00",
          "2025-01-02T14:53:00+00:00",
          "2025-01-02T14:54:00+00:00",
          "2025-01-02T14:55:00+00:00",
          "2025-01-02T14:56:00+00:00",
          "2025-01-02T14:57:00+00:00",
          "2025-01-02T14:58:00+00:00",
          "2025-01-02T14:59:00+00:00",
          "2025-01-02T15:00:00+00:00",
          "2025-01-02T15:01:00+00:00",
          "2025-01-02T15:02:00+00:00",
          "2025-01-02T15:03:00+00:00",
          "2025-01-02T15:04:00+00:00",
          "2025-01-02T15:05:00+00:00",
          "2025-01-02T15:06:00+00:00",
          "2025-01-02T15:07:00+00:00",
          "2025-01-02T15:08:00+00:00",
          "2025-01-02T15:09:00+00:00",
          "2025-01-02T15:10:00+00:00",
          "2025-01-02T15:11:00+00:00",
          "2025-01-02T15:12:00+00:00",
          "2025-01-02T15:13:00+00:00",
          "2025-01-02T15:14:00+00:00",
          "2025-01-02T15:15:00+00:00",
          "2025-01-02T15:16:00+00:00",
          "2025-01-02T15:17:00+00:00",
          "2025-01-02T15:18:00+00:00",
          "2025-01-02T15:19:00+00:00",
          "2025-01-02T15:20:00+00:00",
          "2025-01-02T15:21:00+00:00",
          "2025-01-02T15:22:00+00:00",
          "2025-01-02T15:23:00+00:00",
          "2025-01-02T15:24:00+00:00",
          "2025-01-02T15:25:00+00:00",
          "2025-01-02T15:26:00+00:00",
          "2025-01-02T15:27:00+00:00",
          "2025-01-02T15:28:00+00:00",
          "2025-01-02T15:29:00+00:00",
          "2025-01-02T15:30:00+00:00",
          "2025-01-02T15:31:00+00:00",
          "2025-01-02T15:32:00+00:00",
          "2025-01-02T15:33:00+00:00",
          "2025-01-02T15:34:00+00:00",
          "2025-01-02T15:35:00+00:00",
          "2025-01-02T15:36:00+00:00",
          "2025-01-02T15:37:00+00:00",
          "2025-01-02T15:38:00+00:00",
          "2025-01-02T15:39:00+00:00",
          "2025-01-02T15:40:00+00:00",
          "2025-01-02T15:41:00+00:00",
          "2025-01-02T15:42:00+00:00",
          "2025-01-02T15:43:00+00:00",
          "2025-01-02T15:44:00+00:00",
          "2025-01-02T15:45:00+00:00",
          "2025-01-02T15:46:00+00:00",
          "2025-01-02T15:47:00+00:00",
          "2025-01-02T15:48:00+00:00",
          "2025-01-02T15:49:00+00:00",
          "2025-01-02T15:50:00+00:00",
          "2025-01-02T15:51:00+00:00",
          "2025-01-02T15:52:00+00:00",
          "2025-01-02T15:53:00+00:00",
          "2025-01-02T15:54:00+00:00",
          "2025-01-02T15:55:00+00:00",
          "2025-01-02T15:56:00+00:00",
          "2025-01-02T15:57:00+00:00",
          "2025-01-02T15:58:00+00:00",
          "2025-01-02T15:59:00+00:00",
          "2025-01-02T16:00:00+00:00",
          "2025-01-02T16:01:00+00:00",
          "2025-01-02T16:02:00+00:00",
          "2025-01-02T16:03:00+00:00",
          "2025-01-02T16:04:00+00:00",
          "2025-01-02T16:05:00+00:00",
          "2025-01-02T16:06:00+00:00",
          "2025-01-02T16:07:00+00:00",
          "2025-01-02T16:08:00+00:00",
          "2025-01-02T16:09:00+00:00",
          "2025-01-02T16:10:00+00:00",
          "2025-01-02T16:11:00+00:00",
          "2025-01-02T16:12:00+00:00",
          "2025-01-02T16:13:00+00:00",
          "2025-01-02T16:14:00+00:00",
          "2025-01-02T16:15:00+00:00",
          "2025-01-02T16:16:00+00:00",
          "2025-01-02T16:17:00+00:00",
          "2025-01-02T16:18:00+00:00",
          "2025-01-02T16:19:00+00:00",
          "2025-01-02T16:20:00+00:00",
          "2025-01-02T16:21:00+00:00",
          "2025-01-02T16:22:00+00:00",
          "2025-01-02T16:23:00+00:00",
          "2025-01-02T16:24:00+00:00",
          "2025-01-02T16:25:00+00:00",
          "2025-01-02T16:26:00+00:00",
          "2025-01-02T16:27:00+00:00",
          "2025-01-02T16:28:00+00:00",
          "2025-01-02T16:29:00+00:00",
          "2025-01-02T16:30:00+00:00",
          "2025-01-02T16:31:00+00:00",
          "2025-01-02T16:32:00+00:00",
          "2025-01-02T16:33:00+00:00",
          "2025-01-02T16:34:00+00:00",
          "2025-01-02T16:35:00+00:00",
          "2025-01-02T16:36:00+00:00",
          "2025-01-02T16:37:00+00:00",
          "2025-01-02T16:38:00+00:00",
          "2025-01-02T16:39:00+00:00",
          "2025-01-02T16:40:00+00:00",
          "2025-01-02T16:41:00+00:00",
          "2025-01-02T16:42:00+00:00",
          "2025-01-02T16:43:00+00:00",
          "2025-01-02T16:44:00+00:00",
          "2025-01-02T16:45:00+00:00",
          "2025-01-02T16:46:00+00:00",
          "2025-01-02T16:47:00+00:00",
          "2025-01-02T16:48:00+00:00",
          "2025-01-02T16:49:00+00:00",
          "2025-01-02T16:50:00+00:00",
          "2025-01-02T16:51:00+00:00",
          "2025-01-02T16:52:00+00:00",
          "2025-01-02T16:53:00+00:00",
          "2025-01-02T16:54:00+00:00",
          "2025-01-02T16:55:00+00:00",
          "2025-01-02T16:56:00+00:00",
          "2025-01-02T16:57:00+00:00",
          "2025-01-02T16:58:00+00:00",
          "2025-01-02T16:59:00+00:00",
          "2025-01-02T17:00:00+00:00",
          "2025-01-02T17:01:00+00:00",
          "2025-01-02T17:02:00+00:00",
          "2025-01-02T17:03:00+00:00",
          "2025-01-02T17:04:00+00:00",
          "2025-01-02T17:05:00+00:00",
          "2025-01-02T17:06:00+00:00",
          "2025-01-02T17:07:00+00:00",
          "2025-01-02T17:08:00+00:00",
          "2025-01-02T17:09:00+00:00",
          "2025-01-02T17:10:00+00:00",
          "2025-01-02T17:11:00+00:00",
          "2025-01-02T17:12:00+00:00",
          "2025-01-02T17:13:00+00:00",
          "2025-01-02T17:14:00+00:00",
          "2025-01-02T17:15:00+00:00",
          "2025-01-02T17:16:00+00:00",
          "2025-01-02T17:17:00+00:00",
          "2025-01-02T17:18:00+00:00",
          "2025-01-02T17:19:00+00:00",
          "2025-01-02T17:20:00+00:00",
          "2025-01-02T17:21:00+00:00",
          "2025-01-02T17:22:00+00:00",
          "2025-01-02T17:23:00+00:00",
          "2025-01-02T17:24:00+00:00",
          "2025-01-02T17:25:00+00:00",
          "2025-01-02T17:26:00+00:00",
          "2025-01-02T17:27:00+00:00",
          "2025-01-02T17:28:00+00:00",
          "2025-01-02T17:29:00+00:00",
          "2025-01-02T17:30:00+00:00",
          "2025-01-02T17:31:00+00:00",
          "2025-01-02T17:32:00+00:00",
          "2025-01-02T17:33:00+00:00",
          "2025-01-02T17:34:00+00:00",
          "2025-01-02T17:35:00+00:00",
          "2025-01-02T17:36:00+00:00",
          "2025-01-02T17:37:00+00:00",
          "2025-01-02T17:38:00+00:00",
          "2025-01-02T17:39:00+00:00",
          "2025-01-02T17:40:00+00:00",
          "2025-01-02T17:41:00+00:00",
          "2025-01-02T17:42:00+00:00",
          "2025-01-02T17:43:00+00:00",
          "2025-01-02T17:44:00+00:00",
          "2025-01-02T17:45:00+00:00",
          "2025-01-02T17:46:00+00:00",
          "2025-01-02T17:47:00+00:00",
          "2025-01-02T17:48:00+00:00",
          "2025-01-02T17:49:00+00:00",
          "2025-01-02T17:50:00+00:00",
          "2025-01-02T17:51:00+00:00",
          "2025-01-02T17:52:00+00:00",
          "2025-01-02T17:53:00+00:00",
          "2025-01-02T17:54:00+00:00",
          "2025-01-02T17:55:00+00:00",
          "2025-01-02T17:56:00+00:00",
          "2025-01-02T17:57:00+00:00",
          "2025-01-02T17:58:00+00:00",
          "2025-01-02T17:59:00+00:00",
          "2025-01-02T18:00:00+00:00",
          "2025-01-02T18:01:00+00:00",
          "2025-01-02T18:02:00+00:00",
          "2025-01-02T18:03:00+00:00",
          "2025-01-02T18:04:00+00:00",
          "2025-01-02T18:05:00+00:00",
          "2025-01-02T18:06:00+00:00",
          "2025-01-02T18:07:00+00:00",
          "2025-01-02T18:08:00+00:00",
          "2025-01-02T18:09:00+00:00",
          "2025-01-02T18:10:00+00:00",
          "2025-01-02T18:11:00+00:00",
          "2025-01-02T18:12:00+00:00",
          "2025-01-02T18:13:00+00:00",
          "2025-01-02T18:14:00+00:00",
          "2025-01-02T18:15:00+00:00",
          "2025-01-02T18:16:00+00:00",
          "2025-01-02T18:17:00+00:00",
          "2025-01-02T18:18:00+00:00",
          "2025-01-02T18:19:00+00:00",
          "2025-01-02T18:20:00+00:00",
          "2025-01-02T18:21:00+00:00",
          "2025-01-02T18:22:00+00:00",
          "2025-01-02T18:23:00+00:00",
          "2025-01-02T18:24:00+00:00",
          "2025-01-02T18:25:00+00:00",
          "2025-01-02T18:26:00+00:00",
          "2025-01-02T18:27:00+00:00",
          "2025-01-02T18:28:00+00:00",
          "2025-01-02T18:29:00+00:00",
          "2025-01-02T18:30:00+00:00",
          "2025-01-02T18:31:00+00:00",
          "2025-01-02T18:32:00+00:00",
          "2025-01-02T18:33:00+00:00",
          "2025-01-02T18:34:00+00:00",
          "2025-01-02T18:35:00+00:00",
          "2025-01-02T18:36:00+00:00",
          "2025-01-02T18:37:00+00:00",
          "2025-01-02T18:38:00+00:00",
          "2025-01-02T18:39:00+00:00",
          "2025-01-02T18:40:00+00:00",
          "2025-01-02T18:41:00+00:00",
          "2025-01-02T18:42:00+00:00",
          "2025-01-02T18:43:00+00:00",
          "2025-01-02T18:44:00+00:00",
          "2025-01-02T18:45:00+00:00",
          "2025-01-02T18:46:00+00:00",
          "2025-01-02T18:47:00+00:00",
          "2025-01-02T18:48:00+00:00",
          "2025-01-02T18:49:00+00:00",
          "2025-01-02T18:50:00+00:00",
          "2025-01-02T18:51:00+00:00",
          "2025-01-02T18:52:00+00:00",
          "2025-01-02T18:53:00+00:00",
          "2025-01-02T18:54:00+00:00",
          "2025-01-02T18:55:00+00:00",
          "2025-01-02T18:56:00+00:00",
          "2025-01-02T18:57:00+00:00",
          "2025-01-02T18:58:00+00:00",
          "2025-01-02T18:59:00+00:00",
          "2025-01-02T19:00:00+00:00",
          "2025-01-02T19:01:00+00:00",
          "2025-01-02T19:02:00+00:00",
          "2025-01-02T19:03:00+00:00",
          "2025-01-02T19:04:00+00:00",
          "2025-01-02T19:05:00+00:00",
          "2025-01-02T19:06:00+00:00",
          "2025-01-02T19:07:00+00:00",
          "2025-01-02T19:08:00+00:00",
          "2025-01-02T19:09:00+00:00",
          "2025-01-02T19:10:00+00:00",
          "2025-01-02T19:11:00+00:00",
          "2025-01-02T19:12:00+00:00",
          "2025-01-02T19:13:00+00:00",
          "2025-01-02T19:14:00+00:00",
          "2025-01-02T19:15:00+00:00",
          "2025-01-02T19:16:00+00:00",
          "2025-01-02T19:17:00+00:00",
          "2025-01-02T19:18:00+00:00",
          "2025-01-02T19:19:00+00:00",
          "2025-01-02T19:20:00+00:00",
          "2025-01-02T19:21:00+00:00",
          "2025-01-02T19:22:00+00:00",
          "2025-01-02T19:23:00+00:00",
          "2025-01-02T19:24:00+00:00",
          "2025-01-02T19:25:00+00:00",
          "2025-01-02T19:26:00+00:00",
          "2025-01-02T19:27:00+00:00",
          "2025-01-02T19:28:00+00:00",
          "2025-01-02T19:29:00+00:00",
          "2025-01-02T19:30:00+00:00",
          "2025-01-02T19:31:00+00:00",
          "2025-01-02T19:32:00+00:00",
          "2025-01-02T19:33:00+00:00",
          "2025-01-02T19:34:00+00:00",
          "2025-01-02T19:35:00+00:00",
          "2025-01-02T19:36:00+00:00",
          "2025-01-02T19:37:00+00:00",
          "2025-01-02T19:38:00+00:00",
          "2025-01-02T19:39:00+00:00",
          "2025-01-02T19:40:00+00:00",
          "2025-01-02T19:41:00+00:00",
          "2025-01-02T19:42:00+00:00",
          "2025-01-02T19:43:00+00:00",
          "2025-01-02T19:44:00+00:00",
          "2025-01-02T19:45:00+00:00",
          "2025-01-02T19:46:00+00:00",
          "2025-01-02T19:47:00+00:00",
          "2025-01-02T19:48:00+00:00",
          "2025-01-02T19:49:00+00:00",
          "2025-01-02T19:50:00+00:00",
          "2025-01-02T19:51:00+00:00",
          "2025-01-02T19:52:00+00:00",
          "2025-01-02T19:53:00+00:00",
          "2025-01-02T19:54:00+00:00",
          "2025-01-02T19:55:00+00:00",
          "2025-01-02T19:56:00+00:00",
          "2025-01-02T19:57:00+00:00",
          "2025-01-02T19:58:00+00:00",
          "2025-01-02T19:59:00+00:00",
          "2025-01-02T20:00:00+00:00",
          "2025-01-02T20:01:00+00:00",
          "2025-01-02T20:02:00+00:00",
          "2025-01-02T20:03:00+00:00",
          "2025-01-02T20:04:00+00:00",
          "2025-01-02T20:05:00+00:00",
          "2025-01-02T20:06:00+00:00",
          "2025-01-02T20:07:00+00:00",
          "2025-01-02T20:08:00+00:00",
          "2025-01-02T20:09:00+00:00",
          "2025-01-02T20:10:00+00:00",
          "2025-01-02T20:11:00+00:00",
          "2025-01-02T20:12:00+00:00",
          "2025-01-02T20:13:00+00:00",
          "2025-01-02T20:14:00+00:00",
          "2025-01-02T20:15:00+00:00",
          "2025-01-02T20:16:00+00:00",
          "2025-01-02T20:17:00+00:00",
          "2025-01-02T20:18:00+00:00",
          "2025-01-02T20:19:00+00:00",
          "2025-01-02T20:20:00+00:00",
          "2025-01-02T20:21:00+00:00",
          "2025-01-02T20:22:00+00:00",
          "2025-01-02T20:23:00+00:00",
          "2025-01-02T20:24:00+00:00",
          "2025-01-02T20:25:00+00:00",
          "2025-01-02T20:26:00+00:00",
          "2025-01-02T20:27:00+00:00",
          "2025-01-02T20:28:00+00:00",
          "2025-01-02T20:29:00+00:00",
          "2025-01-02T20:30:00+00:00",
          "2025-01-02T20:31:00+00:00",
          "2025-01-02T20:32:00+00:00",
          "2025-01-02T20:33:00+00:00",
          "2025-01-02T20:34:00+00:00",
          "2025-01-02T20:35:00+00:00",
          "2025-01-02T20:36:00+00:00",
          "2025-01-02T20:37:00+00:00",
          "2025-01-02T20:38:00+00:00",
          "2025-01-02T20:39:00+00:00",
          "2025-01-02T20:40:00+00:00",
          "2025-01-02T20:41:00+00:00",
          "2025-01-02T20:42:00+00:00",
          "2025-01-02T20:43:00+00:00",
          "2025-01-02T20:44:00+00:00",
          "2025-01-02T20:45:00+00:00",
          "2025-01-02T20:46:00+00:00",
          "2025-01-02T20:47:00+00:00",
          "2025-01-02T20:48:00+00:00",
          "2025-01-02T20:49:00+00:00",
          "2025-01-02T20:50:00+00:00",
          "2025-01-02T20:51:00+00:00",
          "2025-01-02T20:52:00+00:00",
          "2025-01-02T20:53:00+00:00",
          "2025-01-02T20:54:00+00:00",
          "2025-01-02T20:55:00+00:00",
          "2025-01-02T20:56:00+00:00",
          "2025-01-02T20:57:00+00:00",
          "2025-01-02T20:58:00+00:00",
          "2025-01-02T20:59:00+00:00",
          "2025-01-02T21:00:00+00:00"
         ],
         "xaxis": "x2",
         "y": {
          "bdata": "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",
          "dtype": "i4"
         },
         "yaxis": "y2"
        }
       ],
       "layout": {
        "hovermode": "x unified",
        "legend": {
         "orientation": "h",
         "x": 1,
         "xanchor": "right",
         "y": 1.02,
         "yanchor": "bottom"
        },
        "margin": {
         "b": 40,
         "l": 40,
         "r": 20,
         "t": 60
        },
        "shapes": [
         {
          "fillcolor": "rgba(33,150,243,0.08)",
          "layer": "below",
          "line": {
           "width": 0
          },
          "type": "rect",
          "x0": "2025-01-02T14:30:00+00:00",
          "x1": "2025-01-02T21:00:00+00:00",
          "xref": "x",
          "y0": 0,
          "y1": 1,
          "yref": "y domain"
         },
         {
          "fillcolor": "rgba(33,150,243,0.08)",
          "layer": "below",
          "line": {
           "width": 0
          },
          "type": "rect",
          "x0": "2025-01-02T14:30:00+00:00",
          "x1": "2025-01-02T21:00:00+00:00",
          "xref": "x2",
          "y0": 0,
          "y1": 1,
          "yref": "y2 domain"
         }
        ],
        "template": {
         "data": {
          "bar": [
           {
            "error_x": {
             "color": "#2a3f5f"
            },
            "error_y": {
             "color": "#2a3f5f"
            },
            "marker": {
             "line": {
              "color": "white",
              "width": 0.5
             },
             "pattern": {
              "fillmode": "overlay",
              "size": 10,
              "solidity": 0.2
             }
            },
            "type": "bar"
           }
          ],
          "barpolar": [
           {
            "marker": {
             "line": {
              "color": "white",
              "width": 0.5
             },
             "pattern": {
              "fillmode": "overlay",
              "size": 10,
              "solidity": 0.2
             }
            },
            "type": "barpolar"
           }
          ],
          "carpet": [
           {
            "aaxis": {
             "endlinecolor": "#2a3f5f",
             "gridcolor": "#C8D4E3",
             "linecolor": "#C8D4E3",
             "minorgridcolor": "#C8D4E3",
             "startlinecolor": "#2a3f5f"
            },
            "baxis": {
             "endlinecolor": "#2a3f5f",
             "gridcolor": "#C8D4E3",
             "linecolor": "#C8D4E3",
             "minorgridcolor": "#C8D4E3",
             "startlinecolor": "#2a3f5f"
            },
            "type": "carpet"
           }
          ],
          "choropleth": [
           {
            "colorbar": {
             "outlinewidth": 0,
             "ticks": ""
            },
            "type": "choropleth"
           }
          ],
          "contour": [
           {
            "colorbar": {
             "outlinewidth": 0,
             "ticks": ""
            },
            "colorscale": [
             [
              0,
              "#0d0887"
             ],
             [
              0.1111111111111111,
              "#46039f"
             ],
             [
              0.2222222222222222,
              "#7201a8"
             ],
             [
              0.3333333333333333,
              "#9c179e"
             ],
             [
              0.4444444444444444,
              "#bd3786"
             ],
             [
              0.5555555555555556,
              "#d8576b"
             ],
             [
              0.6666666666666666,
              "#ed7953"
             ],
             [
              0.7777777777777778,
              "#fb9f3a"
             ],
             [
              0.8888888888888888,
              "#fdca26"
             ],
             [
              1,
              "#f0f921"
             ]
            ],
            "type": "contour"
           }
          ],
          "contourcarpet": [
           {
            "colorbar": {
             "outlinewidth": 0,
             "ticks": ""
            },
            "type": "contourcarpet"
           }
          ],
          "heatmap": [
           {
            "colorbar": {
             "outlinewidth": 0,
             "ticks": ""
            },
            "colorscale": [
             [
              0,
              "#0d0887"
             ],
             [
              0.1111111111111111,
              "#46039f"
             ],
             [
              0.2222222222222222,
              "#7201a8"
             ],
             [
              0.3333333333333333,
              "#9c179e"
             ],
             [
              0.4444444444444444,
              "#bd3786"
             ],
             [
              0.5555555555555556,
              "#d8576b"
             ],
             [
              0.6666666666666666,
              "#ed7953"
             ],
             [
              0.7777777777777778,
              "#fb9f3a"
             ],
             [
              0.8888888888888888,
              "#fdca26"
             ],
             [
              1,
              "#f0f921"
             ]
            ],
            "type": "heatmap"
           }
          ],
          "histogram": [
           {
            "marker": {
             "pattern": {
              "fillmode": "overlay",
              "size": 10,
              "solidity": 0.2
             }
            },
            "type": "histogram"
           }
          ],
          "histogram2d": [
           {
            "colorbar": {
             "outlinewidth": 0,
             "ticks": ""
            },
            "colorscale": [
             [
              0,
              "#0d0887"
             ],
             [
              0.1111111111111111,
              "#46039f"
             ],
             [
              0.2222222222222222,
              "#7201a8"
             ],
             [
              0.3333333333333333,
              "#9c179e"
             ],
             [
              0.4444444444444444,
              "#bd3786"
             ],
             [
              0.5555555555555556,
              "#d8576b"
             ],
             [
              0.6666666666666666,
              "#ed7953"
             ],
             [
              0.7777777777777778,
              "#fb9f3a"
             ],
             [
              0.8888888888888888,
              "#fdca26"
             ],
             [
              1,
              "#f0f921"
             ]
            ],
            "type": "histogram2d"
           }
          ],
          "histogram2dcontour": [
           {
            "colorbar": {
             "outlinewidth": 0,
             "ticks": ""
            },
            "colorscale": [
             [
              0,
              "#0d0887"
             ],
             [
              0.1111111111111111,
              "#46039f"
             ],
             [
              0.2222222222222222,
              "#7201a8"
             ],
             [
              0.3333333333333333,
              "#9c179e"
             ],
             [
              0.4444444444444444,
              "#bd3786"
             ],
             [
              0.5555555555555556,
              "#d8576b"
             ],
             [
              0.6666666666666666,
              "#ed7953"
             ],
             [
              0.7777777777777778,
              "#fb9f3a"
             ],
             [
              0.8888888888888888,
              "#fdca26"
             ],
             [
              1,
              "#f0f921"
             ]
            ],
            "type": "histogram2dcontour"
           }
          ],
          "mesh3d": [
           {
            "colorbar": {
             "outlinewidth": 0,
             "ticks": ""
            },
            "type": "mesh3d"
           }
          ],
          "parcoords": [
           {
            "line": {
             "colorbar": {
              "outlinewidth": 0,
              "ticks": ""
             }
            },
            "type": "parcoords"
           }
          ],
          "pie": [
           {
            "automargin": true,
            "type": "pie"
           }
          ],
          "scatter": [
           {
            "fillpattern": {
             "fillmode": "overlay",
             "size": 10,
             "solidity": 0.2
            },
            "type": "scatter"
           }
          ],
          "scatter3d": [
           {
            "line": {
             "colorbar": {
              "outlinewidth": 0,
              "ticks": ""
             }
            },
            "marker": {
             "colorbar": {
              "outlinewidth": 0,
              "ticks": ""
             }
            },
            "type": "scatter3d"
           }
          ],
          "scattercarpet": [
           {
            "marker": {
             "colorbar": {
              "outlinewidth": 0,
              "ticks": ""
             }
            },
            "type": "scattercarpet"
           }
          ],
          "scattergeo": [
           {
            "marker": {
             "colorbar": {
              "outlinewidth": 0,
              "ticks": ""
             }
            },
            "type": "scattergeo"
           }
          ],
          "scattergl": [
           {
            "marker": {
             "colorbar": {
              "outlinewidth": 0,
              "ticks": ""
             }
            },
            "type": "scattergl"
           }
          ],
          "scattermap": [
           {
            "marker": {
             "colorbar": {
              "outlinewidth": 0,
              "ticks": ""
             }
            },
            "type": "scattermap"
           }
          ],
          "scattermapbox": [
           {
            "marker": {
             "colorbar": {
              "outlinewidth": 0,
              "ticks": ""
             }
            },
            "type": "scattermapbox"
           }
          ],
          "scatterpolar": [
           {
            "marker": {
             "colorbar": {
              "outlinewidth": 0,
              "ticks": ""
             }
            },
            "type": "scatterpolar"
           }
          ],
          "scatterpolargl": [
           {
            "marker": {
             "colorbar": {
              "outlinewidth": 0,
              "ticks": ""
             }
            },
            "type": "scatterpolargl"
           }
          ],
          "scatterternary": [
           {
            "marker": {
             "colorbar": {
              "outlinewidth": 0,
              "ticks": ""
             }
            },
            "type": "scatterternary"
           }
          ],
          "surface": [
           {
            "colorbar": {
             "outlinewidth": 0,
             "ticks": ""
            },
            "colorscale": [
             [
              0,
              "#0d0887"
             ],
             [
              0.1111111111111111,
              "#46039f"
             ],
             [
              0.2222222222222222,
              "#7201a8"
             ],
             [
              0.3333333333333333,
              "#9c179e"
             ],
             [
              0.4444444444444444,
              "#bd3786"
             ],
             [
              0.5555555555555556,
              "#d8576b"
             ],
             [
              0.6666666666666666,
              "#ed7953"
             ],
             [
              0.7777777777777778,
              "#fb9f3a"
             ],
             [
              0.8888888888888888,
              "#fdca26"
             ],
             [
              1,
              "#f0f921"
             ]
            ],
            "type": "surface"
           }
          ],
          "table": [
           {
            "cells": {
             "fill": {
              "color": "#EBF0F8"
             },
             "line": {
              "color": "white"
             }
            },
            "header": {
             "fill": {
              "color": "#C8D4E3"
             },
             "line": {
              "color": "white"
             }
            },
            "type": "table"
           }
          ]
         },
         "layout": {
          "annotationdefaults": {
           "arrowcolor": "#2a3f5f",
           "arrowhead": 0,
           "arrowwidth": 1
          },
          "autotypenumbers": "strict",
          "coloraxis": {
           "colorbar": {
            "outlinewidth": 0,
            "ticks": ""
           }
          },
          "colorscale": {
           "diverging": [
            [
             0,
             "#8e0152"
            ],
            [
             0.1,
             "#c51b7d"
            ],
            [
             0.2,
             "#de77ae"
            ],
            [
             0.3,
             "#f1b6da"
            ],
            [
             0.4,
             "#fde0ef"
            ],
            [
             0.5,
             "#f7f7f7"
            ],
            [
             0.6,
             "#e6f5d0"
            ],
            [
             0.7,
             "#b8e186"
            ],
            [
             0.8,
             "#7fbc41"
            ],
            [
             0.9,
             "#4d9221"
            ],
            [
             1,
             "#276419"
            ]
           ],
           "sequential": [
            [
             0,
             "#0d0887"
            ],
            [
             0.1111111111111111,
             "#46039f"
            ],
            [
             0.2222222222222222,
             "#7201a8"
            ],
            [
             0.3333333333333333,
             "#9c179e"
            ],
            [
             0.4444444444444444,
             "#bd3786"
            ],
            [
             0.5555555555555556,
             "#d8576b"
            ],
            [
             0.6666666666666666,
             "#ed7953"
            ],
            [
             0.7777777777777778,
             "#fb9f3a"
            ],
            [
             0.8888888888888888,
             "#fdca26"
            ],
            [
             1,
             "#f0f921"
            ]
           ],
           "sequentialminus": [
            [
             0,
             "#0d0887"
            ],
            [
             0.1111111111111111,
             "#46039f"
            ],
            [
             0.2222222222222222,
             "#7201a8"
            ],
            [
             0.3333333333333333,
             "#9c179e"
            ],
            [
             0.4444444444444444,
             "#bd3786"
            ],
            [
             0.5555555555555556,
             "#d8576b"
            ],
            [
             0.6666666666666666,
             "#ed7953"
            ],
            [
             0.7777777777777778,
             "#fb9f3a"
            ],
            [
             0.8888888888888888,
             "#fdca26"
            ],
            [
             1,
             "#f0f921"
            ]
           ]
          },
          "colorway": [
           "#636efa",
           "#EF553B",
           "#00cc96",
           "#ab63fa",
           "#FFA15A",
           "#19d3f3",
           "#FF6692",
           "#B6E880",
           "#FF97FF",
           "#FECB52"
          ],
          "font": {
           "color": "#2a3f5f"
          },
          "geo": {
           "bgcolor": "white",
           "lakecolor": "white",
           "landcolor": "white",
           "showlakes": true,
           "showland": true,
           "subunitcolor": "#C8D4E3"
          },
          "hoverlabel": {
           "align": "left"
          },
          "hovermode": "closest",
          "mapbox": {
           "style": "light"
          },
          "paper_bgcolor": "white",
          "plot_bgcolor": "white",
          "polar": {
           "angularaxis": {
            "gridcolor": "#EBF0F8",
            "linecolor": "#EBF0F8",
            "ticks": ""
           },
           "bgcolor": "white",
           "radialaxis": {
            "gridcolor": "#EBF0F8",
            "linecolor": "#EBF0F8",
            "ticks": ""
           }
          },
          "scene": {
           "xaxis": {
            "backgroundcolor": "white",
            "gridcolor": "#DFE8F3",
            "gridwidth": 2,
            "linecolor": "#EBF0F8",
            "showbackground": true,
            "ticks": "",
            "zerolinecolor": "#EBF0F8"
           },
           "yaxis": {
            "backgroundcolor": "white",
            "gridcolor": "#DFE8F3",
            "gridwidth": 2,
            "linecolor": "#EBF0F8",
            "showbackground": true,
            "ticks": "",
            "zerolinecolor": "#EBF0F8"
           },
           "zaxis": {
            "backgroundcolor": "white",
            "gridcolor": "#DFE8F3",
            "gridwidth": 2,
            "linecolor": "#EBF0F8",
            "showbackground": true,
            "ticks": "",
            "zerolinecolor": "#EBF0F8"
           }
          },
          "shapedefaults": {
           "line": {
            "color": "#2a3f5f"
           }
          },
          "ternary": {
           "aaxis": {
            "gridcolor": "#DFE8F3",
            "linecolor": "#A2B1C6",
            "ticks": ""
           },
           "baxis": {
            "gridcolor": "#DFE8F3",
            "linecolor": "#A2B1C6",
            "ticks": ""
           },
           "bgcolor": "white",
           "caxis": {
            "gridcolor": "#DFE8F3",
            "linecolor": "#A2B1C6",
            "ticks": ""
           }
          },
          "title": {
           "x": 0.05
          },
          "xaxis": {
           "automargin": true,
           "gridcolor": "#EBF0F8",
           "linecolor": "#EBF0F8",
           "ticks": "",
           "title": {
            "standoff": 15
           },
           "zerolinecolor": "#EBF0F8",
           "zerolinewidth": 2
          },
          "yaxis": {
           "automargin": true,
           "gridcolor": "#EBF0F8",
           "linecolor": "#EBF0F8",
           "ticks": "",
           "title": {
            "standoff": 15
           },
           "zerolinecolor": "#EBF0F8",
           "zerolinewidth": 2
          }
         }
        },
        "title": {
         "text": "SPY Intraday Dashboard — 2025-01-02"
        },
        "xaxis": {
         "anchor": "y",
         "domain": [
          0,
          1
         ],
         "gridcolor": "rgba(200,200,200,0.2)",
         "matches": "x2",
         "rangeslider": {
          "visible": false
         },
         "showgrid": true,
         "showticklabels": false,
         "type": "date"
        },
        "xaxis2": {
         "anchor": "y2",
         "domain": [
          0,
          1
         ],
         "gridcolor": "rgba(200,200,200,0.2)",
         "rangeslider": {
          "visible": false
         },
         "showgrid": true,
         "type": "date"
        },
        "yaxis": {
         "anchor": "x",
         "domain": [
          0.3016,
          0.9999999999999999
         ],
         "gridcolor": "rgba(200,200,200,0.2)",
         "showgrid": true,
         "title": {
          "text": "Price"
         }
        },
        "yaxis2": {
         "anchor": "x2",
         "domain": [
          0,
          0.2716
         ],
         "gridcolor": "rgba(200,200,200,0.2)",
         "showgrid": true,
         "title": {
          "text": "Volume"
         }
        }
       }
      }
     },
     "metadata": {},
     "output_type": "display_data"
    },
    {
     "name": "stdout",
     "output_type": "stream",
     "text": [
      "Tip: Set target_date = 'YYYY-MM-DD' above and re-run to pick a different session.\n"
     ]
    }
   ],
   "source": [
    "# 1-Day Intraday Plotly Dashboard\n",
    "import pandas as pd\n",
    "import numpy as np\n",
    "import plotly.graph_objects as go\n",
    "from plotly.subplots import make_subplots\n",
    "\n",
    "# --- Configuration ---\n",
    "# Choose a date in YYYY-MM-DD. If None, use the date of the currently loaded df.\n",
    "target_date = None  # e.g. '2025-01-02'\n",
    "\n",
    "# --- Prepare data ---\n",
    "if 'df' not in globals():\n",
    "    raise RuntimeError(\"DataFrame 'df' not found. Run the earlier cells that load a sample parquet file.\")\n",
    "\n",
    "# Ensure index is DatetimeIndex and tz-aware\n",
    "if not isinstance(df.index, pd.DatetimeIndex):\n",
    "    df.index = pd.to_datetime(df.index, utc=True)\n",
    "elif df.index.tz is None:\n",
    "    df.index = df.index.tz_localize('UTC')\n",
    "\n",
    "# Determine the date to plot\n",
    "if target_date is None:\n",
    "    target_date = df.index[0].date().isoformat()\n",
    "\n",
    "day_mask = df.index.date == pd.to_datetime(target_date).date()\n",
    "day = df.loc[day_mask].copy()\n",
    "if day.empty:\n",
    "    raise ValueError(f\"No rows found for {target_date}. Make sure this date exists in your silver data.\")\n",
    "\n",
    "# Compute indicators\n",
    "for window in (9, 21, 50):\n",
    "    day[f\"sma_{window}\"] = day['close'].rolling(window, min_periods=1).mean()\n",
    "\n",
    "# Intraday VWAP (cumulative typical price * volume / cumulative volume)\n",
    "typical = (day['high'] + day['low'] + day['close']) / 3.0\n",
    "cum_v = day['volume'].cumsum().replace(0, np.nan)\n",
    "day['vwap_intraday'] = (typical * day['volume']).cumsum() / cum_v\n",
    "\n",
    "# Color volume bars green/red depending on close >= open\n",
    "vol_colors = np.where(day['close'] >= day['open'], 'rgba(0,150,0,0.6)', 'rgba(200,0,0,0.6)')\n",
    "\n",
    "# Build figure with two rows: price + volume\n",
    "fig = make_subplots(\n",
    "    rows=2, cols=1, shared_xaxes=True, vertical_spacing=0.03,\n",
    "    row_heights=[0.72, 0.28],\n",
    "    specs=[[{\"secondary_y\": False}], [{\"secondary_y\": False}]]\n",
    ")\n",
    "\n",
    "# Candlesticks\n",
    "fig.add_trace(\n",
    "    go.Candlestick(\n",
    "        x=day.index,\n",
    "        open=day['open'], high=day['high'], low=day['low'], close=day['close'],\n",
    "        increasing_line_color='#26a69a', decreasing_line_color='#ef5350',\n",
    "        name='OHLC'\n",
    "    ), row=1, col=1\n",
    ")\n",
    "\n",
    "# Moving averages\n",
    "fig.add_trace(go.Scatter(x=day.index, y=day['sma_9'],  name='SMA 9',  line=dict(color='#42a5f5', width=1.5)), row=1, col=1)\n",
    "fig.add_trace(go.Scatter(x=day.index, y=day['sma_21'], name='SMA 21', line=dict(color='#ab47bc', width=1.5)), row=1, col=1)\n",
    "fig.add_trace(go.Scatter(x=day.index, y=day['sma_50'], name='SMA 50', line=dict(color='#ffa726', width=1.5)), row=1, col=1)\n",
    "\n",
    "# VWAP\n",
    "fig.add_trace(go.Scatter(x=day.index, y=day['vwap_intraday'], name='VWAP', line=dict(color='#8d6e63', width=2, dash='dot')), row=1, col=1)\n",
    "\n",
    "# Volume bars\n",
    "fig.add_trace(\n",
    "    go.Bar(x=day.index, y=day['volume'], marker_color=vol_colors, name='Volume'),\n",
    "    row=2, col=1\n",
    ")\n",
    "\n",
    "# Layout tweaks for beauty and readability\n",
    "fig.update_layout(\n",
    "    title=f\"SPY Intraday Dashboard — {target_date}\",\n",
    "    template='plotly_white',\n",
    "    legend=dict(orientation='h', yanchor='bottom', y=1.02, xanchor='right', x=1),\n",
    "    margin=dict(l=40, r=20, t=60, b=40),\n",
    "    hovermode='x unified',\n",
    ")\n",
    "\n",
    "fig.update_xaxes(\n",
    "    showgrid=True, gridcolor='rgba(200,200,200,0.2)',\n",
    "    rangeslider_visible=False, type='date'\n",
    ")\n",
    "fig.update_yaxes(showgrid=True, gridcolor='rgba(200,200,200,0.2)', title_text='Price', row=1, col=1)\n",
    "fig.update_yaxes(showgrid=True, gridcolor='rgba(200,200,200,0.2)', title_text='Volume', row=2, col=1)\n",
    "\n",
    "# Optional: highlight Regular Trading Hours (9:30-16:00 ET)\n",
    "try:\n",
    "    import pytz\n",
    "    ny = pytz.timezone('America/New_York')\n",
    "    start_rth = pd.Timestamp(target_date + ' 09:30', tz=ny).astimezone(pytz.UTC)\n",
    "    end_rth   = pd.Timestamp(target_date + ' 16:00', tz=ny).astimezone(pytz.UTC)\n",
    "    fig.add_vrect(x0=start_rth, x1=end_rth, fillcolor='rgba(33,150,243,0.08)', line_width=0, layer='below', row=1, col=1)\n",
    "    fig.add_vrect(x0=start_rth, x1=end_rth, fillcolor='rgba(33,150,243,0.08)', line_width=0, layer='below', row=2, col=1)\n",
    "except Exception:\n",
    "    pass\n",
    "\n",
    "fig.show()\n",
    "\n",
    "print(\"Tip: Set target_date = 'YYYY-MM-DD' above and re-run to pick a different session.\")"
   ]
  },
  {
   "cell_type": "markdown",
   "id": "dad892d7",
   "metadata": {},
   "source": [
    "## Momentum/Scalping Indicators + Interactive Date Picker\n",
    "\n",
    "This section adds common momentum/scalping indicators and an interactive date selector:\n",
    "- Overlays: EMA(9/21/50), Bollinger Bands (20, 2), VWAP (intraday)\n",
    "- Volume: colored up/down\n",
    "- Momentum panel: RSI(14) and MACD(12,26,9)\n",
    "- Interactive controls: pick any available trading date and export as HTML/PNG\n",
    "\n",
    "Use the widget to select a date and the figure will update automatically."
   ]
  },
  {
   "cell_type": "code",
   "execution_count": null,
   "id": "753657ec",
   "metadata": {},
   "outputs": [
    {
     "data": {
      "application/vnd.jupyter.widget-view+json": {
       "model_id": "2f862c87e7e74f57a805ae7ab4d0e4fa",
       "version_major": 2,
       "version_minor": 0
      },
      "text/plain": [
       "VBox(children=(HBox(children=(Dropdown(description='Date:', layout=Layout(width='260px'), options=('2025-01-02…"
      ]
     },
     "metadata": {},
     "output_type": "display_data"
    }
   ],
   "source": [
    "# Interactive Date Picker + Technical Analysis Dashboard (EMA, Bollinger, RSI, MACD)\n",
    "import os\n",
    "import numpy as np\n",
    "import pandas as pd\n",
    "import plotly.graph_objects as go\n",
    "from plotly.subplots import make_subplots\n",
    "import plotly.io as pio\n",
    "import ipywidgets as widgets\n",
    "from IPython.display import display\n",
    "import duckdb\n",
    "\n",
    "# Ensure silver_dir and files are available, even if earlier cells weren't run\n",
    "if 'silver_dir' not in globals():\n",
    "    silver_dir = os.path.join(\n",
    "        os.path.dirname(os.path.dirname(os.path.abspath(\"../scripts/inspect_silver_spy.py\"))),\n",
    "        \"data\", \"silver\", \"SPY\"\n",
    "    )\n",
    "try:\n",
    "    files  # noqa: F821 - merely checking existence\n",
    "except NameError:\n",
    "    files = sorted([f for f in os.listdir(silver_dir) if f.endswith(\".parquet\")])\n",
    "\n",
    "# Collect available dates from silver files\n",
    "available_dates = sorted({f.split('_')[-1].replace('.parquet', '') for f in files})\n",
    "if not available_dates:\n",
    "    raise RuntimeError(\"No silver files found to populate the date picker.\")\n",
    "\n",
    "# Widgets\n",
    "date_dd = widgets.Dropdown(options=available_dates, value=available_dates[0], description='Date:', layout=widgets.Layout(width='260px'))\n",
    "export_html_btn = widgets.Button(description='Export HTML', tooltip='Save chart to charts/ as HTML', icon='download')\n",
    "export_png_btn = widgets.Button(description='Export PNG', tooltip='Save chart to charts/ as PNG (requires kaleido)', icon='file')\n",
    "status_lbl = widgets.Label('Select a date to render the dashboard...')\n",
    "use_duckdb_chk = widgets.Checkbox(value=True, description='DuckDB load', tooltip='Load day directly via DuckDB from Parquet')\n",
    "out = widgets.Output()\n",
    "\n",
    "_last = {'fig': None, 'date': None}\n",
    "\n",
    "# Helpers\n",
    "def _compute_indicators(d: pd.DataFrame) -> pd.DataFrame:\n",
    "    d = d.copy()\n",
    "    # EMAs\n",
    "    for span in (9, 21, 50):\n",
    "        d[f'ema_{span}'] = d['close'].ewm(span=span, adjust=False).mean()\n",
    "    # Bollinger Bands (20, 2)\n",
    "    mid = d['close'].rolling(20, min_periods=1).mean()\n",
    "    std = d['close'].rolling(20, min_periods=1).std()\n",
    "    d['bb_mid'] = mid\n",
    "    d['bb_upper'] = mid + 2 * std\n",
    "    d['bb_lower'] = mid - 2 * std\n",
    "    # RSI(14) - Wilder\n",
    "    delta = d['close'].diff()\n",
    "    gain = np.where(delta > 0, delta, 0.0)\n",
    "    loss = np.where(delta < 0, -delta, 0.0)\n",
    "    roll_up = pd.Series(gain, index=d.index).ewm(alpha=1/14, adjust=False).mean()\n",
    "    roll_down = pd.Series(loss, index=d.index).ewm(alpha=1/14, adjust=False).mean()\n",
    "    rs = roll_up / (roll_down + 1e-9)\n",
    "    d['rsi_14'] = 100 - (100 / (1 + rs))\n",
    "    # MACD(12,26,9)\n",
    "    ema12 = d['close'].ewm(span=12, adjust=False).mean()\n",
    "    ema26 = d['close'].ewm(span=26, adjust=False).mean()\n",
    "    d['macd'] = ema12 - ema26\n",
    "    d['macd_signal'] = d['macd'].ewm(span=9, adjust=False).mean()\n",
    "    d['macd_hist'] = d['macd'] - d['macd_signal']\n",
    "    return d\n",
    "\n",
    "def _load_day(date_str: str) -> pd.DataFrame:\n",
    "    \"\"\"Load a single trading day from Parquet.\n",
    "    When DuckDB is enabled, filter by date parsed from filename and create a unified 'ts' column.\n",
    "    Fallback to pandas if needed. Ensures tz-aware, ms-rounded, sorted DatetimeIndex.\n",
    "    \"\"\"\n",
    "    d = None\n",
    "    if use_duckdb_chk.value:\n",
    "        glob_path = os.path.join(silver_dir, \"*.parquet\")\n",
    "        try:\n",
    "            with duckdb.connect() as con:\n",
    "                # Robust: filter on date parsed from filename; also project a unified timestamp column 'ts'\n",
    "                sql = \"\"\"\n",
    "                    SELECT\n",
    "                        *,\n",
    "                        COALESCE(utc_timestamp, \"timestamp\", datetime) AS ts\n",
    "                    FROM read_parquet(?, union_by_name=true, filename=true)\n",
    "                    WHERE regexp_extract(filename, '(\\\\d{4}-\\\\d{2}-\\\\d{2})', 1) = ?\n",
    "                    ORDER BY ts NULLS LAST\n",
    "                \"\"\"\n",
    "                d = con.execute(sql, [glob_path, date_str]).df()\n",
    "        except Exception:\n",
    "            d = None\n",
    "    # Pandas fallback if DuckDB path failed/empty or checkbox off\n",
    "    if d is None or d.empty:\n",
    "        path = os.path.join(silver_dir, f\"spy_1min_{date_str}.parquet\")\n",
    "        if os.path.exists(path):\n",
    "            d = pd.read_parquet(path)\n",
    "        else:\n",
    "            candidates = [f for f in files if date_str in f] if 'files' in globals() else []\n",
    "            if candidates:\n",
    "                d = pd.read_parquet(os.path.join(silver_dir, candidates[0]))\n",
    "            else:\n",
    "                return pd.DataFrame()\n",
    "\n",
    "    # Normalize index to UTC DateTimeIndex, round to ms, sort\n",
    "    idx_col = 'ts' if 'ts' in d.columns else next((c for c in (\"utc_timestamp\", \"timestamp\", \"datetime\", \"index\") if c in d.columns), None)\n",
    "    if idx_col is not None:\n",
    "        d = d.set_index(idx_col)\n",
    "    d.index = pd.to_datetime(d.index, utc=True, errors='coerce')\n",
    "    if d.index.tz is None:\n",
    "        d.index = d.index.tz_localize('UTC')\n",
    "    try:\n",
    "        d.index = d.index.round('ms')\n",
    "    except Exception:\n",
    "        pass\n",
    "    d = d.sort_index()\n",
    "\n",
    "    # Ensure required columns exist\n",
    "    required = (\"open\", \"high\", \"low\", \"close\", \"volume\")\n",
    "    missing = [c for c in required if c not in d.columns]\n",
    "    if missing:\n",
    "        raise KeyError(f\"Missing columns required for chart: {missing}\")\n",
    "    # Clean helper columns\n",
    "    for c in ('filename', 'ts'):\n",
    "        if c in d.columns:\n",
    "            try:\n",
    "                d = d.drop(columns=[c])\n",
    "            except Exception:\n",
    "                pass\n",
    "    return d\n",
    "\n",
    "def _build_fig(d: pd.DataFrame, date_str: str) -> go.Figure:\n",
    "    d = _compute_indicators(d)\n",
    "    vol_colors = np.where(d['close'] >= d['open'], 'rgba(0,150,0,0.6)', 'rgba(200,0,0,0.6)')\n",
    "\n",
    "    fig = make_subplots(\n",
    "        rows=3, cols=1, shared_xaxes=True, vertical_spacing=0.03,\n",
    "        row_heights=[0.58, 0.18, 0.24],\n",
    "        specs=[[{\"secondary_y\": False}],\n",
    "               [{\"secondary_y\": False}],\n",
    "               [{\"secondary_y\": True}]]\n",
    "    )\n",
    "\n",
    "    # Row 1: Price with overlays\n",
    "    fig.add_trace(go.Candlestick(x=d.index, open=d['open'], high=d['high'], low=d['low'], close=d['close'],\n",
    "                                 increasing_line_color='#26a69a', decreasing_line_color='#ef5350', name='OHLC',\n",
    "                                 showlegend=False), row=1, col=1)\n",
    "    for span, color in [(9, '#42a5f5'), (21, '#ab47bc'), (50, '#ffa726')]:\n",
    "        fig.add_trace(go.Scatter(x=d.index, y=d[f'ema_{span}'], name=f'EMA {span}', line=dict(width=1.4, color=color)), row=1, col=1)\n",
    "    # Bollinger\n",
    "    fig.add_trace(go.Scatter(x=d.index, y=d['bb_upper'], name='BB Upper', line=dict(color='rgba(55,71,79,0.6)', width=1)), row=1, col=1)\n",
    "    fig.add_trace(go.Scatter(x=d.index, y=d['bb_lower'], name='BB Lower', line=dict(color='rgba(55,71,79,0.6)', width=1),\n",
    "                             fill='tonexty', fillcolor='rgba(55,71,79,0.08)'), row=1, col=1)\n",
    "    fig.add_trace(go.Scatter(x=d.index, y=d['bb_mid'], name='BB Mid', line=dict(color='rgba(55,71,79,0.4)', width=1, dash='dot')), row=1, col=1)\n",
    "    # VWAP\n",
    "    typical = (d['high'] + d['low'] + d['close']) / 3.0\n",
    "    vwap = (typical * d['volume']).cumsum() / d['volume'].cumsum().replace(0, np.nan)\n",
    "    fig.add_trace(go.Scatter(x=d.index, y=vwap, name='VWAP', line=dict(color='#8d6e63', width=2, dash='dot')), row=1, col=1)\n",
    "\n",
    "    # Row 2: Volume\n",
    "    fig.add_trace(go.Bar(x=d.index, y=d['volume'], marker_color=vol_colors, name='Volume', showlegend=False), row=2, col=1)\n",
    "\n",
    "    # Row 3: RSI + MACD\n",
    "    fig.add_trace(go.Scatter(x=d.index, y=d['rsi_14'], name='RSI 14', line=dict(color='#26c6da', width=1.5)), row=3, col=1)\n",
    "    fig.add_hline(y=30, line=dict(color='rgba(239,83,80,0.5)', dash='dot'), row=3, col=1)\n",
    "    fig.add_hline(y=70, line=dict(color='rgba(102,187,106,0.5)', dash='dot'), row=3, col=1)\n",
    "\n",
    "    fig.add_trace(go.Bar(x=d.index, y=d['macd_hist'], name='MACD Hist', marker_color='rgba(96,125,139,0.6)'), row=3, col=1, secondary_y=True)\n",
    "    fig.add_trace(go.Scatter(x=d.index, y=d['macd'], name='MACD', line=dict(color='#607d8b', width=1.5)), row=3, col=1, secondary_y=True)\n",
    "    fig.add_trace(go.Scatter(x=d.index, y=d['macd_signal'], name='Signal', line=dict(color='#ff7043', width=1.5)), row=3, col=1, secondary_y=True)\n",
    "\n",
    "    # Layout\n",
    "    fig.update_layout(\n",
    "        title=dict(\n",
    "            text=f\"SPY Intraday TA Dashboard — {date_str}\",\n",
    "            x=0.01, xanchor='left', y=0.98, yanchor='top',\n",
    "            font=dict(size=18), pad=dict(b=10)\n",
    "        ),\n",
    "        template='plotly_white',\n",
    "        legend=dict(\n",
    "            orientation='h', x=0.01, xanchor='left', y=-0.18, yanchor='top',\n",
    "            bgcolor='rgba(255,255,255,0.9)', bordercolor='rgba(0,0,0,0.12)', borderwidth=1,\n",
    "            font=dict(size=11), itemwidth=40, groupclick='toggleitem'\n",
    "        ),\n",
    "        margin=dict(l=40, r=20, t=90, b=120),\n",
    "        hovermode='x unified',\n",
    "    )\n",
    "    fig.update_xaxes(showgrid=True, gridcolor='rgba(200,200,200,0.2)', rangeslider_visible=False, type='date')\n",
    "    fig.update_yaxes(showgrid=True, gridcolor='rgba(200,200,200,0.2)', title_text='Price', row=1, col=1)\n",
    "    fig.update_yaxes(showgrid=True, gridcolor='rgba(200,200,200,0.2)', title_text='Volume', row=2, col=1)\n",
    "    fig.update_yaxes(showgrid=True, gridcolor='rgba(200,200,200,0.2)', title_text='RSI', row=3, col=1)\n",
    "\n",
    "    # RTH shading (09:30-16:00 ET)\n",
    "    try:\n",
    "        import pytz\n",
    "        ny = pytz.timezone('America/New_York')\n",
    "        start_rth = pd.Timestamp(date_str + ' 09:30', tz=ny).astimezone(pytz.UTC)\n",
    "        end_rth   = pd.Timestamp(date_str + ' 16:00', tz=ny).astimezone(pytz.UTC)\n",
    "        for r in (1, 2, 3):\n",
    "            fig.add_vrect(x0=start_rth, x1=end_rth, fillcolor='rgba(33,150,243,0.08)', line_width=0, layer='below', row=r, col=1)\n",
    "    except Exception:\n",
    "        pass\n",
    "\n",
    "    return fig\n",
    "\n",
    "# Callbacks\n",
    "def _render(_=None):\n",
    "    with out:\n",
    "        out.clear_output(wait=True)\n",
    "        date_str = date_dd.value\n",
    "        try:\n",
    "            d = _load_day(date_str)\n",
    "            if d is None or d.empty:\n",
    "                status_lbl.value = f\"No rows found for {date_str}. Check filenames/columns.\"\n",
    "                print(status_lbl.value)\n",
    "                return\n",
    "            # Debug snapshot\n",
    "            try:\n",
    "                print(f\"[debug] rows={len(d)} index_range=[{d.index.min()} .. {d.index.max()}] cols={list(d.columns)[:10]}\")\n",
    "            except Exception:\n",
    "                pass\n",
    "            fig = _build_fig(d, date_str)\n",
    "            _last['fig'] = fig\n",
    "            _last['date'] = date_str\n",
    "            display(fig)\n",
    "            status_lbl.value = f\"Rendered {date_str} ({len(d):,} rows). Use the buttons to export.\"\n",
    "        except Exception as e:\n",
    "            status_lbl.value = f\"Error rendering {date_str}: {e}\"\n",
    "            print(status_lbl.value)\n",
    "\n",
    "def _export_html(_):\n",
    "    if not _last['fig']:\n",
    "        status_lbl.value = 'Render a chart first.'\n",
    "        return\n",
    "    os.makedirs('charts', exist_ok=True)\n",
    "    path = os.path.join('charts', f\"spy_intraday_{_last['date']}.html\")\n",
    "    pio.write_html(_last['fig'], file=path, auto_open=False, include_plotlyjs='cdn')\n",
    "    status_lbl.value = f\"Saved HTML: {path}\"\n",
    "\n",
    "def _export_png(_):\n",
    "    if not _last['fig']:\n",
    "        status_lbl.value = 'Render a chart first.'\n",
    "        return\n",
    "    os.makedirs('charts', exist_ok=True)\n",
    "    path = os.path.join('charts', f\"spy_intraday_{_last['date']}.png\")\n",
    "    try:\n",
    "        _last['fig'].write_image(path, scale=2)\n",
    "        status_lbl.value = f\"Saved PNG: {path}\"\n",
    "    except Exception as e:\n",
    "        status_lbl.value = f\"PNG export failed. Ensure kaleido is installed. Error: {e}\"\n",
    "\n",
    "# Wire up widgets\n",
    "date_dd.observe(lambda change: _render() if change['name'] == 'value' else None, names='value')\n",
    "export_html_btn.on_click(_export_html)\n",
    "export_png_btn.on_click(_export_png)\n",
    "\n",
    "# UI\n",
    "controls = widgets.HBox([date_dd, use_duckdb_chk, export_html_btn, export_png_btn])\n",
    "display(widgets.VBox([controls, status_lbl, out]))\n",
    "\n",
    "# Initial render\n",
    "_render()"
   ]
  },
  {
   "cell_type": "markdown",
   "id": "9fb3b3a0",
   "metadata": {},
   "source": [
    "## Gold-Layer Data Visualization\n",
    "\n",
    "This section loads and visualizes the gold-layer SPY data, which includes additional features like:\n",
    "- Session indicators (RTH vs After Hours)\n",
    "- 1-minute returns\n",
    "- Standardized column names with `utc_timestamp`\n",
    "\n",
    "The gold data should have enhanced analytics-ready features compared to the silver layer."
   ]
  },
  {
   "cell_type": "code",
   "execution_count": 12,
   "id": "cf6cdac2",
   "metadata": {},
   "outputs": [
    {
     "name": "stdout",
     "output_type": "stream",
     "text": [
      "Gold directory: /home/agoodman/workspace/antman_data/data/gold/SPY\n",
      "Found 149 gold parquet files\n",
      "\n",
      "Sample gold file: /home/agoodman/workspace/antman_data/data/gold/SPY/spy_1min_gold_2025-01-02.parquet\n",
      "Shape: (391, 11)\n",
      "Columns: ['utc_timestamp', 'et', 'session', 'open', 'high', 'low', 'close', 'volume', 'num_trades', 'vwap', 'return_1m']\n"
     ]
    },
    {
     "data": {
      "text/html": [
       "<div>\n",
       "<style scoped>\n",
       "    .dataframe tbody tr th:only-of-type {\n",
       "        vertical-align: middle;\n",
       "    }\n",
       "\n",
       "    .dataframe tbody tr th {\n",
       "        vertical-align: top;\n",
       "    }\n",
       "\n",
       "    .dataframe thead th {\n",
       "        text-align: right;\n",
       "    }\n",
       "</style>\n",
       "<table border=\"1\" class=\"dataframe\">\n",
       "  <thead>\n",
       "    <tr style=\"text-align: right;\">\n",
       "      <th></th>\n",
       "      <th>utc_timestamp</th>\n",
       "      <th>et</th>\n",
       "      <th>session</th>\n",
       "      <th>open</th>\n",
       "      <th>high</th>\n",
       "      <th>low</th>\n",
       "      <th>close</th>\n",
       "      <th>volume</th>\n",
       "      <th>num_trades</th>\n",
       "      <th>vwap</th>\n",
       "      <th>return_1m</th>\n",
       "    </tr>\n",
       "  </thead>\n",
       "  <tbody>\n",
       "    <tr>\n",
       "      <th>0</th>\n",
       "      <td>2025-01-02 14:30:00+00:00</td>\n",
       "      <td>2025-01-02 09:30:00-05:00</td>\n",
       "      <td>RTH</td>\n",
       "      <td>589.39</td>\n",
       "      <td>589.45</td>\n",
       "      <td>588.4600</td>\n",
       "      <td>589.45</td>\n",
       "      <td>1300579</td>\n",
       "      <td>16472</td>\n",
       "      <td>588.918280</td>\n",
       "      <td>NaN</td>\n",
       "    </tr>\n",
       "    <tr>\n",
       "      <th>1</th>\n",
       "      <td>2025-01-02 14:31:00+00:00</td>\n",
       "      <td>2025-01-02 09:31:00-05:00</td>\n",
       "      <td>RTH</td>\n",
       "      <td>589.45</td>\n",
       "      <td>589.60</td>\n",
       "      <td>589.0400</td>\n",
       "      <td>589.57</td>\n",
       "      <td>175662</td>\n",
       "      <td>2160</td>\n",
       "      <td>589.334934</td>\n",
       "      <td>0.000204</td>\n",
       "    </tr>\n",
       "    <tr>\n",
       "      <th>2</th>\n",
       "      <td>2025-01-02 14:32:00+00:00</td>\n",
       "      <td>2025-01-02 09:32:00-05:00</td>\n",
       "      <td>RTH</td>\n",
       "      <td>589.49</td>\n",
       "      <td>589.65</td>\n",
       "      <td>589.0319</td>\n",
       "      <td>589.09</td>\n",
       "      <td>125032</td>\n",
       "      <td>1542</td>\n",
       "      <td>589.381349</td>\n",
       "      <td>-0.000814</td>\n",
       "    </tr>\n",
       "    <tr>\n",
       "      <th>3</th>\n",
       "      <td>2025-01-02 14:33:00+00:00</td>\n",
       "      <td>2025-01-02 09:33:00-05:00</td>\n",
       "      <td>RTH</td>\n",
       "      <td>589.09</td>\n",
       "      <td>589.18</td>\n",
       "      <td>587.9800</td>\n",
       "      <td>588.01</td>\n",
       "      <td>132101</td>\n",
       "      <td>2396</td>\n",
       "      <td>588.624495</td>\n",
       "      <td>-0.001833</td>\n",
       "    </tr>\n",
       "    <tr>\n",
       "      <th>4</th>\n",
       "      <td>2025-01-02 14:34:00+00:00</td>\n",
       "      <td>2025-01-02 09:34:00-05:00</td>\n",
       "      <td>RTH</td>\n",
       "      <td>587.99</td>\n",
       "      <td>588.52</td>\n",
       "      <td>587.8100</td>\n",
       "      <td>587.83</td>\n",
       "      <td>145261</td>\n",
       "      <td>1916</td>\n",
       "      <td>588.180358</td>\n",
       "      <td>-0.000306</td>\n",
       "    </tr>\n",
       "  </tbody>\n",
       "</table>\n",
       "</div>"
      ],
      "text/plain": [
       "              utc_timestamp                        et session    open    high  \\\n",
       "0 2025-01-02 14:30:00+00:00 2025-01-02 09:30:00-05:00     RTH  589.39  589.45   \n",
       "1 2025-01-02 14:31:00+00:00 2025-01-02 09:31:00-05:00     RTH  589.45  589.60   \n",
       "2 2025-01-02 14:32:00+00:00 2025-01-02 09:32:00-05:00     RTH  589.49  589.65   \n",
       "3 2025-01-02 14:33:00+00:00 2025-01-02 09:33:00-05:00     RTH  589.09  589.18   \n",
       "4 2025-01-02 14:34:00+00:00 2025-01-02 09:34:00-05:00     RTH  587.99  588.52   \n",
       "\n",
       "        low   close   volume  num_trades        vwap  return_1m  \n",
       "0  588.4600  589.45  1300579       16472  588.918280        NaN  \n",
       "1  589.0400  589.57   175662        2160  589.334934   0.000204  \n",
       "2  589.0319  589.09   125032        1542  589.381349  -0.000814  \n",
       "3  587.9800  588.01   132101        2396  588.624495  -0.001833  \n",
       "4  587.8100  587.83   145261        1916  588.180358  -0.000306  "
      ]
     },
     "metadata": {},
     "output_type": "display_data"
    },
    {
     "name": "stdout",
     "output_type": "stream",
     "text": [
      "<class 'pandas.core.frame.DataFrame'>\n",
      "RangeIndex: 391 entries, 0 to 390\n",
      "Data columns (total 11 columns):\n",
      " #   Column         Non-Null Count  Dtype                           \n",
      "---  ------         --------------  -----                           \n",
      " 0   utc_timestamp  391 non-null    datetime64[ns, UTC]             \n",
      " 1   et             391 non-null    datetime64[ns, America/New_York]\n",
      " 2   session        391 non-null    object                          \n",
      " 3   open           391 non-null    float64                         \n",
      " 4   high           391 non-null    float64                         \n",
      " 5   low            391 non-null    float64                         \n",
      " 6   close          391 non-null    float64                         \n",
      " 7   volume         391 non-null    int64                           \n",
      " 8   num_trades     391 non-null    int64                           \n",
      " 9   vwap           391 non-null    float64                         \n",
      " 10  return_1m      390 non-null    float64                         \n",
      "dtypes: datetime64[ns, America/New_York](1), datetime64[ns, UTC](1), float64(6), int64(2), object(1)\n",
      "memory usage: 33.7+ KB\n"
     ]
    },
    {
     "data": {
      "text/plain": [
       "None"
      ]
     },
     "metadata": {},
     "output_type": "display_data"
    },
    {
     "name": "stdout",
     "output_type": "stream",
     "text": [
      "\n",
      "Session values: ['RTH']\n",
      "Session counts:\n",
      "session\n",
      "RTH    391\n",
      "Name: count, dtype: int64\n"
     ]
    }
   ],
   "source": [
    "# Load and Inspect Gold-Layer SPY Data\n",
    "import os\n",
    "import pandas as pd\n",
    "\n",
    "# Set up path to gold SPY data\n",
    "gold_dir = os.path.join(\n",
    "    os.path.dirname(os.path.dirname(os.path.abspath(\"../scripts/inspect_silver_spy.py\"))),\n",
    "    \"data\", \"gold\", \"SPY\"\n",
    ")\n",
    "\n",
    "print(f\"Gold directory: {gold_dir}\")\n",
    "\n",
    "# Check if gold directory exists and list files\n",
    "if os.path.exists(gold_dir):\n",
    "    gold_files = sorted([f for f in os.listdir(gold_dir) if f.endswith(\".parquet\")])\n",
    "    print(f\"Found {len(gold_files)} gold parquet files\")\n",
    "    \n",
    "    if gold_files:\n",
    "        # Load a sample gold file\n",
    "        sample_gold_file = os.path.join(gold_dir, gold_files[0])\n",
    "        gold_df = pd.read_parquet(sample_gold_file)\n",
    "        \n",
    "        print(f\"\\nSample gold file: {sample_gold_file}\")\n",
    "        print(f\"Shape: {gold_df.shape}\")\n",
    "        print(f\"Columns: {gold_df.columns.tolist()}\")\n",
    "        \n",
    "        # Display sample data\n",
    "        display(gold_df.head())\n",
    "        \n",
    "        # Show info about the data\n",
    "        display(gold_df.info())\n",
    "        \n",
    "        # Check unique session values\n",
    "        if 'session' in gold_df.columns:\n",
    "            print(f\"\\nSession values: {gold_df['session'].unique()}\")\n",
    "            print(f\"Session counts:\\n{gold_df['session'].value_counts()}\")\n",
    "        \n",
    "        # Check return statistics\n",
    "        if 'return_1min' in gold_df.columns:\n",
    "            print(f\"\\nReturn statistics:\")\n",
    "            print(f\"Mean: {gold_df['return_1min'].mean():.6f}\")\n",
    "            print(f\"Std: {gold_df['return_1min'].std():.6f}\")\n",
    "            print(f\"Min: {gold_df['return_1min'].min():.6f}\")\n",
    "            print(f\"Max: {gold_df['return_1min'].max():.6f}\")\n",
    "    else:\n",
    "        print(\"No gold parquet files found. You may need to run the silver-to-gold transformation script first.\")\n",
    "else:\n",
    "    print(\"Gold directory does not exist. You may need to run the silver-to-gold transformation script first.\")"
   ]
  },
  {
   "cell_type": "code",
   "execution_count": 13,
   "id": "2a774f46",
   "metadata": {},
   "outputs": [
    {
     "data": {
      "application/vnd.jupyter.widget-view+json": {
       "model_id": "5b6969716d0248cfb9950d3af4720b59",
       "version_major": 2,
       "version_minor": 0
      },
      "text/plain": [
       "VBox(children=(HBox(children=(Dropdown(description='Gold Date:', layout=Layout(width='260px'), options=('2025-…"
      ]
     },
     "metadata": {},
     "output_type": "display_data"
    }
   ],
   "source": [
    "# Interactive Gold-Layer Dashboard + Technical Analysis (Mirrors Silver Chart)\n",
    "import os\n",
    "import numpy as np\n",
    "import pandas as pd\n",
    "import plotly.graph_objects as go\n",
    "from plotly.subplots import make_subplots\n",
    "import plotly.io as pio\n",
    "import ipywidgets as widgets\n",
    "from IPython.display import display\n",
    "\n",
    "# Only proceed if we have gold data available\n",
    "if 'gold_dir' in globals() and os.path.exists(gold_dir):\n",
    "    gold_files = sorted([f for f in os.listdir(gold_dir) if f.endswith(\".parquet\")])\n",
    "    \n",
    "    if gold_files:\n",
    "        # Collect available dates from gold files\n",
    "        gold_available_dates = sorted({f.split('_')[-1].replace('.parquet', '') for f in gold_files})\n",
    "        \n",
    "        # Widgets for gold dashboard\n",
    "        gold_date_dd = widgets.Dropdown(options=gold_available_dates, value=gold_available_dates[0], description='Gold Date:', layout=widgets.Layout(width='260px'))\n",
    "        gold_export_html_btn = widgets.Button(description='Export HTML', tooltip='Save gold chart to charts/ as HTML', icon='download')\n",
    "        gold_export_png_btn = widgets.Button(description='Export PNG', tooltip='Save gold chart to charts/ as PNG (requires kaleido)', icon='file')\n",
    "        gold_status_lbl = widgets.Label('Select a date to render the gold dashboard...')\n",
    "        gold_out = widgets.Output()\n",
    "        \n",
    "        _gold_last = {'fig': None, 'date': None}\n",
    "        \n",
    "        # Gold helpers\n",
    "        def _gold_compute_indicators(d: pd.DataFrame) -> pd.DataFrame:\n",
    "            d = d.copy()\n",
    "            # EMAs\n",
    "            for span in (9, 21, 50):\n",
    "                d[f'ema_{span}'] = d['close'].ewm(span=span, adjust=False).mean()\n",
    "            # Bollinger Bands (20, 2)\n",
    "            mid = d['close'].rolling(20, min_periods=1).mean()\n",
    "            std = d['close'].rolling(20, min_periods=1).std()\n",
    "            d['bb_mid'] = mid\n",
    "            d['bb_upper'] = mid + 2 * std\n",
    "            d['bb_lower'] = mid - 2 * std\n",
    "            # RSI(14) - Wilder\n",
    "            delta = d['close'].diff()\n",
    "            gain = np.where(delta > 0, delta, 0.0)\n",
    "            loss = np.where(delta < 0, -delta, 0.0)\n",
    "            roll_up = pd.Series(gain, index=d.index).ewm(alpha=1/14, adjust=False).mean()\n",
    "            roll_down = pd.Series(loss, index=d.index).ewm(alpha=1/14, adjust=False).mean()\n",
    "            rs = roll_up / (roll_down + 1e-9)\n",
    "            d['rsi_14'] = 100 - (100 / (1 + rs))\n",
    "            # MACD(12,26,9)\n",
    "            ema12 = d['close'].ewm(span=12, adjust=False).mean()\n",
    "            ema26 = d['close'].ewm(span=26, adjust=False).mean()\n",
    "            d['macd'] = ema12 - ema26\n",
    "            d['macd_signal'] = d['macd'].ewm(span=9, adjust=False).mean()\n",
    "            d['macd_hist'] = d['macd'] - d['macd_signal']\n",
    "            return d\n",
    "        \n",
    "        def _gold_load_day(date_str: str) -> pd.DataFrame:\n",
    "            path = os.path.join(gold_dir, f\"spy_1min_{date_str}.parquet\")\n",
    "            if not os.path.exists(path):\n",
    "                raise FileNotFoundError(f\"Missing gold parquet for {date_str}: {path}\")\n",
    "            d = pd.read_parquet(path)\n",
    "            \n",
    "            # Handle gold data structure (may have utc_timestamp column)\n",
    "            if 'utc_timestamp' in d.columns:\n",
    "                d = d.set_index('utc_timestamp')\n",
    "            \n",
    "            if not isinstance(d.index, pd.DatetimeIndex):\n",
    "                d.index = pd.to_datetime(d.index, utc=True)\n",
    "            elif d.index.tz is None:\n",
    "                d.index = d.index.tz_localize('UTC')\n",
    "            return d\n",
    "        \n",
    "        def _gold_build_fig(d: pd.DataFrame, date_str: str) -> go.Figure:\n",
    "            d = _gold_compute_indicators(d)\n",
    "            \n",
    "            # Enhanced volume coloring by session if available\n",
    "            if 'session' in d.columns:\n",
    "                vol_colors = np.where(d['session'] == 'RTH', 'rgba(33,150,243,0.6)', 'rgba(255,152,0,0.6)')\n",
    "            else:\n",
    "                vol_colors = np.where(d['close'] >= d['open'], 'rgba(0,150,0,0.6)', 'rgba(200,0,0,0.6)')\n",
    "            \n",
    "            fig = make_subplots(\n",
    "                rows=3, cols=1, shared_xaxes=True, vertical_spacing=0.03,\n",
    "                row_heights=[0.58, 0.18, 0.24],\n",
    "                specs=[[{\"secondary_y\": False}],\n",
    "                       [{\"secondary_y\": False}],\n",
    "                       [{\"secondary_y\": True}]]\n",
    "            )\n",
    "            \n",
    "            # Row 1: Price with overlays\n",
    "            fig.add_trace(go.Candlestick(x=d.index, open=d['open'], high=d['high'], low=d['low'], close=d['close'],\n",
    "                                         increasing_line_color='#26a69a', decreasing_line_color='#ef5350', name='OHLC',\n",
    "                                         showlegend=False), row=1, col=1)\n",
    "            for span, color in [(9, '#42a5f5'), (21, '#ab47bc'), (50, '#ffa726')]:\n",
    "                fig.add_trace(go.Scatter(x=d.index, y=d[f'ema_{span}'], name=f'EMA {span}', line=dict(width=1.4, color=color)), row=1, col=1)\n",
    "            # Bollinger\n",
    "            fig.add_trace(go.Scatter(x=d.index, y=d['bb_upper'], name='BB Upper', line=dict(color='rgba(55,71,79,0.6)', width=1)), row=1, col=1)\n",
    "            fig.add_trace(go.Scatter(x=d.index, y=d['bb_lower'], name='BB Lower', line=dict(color='rgba(55,71,79,0.6)', width=1),\n",
    "                                     fill='tonexty', fillcolor='rgba(55,71,79,0.08)'), row=1, col=1)\n",
    "            fig.add_trace(go.Scatter(x=d.index, y=d['bb_mid'], name='BB Mid', line=dict(color='rgba(55,71,79,0.4)', width=1, dash='dot')), row=1, col=1)\n",
    "            # VWAP\n",
    "            typical = (d['high'] + d['low'] + d['close']) / 3.0\n",
    "            vwap = (typical * d['volume']).cumsum() / d['volume'].cumsum().replace(0, np.nan)\n",
    "            fig.add_trace(go.Scatter(x=d.index, y=vwap, name='VWAP', line=dict(color='#8d6e63', width=2, dash='dot')), row=1, col=1)\n",
    "            \n",
    "            # Row 2: Volume with session highlighting\n",
    "            fig.add_trace(go.Bar(x=d.index, y=d['volume'], marker_color=vol_colors, name='Volume', showlegend=False), row=2, col=1)\n",
    "            \n",
    "            # Row 3: RSI + MACD\n",
    "            fig.add_trace(go.Scatter(x=d.index, y=d['rsi_14'], name='RSI 14', line=dict(color='#26c6da', width=1.5)), row=3, col=1)\n",
    "            fig.add_hline(y=30, line=dict(color='rgba(239,83,80,0.5)', dash='dot'), row=3, col=1)\n",
    "            fig.add_hline(y=70, line=dict(color='rgba(102,187,106,0.5)', dash='dot'), row=3, col=1)\n",
    "            \n",
    "            fig.add_trace(go.Bar(x=d.index, y=d['macd_hist'], name='MACD Hist', marker_color='rgba(96,125,139,0.6)'), row=3, col=1, secondary_y=True)\n",
    "            fig.add_trace(go.Scatter(x=d.index, y=d['macd'], name='MACD', line=dict(color='#607d8b', width=1.5)), row=3, col=1, secondary_y=True)\n",
    "            fig.add_trace(go.Scatter(x=d.index, y=d['macd_signal'], name='Signal', line=dict(color='#ff7043', width=1.5)), row=3, col=1, secondary_y=True)\n",
    "            \n",
    "            # Layout (matching silver chart style)\n",
    "            fig.update_layout(\n",
    "                title=dict(\n",
    "                    text=f\"SPY Gold-Layer TA Dashboard — {date_str}\",\n",
    "                    x=0.01, xanchor='left', y=0.98, yanchor='top',\n",
    "                    font=dict(size=18), pad=dict(b=10)\n",
    "                ),\n",
    "                template='plotly_white',\n",
    "                legend=dict(\n",
    "                    orientation='h', x=0.01, xanchor='left', y=-0.18, yanchor='top',\n",
    "                    bgcolor='rgba(255,255,255,0.9)', bordercolor='rgba(0,0,0,0.12)', borderwidth=1,\n",
    "                    font=dict(size=11), itemwidth=40, groupclick='toggleitem'\n",
    "                ),\n",
    "                margin=dict(l=40, r=20, t=90, b=120),\n",
    "                hovermode='x unified',\n",
    "            )\n",
    "            fig.update_xaxes(showgrid=True, gridcolor='rgba(200,200,200,0.2)', rangeslider_visible=False, type='date')\n",
    "            fig.update_yaxes(showgrid=True, gridcolor='rgba(200,200,200,0.2)', title_text='Price', row=1, col=1)\n",
    "            fig.update_yaxes(showgrid=True, gridcolor='rgba(200,200,200,0.2)', title_text='Volume', row=2, col=1)\n",
    "            fig.update_yaxes(showgrid=True, gridcolor='rgba(200,200,200,0.2)', title_text='RSI', row=3, col=1)\n",
    "            \n",
    "            # RTH shading (09:30-16:00 ET)\n",
    "            try:\n",
    "                import pytz\n",
    "                ny = pytz.timezone('America/New_York')\n",
    "                start_rth = pd.Timestamp(date_str + ' 09:30', tz=ny).astimezone(pytz.UTC)\n",
    "                end_rth   = pd.Timestamp(date_str + ' 16:00', tz=ny).astimezone(pytz.UTC)\n",
    "                for r in (1, 2, 3):\n",
    "                    fig.add_vrect(x0=start_rth, x1=end_rth, fillcolor='rgba(33,150,243,0.08)', line_width=0, layer='below', row=r, col=1)\n",
    "            except Exception:\n",
    "                pass\n",
    "            \n",
    "            return fig\n",
    "        \n",
    "        # Gold callbacks\n",
    "        def _gold_render(_=None):\n",
    "            with gold_out:\n",
    "                gold_out.clear_output(wait=True)\n",
    "                date_str = gold_date_dd.value\n",
    "                try:\n",
    "                    d = _gold_load_day(date_str)\n",
    "                    fig = _gold_build_fig(d, date_str)\n",
    "                    _gold_last['fig'] = fig\n",
    "                    _gold_last['date'] = date_str\n",
    "                    display(fig)\n",
    "                    gold_status_lbl.value = f\"Rendered gold data for {date_str}. Use the buttons to export.\"\n",
    "                    \n",
    "                    # Print gold-specific stats\n",
    "                    if 'session' in d.columns:\n",
    "                        session_stats = d['session'].value_counts()\n",
    "                        print(f\"Session breakdown: {dict(session_stats)}\")\n",
    "                    if 'return_1min' in d.columns:\n",
    "                        returns = d['return_1min']\n",
    "                        print(f\"Return stats: Mean={returns.mean():.6f}, Std={returns.std():.6f}\")\n",
    "                        \n",
    "                except Exception as e:\n",
    "                    print(f\"Error loading gold data for {date_str}: {e}\")\n",
    "                    gold_status_lbl.value = f\"Error: {e}\"\n",
    "        \n",
    "        def _gold_export_html(_):\n",
    "            if not _gold_last['fig']:\n",
    "                gold_status_lbl.value = 'Render a chart first.'\n",
    "                return\n",
    "            os.makedirs('charts', exist_ok=True)\n",
    "            path = os.path.join('charts', f\"spy_gold_intraday_{_gold_last['date']}.html\")\n",
    "            pio.write_html(_gold_last['fig'], file=path, auto_open=False, include_plotlyjs='cdn')\n",
    "            gold_status_lbl.value = f\"Saved HTML: {path}\"\n",
    "        \n",
    "        def _gold_export_png(_):\n",
    "            if not _gold_last['fig']:\n",
    "                gold_status_lbl.value = 'Render a chart first.'\n",
    "                return\n",
    "            os.makedirs('charts', exist_ok=True)\n",
    "            path = os.path.join('charts', f\"spy_gold_intraday_{_gold_last['date']}.png\")\n",
    "            try:\n",
    "                _gold_last['fig'].write_image(path, scale=2)\n",
    "                gold_status_lbl.value = f\"Saved PNG: {path}\"\n",
    "            except Exception as e:\n",
    "                gold_status_lbl.value = f\"PNG export failed. Ensure kaleido is installed. Error: {e}\"\n",
    "        \n",
    "        # Wire up gold widgets\n",
    "        gold_date_dd.observe(lambda change: _gold_render() if change['name'] == 'value' else None, names='value')\n",
    "        gold_export_html_btn.on_click(_gold_export_html)\n",
    "        gold_export_png_btn.on_click(_gold_export_png)\n",
    "        \n",
    "        # Gold UI\n",
    "        gold_controls = widgets.HBox([gold_date_dd, gold_export_html_btn, gold_export_png_btn])\n",
    "        display(widgets.VBox([gold_controls, gold_status_lbl, gold_out]))\n",
    "        \n",
    "        # Initial render\n",
    "        _gold_render()\n",
    "        \n",
    "    else:\n",
    "        print(\"No gold parquet files found. Run the silver-to-gold transformation script first.\")\n",
    "else:\n",
    "    print(\"Gold directory not available. Please run the previous cell to set up gold_dir variable.\")"
   ]
  },
  {
   "cell_type": "markdown",
   "id": "c4306384",
   "metadata": {},
   "source": [
    "## Before vs After: Loading and Summarizing Parquet (Pandas vs DuckDB)\n",
    "\n",
    "This notebook originally used pandas to iterate over Parquet files for summaries and day loads. We’ve added DuckDB to push the heavy lifting down to a fast SQL engine over Parquet:\n",
    "\n",
    "- Before (pandas):\n",
    "  - Count rows: loop over files and `pd.read_parquet` each one, summing `len(df)`.\n",
    "  - Load a day: read a specific file like `spy_1min_YYYY-MM-DD.parquet` with pandas.\n",
    "- After (DuckDB):\n",
    "  - Count rows: `SELECT COUNT(*) FROM read_parquet('.../*.parquet', union_by_name=true)` — no full DataFrame loads.\n",
    "  - Load a day: filter by filename or by timestamp using a single SQL query and return a pandas DataFrame.\n",
    "\n",
    "This change makes summary operations much faster and reduces memory usage. If pandas reads fail, ensure `pyarrow` is installed."
   ]
  },
  {
   "cell_type": "code",
   "execution_count": 14,
   "id": "927c7478",
   "metadata": {},
   "outputs": [
    {
     "name": "stdout",
     "output_type": "stream",
     "text": [
      "Using date for demo: 2025-01-02\n",
      "Pandas count rows: 58,094 rows in 0.91s\n",
      "DuckDB  count rows: 58,094 rows in 0.04s\n",
      "Pandas load day: 391 rows in 0.01s from /home/agoodman/workspace/antman_data/data/silver/SPY/spy_1min_2025-01-02.parquet\n",
      "DuckDB  load day: 391 rows in 0.04s (filtered by filename)\n",
      "Pandas count rows: 58,094 rows in 0.91s\n",
      "DuckDB  count rows: 58,094 rows in 0.04s\n",
      "Pandas load day: 391 rows in 0.01s from /home/agoodman/workspace/antman_data/data/silver/SPY/spy_1min_2025-01-02.parquet\n",
      "DuckDB  load day: 391 rows in 0.04s (filtered by filename)\n"
     ]
    }
   ],
   "source": [
    "# Demo: Pandas vs DuckDB for SPY silver data\n",
    "import os\n",
    "import time\n",
    "import pandas as pd\n",
    "import duckdb\n",
    "\n",
    "# Paths and file list assumed already defined earlier: silver_dir, files\n",
    "if 'silver_dir' not in globals():\n",
    "    raise RuntimeError(\"silver_dir not set; run earlier cells.\")\n",
    "if 'files' not in globals() or not files:\n",
    "    files = sorted([f for f in os.listdir(silver_dir) if f.endswith('.parquet')])\n",
    "    if not files:\n",
    "        raise RuntimeError(\"No Parquet files found in silver_dir.\")\n",
    "\n",
    "some_date = files[0].split('_')[-1].replace('.parquet', '')  # pick first date from filenames\n",
    "print(f\"Using date for demo: {some_date}\")\n",
    "\n",
    "# 1) Count rows across all files\n",
    "start = time.time()\n",
    "rows_pandas = 0\n",
    "for f in files:\n",
    "    d = pd.read_parquet(os.path.join(silver_dir, f))\n",
    "    rows_pandas += len(d)\n",
    "print(f\"Pandas count rows: {rows_pandas:,} rows in {time.time()-start:.2f}s\")\n",
    "\n",
    "start = time.time()\n",
    "con = duckdb.connect()\n",
    "(rows_duckdb,) = con.execute(\n",
    "    \"SELECT COUNT(*) FROM read_parquet(?, union_by_name=true)\",\n",
    "    [os.path.join(silver_dir, '*.parquet')]\n",
    ").fetchone()\n",
    "con.close()\n",
    "print(f\"DuckDB  count rows: {rows_duckdb:,} rows in {time.time()-start:.2f}s\")\n",
    "\n",
    "# 2) Load a single day\n",
    "p_path = os.path.join(silver_dir, f\"spy_1min_{some_date}.parquet\")\n",
    "start = time.time()\n",
    "df_pandas = pd.read_parquet(p_path)\n",
    "print(f\"Pandas load day: {len(df_pandas):,} rows in {time.time()-start:.2f}s from {p_path}\")\n",
    "\n",
    "start = time.time()\n",
    "con = duckdb.connect()\n",
    "df_duck = con.execute(\n",
    "    \"SELECT * FROM read_parquet(?, union_by_name=true, filename=true) WHERE filename LIKE ?\",\n",
    "    [os.path.join(silver_dir, '*.parquet'), f\"%{some_date}.parquet\"]\n",
    ").df()\n",
    "con.close()\n",
    "print(f\"DuckDB  load day: {len(df_duck):,} rows in {time.time()-start:.2f}s (filtered by filename)\")"
   ]
  }
 ],
 "metadata": {
  "kernelspec": {
   "display_name": "antman_env",
   "language": "python",
   "name": "python3"
  },
  "language_info": {
   "codemirror_mode": {
    "name": "ipython",
    "version": 3
   },
   "file_extension": ".py",
   "mimetype": "text/x-python",
   "name": "python",
   "nbconvert_exporter": "python",
   "pygments_lexer": "ipython3",
   "version": "3.12.3"
  }
 },
 "nbformat": 4,
 "nbformat_minor": 5
}
